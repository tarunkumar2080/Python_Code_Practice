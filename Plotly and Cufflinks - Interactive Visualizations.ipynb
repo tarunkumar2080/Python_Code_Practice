{
 "cells": [
  {
   "cell_type": "markdown",
   "metadata": {},
   "source": [
    "### Plotly and Cufflinks"
   ]
  },
  {
   "cell_type": "code",
   "execution_count": 1,
   "metadata": {},
   "outputs": [],
   "source": [
    "import pandas as pd\n",
    "import numpy as np"
   ]
  },
  {
   "cell_type": "code",
   "execution_count": 2,
   "metadata": {},
   "outputs": [],
   "source": [
    "from plotly import __version__"
   ]
  },
  {
   "cell_type": "code",
   "execution_count": 3,
   "metadata": {},
   "outputs": [
    {
     "name": "stdout",
     "output_type": "stream",
     "text": [
      "4.3.0\n"
     ]
    }
   ],
   "source": [
    "print(__version__)"
   ]
  },
  {
   "cell_type": "code",
   "execution_count": 8,
   "metadata": {},
   "outputs": [],
   "source": [
    "#pip install cufflinks\n",
    "\n",
    "import cufflinks as cf"
   ]
  },
  {
   "cell_type": "code",
   "execution_count": 9,
   "metadata": {},
   "outputs": [],
   "source": [
    "from plotly.offline import download_plotlyjs,init_notebook_mode,plot,iplot"
   ]
  },
  {
   "cell_type": "code",
   "execution_count": 10,
   "metadata": {},
   "outputs": [
    {
     "data": {
      "text/html": [
       "        <script type=\"text/javascript\">\n",
       "        window.PlotlyConfig = {MathJaxConfig: 'local'};\n",
       "        if (window.MathJax) {MathJax.Hub.Config({SVG: {font: \"STIX-Web\"}});}\n",
       "        if (typeof require !== 'undefined') {\n",
       "        require.undef(\"plotly\");\n",
       "        requirejs.config({\n",
       "            paths: {\n",
       "                'plotly': ['https://cdn.plot.ly/plotly-latest.min']\n",
       "            }\n",
       "        });\n",
       "        require(['plotly'], function(Plotly) {\n",
       "            window._Plotly = Plotly;\n",
       "        });\n",
       "        }\n",
       "        </script>\n",
       "        "
      ]
     },
     "metadata": {},
     "output_type": "display_data"
    }
   ],
   "source": [
    "init_notebook_mode(connected = True) #connectting JS to the notebook"
   ]
  },
  {
   "cell_type": "code",
   "execution_count": 11,
   "metadata": {},
   "outputs": [
    {
     "data": {
      "text/html": [
       "        <script type=\"text/javascript\">\n",
       "        window.PlotlyConfig = {MathJaxConfig: 'local'};\n",
       "        if (window.MathJax) {MathJax.Hub.Config({SVG: {font: \"STIX-Web\"}});}\n",
       "        if (typeof require !== 'undefined') {\n",
       "        require.undef(\"plotly\");\n",
       "        requirejs.config({\n",
       "            paths: {\n",
       "                'plotly': ['https://cdn.plot.ly/plotly-latest.min']\n",
       "            }\n",
       "        });\n",
       "        require(['plotly'], function(Plotly) {\n",
       "            window._Plotly = Plotly;\n",
       "        });\n",
       "        }\n",
       "        </script>\n",
       "        "
      ]
     },
     "metadata": {},
     "output_type": "display_data"
    }
   ],
   "source": [
    "cf.go_offline() #allows cufflinks to be used offline"
   ]
  },
  {
   "cell_type": "code",
   "execution_count": 12,
   "metadata": {},
   "outputs": [],
   "source": [
    "#Importing the data\n",
    "\n",
    "df = pd.DataFrame(np.random.randn(100,4), columns = 'A B C D'.split())"
   ]
  },
  {
   "cell_type": "code",
   "execution_count": 13,
   "metadata": {},
   "outputs": [
    {
     "data": {
      "text/html": [
       "<div>\n",
       "<style scoped>\n",
       "    .dataframe tbody tr th:only-of-type {\n",
       "        vertical-align: middle;\n",
       "    }\n",
       "\n",
       "    .dataframe tbody tr th {\n",
       "        vertical-align: top;\n",
       "    }\n",
       "\n",
       "    .dataframe thead th {\n",
       "        text-align: right;\n",
       "    }\n",
       "</style>\n",
       "<table border=\"1\" class=\"dataframe\">\n",
       "  <thead>\n",
       "    <tr style=\"text-align: right;\">\n",
       "      <th></th>\n",
       "      <th>A</th>\n",
       "      <th>B</th>\n",
       "      <th>C</th>\n",
       "      <th>D</th>\n",
       "    </tr>\n",
       "  </thead>\n",
       "  <tbody>\n",
       "    <tr>\n",
       "      <th>0</th>\n",
       "      <td>-0.242006</td>\n",
       "      <td>0.503897</td>\n",
       "      <td>-0.081535</td>\n",
       "      <td>0.350119</td>\n",
       "    </tr>\n",
       "    <tr>\n",
       "      <th>1</th>\n",
       "      <td>-0.935288</td>\n",
       "      <td>-0.640243</td>\n",
       "      <td>-0.507765</td>\n",
       "      <td>-1.130867</td>\n",
       "    </tr>\n",
       "    <tr>\n",
       "      <th>2</th>\n",
       "      <td>0.027389</td>\n",
       "      <td>-0.046085</td>\n",
       "      <td>-0.067839</td>\n",
       "      <td>1.405284</td>\n",
       "    </tr>\n",
       "    <tr>\n",
       "      <th>3</th>\n",
       "      <td>-0.181915</td>\n",
       "      <td>2.266448</td>\n",
       "      <td>0.210629</td>\n",
       "      <td>-1.838342</td>\n",
       "    </tr>\n",
       "    <tr>\n",
       "      <th>4</th>\n",
       "      <td>1.022094</td>\n",
       "      <td>0.947735</td>\n",
       "      <td>0.385740</td>\n",
       "      <td>0.476590</td>\n",
       "    </tr>\n",
       "  </tbody>\n",
       "</table>\n",
       "</div>"
      ],
      "text/plain": [
       "          A         B         C         D\n",
       "0 -0.242006  0.503897 -0.081535  0.350119\n",
       "1 -0.935288 -0.640243 -0.507765 -1.130867\n",
       "2  0.027389 -0.046085 -0.067839  1.405284\n",
       "3 -0.181915  2.266448  0.210629 -1.838342\n",
       "4  1.022094  0.947735  0.385740  0.476590"
      ]
     },
     "execution_count": 13,
     "metadata": {},
     "output_type": "execute_result"
    }
   ],
   "source": [
    "df.head()"
   ]
  },
  {
   "cell_type": "code",
   "execution_count": 14,
   "metadata": {},
   "outputs": [],
   "source": [
    "df2 = pd.DataFrame({\n",
    "    'Category':['A','B','C'],\n",
    "    'Values': [34,43,52]\n",
    "})"
   ]
  },
  {
   "cell_type": "code",
   "execution_count": 15,
   "metadata": {},
   "outputs": [
    {
     "data": {
      "text/html": [
       "<div>\n",
       "<style scoped>\n",
       "    .dataframe tbody tr th:only-of-type {\n",
       "        vertical-align: middle;\n",
       "    }\n",
       "\n",
       "    .dataframe tbody tr th {\n",
       "        vertical-align: top;\n",
       "    }\n",
       "\n",
       "    .dataframe thead th {\n",
       "        text-align: right;\n",
       "    }\n",
       "</style>\n",
       "<table border=\"1\" class=\"dataframe\">\n",
       "  <thead>\n",
       "    <tr style=\"text-align: right;\">\n",
       "      <th></th>\n",
       "      <th>Category</th>\n",
       "      <th>Values</th>\n",
       "    </tr>\n",
       "  </thead>\n",
       "  <tbody>\n",
       "    <tr>\n",
       "      <th>0</th>\n",
       "      <td>A</td>\n",
       "      <td>34</td>\n",
       "    </tr>\n",
       "    <tr>\n",
       "      <th>1</th>\n",
       "      <td>B</td>\n",
       "      <td>43</td>\n",
       "    </tr>\n",
       "    <tr>\n",
       "      <th>2</th>\n",
       "      <td>C</td>\n",
       "      <td>52</td>\n",
       "    </tr>\n",
       "  </tbody>\n",
       "</table>\n",
       "</div>"
      ],
      "text/plain": [
       "  Category  Values\n",
       "0        A      34\n",
       "1        B      43\n",
       "2        C      52"
      ]
     },
     "execution_count": 15,
     "metadata": {},
     "output_type": "execute_result"
    }
   ],
   "source": [
    "df2.head()"
   ]
  },
  {
   "cell_type": "code",
   "execution_count": 16,
   "metadata": {},
   "outputs": [],
   "source": [
    "%matplotlib inline"
   ]
  },
  {
   "cell_type": "code",
   "execution_count": 17,
   "metadata": {},
   "outputs": [
    {
     "data": {
      "text/plain": [
       "<matplotlib.axes._subplots.AxesSubplot at 0x1f9f99312e8>"
      ]
     },
     "execution_count": 17,
     "metadata": {},
     "output_type": "execute_result"
    },
    {
     "data": {
      "image/png": "[encoded data removed]",
      "text/plain": [
       "<Figure size 432x288 with 1 Axes>"
      ]
     },
     "metadata": {
      "needs_background": "light"
     },
     "output_type": "display_data"
    }
   ],
   "source": [
    "df.plot() #currently, it is using matplotlib to plot the plot"
   ]
  },
  {
   "cell_type": "code",
   "execution_count": 18,
   "metadata": {},
   "outputs": [
    {
     "data": {
      "application/vnd.plotly.v1+json": {
       "config": {
        "linkText": "Export to plot.ly",
        "plotlyServerURL": "https://plot.ly",
        "showLink": true
       },
       "data": [
        {
         "line": {
          "color": "rgba(255, 153, 51, 1.0)",
          "dash": "solid",
          "shape": "linear",
          "width": 1.3
         },
         "mode": "lines",
         "name": "A",
         "text": "",
         "type": "scatter",
         "x": [
          0,
          1,
          2,
          3,
          4,
          5,
          6,
          7,
          8,
          9,
          10,
          11,
          12,
          13,
          14,
          15,
          16,
          17,
          18,
          19,
          20,
          21,
          22,
          23,
          24,
          25,
          26,
          27,
          28,
          29,
          30,
          31,
          32,
          33,
          34,
          35,
          36,
          37,
          38,
          39,
          40,
          41,
          42,
          43,
          44,
          45,
          46,
          47,
          48,
          49,
          50,
          51,
          52,
          53,
          54,
          55,
          56,
          57,
          58,
          59,
          60,
          61,
          62,
          63,
          64,
          65,
          66,
          67,
          68,
          69,
          70,
          71,
          72,
          73,
          74,
          75,
          76,
          77,
          78,
          79,
          80,
          81,
          82,
          83,
          84,
          85,
          86,
          87,
          88,
          89,
          90,
          91,
          92,
          93,
          94,
          95,
          96,
          97,
          98,
          99
         ],
         "y": [
          -0.24200640252741798,
          -0.9352878538108119,
          0.027388841991728325,
          -0.1819147191636028,
          1.0220939910254634,
          -2.5043642881046715,
          -0.31178537143269014,
          -0.27461685256679524,
          1.0543329194274218,
          0.3914427901382899,
          -1.441136423378452,
          1.915385670890251,
          1.0612013772594604,
          -1.3257408567553322,
          0.30134531166233225,
          0.13394694504780527,
          0.012414377790086016,
          -0.562666842819727,
          -2.1360295145840436,
          0.35120093080140075,
          -1.064081139900174,
          0.28589172652849776,
          -0.4836939196007413,
          -0.34394615357419,
          -0.00290307679785654,
          -1.14598078661371,
          0.3534869579588663,
          -0.8319610105553975,
          -0.589016049936948,
          -1.2072376829173481,
          0.2899195261165965,
          2.4927642854600336,
          -0.026883405147536468,
          1.0847247380259522,
          -0.4185054870473495,
          -1.7001290191162755,
          -0.6631138255023695,
          -1.3977215756251955,
          0.4455411861792529,
          0.30197911688308654,
          -0.2261709832051633,
          -0.1710396088940495,
          1.4433380795926118,
          0.530847712833768,
          0.961866271646887,
          1.2941998843821159,
          1.0216519281617251,
          1.6208258662004693,
          0.5421996729638662,
          0.13349040574255092,
          0.011698411413139344,
          0.3243929093413252,
          0.326055891967591,
          -1.857943472441847,
          -0.30463758552150405,
          -0.8808632160511382,
          0.5239216903007925,
          0.9834386074104604,
          1.4396406440418086,
          -0.257708302017176,
          0.829152364017514,
          -0.3546228497011296,
          0.5561073129790329,
          -0.12952762277766025,
          -0.8591907520878445,
          -0.11880680844042457,
          0.16303119021191692,
          1.5420497685582935,
          -0.952295004519987,
          1.3149511788637551,
          0.1793165206361868,
          0.39153581454967,
          0.40918112144156693,
          -0.1746866446198252,
          -0.27734651150838513,
          0.6868843028329731,
          -0.530086144552545,
          1.0225358547499583,
          1.0811481712042423,
          0.2860430974355543,
          -0.5235381746515275,
          -0.5030792474726582,
          0.17829313427772936,
          0.3689593426878984,
          0.8974440778903857,
          -0.2957284041584042,
          -1.0028423302906537,
          -0.4381398352349791,
          1.3607909151527158,
          -0.6508323686744798,
          -0.011964165734617253,
          1.350700373666675,
          -1.3173489072094142,
          -0.1409314948821588,
          -0.22547794130900795,
          1.3708181316671681,
          -1.829079525865196,
          -1.709605077000469,
          -2.0915084931810624,
          -1.0919845225225022
         ]
        },
        {
         "line": {
          "color": "rgba(55, 128, 191, 1.0)",
          "dash": "solid",
          "shape": "linear",
          "width": 1.3
         },
         "mode": "lines",
         "name": "B",
         "text": "",
         "type": "scatter",
         "x": [
          0,
          1,
          2,
          3,
          4,
          5,
          6,
          7,
          8,
          9,
          10,
          11,
          12,
          13,
          14,
          15,
          16,
          17,
          18,
          19,
          20,
          21,
          22,
          23,
          24,
          25,
          26,
          27,
          28,
          29,
          30,
          31,
          32,
          33,
          34,
          35,
          36,
          37,
          38,
          39,
          40,
          41,
          42,
          43,
          44,
          45,
          46,
          47,
          48,
          49,
          50,
          51,
          52,
          53,
          54,
          55,
          56,
          57,
          58,
          59,
          60,
          61,
          62,
          63,
          64,
          65,
          66,
          67,
          68,
          69,
          70,
          71,
          72,
          73,
          74,
          75,
          76,
          77,
          78,
          79,
          80,
          81,
          82,
          83,
          84,
          85,
          86,
          87,
          88,
          89,
          90,
          91,
          92,
          93,
          94,
          95,
          96,
          97,
          98,
          99
         ],
         "y": [
          0.5038966296896649,
          -0.6402432132700927,
          -0.046084521044311134,
          2.2664478783920683,
          0.9477353340492846,
          -0.614880202117463,
          -1.6423022200466404,
          -0.5506536135023554,
          0.5784162871305017,
          1.2635114897067978,
          -1.4963273936516859,
          -1.6115050059592841,
          -0.46441376428471964,
          -1.0227066828446538,
          0.9350020037598924,
          0.38227490517607154,
          2.4302360193947536,
          -1.3161131598068214,
          -1.2982968542416018,
          -0.13265819926035488,
          -0.7038606550102939,
          -0.2209763016023666,
          0.9345495975185338,
          1.0095771347136155,
          -0.9434848398914922,
          -0.0652309643019826,
          1.339454873313897,
          -1.041460847515743,
          -0.6544215716422075,
          -0.6086375499446177,
          0.012736190202873435,
          -0.8033846548321574,
          -0.1523522799250349,
          -0.5912413700796505,
          -1.427089639295129,
          -0.2764544125199372,
          -0.4502946295633157,
          -0.3968453730357518,
          0.0008621038702756964,
          -0.6860921613608862,
          0.2148442500563389,
          -0.3965507564693599,
          -1.580565695259094,
          -0.6886015208288447,
          -0.19922535695751326,
          -1.300702016080167,
          0.8242157825252651,
          -0.3012421823694876,
          0.25194677497620255,
          -0.70194952275731,
          0.4899170779278613,
          -1.1735718832175956,
          -0.09730938850281483,
          -0.3296320457351763,
          0.6486586398947655,
          -1.4424157416670944,
          0.05808274371576219,
          -0.23849797529827363,
          -0.08816774745216509,
          -0.21844032759229703,
          0.232829730943407,
          -0.8574261372665845,
          -0.6448024783666553,
          0.04393697665503743,
          -0.9570215870458508,
          0.014303354983442854,
          -1.2418935875107275,
          0.35919198953731796,
          -0.8741166986646901,
          1.029193048664084,
          0.6521119689469097,
          -0.9868637243393551,
          0.01573171501393248,
          0.4984004502783877,
          -0.6326102152728523,
          -1.126999452904778,
          1.5111832744616316,
          -0.5362773785464199,
          -0.9171718630254313,
          -1.7903024971797645,
          0.33929301647279025,
          0.456425947566487,
          0.42651392121564213,
          0.3026441119122942,
          -0.3979126650758561,
          -1.3931863975895338,
          -0.7551173004643796,
          1.432726180997327,
          1.0706620899027854,
          2.054268754109293,
          0.20114830502964962,
          0.4683070160993021,
          0.6937735075316896,
          -0.7714541780919164,
          -2.2640923269889983,
          1.1699990427947233,
          -0.688947311971546,
          -0.10920382633628391,
          0.4329725303136423,
          0.16414135807661928
         ]
        },
        {
         "line": {
          "color": "rgba(50, 171, 96, 1.0)",
          "dash": "solid",
          "shape": "linear",
          "width": 1.3
         },
         "mode": "lines",
         "name": "C",
         "text": "",
         "type": "scatter",
         "x": [
          0,
          1,
          2,
          3,
          4,
          5,
          6,
          7,
          8,
          9,
          10,
          11,
          12,
          13,
          14,
          15,
          16,
          17,
          18,
          19,
          20,
          21,
          22,
          23,
          24,
          25,
          26,
          27,
          28,
          29,
          30,
          31,
          32,
          33,
          34,
          35,
          36,
          37,
          38,
          39,
          40,
          41,
          42,
          43,
          44,
          45,
          46,
          47,
          48,
          49,
          50,
          51,
          52,
          53,
          54,
          55,
          56,
          57,
          58,
          59,
          60,
          61,
          62,
          63,
          64,
          65,
          66,
          67,
          68,
          69,
          70,
          71,
          72,
          73,
          74,
          75,
          76,
          77,
          78,
          79,
          80,
          81,
          82,
          83,
          84,
          85,
          86,
          87,
          88,
          89,
          90,
          91,
          92,
          93,
          94,
          95,
          96,
          97,
          98,
          99
         ],
         "y": [
          -0.0815347408742451,
          -0.5077649874988244,
          -0.06783904671905902,
          0.21062879208003074,
          0.38573975804107985,
          -0.42360398570600855,
          1.126717880451138,
          0.4353040461859579,
          -0.16601683108397614,
          0.20112069662041537,
          -0.9833596189946507,
          0.08798596302378772,
          -0.7032347433409032,
          -1.5193404907008845,
          0.6898031931166413,
          1.7689481636828148,
          -0.2205547686471449,
          0.706231048131834,
          1.4043000547925377,
          -1.5902270637207583,
          -0.5143664446343622,
          -0.4626087338865982,
          -0.8067031776035528,
          0.5723749949077205,
          -0.26923891560132895,
          1.527390451046774,
          -0.23770574624676455,
          -0.6313622148516641,
          0.24272218133055415,
          0.8594737224447366,
          -0.10153987154467391,
          -1.717481040343149,
          1.0147921385615757,
          0.910054309875966,
          0.28008821090081704,
          -1.73032732075467,
          -0.28032059857314184,
          0.020122614351310953,
          -0.62375902583589,
          -0.3362728984526408,
          -0.08747833013708962,
          1.7631604063434605,
          0.8301295635882725,
          0.08343587737131603,
          0.5477498426940517,
          0.40120705901539583,
          -1.014745792105112,
          -0.5004521513616882,
          0.29818789930043105,
          -0.9809039936952862,
          0.9612354079406753,
          0.14841866854001332,
          -0.8464508896410459,
          -0.49167492702023696,
          1.5381095565937783,
          -0.49089723014232334,
          0.44786229405164624,
          -0.2549100305603017,
          1.1309559744299842,
          -0.47578146796949433,
          0.03741717705911311,
          1.4675174286300103,
          -0.8045759523130023,
          -0.20080564559621938,
          -0.41159970632305587,
          -0.3213075604811162,
          -1.3809187836891244,
          0.9843946553936557,
          -0.6641791667254091,
          -2.668145682918329,
          1.5993922170193002,
          -0.2413458924577472,
          0.8553292191891982,
          -0.14892263793418098,
          0.7810111214371379,
          -1.7989069561723146,
          0.9602172066003379,
          0.2887724586354856,
          1.578662781392761,
          0.14463727492632686,
          0.6570661994938628,
          -0.401899493996044,
          -1.9309247477980442,
          0.9770918792089008,
          0.4898447052731042,
          -0.03318207920985528,
          -0.07467510973904955,
          0.6979736845657323,
          -1.9455591832381112,
          1.0860275040330245,
          -0.1918506689970517,
          -0.6886176684385715,
          -0.20238791595904101,
          0.8843775776516403,
          -0.08382639543647263,
          -0.20340165761830264,
          -1.4445858442180954,
          -0.4892485704502599,
          -0.4716963532959964,
          -0.7187058641996431
         ]
        },
        {
         "line": {
          "color": "rgba(128, 0, 128, 1.0)",
          "dash": "solid",
          "shape": "linear",
          "width": 1.3
         },
         "mode": "lines",
         "name": "D",
         "text": "",
         "type": "scatter",
         "x": [
          0,
          1,
          2,
          3,
          4,
          5,
          6,
          7,
          8,
          9,
          10,
          11,
          12,
          13,
          14,
          15,
          16,
          17,
          18,
          19,
          20,
          21,
          22,
          23,
          24,
          25,
          26,
          27,
          28,
          29,
          30,
          31,
          32,
          33,
          34,
          35,
          36,
          37,
          38,
          39,
          40,
          41,
          42,
          43,
          44,
          45,
          46,
          47,
          48,
          49,
          50,
          51,
          52,
          53,
          54,
          55,
          56,
          57,
          58,
          59,
          60,
          61,
          62,
          63,
          64,
          65,
          66,
          67,
          68,
          69,
          70,
          71,
          72,
          73,
          74,
          75,
          76,
          77,
          78,
          79,
          80,
          81,
          82,
          83,
          84,
          85,
          86,
          87,
          88,
          89,
          90,
          91,
          92,
          93,
          94,
          95,
          96,
          97,
          98,
          99
         ],
         "y": [
          0.35011902790803934,
          -1.130866996845766,
          1.405284017456432,
          -1.8383419387844024,
          0.4765900950509363,
          -0.6713898667241399,
          -1.3185899430154078,
          0.3378607451901761,
          0.6812660236448889,
          -1.0583839844937002,
          0.21565699200799157,
          -0.39395362864556077,
          0.7864893063104716,
          -0.5109287460002682,
          1.3849823826501693,
          0.2656412310236148,
          -0.10532516018872078,
          0.34287931269975025,
          -1.375585888315486,
          -0.21499363349708459,
          1.3334888664607976,
          -0.4369653145103137,
          -1.1586555422237812,
          1.4302164537345452,
          -0.36780045273821715,
          -0.3692686528252982,
          -1.197000247649865,
          1.274993547734382,
          0.035822369915254726,
          -2.134053502281586,
          -1.3980532184794499,
          1.1928982293240424,
          -0.6633007278151068,
          0.7918241967649958,
          0.49424181834881475,
          -0.031805503187669164,
          -0.32943044867987525,
          0.03790470052222459,
          -0.22342106187880453,
          1.5366750148475983,
          -0.9496741075144404,
          0.03228590529755793,
          2.038895422480149,
          0.8886414845324146,
          -0.41147293507101385,
          -0.9311556393251326,
          0.5626543846304182,
          -0.19711756086049487,
          0.4851560219361143,
          -0.6597978611602378,
          -1.4232224256695793,
          -0.2262457980031783,
          0.9872238659614562,
          -1.1923726907339864,
          -1.500148492942461,
          -0.18599308207191292,
          -0.1654533592379869,
          -0.014656178952166133,
          2.6095406717691456,
          -1.2786216710356257,
          1.234638254186483,
          -0.4405921922176544,
          0.5116843289964375,
          -0.31744975288468247,
          0.3537073991650773,
          0.7593184727176464,
          0.9786571994511789,
          0.42243434646639316,
          -0.3280179290024408,
          -1.0859001215259885,
          -1.0155426234437614,
          0.18841236666978298,
          2.206442621586147,
          0.4722429074452371,
          1.3410013389700695,
          0.6197716938493748,
          -1.5845241954413414,
          -0.40970971262400313,
          0.7823349966285804,
          -0.7379069442536994,
          0.8806573278666577,
          -0.5127245160554915,
          -0.3179367685431994,
          3.0908379636496686,
          -0.9543873202451807,
          0.6764550592398433,
          -1.0324233628058,
          -1.1235452650742854,
          0.8836913358267898,
          1.22175671949375,
          1.3468180419008624,
          1.0956173241965554,
          -2.569890199980508,
          -0.5931116880279594,
          -1.096365880122233,
          0.4415956326673109,
          0.18730582073897895,
          -1.0319362002233652,
          1.643651569409393,
          1.4892770280017191
         ]
        }
       ],
       "layout": {
        "legend": {
         "bgcolor": "#F5F6F9",
         "font": {
          "color": "#4D5663"
         }
        },
        "paper_bgcolor": "#F5F6F9",
        "plot_bgcolor": "#F5F6F9",
        "template": {
         "data": {
          "bar": [
           {
            "error_x": {
             "color": "#2a3f5f"
            },
            "error_y": {
             "color": "#2a3f5f"
            },
            "marker": {
             "line": {
              "color": "#E5ECF6",
              "width": 0.5
             }
            },
            "type": "bar"
           }
          ],
          "barpolar": [
           {
            "marker": {
             "line": {
              "color": "#E5ECF6",
              "width": 0.5
             }
            },
            "type": "barpolar"
           }
          ],
          "carpet": [
           {
            "aaxis": {
             "endlinecolor": "#2a3f5f",
             "gridcolor": "white",
             "linecolor": "white",
             "minorgridcolor": "white",
             "startlinecolor": "#2a3f5f"
            },
            "baxis": {
             "endlinecolor": "#2a3f5f",
             "gridcolor": "white",
             "linecolor": "white",
             "minorgridcolor": "white",
             "startlinecolor": "#2a3f5f"
            },
            "type": "carpet"
           }
          ],
          "choropleth": [
           {
            "colorbar": {
             "outlinewidth": 0,
             "ticks": ""
            },
            "type": "choropleth"
           }
          ],
          "contour": [
           {
            "colorbar": {
             "outlinewidth": 0,
             "ticks": ""
            },
            "colorscale": [
             [
              0,
              "#0d0887"
             ],
             [
              0.1111111111111111,
              "#46039f"
             ],
             [
              0.2222222222222222,
              "#7201a8"
             ],
             [
              0.3333333333333333,
              "#9c179e"
             ],
             [
              0.4444444444444444,
              "#bd3786"
             ],
             [
              0.5555555555555556,
              "#d8576b"
             ],
             [
              0.6666666666666666,
              "#ed7953"
             ],
             [
              0.7777777777777778,
              "#fb9f3a"
             ],
             [
              0.8888888888888888,
              "#fdca26"
             ],
             [
              1,
              "#f0f921"
             ]
            ],
            "type": "contour"
           }
          ],
          "contourcarpet": [
           {
            "colorbar": {
             "outlinewidth": 0,
             "ticks": ""
            },
            "type": "contourcarpet"
           }
          ],
          "heatmap": [
           {
            "colorbar": {
             "outlinewidth": 0,
             "ticks": ""
            },
            "colorscale": [
             [
              0,
              "#0d0887"
             ],
             [
              0.1111111111111111,
              "#46039f"
             ],
             [
              0.2222222222222222,
              "#7201a8"
             ],
             [
              0.3333333333333333,
              "#9c179e"
             ],
             [
              0.4444444444444444,
              "#bd3786"
             ],
             [
              0.5555555555555556,
              "#d8576b"
             ],
             [
              0.6666666666666666,
              "#ed7953"
             ],
             [
              0.7777777777777778,
              "#fb9f3a"
             ],
             [
              0.8888888888888888,
              "#fdca26"
             ],
             [
              1,
              "#f0f921"
             ]
            ],
            "type": "heatmap"
           }
          ],
          "heatmapgl": [
           {
            "colorbar": {
             "outlinewidth": 0,
             "ticks": ""
            },
            "colorscale": [
             [
              0,
              "#0d0887"
             ],
             [
              0.1111111111111111,
              "#46039f"
             ],
             [
              0.2222222222222222,
              "#7201a8"
             ],
             [
              0.3333333333333333,
              "#9c179e"
             ],
             [
              0.4444444444444444,
              "#bd3786"
             ],
             [
              0.5555555555555556,
              "#d8576b"
             ],
             [
              0.6666666666666666,
              "#ed7953"
             ],
             [
              0.7777777777777778,
              "#fb9f3a"
             ],
             [
              0.8888888888888888,
              "#fdca26"
             ],
             [
              1,
              "#f0f921"
             ]
            ],
            "type": "heatmapgl"
           }
          ],
          "histogram": [
           {
            "marker": {
             "colorbar": {
              "outlinewidth": 0,
              "ticks": ""
             }
            },
            "type": "histogram"
           }
          ],
          "histogram2d": [
           {
            "colorbar": {
             "outlinewidth": 0,
             "ticks": ""
            },
            "colorscale": [
             [
              0,
              "#0d0887"
             ],
             [
              0.1111111111111111,
              "#46039f"
             ],
             [
              0.2222222222222222,
              "#7201a8"
             ],
             [
              0.3333333333333333,
              "#9c179e"
             ],
             [
              0.4444444444444444,
              "#bd3786"
             ],
             [
              0.5555555555555556,
              "#d8576b"
             ],
             [
              0.6666666666666666,
              "#ed7953"
             ],
             [
              0.7777777777777778,
              "#fb9f3a"
             ],
             [
              0.8888888888888888,
              "#fdca26"
             ],
             [
              1,
              "#f0f921"
             ]
            ],
            "type": "histogram2d"
           }
          ],
          "histogram2dcontour": [
           {
            "colorbar": {
             "outlinewidth": 0,
             "ticks": ""
            },
            "colorscale": [
             [
              0,
              "#0d0887"
             ],
             [
              0.1111111111111111,
              "#46039f"
             ],
             [
              0.2222222222222222,
              "#7201a8"
             ],
             [
              0.3333333333333333,
              "#9c179e"
             ],
             [
              0.4444444444444444,
              "#bd3786"
             ],
             [
              0.5555555555555556,
              "#d8576b"
             ],
             [
              0.6666666666666666,
              "#ed7953"
             ],
             [
              0.7777777777777778,
              "#fb9f3a"
             ],
             [
              0.8888888888888888,
              "#fdca26"
             ],
             [
              1,
              "#f0f921"
             ]
            ],
            "type": "histogram2dcontour"
           }
          ],
          "mesh3d": [
           {
            "colorbar": {
             "outlinewidth": 0,
             "ticks": ""
            },
            "type": "mesh3d"
           }
          ],
          "parcoords": [
           {
            "line": {
             "colorbar": {
              "outlinewidth": 0,
              "ticks": ""
             }
            },
            "type": "parcoords"
           }
          ],
          "pie": [
           {
            "automargin": true,
            "type": "pie"
           }
          ],
          "scatter": [
           {
            "marker": {
             "colorbar": {
              "outlinewidth": 0,
              "ticks": ""
             }
            },
            "type": "scatter"
           }
          ],
          "scatter3d": [
           {
            "line": {
             "colorbar": {
              "outlinewidth": 0,
              "ticks": ""
             }
            },
            "marker": {
             "colorbar": {
              "outlinewidth": 0,
              "ticks": ""
             }
            },
            "type": "scatter3d"
           }
          ],
          "scattercarpet": [
           {
            "marker": {
             "colorbar": {
              "outlinewidth": 0,
              "ticks": ""
             }
            },
            "type": "scattercarpet"
           }
          ],
          "scattergeo": [
           {
            "marker": {
             "colorbar": {
              "outlinewidth": 0,
              "ticks": ""
             }
            },
            "type": "scattergeo"
           }
          ],
          "scattergl": [
           {
            "marker": {
             "colorbar": {
              "outlinewidth": 0,
              "ticks": ""
             }
            },
            "type": "scattergl"
           }
          ],
          "scattermapbox": [
           {
            "marker": {
             "colorbar": {
              "outlinewidth": 0,
              "ticks": ""
             }
            },
            "type": "scattermapbox"
           }
          ],
          "scatterpolar": [
           {
            "marker": {
             "colorbar": {
              "outlinewidth": 0,
              "ticks": ""
             }
            },
            "type": "scatterpolar"
           }
          ],
          "scatterpolargl": [
           {
            "marker": {
             "colorbar": {
              "outlinewidth": 0,
              "ticks": ""
             }
            },
            "type": "scatterpolargl"
           }
          ],
          "scatterternary": [
           {
            "marker": {
             "colorbar": {
              "outlinewidth": 0,
              "ticks": ""
             }
            },
            "type": "scatterternary"
           }
          ],
          "surface": [
           {
            "colorbar": {
             "outlinewidth": 0,
             "ticks": ""
            },
            "colorscale": [
             [
              0,
              "#0d0887"
             ],
             [
              0.1111111111111111,
              "#46039f"
             ],
             [
              0.2222222222222222,
              "#7201a8"
             ],
             [
              0.3333333333333333,
              "#9c179e"
             ],
             [
              0.4444444444444444,
              "#bd3786"
             ],
             [
              0.5555555555555556,
              "#d8576b"
             ],
             [
              0.6666666666666666,
              "#ed7953"
             ],
             [
              0.7777777777777778,
              "#fb9f3a"
             ],
             [
              0.8888888888888888,
              "#fdca26"
             ],
             [
              1,
              "#f0f921"
             ]
            ],
            "type": "surface"
           }
          ],
          "table": [
           {
            "cells": {
             "fill": {
              "color": "#EBF0F8"
             },
             "line": {
              "color": "white"
             }
            },
            "header": {
             "fill": {
              "color": "#C8D4E3"
             },
             "line": {
              "color": "white"
             }
            },
            "type": "table"
           }
          ]
         },
         "layout": {
          "annotationdefaults": {
           "arrowcolor": "#2a3f5f",
           "arrowhead": 0,
           "arrowwidth": 1
          },
          "coloraxis": {
           "colorbar": {
            "outlinewidth": 0,
            "ticks": ""
           }
          },
          "colorscale": {
           "diverging": [
            [
             0,
             "#8e0152"
            ],
            [
             0.1,
             "#c51b7d"
            ],
            [
             0.2,
             "#de77ae"
            ],
            [
             0.3,
             "#f1b6da"
            ],
            [
             0.4,
             "#fde0ef"
            ],
            [
             0.5,
             "#f7f7f7"
            ],
            [
             0.6,
             "#e6f5d0"
            ],
            [
             0.7,
             "#b8e186"
            ],
            [
             0.8,
             "#7fbc41"
            ],
            [
             0.9,
             "#4d9221"
            ],
            [
             1,
             "#276419"
            ]
           ],
           "sequential": [
            [
             0,
             "#0d0887"
            ],
            [
             0.1111111111111111,
             "#46039f"
            ],
            [
             0.2222222222222222,
             "#7201a8"
            ],
            [
             0.3333333333333333,
             "#9c179e"
            ],
            [
             0.4444444444444444,
             "#bd3786"
            ],
            [
             0.5555555555555556,
             "#d8576b"
            ],
            [
             0.6666666666666666,
             "#ed7953"
            ],
            [
             0.7777777777777778,
             "#fb9f3a"
            ],
            [
             0.8888888888888888,
             "#fdca26"
            ],
            [
             1,
             "#f0f921"
            ]
           ],
           "sequentialminus": [
            [
             0,
             "#0d0887"
            ],
            [
             0.1111111111111111,
             "#46039f"
            ],
            [
             0.2222222222222222,
             "#7201a8"
            ],
            [
             0.3333333333333333,
             "#9c179e"
            ],
            [
             0.4444444444444444,
             "#bd3786"
            ],
            [
             0.5555555555555556,
             "#d8576b"
            ],
            [
             0.6666666666666666,
             "#ed7953"
            ],
            [
             0.7777777777777778,
             "#fb9f3a"
            ],
            [
             0.8888888888888888,
             "#fdca26"
            ],
            [
             1,
             "#f0f921"
            ]
           ]
          },
          "colorway": [
           "#636efa",
           "#EF553B",
           "#00cc96",
           "#ab63fa",
           "#FFA15A",
           "#19d3f3",
           "#FF6692",
           "#B6E880",
           "#FF97FF",
           "#FECB52"
          ],
          "font": {
           "color": "#2a3f5f"
          },
          "geo": {
           "bgcolor": "white",
           "lakecolor": "white",
           "landcolor": "#E5ECF6",
           "showlakes": true,
           "showland": true,
           "subunitcolor": "white"
          },
          "hoverlabel": {
           "align": "left"
          },
          "hovermode": "closest",
          "mapbox": {
           "style": "light"
          },
          "paper_bgcolor": "white",
          "plot_bgcolor": "#E5ECF6",
          "polar": {
           "angularaxis": {
            "gridcolor": "white",
            "linecolor": "white",
            "ticks": ""
           },
           "bgcolor": "#E5ECF6",
           "radialaxis": {
            "gridcolor": "white",
            "linecolor": "white",
            "ticks": ""
           }
          },
          "scene": {
           "xaxis": {
            "backgroundcolor": "#E5ECF6",
            "gridcolor": "white",
            "gridwidth": 2,
            "linecolor": "white",
            "showbackground": true,
            "ticks": "",
            "zerolinecolor": "white"
           },
           "yaxis": {
            "backgroundcolor": "#E5ECF6",
            "gridcolor": "white",
            "gridwidth": 2,
            "linecolor": "white",
            "showbackground": true,
            "ticks": "",
            "zerolinecolor": "white"
           },
           "zaxis": {
            "backgroundcolor": "#E5ECF6",
            "gridcolor": "white",
            "gridwidth": 2,
            "linecolor": "white",
            "showbackground": true,
            "ticks": "",
            "zerolinecolor": "white"
           }
          },
          "shapedefaults": {
           "line": {
            "color": "#2a3f5f"
           }
          },
          "ternary": {
           "aaxis": {
            "gridcolor": "white",
            "linecolor": "white",
            "ticks": ""
           },
           "baxis": {
            "gridcolor": "white",
            "linecolor": "white",
            "ticks": ""
           },
           "bgcolor": "#E5ECF6",
           "caxis": {
            "gridcolor": "white",
            "linecolor": "white",
            "ticks": ""
           }
          },
          "title": {
           "x": 0.05
          },
          "xaxis": {
           "automargin": true,
           "gridcolor": "white",
           "linecolor": "white",
           "ticks": "",
           "title": {
            "standoff": 15
           },
           "zerolinecolor": "white",
           "zerolinewidth": 2
          },
          "yaxis": {
           "automargin": true,
           "gridcolor": "white",
           "linecolor": "white",
           "ticks": "",
           "title": {
            "standoff": 15
           },
           "zerolinecolor": "white",
           "zerolinewidth": 2
          }
         }
        },
        "title": {
         "font": {
          "color": "#4D5663"
         }
        },
        "xaxis": {
         "gridcolor": "#E1E5ED",
         "showgrid": true,
         "tickfont": {
          "color": "#4D5663"
         },
         "title": {
          "font": {
           "color": "#4D5663"
          },
          "text": ""
         },
         "zerolinecolor": "#E1E5ED"
        },
        "yaxis": {
         "gridcolor": "#E1E5ED",
         "showgrid": true,
         "tickfont": {
          "color": "#4D5663"
         },
         "title": {
          "font": {
           "color": "#4D5663"
          },
          "text": ""
         },
         "zerolinecolor": "#E1E5ED"
        }
       }
      },
      "text/html": [
       "<div>\n",
       "        \n",
       "        \n",
       "            <div id=\"a79b99d6-ca9c-4f86-8f9c-ef3f384dc953\" class=\"plotly-graph-div\" style=\"height:525px; width:100%;\"></div>\n",
       "            <script type=\"text/javascript\">\n",
       "                require([\"plotly\"], function(Plotly) {\n",
       "                    window.PLOTLYENV=window.PLOTLYENV || {};\n",
       "                    window.PLOTLYENV.BASE_URL='https://plot.ly';\n",
       "                    \n",
       "                if (document.getElementById(\"a79b99d6-ca9c-4f86-8f9c-ef3f384dc953\")) {\n",
       "                    Plotly.newPlot(\n",
       "                        'a79b99d6-ca9c-4f86-8f9c-ef3f384dc953',\n",
       "                        [{\"line\": {\"color\": \"rgba(255, 153, 51, 1.0)\", \"dash\": \"solid\", \"shape\": \"linear\", \"width\": 1.3}, \"mode\": \"lines\", \"name\": \"A\", \"text\": \"\", \"type\": \"scatter\", \"x\": [0, 1, 2, 3, 4, 5, 6, 7, 8, 9, 10, 11, 12, 13, 14, 15, 16, 17, 18, 19, 20, 21, 22, 23, 24, 25, 26, 27, 28, 29, 30, 31, 32, 33, 34, 35, 36, 37, 38, 39, 40, 41, 42, 43, 44, 45, 46, 47, 48, 49, 50, 51, 52, 53, 54, 55, 56, 57, 58, 59, 60, 61, 62, 63, 64, 65, 66, 67, 68, 69, 70, 71, 72, 73, 74, 75, 76, 77, 78, 79, 80, 81, 82, 83, 84, 85, 86, 87, 88, 89, 90, 91, 92, 93, 94, 95, 96, 97, 98, 99], \"y\": [-0.24200640252741798, -0.9352878538108119, 0.027388841991728325, -0.1819147191636028, 1.0220939910254634, -2.5043642881046715, -0.31178537143269014, -0.27461685256679524, 1.0543329194274218, 0.3914427901382899, -1.441136423378452, 1.915385670890251, 1.0612013772594604, -1.3257408567553322, 0.30134531166233225, 0.13394694504780527, 0.012414377790086016, -0.562666842819727, -2.1360295145840436, 0.35120093080140075, -1.064081139900174, 0.28589172652849776, -0.4836939196007413, -0.34394615357419, -0.00290307679785654, -1.14598078661371, 0.3534869579588663, -0.8319610105553975, -0.589016049936948, -1.2072376829173481, 0.2899195261165965, 2.4927642854600336, -0.026883405147536468, 1.0847247380259522, -0.4185054870473495, -1.7001290191162755, -0.6631138255023695, -1.3977215756251955, 0.4455411861792529, 0.30197911688308654, -0.2261709832051633, -0.1710396088940495, 1.4433380795926118, 0.530847712833768, 0.961866271646887, 1.2941998843821159, 1.0216519281617251, 1.6208258662004693, 0.5421996729638662, 0.13349040574255092, 0.011698411413139344, 0.3243929093413252, 0.326055891967591, -1.857943472441847, -0.30463758552150405, -0.8808632160511382, 0.5239216903007925, 0.9834386074104604, 1.4396406440418086, -0.257708302017176, 0.829152364017514, -0.3546228497011296, 0.5561073129790329, -0.12952762277766025, -0.8591907520878445, -0.11880680844042457, 0.16303119021191692, 1.5420497685582935, -0.952295004519987, 1.3149511788637551, 0.1793165206361868, 0.39153581454967, 0.40918112144156693, -0.1746866446198252, -0.27734651150838513, 0.6868843028329731, -0.530086144552545, 1.0225358547499583, 1.0811481712042423, 0.2860430974355543, -0.5235381746515275, -0.5030792474726582, 0.17829313427772936, 0.3689593426878984, 0.8974440778903857, -0.2957284041584042, -1.0028423302906537, -0.4381398352349791, 1.3607909151527158, -0.6508323686744798, -0.011964165734617253, 1.350700373666675, -1.3173489072094142, -0.1409314948821588, -0.22547794130900795, 1.3708181316671681, -1.829079525865196, -1.709605077000469, -2.0915084931810624, -1.0919845225225022]}, {\"line\": {\"color\": \"rgba(55, 128, 191, 1.0)\", \"dash\": \"solid\", \"shape\": \"linear\", \"width\": 1.3}, \"mode\": \"lines\", \"name\": \"B\", \"text\": \"\", \"type\": \"scatter\", \"x\": [0, 1, 2, 3, 4, 5, 6, 7, 8, 9, 10, 11, 12, 13, 14, 15, 16, 17, 18, 19, 20, 21, 22, 23, 24, 25, 26, 27, 28, 29, 30, 31, 32, 33, 34, 35, 36, 37, 38, 39, 40, 41, 42, 43, 44, 45, 46, 47, 48, 49, 50, 51, 52, 53, 54, 55, 56, 57, 58, 59, 60, 61, 62, 63, 64, 65, 66, 67, 68, 69, 70, 71, 72, 73, 74, 75, 76, 77, 78, 79, 80, 81, 82, 83, 84, 85, 86, 87, 88, 89, 90, 91, 92, 93, 94, 95, 96, 97, 98, 99], \"y\": [0.5038966296896649, -0.6402432132700927, -0.046084521044311134, 2.2664478783920683, 0.9477353340492846, -0.614880202117463, -1.6423022200466404, -0.5506536135023554, 0.5784162871305017, 1.2635114897067978, -1.4963273936516859, -1.6115050059592841, -0.46441376428471964, -1.0227066828446538, 0.9350020037598924, 0.38227490517607154, 2.4302360193947536, -1.3161131598068214, -1.2982968542416018, -0.13265819926035488, -0.7038606550102939, -0.2209763016023666, 0.9345495975185338, 1.0095771347136155, -0.9434848398914922, -0.0652309643019826, 1.339454873313897, -1.041460847515743, -0.6544215716422075, -0.6086375499446177, 0.012736190202873435, -0.8033846548321574, -0.1523522799250349, -0.5912413700796505, -1.427089639295129, -0.2764544125199372, -0.4502946295633157, -0.3968453730357518, 0.0008621038702756964, -0.6860921613608862, 0.2148442500563389, -0.3965507564693599, -1.580565695259094, -0.6886015208288447, -0.19922535695751326, -1.300702016080167, 0.8242157825252651, -0.3012421823694876, 0.25194677497620255, -0.70194952275731, 0.4899170779278613, -1.1735718832175956, -0.09730938850281483, -0.3296320457351763, 0.6486586398947655, -1.4424157416670944, 0.05808274371576219, -0.23849797529827363, -0.08816774745216509, -0.21844032759229703, 0.232829730943407, -0.8574261372665845, -0.6448024783666553, 0.04393697665503743, -0.9570215870458508, 0.014303354983442854, -1.2418935875107275, 0.35919198953731796, -0.8741166986646901, 1.029193048664084, 0.6521119689469097, -0.9868637243393551, 0.01573171501393248, 0.4984004502783877, -0.6326102152728523, -1.126999452904778, 1.5111832744616316, -0.5362773785464199, -0.9171718630254313, -1.7903024971797645, 0.33929301647279025, 0.456425947566487, 0.42651392121564213, 0.3026441119122942, -0.3979126650758561, -1.3931863975895338, -0.7551173004643796, 1.432726180997327, 1.0706620899027854, 2.054268754109293, 0.20114830502964962, 0.4683070160993021, 0.6937735075316896, -0.7714541780919164, -2.2640923269889983, 1.1699990427947233, -0.688947311971546, -0.10920382633628391, 0.4329725303136423, 0.16414135807661928]}, {\"line\": {\"color\": \"rgba(50, 171, 96, 1.0)\", \"dash\": \"solid\", \"shape\": \"linear\", \"width\": 1.3}, \"mode\": \"lines\", \"name\": \"C\", \"text\": \"\", \"type\": \"scatter\", \"x\": [0, 1, 2, 3, 4, 5, 6, 7, 8, 9, 10, 11, 12, 13, 14, 15, 16, 17, 18, 19, 20, 21, 22, 23, 24, 25, 26, 27, 28, 29, 30, 31, 32, 33, 34, 35, 36, 37, 38, 39, 40, 41, 42, 43, 44, 45, 46, 47, 48, 49, 50, 51, 52, 53, 54, 55, 56, 57, 58, 59, 60, 61, 62, 63, 64, 65, 66, 67, 68, 69, 70, 71, 72, 73, 74, 75, 76, 77, 78, 79, 80, 81, 82, 83, 84, 85, 86, 87, 88, 89, 90, 91, 92, 93, 94, 95, 96, 97, 98, 99], \"y\": [-0.0815347408742451, -0.5077649874988244, -0.06783904671905902, 0.21062879208003074, 0.38573975804107985, -0.42360398570600855, 1.126717880451138, 0.4353040461859579, -0.16601683108397614, 0.20112069662041537, -0.9833596189946507, 0.08798596302378772, -0.7032347433409032, -1.5193404907008845, 0.6898031931166413, 1.7689481636828148, -0.2205547686471449, 0.706231048131834, 1.4043000547925377, -1.5902270637207583, -0.5143664446343622, -0.4626087338865982, -0.8067031776035528, 0.5723749949077205, -0.26923891560132895, 1.527390451046774, -0.23770574624676455, -0.6313622148516641, 0.24272218133055415, 0.8594737224447366, -0.10153987154467391, -1.717481040343149, 1.0147921385615757, 0.910054309875966, 0.28008821090081704, -1.73032732075467, -0.28032059857314184, 0.020122614351310953, -0.62375902583589, -0.3362728984526408, -0.08747833013708962, 1.7631604063434605, 0.8301295635882725, 0.08343587737131603, 0.5477498426940517, 0.40120705901539583, -1.014745792105112, -0.5004521513616882, 0.29818789930043105, -0.9809039936952862, 0.9612354079406753, 0.14841866854001332, -0.8464508896410459, -0.49167492702023696, 1.5381095565937783, -0.49089723014232334, 0.44786229405164624, -0.2549100305603017, 1.1309559744299842, -0.47578146796949433, 0.03741717705911311, 1.4675174286300103, -0.8045759523130023, -0.20080564559621938, -0.41159970632305587, -0.3213075604811162, -1.3809187836891244, 0.9843946553936557, -0.6641791667254091, -2.668145682918329, 1.5993922170193002, -0.2413458924577472, 0.8553292191891982, -0.14892263793418098, 0.7810111214371379, -1.7989069561723146, 0.9602172066003379, 0.2887724586354856, 1.578662781392761, 0.14463727492632686, 0.6570661994938628, -0.401899493996044, -1.9309247477980442, 0.9770918792089008, 0.4898447052731042, -0.03318207920985528, -0.07467510973904955, 0.6979736845657323, -1.9455591832381112, 1.0860275040330245, -0.1918506689970517, -0.6886176684385715, -0.20238791595904101, 0.8843775776516403, -0.08382639543647263, -0.20340165761830264, -1.4445858442180954, -0.4892485704502599, -0.4716963532959964, -0.7187058641996431]}, {\"line\": {\"color\": \"rgba(128, 0, 128, 1.0)\", \"dash\": \"solid\", \"shape\": \"linear\", \"width\": 1.3}, \"mode\": \"lines\", \"name\": \"D\", \"text\": \"\", \"type\": \"scatter\", \"x\": [0, 1, 2, 3, 4, 5, 6, 7, 8, 9, 10, 11, 12, 13, 14, 15, 16, 17, 18, 19, 20, 21, 22, 23, 24, 25, 26, 27, 28, 29, 30, 31, 32, 33, 34, 35, 36, 37, 38, 39, 40, 41, 42, 43, 44, 45, 46, 47, 48, 49, 50, 51, 52, 53, 54, 55, 56, 57, 58, 59, 60, 61, 62, 63, 64, 65, 66, 67, 68, 69, 70, 71, 72, 73, 74, 75, 76, 77, 78, 79, 80, 81, 82, 83, 84, 85, 86, 87, 88, 89, 90, 91, 92, 93, 94, 95, 96, 97, 98, 99], \"y\": [0.35011902790803934, -1.130866996845766, 1.405284017456432, -1.8383419387844024, 0.4765900950509363, -0.6713898667241399, -1.3185899430154078, 0.3378607451901761, 0.6812660236448889, -1.0583839844937002, 0.21565699200799157, -0.39395362864556077, 0.7864893063104716, -0.5109287460002682, 1.3849823826501693, 0.2656412310236148, -0.10532516018872078, 0.34287931269975025, -1.375585888315486, -0.21499363349708459, 1.3334888664607976, -0.4369653145103137, -1.1586555422237812, 1.4302164537345452, -0.36780045273821715, -0.3692686528252982, -1.197000247649865, 1.274993547734382, 0.035822369915254726, -2.134053502281586, -1.3980532184794499, 1.1928982293240424, -0.6633007278151068, 0.7918241967649958, 0.49424181834881475, -0.031805503187669164, -0.32943044867987525, 0.03790470052222459, -0.22342106187880453, 1.5366750148475983, -0.9496741075144404, 0.03228590529755793, 2.038895422480149, 0.8886414845324146, -0.41147293507101385, -0.9311556393251326, 0.5626543846304182, -0.19711756086049487, 0.4851560219361143, -0.6597978611602378, -1.4232224256695793, -0.2262457980031783, 0.9872238659614562, -1.1923726907339864, -1.500148492942461, -0.18599308207191292, -0.1654533592379869, -0.014656178952166133, 2.6095406717691456, -1.2786216710356257, 1.234638254186483, -0.4405921922176544, 0.5116843289964375, -0.31744975288468247, 0.3537073991650773, 0.7593184727176464, 0.9786571994511789, 0.42243434646639316, -0.3280179290024408, -1.0859001215259885, -1.0155426234437614, 0.18841236666978298, 2.206442621586147, 0.4722429074452371, 1.3410013389700695, 0.6197716938493748, -1.5845241954413414, -0.40970971262400313, 0.7823349966285804, -0.7379069442536994, 0.8806573278666577, -0.5127245160554915, -0.3179367685431994, 3.0908379636496686, -0.9543873202451807, 0.6764550592398433, -1.0324233628058, -1.1235452650742854, 0.8836913358267898, 1.22175671949375, 1.3468180419008624, 1.0956173241965554, -2.569890199980508, -0.5931116880279594, -1.096365880122233, 0.4415956326673109, 0.18730582073897895, -1.0319362002233652, 1.643651569409393, 1.4892770280017191]}],\n",
       "                        {\"legend\": {\"bgcolor\": \"#F5F6F9\", \"font\": {\"color\": \"#4D5663\"}}, \"paper_bgcolor\": \"#F5F6F9\", \"plot_bgcolor\": \"#F5F6F9\", \"template\": {\"data\": {\"bar\": [{\"error_x\": {\"color\": \"#2a3f5f\"}, \"error_y\": {\"color\": \"#2a3f5f\"}, \"marker\": {\"line\": {\"color\": \"#E5ECF6\", \"width\": 0.5}}, \"type\": \"bar\"}], \"barpolar\": [{\"marker\": {\"line\": {\"color\": \"#E5ECF6\", \"width\": 0.5}}, \"type\": \"barpolar\"}], \"carpet\": [{\"aaxis\": {\"endlinecolor\": \"#2a3f5f\", \"gridcolor\": \"white\", \"linecolor\": \"white\", \"minorgridcolor\": \"white\", \"startlinecolor\": \"#2a3f5f\"}, \"baxis\": {\"endlinecolor\": \"#2a3f5f\", \"gridcolor\": \"white\", \"linecolor\": \"white\", \"minorgridcolor\": \"white\", \"startlinecolor\": \"#2a3f5f\"}, \"type\": \"carpet\"}], \"choropleth\": [{\"colorbar\": {\"outlinewidth\": 0, \"ticks\": \"\"}, \"type\": \"choropleth\"}], \"contour\": [{\"colorbar\": {\"outlinewidth\": 0, \"ticks\": \"\"}, \"colorscale\": [[0.0, \"#0d0887\"], [0.1111111111111111, \"#46039f\"], [0.2222222222222222, \"#7201a8\"], [0.3333333333333333, \"#9c179e\"], [0.4444444444444444, \"#bd3786\"], [0.5555555555555556, \"#d8576b\"], [0.6666666666666666, \"#ed7953\"], [0.7777777777777778, \"#fb9f3a\"], [0.8888888888888888, \"#fdca26\"], [1.0, \"#f0f921\"]], \"type\": \"contour\"}], \"contourcarpet\": [{\"colorbar\": {\"outlinewidth\": 0, \"ticks\": \"\"}, \"type\": \"contourcarpet\"}], \"heatmap\": [{\"colorbar\": {\"outlinewidth\": 0, \"ticks\": \"\"}, \"colorscale\": [[0.0, \"#0d0887\"], [0.1111111111111111, \"#46039f\"], [0.2222222222222222, \"#7201a8\"], [0.3333333333333333, \"#9c179e\"], [0.4444444444444444, \"#bd3786\"], [0.5555555555555556, \"#d8576b\"], [0.6666666666666666, \"#ed7953\"], [0.7777777777777778, \"#fb9f3a\"], [0.8888888888888888, \"#fdca26\"], [1.0, \"#f0f921\"]], \"type\": \"heatmap\"}], \"heatmapgl\": [{\"colorbar\": {\"outlinewidth\": 0, \"ticks\": \"\"}, \"colorscale\": [[0.0, \"#0d0887\"], [0.1111111111111111, \"#46039f\"], [0.2222222222222222, \"#7201a8\"], [0.3333333333333333, \"#9c179e\"], [0.4444444444444444, \"#bd3786\"], [0.5555555555555556, \"#d8576b\"], [0.6666666666666666, \"#ed7953\"], [0.7777777777777778, \"#fb9f3a\"], [0.8888888888888888, \"#fdca26\"], [1.0, \"#f0f921\"]], \"type\": \"heatmapgl\"}], \"histogram\": [{\"marker\": {\"colorbar\": {\"outlinewidth\": 0, \"ticks\": \"\"}}, \"type\": \"histogram\"}], \"histogram2d\": [{\"colorbar\": {\"outlinewidth\": 0, \"ticks\": \"\"}, \"colorscale\": [[0.0, \"#0d0887\"], [0.1111111111111111, \"#46039f\"], [0.2222222222222222, \"#7201a8\"], [0.3333333333333333, \"#9c179e\"], [0.4444444444444444, \"#bd3786\"], [0.5555555555555556, \"#d8576b\"], [0.6666666666666666, \"#ed7953\"], [0.7777777777777778, \"#fb9f3a\"], [0.8888888888888888, \"#fdca26\"], [1.0, \"#f0f921\"]], \"type\": \"histogram2d\"}], \"histogram2dcontour\": [{\"colorbar\": {\"outlinewidth\": 0, \"ticks\": \"\"}, \"colorscale\": [[0.0, \"#0d0887\"], [0.1111111111111111, \"#46039f\"], [0.2222222222222222, \"#7201a8\"], [0.3333333333333333, \"#9c179e\"], [0.4444444444444444, \"#bd3786\"], [0.5555555555555556, \"#d8576b\"], [0.6666666666666666, \"#ed7953\"], [0.7777777777777778, \"#fb9f3a\"], [0.8888888888888888, \"#fdca26\"], [1.0, \"#f0f921\"]], \"type\": \"histogram2dcontour\"}], \"mesh3d\": [{\"colorbar\": {\"outlinewidth\": 0, \"ticks\": \"\"}, \"type\": \"mesh3d\"}], \"parcoords\": [{\"line\": {\"colorbar\": {\"outlinewidth\": 0, \"ticks\": \"\"}}, \"type\": \"parcoords\"}], \"pie\": [{\"automargin\": true, \"type\": \"pie\"}], \"scatter\": [{\"marker\": {\"colorbar\": {\"outlinewidth\": 0, \"ticks\": \"\"}}, \"type\": \"scatter\"}], \"scatter3d\": [{\"line\": {\"colorbar\": {\"outlinewidth\": 0, \"ticks\": \"\"}}, \"marker\": {\"colorbar\": {\"outlinewidth\": 0, \"ticks\": \"\"}}, \"type\": \"scatter3d\"}], \"scattercarpet\": [{\"marker\": {\"colorbar\": {\"outlinewidth\": 0, \"ticks\": \"\"}}, \"type\": \"scattercarpet\"}], \"scattergeo\": [{\"marker\": {\"colorbar\": {\"outlinewidth\": 0, \"ticks\": \"\"}}, \"type\": \"scattergeo\"}], \"scattergl\": [{\"marker\": {\"colorbar\": {\"outlinewidth\": 0, \"ticks\": \"\"}}, \"type\": \"scattergl\"}], \"scattermapbox\": [{\"marker\": {\"colorbar\": {\"outlinewidth\": 0, \"ticks\": \"\"}}, \"type\": \"scattermapbox\"}], \"scatterpolar\": [{\"marker\": {\"colorbar\": {\"outlinewidth\": 0, \"ticks\": \"\"}}, \"type\": \"scatterpolar\"}], \"scatterpolargl\": [{\"marker\": {\"colorbar\": {\"outlinewidth\": 0, \"ticks\": \"\"}}, \"type\": \"scatterpolargl\"}], \"scatterternary\": [{\"marker\": {\"colorbar\": {\"outlinewidth\": 0, \"ticks\": \"\"}}, \"type\": \"scatterternary\"}], \"surface\": [{\"colorbar\": {\"outlinewidth\": 0, \"ticks\": \"\"}, \"colorscale\": [[0.0, \"#0d0887\"], [0.1111111111111111, \"#46039f\"], [0.2222222222222222, \"#7201a8\"], [0.3333333333333333, \"#9c179e\"], [0.4444444444444444, \"#bd3786\"], [0.5555555555555556, \"#d8576b\"], [0.6666666666666666, \"#ed7953\"], [0.7777777777777778, \"#fb9f3a\"], [0.8888888888888888, \"#fdca26\"], [1.0, \"#f0f921\"]], \"type\": \"surface\"}], \"table\": [{\"cells\": {\"fill\": {\"color\": \"#EBF0F8\"}, \"line\": {\"color\": \"white\"}}, \"header\": {\"fill\": {\"color\": \"#C8D4E3\"}, \"line\": {\"color\": \"white\"}}, \"type\": \"table\"}]}, \"layout\": {\"annotationdefaults\": {\"arrowcolor\": \"#2a3f5f\", \"arrowhead\": 0, \"arrowwidth\": 1}, \"coloraxis\": {\"colorbar\": {\"outlinewidth\": 0, \"ticks\": \"\"}}, \"colorscale\": {\"diverging\": [[0, \"#8e0152\"], [0.1, \"#c51b7d\"], [0.2, \"#de77ae\"], [0.3, \"#f1b6da\"], [0.4, \"#fde0ef\"], [0.5, \"#f7f7f7\"], [0.6, \"#e6f5d0\"], [0.7, \"#b8e186\"], [0.8, \"#7fbc41\"], [0.9, \"#4d9221\"], [1, \"#276419\"]], \"sequential\": [[0.0, \"#0d0887\"], [0.1111111111111111, \"#46039f\"], [0.2222222222222222, \"#7201a8\"], [0.3333333333333333, \"#9c179e\"], [0.4444444444444444, \"#bd3786\"], [0.5555555555555556, \"#d8576b\"], [0.6666666666666666, \"#ed7953\"], [0.7777777777777778, \"#fb9f3a\"], [0.8888888888888888, \"#fdca26\"], [1.0, \"#f0f921\"]], \"sequentialminus\": [[0.0, \"#0d0887\"], [0.1111111111111111, \"#46039f\"], [0.2222222222222222, \"#7201a8\"], [0.3333333333333333, \"#9c179e\"], [0.4444444444444444, \"#bd3786\"], [0.5555555555555556, \"#d8576b\"], [0.6666666666666666, \"#ed7953\"], [0.7777777777777778, \"#fb9f3a\"], [0.8888888888888888, \"#fdca26\"], [1.0, \"#f0f921\"]]}, \"colorway\": [\"#636efa\", \"#EF553B\", \"#00cc96\", \"#ab63fa\", \"#FFA15A\", \"#19d3f3\", \"#FF6692\", \"#B6E880\", \"#FF97FF\", \"#FECB52\"], \"font\": {\"color\": \"#2a3f5f\"}, \"geo\": {\"bgcolor\": \"white\", \"lakecolor\": \"white\", \"landcolor\": \"#E5ECF6\", \"showlakes\": true, \"showland\": true, \"subunitcolor\": \"white\"}, \"hoverlabel\": {\"align\": \"left\"}, \"hovermode\": \"closest\", \"mapbox\": {\"style\": \"light\"}, \"paper_bgcolor\": \"white\", \"plot_bgcolor\": \"#E5ECF6\", \"polar\": {\"angularaxis\": {\"gridcolor\": \"white\", \"linecolor\": \"white\", \"ticks\": \"\"}, \"bgcolor\": \"#E5ECF6\", \"radialaxis\": {\"gridcolor\": \"white\", \"linecolor\": \"white\", \"ticks\": \"\"}}, \"scene\": {\"xaxis\": {\"backgroundcolor\": \"#E5ECF6\", \"gridcolor\": \"white\", \"gridwidth\": 2, \"linecolor\": \"white\", \"showbackground\": true, \"ticks\": \"\", \"zerolinecolor\": \"white\"}, \"yaxis\": {\"backgroundcolor\": \"#E5ECF6\", \"gridcolor\": \"white\", \"gridwidth\": 2, \"linecolor\": \"white\", \"showbackground\": true, \"ticks\": \"\", \"zerolinecolor\": \"white\"}, \"zaxis\": {\"backgroundcolor\": \"#E5ECF6\", \"gridcolor\": \"white\", \"gridwidth\": 2, \"linecolor\": \"white\", \"showbackground\": true, \"ticks\": \"\", \"zerolinecolor\": \"white\"}}, \"shapedefaults\": {\"line\": {\"color\": \"#2a3f5f\"}}, \"ternary\": {\"aaxis\": {\"gridcolor\": \"white\", \"linecolor\": \"white\", \"ticks\": \"\"}, \"baxis\": {\"gridcolor\": \"white\", \"linecolor\": \"white\", \"ticks\": \"\"}, \"bgcolor\": \"#E5ECF6\", \"caxis\": {\"gridcolor\": \"white\", \"linecolor\": \"white\", \"ticks\": \"\"}}, \"title\": {\"x\": 0.05}, \"xaxis\": {\"automargin\": true, \"gridcolor\": \"white\", \"linecolor\": \"white\", \"ticks\": \"\", \"title\": {\"standoff\": 15}, \"zerolinecolor\": \"white\", \"zerolinewidth\": 2}, \"yaxis\": {\"automargin\": true, \"gridcolor\": \"white\", \"linecolor\": \"white\", \"ticks\": \"\", \"title\": {\"standoff\": 15}, \"zerolinecolor\": \"white\", \"zerolinewidth\": 2}}}, \"title\": {\"font\": {\"color\": \"#4D5663\"}}, \"xaxis\": {\"gridcolor\": \"#E1E5ED\", \"showgrid\": true, \"tickfont\": {\"color\": \"#4D5663\"}, \"title\": {\"font\": {\"color\": \"#4D5663\"}, \"text\": \"\"}, \"zerolinecolor\": \"#E1E5ED\"}, \"yaxis\": {\"gridcolor\": \"#E1E5ED\", \"showgrid\": true, \"tickfont\": {\"color\": \"#4D5663\"}, \"title\": {\"font\": {\"color\": \"#4D5663\"}, \"text\": \"\"}, \"zerolinecolor\": \"#E1E5ED\"}},\n",
       "                        {\"showLink\": true, \"linkText\": \"Export to plot.ly\", \"plotlyServerURL\": \"https://plot.ly\", \"responsive\": true}\n",
       "                    ).then(function(){\n",
       "                            \n",
       "var gd = document.getElementById('a79b99d6-ca9c-4f86-8f9c-ef3f384dc953');\n",
       "var x = new MutationObserver(function (mutations, observer) {{\n",
       "        var display = window.getComputedStyle(gd).display;\n",
       "        if (!display || display === 'none') {{\n",
       "            console.log([gd, 'removed!']);\n",
       "            Plotly.purge(gd);\n",
       "            observer.disconnect();\n",
       "        }}\n",
       "}});\n",
       "\n",
       "// Listen for the removal of the full notebook cells\n",
       "var notebookContainer = gd.closest('#notebook-container');\n",
       "if (notebookContainer) {{\n",
       "    x.observe(notebookContainer, {childList: true});\n",
       "}}\n",
       "\n",
       "// Listen for the clearing of the current output cell\n",
       "var outputEl = gd.closest('.output');\n",
       "if (outputEl) {{\n",
       "    x.observe(outputEl, {childList: true});\n",
       "}}\n",
       "\n",
       "                        })\n",
       "                };\n",
       "                });\n",
       "            </script>\n",
       "        </div>"
      ]
     },
     "metadata": {},
     "output_type": "display_data"
    }
   ],
   "source": [
    "df.iplot()  #interactive plot using plotly with lots of options"
   ]
  },
  {
   "cell_type": "code",
   "execution_count": 19,
   "metadata": {},
   "outputs": [
    {
     "data": {
      "application/vnd.plotly.v1+json": {
       "config": {
        "linkText": "Export to plot.ly",
        "plotlyServerURL": "https://plot.ly",
        "showLink": true
       },
       "data": [
        {
         "line": {
          "color": "rgba(255, 153, 51, 1.0)",
          "dash": "solid",
          "shape": "linear",
          "width": 1.3
         },
         "mode": "lines",
         "name": "B",
         "text": "",
         "type": "scatter",
         "x": [
          -0.24200640252741798,
          -0.9352878538108119,
          0.027388841991728325,
          -0.1819147191636028,
          1.0220939910254634,
          -2.5043642881046715,
          -0.31178537143269014,
          -0.27461685256679524,
          1.0543329194274218,
          0.3914427901382899,
          -1.441136423378452,
          1.915385670890251,
          1.0612013772594604,
          -1.3257408567553322,
          0.30134531166233225,
          0.13394694504780527,
          0.012414377790086016,
          -0.562666842819727,
          -2.1360295145840436,
          0.35120093080140075,
          -1.064081139900174,
          0.28589172652849776,
          -0.4836939196007413,
          -0.34394615357419,
          -0.00290307679785654,
          -1.14598078661371,
          0.3534869579588663,
          -0.8319610105553975,
          -0.589016049936948,
          -1.2072376829173481,
          0.2899195261165965,
          2.4927642854600336,
          -0.026883405147536468,
          1.0847247380259522,
          -0.4185054870473495,
          -1.7001290191162755,
          -0.6631138255023695,
          -1.3977215756251955,
          0.4455411861792529,
          0.30197911688308654,
          -0.2261709832051633,
          -0.1710396088940495,
          1.4433380795926118,
          0.530847712833768,
          0.961866271646887,
          1.2941998843821159,
          1.0216519281617251,
          1.6208258662004693,
          0.5421996729638662,
          0.13349040574255092,
          0.011698411413139344,
          0.3243929093413252,
          0.326055891967591,
          -1.857943472441847,
          -0.30463758552150405,
          -0.8808632160511382,
          0.5239216903007925,
          0.9834386074104604,
          1.4396406440418086,
          -0.257708302017176,
          0.829152364017514,
          -0.3546228497011296,
          0.5561073129790329,
          -0.12952762277766025,
          -0.8591907520878445,
          -0.11880680844042457,
          0.16303119021191692,
          1.5420497685582935,
          -0.952295004519987,
          1.3149511788637551,
          0.1793165206361868,
          0.39153581454967,
          0.40918112144156693,
          -0.1746866446198252,
          -0.27734651150838513,
          0.6868843028329731,
          -0.530086144552545,
          1.0225358547499583,
          1.0811481712042423,
          0.2860430974355543,
          -0.5235381746515275,
          -0.5030792474726582,
          0.17829313427772936,
          0.3689593426878984,
          0.8974440778903857,
          -0.2957284041584042,
          -1.0028423302906537,
          -0.4381398352349791,
          1.3607909151527158,
          -0.6508323686744798,
          -0.011964165734617253,
          1.350700373666675,
          -1.3173489072094142,
          -0.1409314948821588,
          -0.22547794130900795,
          1.3708181316671681,
          -1.829079525865196,
          -1.709605077000469,
          -2.0915084931810624,
          -1.0919845225225022
         ],
         "y": [
          0.5038966296896649,
          -0.6402432132700927,
          -0.046084521044311134,
          2.2664478783920683,
          0.9477353340492846,
          -0.614880202117463,
          -1.6423022200466404,
          -0.5506536135023554,
          0.5784162871305017,
          1.2635114897067978,
          -1.4963273936516859,
          -1.6115050059592841,
          -0.46441376428471964,
          -1.0227066828446538,
          0.9350020037598924,
          0.38227490517607154,
          2.4302360193947536,
          -1.3161131598068214,
          -1.2982968542416018,
          -0.13265819926035488,
          -0.7038606550102939,
          -0.2209763016023666,
          0.9345495975185338,
          1.0095771347136155,
          -0.9434848398914922,
          -0.0652309643019826,
          1.339454873313897,
          -1.041460847515743,
          -0.6544215716422075,
          -0.6086375499446177,
          0.012736190202873435,
          -0.8033846548321574,
          -0.1523522799250349,
          -0.5912413700796505,
          -1.427089639295129,
          -0.2764544125199372,
          -0.4502946295633157,
          -0.3968453730357518,
          0.0008621038702756964,
          -0.6860921613608862,
          0.2148442500563389,
          -0.3965507564693599,
          -1.580565695259094,
          -0.6886015208288447,
          -0.19922535695751326,
          -1.300702016080167,
          0.8242157825252651,
          -0.3012421823694876,
          0.25194677497620255,
          -0.70194952275731,
          0.4899170779278613,
          -1.1735718832175956,
          -0.09730938850281483,
          -0.3296320457351763,
          0.6486586398947655,
          -1.4424157416670944,
          0.05808274371576219,
          -0.23849797529827363,
          -0.08816774745216509,
          -0.21844032759229703,
          0.232829730943407,
          -0.8574261372665845,
          -0.6448024783666553,
          0.04393697665503743,
          -0.9570215870458508,
          0.014303354983442854,
          -1.2418935875107275,
          0.35919198953731796,
          -0.8741166986646901,
          1.029193048664084,
          0.6521119689469097,
          -0.9868637243393551,
          0.01573171501393248,
          0.4984004502783877,
          -0.6326102152728523,
          -1.126999452904778,
          1.5111832744616316,
          -0.5362773785464199,
          -0.9171718630254313,
          -1.7903024971797645,
          0.33929301647279025,
          0.456425947566487,
          0.42651392121564213,
          0.3026441119122942,
          -0.3979126650758561,
          -1.3931863975895338,
          -0.7551173004643796,
          1.432726180997327,
          1.0706620899027854,
          2.054268754109293,
          0.20114830502964962,
          0.4683070160993021,
          0.6937735075316896,
          -0.7714541780919164,
          -2.2640923269889983,
          1.1699990427947233,
          -0.688947311971546,
          -0.10920382633628391,
          0.4329725303136423,
          0.16414135807661928
         ]
        }
       ],
       "layout": {
        "legend": {
         "bgcolor": "#F5F6F9",
         "font": {
          "color": "#4D5663"
         }
        },
        "paper_bgcolor": "#F5F6F9",
        "plot_bgcolor": "#F5F6F9",
        "template": {
         "data": {
          "bar": [
           {
            "error_x": {
             "color": "#2a3f5f"
            },
            "error_y": {
             "color": "#2a3f5f"
            },
            "marker": {
             "line": {
              "color": "#E5ECF6",
              "width": 0.5
             }
            },
            "type": "bar"
           }
          ],
          "barpolar": [
           {
            "marker": {
             "line": {
              "color": "#E5ECF6",
              "width": 0.5
             }
            },
            "type": "barpolar"
           }
          ],
          "carpet": [
           {
            "aaxis": {
             "endlinecolor": "#2a3f5f",
             "gridcolor": "white",
             "linecolor": "white",
             "minorgridcolor": "white",
             "startlinecolor": "#2a3f5f"
            },
            "baxis": {
             "endlinecolor": "#2a3f5f",
             "gridcolor": "white",
             "linecolor": "white",
             "minorgridcolor": "white",
             "startlinecolor": "#2a3f5f"
            },
            "type": "carpet"
           }
          ],
          "choropleth": [
           {
            "colorbar": {
             "outlinewidth": 0,
             "ticks": ""
            },
            "type": "choropleth"
           }
          ],
          "contour": [
           {
            "colorbar": {
             "outlinewidth": 0,
             "ticks": ""
            },
            "colorscale": [
             [
              0,
              "#0d0887"
             ],
             [
              0.1111111111111111,
              "#46039f"
             ],
             [
              0.2222222222222222,
              "#7201a8"
             ],
             [
              0.3333333333333333,
              "#9c179e"
             ],
             [
              0.4444444444444444,
              "#bd3786"
             ],
             [
              0.5555555555555556,
              "#d8576b"
             ],
             [
              0.6666666666666666,
              "#ed7953"
             ],
             [
              0.7777777777777778,
              "#fb9f3a"
             ],
             [
              0.8888888888888888,
              "#fdca26"
             ],
             [
              1,
              "#f0f921"
             ]
            ],
            "type": "contour"
           }
          ],
          "contourcarpet": [
           {
            "colorbar": {
             "outlinewidth": 0,
             "ticks": ""
            },
            "type": "contourcarpet"
           }
          ],
          "heatmap": [
           {
            "colorbar": {
             "outlinewidth": 0,
             "ticks": ""
            },
            "colorscale": [
             [
              0,
              "#0d0887"
             ],
             [
              0.1111111111111111,
              "#46039f"
             ],
             [
              0.2222222222222222,
              "#7201a8"
             ],
             [
              0.3333333333333333,
              "#9c179e"
             ],
             [
              0.4444444444444444,
              "#bd3786"
             ],
             [
              0.5555555555555556,
              "#d8576b"
             ],
             [
              0.6666666666666666,
              "#ed7953"
             ],
             [
              0.7777777777777778,
              "#fb9f3a"
             ],
             [
              0.8888888888888888,
              "#fdca26"
             ],
             [
              1,
              "#f0f921"
             ]
            ],
            "type": "heatmap"
           }
          ],
          "heatmapgl": [
           {
            "colorbar": {
             "outlinewidth": 0,
             "ticks": ""
            },
            "colorscale": [
             [
              0,
              "#0d0887"
             ],
             [
              0.1111111111111111,
              "#46039f"
             ],
             [
              0.2222222222222222,
              "#7201a8"
             ],
             [
              0.3333333333333333,
              "#9c179e"
             ],
             [
              0.4444444444444444,
              "#bd3786"
             ],
             [
              0.5555555555555556,
              "#d8576b"
             ],
             [
              0.6666666666666666,
              "#ed7953"
             ],
             [
              0.7777777777777778,
              "#fb9f3a"
             ],
             [
              0.8888888888888888,
              "#fdca26"
             ],
             [
              1,
              "#f0f921"
             ]
            ],
            "type": "heatmapgl"
           }
          ],
          "histogram": [
           {
            "marker": {
             "colorbar": {
              "outlinewidth": 0,
              "ticks": ""
             }
            },
            "type": "histogram"
           }
          ],
          "histogram2d": [
           {
            "colorbar": {
             "outlinewidth": 0,
             "ticks": ""
            },
            "colorscale": [
             [
              0,
              "#0d0887"
             ],
             [
              0.1111111111111111,
              "#46039f"
             ],
             [
              0.2222222222222222,
              "#7201a8"
             ],
             [
              0.3333333333333333,
              "#9c179e"
             ],
             [
              0.4444444444444444,
              "#bd3786"
             ],
             [
              0.5555555555555556,
              "#d8576b"
             ],
             [
              0.6666666666666666,
              "#ed7953"
             ],
             [
              0.7777777777777778,
              "#fb9f3a"
             ],
             [
              0.8888888888888888,
              "#fdca26"
             ],
             [
              1,
              "#f0f921"
             ]
            ],
            "type": "histogram2d"
           }
          ],
          "histogram2dcontour": [
           {
            "colorbar": {
             "outlinewidth": 0,
             "ticks": ""
            },
            "colorscale": [
             [
              0,
              "#0d0887"
             ],
             [
              0.1111111111111111,
              "#46039f"
             ],
             [
              0.2222222222222222,
              "#7201a8"
             ],
             [
              0.3333333333333333,
              "#9c179e"
             ],
             [
              0.4444444444444444,
              "#bd3786"
             ],
             [
              0.5555555555555556,
              "#d8576b"
             ],
             [
              0.6666666666666666,
              "#ed7953"
             ],
             [
              0.7777777777777778,
              "#fb9f3a"
             ],
             [
              0.8888888888888888,
              "#fdca26"
             ],
             [
              1,
              "#f0f921"
             ]
            ],
            "type": "histogram2dcontour"
           }
          ],
          "mesh3d": [
           {
            "colorbar": {
             "outlinewidth": 0,
             "ticks": ""
            },
            "type": "mesh3d"
           }
          ],
          "parcoords": [
           {
            "line": {
             "colorbar": {
              "outlinewidth": 0,
              "ticks": ""
             }
            },
            "type": "parcoords"
           }
          ],
          "pie": [
           {
            "automargin": true,
            "type": "pie"
           }
          ],
          "scatter": [
           {
            "marker": {
             "colorbar": {
              "outlinewidth": 0,
              "ticks": ""
             }
            },
            "type": "scatter"
           }
          ],
          "scatter3d": [
           {
            "line": {
             "colorbar": {
              "outlinewidth": 0,
              "ticks": ""
             }
            },
            "marker": {
             "colorbar": {
              "outlinewidth": 0,
              "ticks": ""
             }
            },
            "type": "scatter3d"
           }
          ],
          "scattercarpet": [
           {
            "marker": {
             "colorbar": {
              "outlinewidth": 0,
              "ticks": ""
             }
            },
            "type": "scattercarpet"
           }
          ],
          "scattergeo": [
           {
            "marker": {
             "colorbar": {
              "outlinewidth": 0,
              "ticks": ""
             }
            },
            "type": "scattergeo"
           }
          ],
          "scattergl": [
           {
            "marker": {
             "colorbar": {
              "outlinewidth": 0,
              "ticks": ""
             }
            },
            "type": "scattergl"
           }
          ],
          "scattermapbox": [
           {
            "marker": {
             "colorbar": {
              "outlinewidth": 0,
              "ticks": ""
             }
            },
            "type": "scattermapbox"
           }
          ],
          "scatterpolar": [
           {
            "marker": {
             "colorbar": {
              "outlinewidth": 0,
              "ticks": ""
             }
            },
            "type": "scatterpolar"
           }
          ],
          "scatterpolargl": [
           {
            "marker": {
             "colorbar": {
              "outlinewidth": 0,
              "ticks": ""
             }
            },
            "type": "scatterpolargl"
           }
          ],
          "scatterternary": [
           {
            "marker": {
             "colorbar": {
              "outlinewidth": 0,
              "ticks": ""
             }
            },
            "type": "scatterternary"
           }
          ],
          "surface": [
           {
            "colorbar": {
             "outlinewidth": 0,
             "ticks": ""
            },
            "colorscale": [
             [
              0,
              "#0d0887"
             ],
             [
              0.1111111111111111,
              "#46039f"
             ],
             [
              0.2222222222222222,
              "#7201a8"
             ],
             [
              0.3333333333333333,
              "#9c179e"
             ],
             [
              0.4444444444444444,
              "#bd3786"
             ],
             [
              0.5555555555555556,
              "#d8576b"
             ],
             [
              0.6666666666666666,
              "#ed7953"
             ],
             [
              0.7777777777777778,
              "#fb9f3a"
             ],
             [
              0.8888888888888888,
              "#fdca26"
             ],
             [
              1,
              "#f0f921"
             ]
            ],
            "type": "surface"
           }
          ],
          "table": [
           {
            "cells": {
             "fill": {
              "color": "#EBF0F8"
             },
             "line": {
              "color": "white"
             }
            },
            "header": {
             "fill": {
              "color": "#C8D4E3"
             },
             "line": {
              "color": "white"
             }
            },
            "type": "table"
           }
          ]
         },
         "layout": {
          "annotationdefaults": {
           "arrowcolor": "#2a3f5f",
           "arrowhead": 0,
           "arrowwidth": 1
          },
          "coloraxis": {
           "colorbar": {
            "outlinewidth": 0,
            "ticks": ""
           }
          },
          "colorscale": {
           "diverging": [
            [
             0,
             "#8e0152"
            ],
            [
             0.1,
             "#c51b7d"
            ],
            [
             0.2,
             "#de77ae"
            ],
            [
             0.3,
             "#f1b6da"
            ],
            [
             0.4,
             "#fde0ef"
            ],
            [
             0.5,
             "#f7f7f7"
            ],
            [
             0.6,
             "#e6f5d0"
            ],
            [
             0.7,
             "#b8e186"
            ],
            [
             0.8,
             "#7fbc41"
            ],
            [
             0.9,
             "#4d9221"
            ],
            [
             1,
             "#276419"
            ]
           ],
           "sequential": [
            [
             0,
             "#0d0887"
            ],
            [
             0.1111111111111111,
             "#46039f"
            ],
            [
             0.2222222222222222,
             "#7201a8"
            ],
            [
             0.3333333333333333,
             "#9c179e"
            ],
            [
             0.4444444444444444,
             "#bd3786"
            ],
            [
             0.5555555555555556,
             "#d8576b"
            ],
            [
             0.6666666666666666,
             "#ed7953"
            ],
            [
             0.7777777777777778,
             "#fb9f3a"
            ],
            [
             0.8888888888888888,
             "#fdca26"
            ],
            [
             1,
             "#f0f921"
            ]
           ],
           "sequentialminus": [
            [
             0,
             "#0d0887"
            ],
            [
             0.1111111111111111,
             "#46039f"
            ],
            [
             0.2222222222222222,
             "#7201a8"
            ],
            [
             0.3333333333333333,
             "#9c179e"
            ],
            [
             0.4444444444444444,
             "#bd3786"
            ],
            [
             0.5555555555555556,
             "#d8576b"
            ],
            [
             0.6666666666666666,
             "#ed7953"
            ],
            [
             0.7777777777777778,
             "#fb9f3a"
            ],
            [
             0.8888888888888888,
             "#fdca26"
            ],
            [
             1,
             "#f0f921"
            ]
           ]
          },
          "colorway": [
           "#636efa",
           "#EF553B",
           "#00cc96",
           "#ab63fa",
           "#FFA15A",
           "#19d3f3",
           "#FF6692",
           "#B6E880",
           "#FF97FF",
           "#FECB52"
          ],
          "font": {
           "color": "#2a3f5f"
          },
          "geo": {
           "bgcolor": "white",
           "lakecolor": "white",
           "landcolor": "#E5ECF6",
           "showlakes": true,
           "showland": true,
           "subunitcolor": "white"
          },
          "hoverlabel": {
           "align": "left"
          },
          "hovermode": "closest",
          "mapbox": {
           "style": "light"
          },
          "paper_bgcolor": "white",
          "plot_bgcolor": "#E5ECF6",
          "polar": {
           "angularaxis": {
            "gridcolor": "white",
            "linecolor": "white",
            "ticks": ""
           },
           "bgcolor": "#E5ECF6",
           "radialaxis": {
            "gridcolor": "white",
            "linecolor": "white",
            "ticks": ""
           }
          },
          "scene": {
           "xaxis": {
            "backgroundcolor": "#E5ECF6",
            "gridcolor": "white",
            "gridwidth": 2,
            "linecolor": "white",
            "showbackground": true,
            "ticks": "",
            "zerolinecolor": "white"
           },
           "yaxis": {
            "backgroundcolor": "#E5ECF6",
            "gridcolor": "white",
            "gridwidth": 2,
            "linecolor": "white",
            "showbackground": true,
            "ticks": "",
            "zerolinecolor": "white"
           },
           "zaxis": {
            "backgroundcolor": "#E5ECF6",
            "gridcolor": "white",
            "gridwidth": 2,
            "linecolor": "white",
            "showbackground": true,
            "ticks": "",
            "zerolinecolor": "white"
           }
          },
          "shapedefaults": {
           "line": {
            "color": "#2a3f5f"
           }
          },
          "ternary": {
           "aaxis": {
            "gridcolor": "white",
            "linecolor": "white",
            "ticks": ""
           },
           "baxis": {
            "gridcolor": "white",
            "linecolor": "white",
            "ticks": ""
           },
           "bgcolor": "#E5ECF6",
           "caxis": {
            "gridcolor": "white",
            "linecolor": "white",
            "ticks": ""
           }
          },
          "title": {
           "x": 0.05
          },
          "xaxis": {
           "automargin": true,
           "gridcolor": "white",
           "linecolor": "white",
           "ticks": "",
           "title": {
            "standoff": 15
           },
           "zerolinecolor": "white",
           "zerolinewidth": 2
          },
          "yaxis": {
           "automargin": true,
           "gridcolor": "white",
           "linecolor": "white",
           "ticks": "",
           "title": {
            "standoff": 15
           },
           "zerolinecolor": "white",
           "zerolinewidth": 2
          }
         }
        },
        "title": {
         "font": {
          "color": "#4D5663"
         }
        },
        "xaxis": {
         "gridcolor": "#E1E5ED",
         "showgrid": true,
         "tickfont": {
          "color": "#4D5663"
         },
         "title": {
          "font": {
           "color": "#4D5663"
          },
          "text": ""
         },
         "zerolinecolor": "#E1E5ED"
        },
        "yaxis": {
         "gridcolor": "#E1E5ED",
         "showgrid": true,
         "tickfont": {
          "color": "#4D5663"
         },
         "title": {
          "font": {
           "color": "#4D5663"
          },
          "text": ""
         },
         "zerolinecolor": "#E1E5ED"
        }
       }
      },
      "text/html": [
       "<div>\n",
       "        \n",
       "        \n",
       "            <div id=\"86ae844b-45f3-413f-bd14-7e0b6346a8c6\" class=\"plotly-graph-div\" style=\"height:525px; width:100%;\"></div>\n",
       "            <script type=\"text/javascript\">\n",
       "                require([\"plotly\"], function(Plotly) {\n",
       "                    window.PLOTLYENV=window.PLOTLYENV || {};\n",
       "                    window.PLOTLYENV.BASE_URL='https://plot.ly';\n",
       "                    \n",
       "                if (document.getElementById(\"86ae844b-45f3-413f-bd14-7e0b6346a8c6\")) {\n",
       "                    Plotly.newPlot(\n",
       "                        '86ae844b-45f3-413f-bd14-7e0b6346a8c6',\n",
       "                        [{\"line\": {\"color\": \"rgba(255, 153, 51, 1.0)\", \"dash\": \"solid\", \"shape\": \"linear\", \"width\": 1.3}, \"mode\": \"lines\", \"name\": \"B\", \"text\": \"\", \"type\": \"scatter\", \"x\": [-0.24200640252741798, -0.9352878538108119, 0.027388841991728325, -0.1819147191636028, 1.0220939910254634, -2.5043642881046715, -0.31178537143269014, -0.27461685256679524, 1.0543329194274218, 0.3914427901382899, -1.441136423378452, 1.915385670890251, 1.0612013772594604, -1.3257408567553322, 0.30134531166233225, 0.13394694504780527, 0.012414377790086016, -0.562666842819727, -2.1360295145840436, 0.35120093080140075, -1.064081139900174, 0.28589172652849776, -0.4836939196007413, -0.34394615357419, -0.00290307679785654, -1.14598078661371, 0.3534869579588663, -0.8319610105553975, -0.589016049936948, -1.2072376829173481, 0.2899195261165965, 2.4927642854600336, -0.026883405147536468, 1.0847247380259522, -0.4185054870473495, -1.7001290191162755, -0.6631138255023695, -1.3977215756251955, 0.4455411861792529, 0.30197911688308654, -0.2261709832051633, -0.1710396088940495, 1.4433380795926118, 0.530847712833768, 0.961866271646887, 1.2941998843821159, 1.0216519281617251, 1.6208258662004693, 0.5421996729638662, 0.13349040574255092, 0.011698411413139344, 0.3243929093413252, 0.326055891967591, -1.857943472441847, -0.30463758552150405, -0.8808632160511382, 0.5239216903007925, 0.9834386074104604, 1.4396406440418086, -0.257708302017176, 0.829152364017514, -0.3546228497011296, 0.5561073129790329, -0.12952762277766025, -0.8591907520878445, -0.11880680844042457, 0.16303119021191692, 1.5420497685582935, -0.952295004519987, 1.3149511788637551, 0.1793165206361868, 0.39153581454967, 0.40918112144156693, -0.1746866446198252, -0.27734651150838513, 0.6868843028329731, -0.530086144552545, 1.0225358547499583, 1.0811481712042423, 0.2860430974355543, -0.5235381746515275, -0.5030792474726582, 0.17829313427772936, 0.3689593426878984, 0.8974440778903857, -0.2957284041584042, -1.0028423302906537, -0.4381398352349791, 1.3607909151527158, -0.6508323686744798, -0.011964165734617253, 1.350700373666675, -1.3173489072094142, -0.1409314948821588, -0.22547794130900795, 1.3708181316671681, -1.829079525865196, -1.709605077000469, -2.0915084931810624, -1.0919845225225022], \"y\": [0.5038966296896649, -0.6402432132700927, -0.046084521044311134, 2.2664478783920683, 0.9477353340492846, -0.614880202117463, -1.6423022200466404, -0.5506536135023554, 0.5784162871305017, 1.2635114897067978, -1.4963273936516859, -1.6115050059592841, -0.46441376428471964, -1.0227066828446538, 0.9350020037598924, 0.38227490517607154, 2.4302360193947536, -1.3161131598068214, -1.2982968542416018, -0.13265819926035488, -0.7038606550102939, -0.2209763016023666, 0.9345495975185338, 1.0095771347136155, -0.9434848398914922, -0.0652309643019826, 1.339454873313897, -1.041460847515743, -0.6544215716422075, -0.6086375499446177, 0.012736190202873435, -0.8033846548321574, -0.1523522799250349, -0.5912413700796505, -1.427089639295129, -0.2764544125199372, -0.4502946295633157, -0.3968453730357518, 0.0008621038702756964, -0.6860921613608862, 0.2148442500563389, -0.3965507564693599, -1.580565695259094, -0.6886015208288447, -0.19922535695751326, -1.300702016080167, 0.8242157825252651, -0.3012421823694876, 0.25194677497620255, -0.70194952275731, 0.4899170779278613, -1.1735718832175956, -0.09730938850281483, -0.3296320457351763, 0.6486586398947655, -1.4424157416670944, 0.05808274371576219, -0.23849797529827363, -0.08816774745216509, -0.21844032759229703, 0.232829730943407, -0.8574261372665845, -0.6448024783666553, 0.04393697665503743, -0.9570215870458508, 0.014303354983442854, -1.2418935875107275, 0.35919198953731796, -0.8741166986646901, 1.029193048664084, 0.6521119689469097, -0.9868637243393551, 0.01573171501393248, 0.4984004502783877, -0.6326102152728523, -1.126999452904778, 1.5111832744616316, -0.5362773785464199, -0.9171718630254313, -1.7903024971797645, 0.33929301647279025, 0.456425947566487, 0.42651392121564213, 0.3026441119122942, -0.3979126650758561, -1.3931863975895338, -0.7551173004643796, 1.432726180997327, 1.0706620899027854, 2.054268754109293, 0.20114830502964962, 0.4683070160993021, 0.6937735075316896, -0.7714541780919164, -2.2640923269889983, 1.1699990427947233, -0.688947311971546, -0.10920382633628391, 0.4329725303136423, 0.16414135807661928]}],\n",
       "                        {\"legend\": {\"bgcolor\": \"#F5F6F9\", \"font\": {\"color\": \"#4D5663\"}}, \"paper_bgcolor\": \"#F5F6F9\", \"plot_bgcolor\": \"#F5F6F9\", \"template\": {\"data\": {\"bar\": [{\"error_x\": {\"color\": \"#2a3f5f\"}, \"error_y\": {\"color\": \"#2a3f5f\"}, \"marker\": {\"line\": {\"color\": \"#E5ECF6\", \"width\": 0.5}}, \"type\": \"bar\"}], \"barpolar\": [{\"marker\": {\"line\": {\"color\": \"#E5ECF6\", \"width\": 0.5}}, \"type\": \"barpolar\"}], \"carpet\": [{\"aaxis\": {\"endlinecolor\": \"#2a3f5f\", \"gridcolor\": \"white\", \"linecolor\": \"white\", \"minorgridcolor\": \"white\", \"startlinecolor\": \"#2a3f5f\"}, \"baxis\": {\"endlinecolor\": \"#2a3f5f\", \"gridcolor\": \"white\", \"linecolor\": \"white\", \"minorgridcolor\": \"white\", \"startlinecolor\": \"#2a3f5f\"}, \"type\": \"carpet\"}], \"choropleth\": [{\"colorbar\": {\"outlinewidth\": 0, \"ticks\": \"\"}, \"type\": \"choropleth\"}], \"contour\": [{\"colorbar\": {\"outlinewidth\": 0, \"ticks\": \"\"}, \"colorscale\": [[0.0, \"#0d0887\"], [0.1111111111111111, \"#46039f\"], [0.2222222222222222, \"#7201a8\"], [0.3333333333333333, \"#9c179e\"], [0.4444444444444444, \"#bd3786\"], [0.5555555555555556, \"#d8576b\"], [0.6666666666666666, \"#ed7953\"], [0.7777777777777778, \"#fb9f3a\"], [0.8888888888888888, \"#fdca26\"], [1.0, \"#f0f921\"]], \"type\": \"contour\"}], \"contourcarpet\": [{\"colorbar\": {\"outlinewidth\": 0, \"ticks\": \"\"}, \"type\": \"contourcarpet\"}], \"heatmap\": [{\"colorbar\": {\"outlinewidth\": 0, \"ticks\": \"\"}, \"colorscale\": [[0.0, \"#0d0887\"], [0.1111111111111111, \"#46039f\"], [0.2222222222222222, \"#7201a8\"], [0.3333333333333333, \"#9c179e\"], [0.4444444444444444, \"#bd3786\"], [0.5555555555555556, \"#d8576b\"], [0.6666666666666666, \"#ed7953\"], [0.7777777777777778, \"#fb9f3a\"], [0.8888888888888888, \"#fdca26\"], [1.0, \"#f0f921\"]], \"type\": \"heatmap\"}], \"heatmapgl\": [{\"colorbar\": {\"outlinewidth\": 0, \"ticks\": \"\"}, \"colorscale\": [[0.0, \"#0d0887\"], [0.1111111111111111, \"#46039f\"], [0.2222222222222222, \"#7201a8\"], [0.3333333333333333, \"#9c179e\"], [0.4444444444444444, \"#bd3786\"], [0.5555555555555556, \"#d8576b\"], [0.6666666666666666, \"#ed7953\"], [0.7777777777777778, \"#fb9f3a\"], [0.8888888888888888, \"#fdca26\"], [1.0, \"#f0f921\"]], \"type\": \"heatmapgl\"}], \"histogram\": [{\"marker\": {\"colorbar\": {\"outlinewidth\": 0, \"ticks\": \"\"}}, \"type\": \"histogram\"}], \"histogram2d\": [{\"colorbar\": {\"outlinewidth\": 0, \"ticks\": \"\"}, \"colorscale\": [[0.0, \"#0d0887\"], [0.1111111111111111, \"#46039f\"], [0.2222222222222222, \"#7201a8\"], [0.3333333333333333, \"#9c179e\"], [0.4444444444444444, \"#bd3786\"], [0.5555555555555556, \"#d8576b\"], [0.6666666666666666, \"#ed7953\"], [0.7777777777777778, \"#fb9f3a\"], [0.8888888888888888, \"#fdca26\"], [1.0, \"#f0f921\"]], \"type\": \"histogram2d\"}], \"histogram2dcontour\": [{\"colorbar\": {\"outlinewidth\": 0, \"ticks\": \"\"}, \"colorscale\": [[0.0, \"#0d0887\"], [0.1111111111111111, \"#46039f\"], [0.2222222222222222, \"#7201a8\"], [0.3333333333333333, \"#9c179e\"], [0.4444444444444444, \"#bd3786\"], [0.5555555555555556, \"#d8576b\"], [0.6666666666666666, \"#ed7953\"], [0.7777777777777778, \"#fb9f3a\"], [0.8888888888888888, \"#fdca26\"], [1.0, \"#f0f921\"]], \"type\": \"histogram2dcontour\"}], \"mesh3d\": [{\"colorbar\": {\"outlinewidth\": 0, \"ticks\": \"\"}, \"type\": \"mesh3d\"}], \"parcoords\": [{\"line\": {\"colorbar\": {\"outlinewidth\": 0, \"ticks\": \"\"}}, \"type\": \"parcoords\"}], \"pie\": [{\"automargin\": true, \"type\": \"pie\"}], \"scatter\": [{\"marker\": {\"colorbar\": {\"outlinewidth\": 0, \"ticks\": \"\"}}, \"type\": \"scatter\"}], \"scatter3d\": [{\"line\": {\"colorbar\": {\"outlinewidth\": 0, \"ticks\": \"\"}}, \"marker\": {\"colorbar\": {\"outlinewidth\": 0, \"ticks\": \"\"}}, \"type\": \"scatter3d\"}], \"scattercarpet\": [{\"marker\": {\"colorbar\": {\"outlinewidth\": 0, \"ticks\": \"\"}}, \"type\": \"scattercarpet\"}], \"scattergeo\": [{\"marker\": {\"colorbar\": {\"outlinewidth\": 0, \"ticks\": \"\"}}, \"type\": \"scattergeo\"}], \"scattergl\": [{\"marker\": {\"colorbar\": {\"outlinewidth\": 0, \"ticks\": \"\"}}, \"type\": \"scattergl\"}], \"scattermapbox\": [{\"marker\": {\"colorbar\": {\"outlinewidth\": 0, \"ticks\": \"\"}}, \"type\": \"scattermapbox\"}], \"scatterpolar\": [{\"marker\": {\"colorbar\": {\"outlinewidth\": 0, \"ticks\": \"\"}}, \"type\": \"scatterpolar\"}], \"scatterpolargl\": [{\"marker\": {\"colorbar\": {\"outlinewidth\": 0, \"ticks\": \"\"}}, \"type\": \"scatterpolargl\"}], \"scatterternary\": [{\"marker\": {\"colorbar\": {\"outlinewidth\": 0, \"ticks\": \"\"}}, \"type\": \"scatterternary\"}], \"surface\": [{\"colorbar\": {\"outlinewidth\": 0, \"ticks\": \"\"}, \"colorscale\": [[0.0, \"#0d0887\"], [0.1111111111111111, \"#46039f\"], [0.2222222222222222, \"#7201a8\"], [0.3333333333333333, \"#9c179e\"], [0.4444444444444444, \"#bd3786\"], [0.5555555555555556, \"#d8576b\"], [0.6666666666666666, \"#ed7953\"], [0.7777777777777778, \"#fb9f3a\"], [0.8888888888888888, \"#fdca26\"], [1.0, \"#f0f921\"]], \"type\": \"surface\"}], \"table\": [{\"cells\": {\"fill\": {\"color\": \"#EBF0F8\"}, \"line\": {\"color\": \"white\"}}, \"header\": {\"fill\": {\"color\": \"#C8D4E3\"}, \"line\": {\"color\": \"white\"}}, \"type\": \"table\"}]}, \"layout\": {\"annotationdefaults\": {\"arrowcolor\": \"#2a3f5f\", \"arrowhead\": 0, \"arrowwidth\": 1}, \"coloraxis\": {\"colorbar\": {\"outlinewidth\": 0, \"ticks\": \"\"}}, \"colorscale\": {\"diverging\": [[0, \"#8e0152\"], [0.1, \"#c51b7d\"], [0.2, \"#de77ae\"], [0.3, \"#f1b6da\"], [0.4, \"#fde0ef\"], [0.5, \"#f7f7f7\"], [0.6, \"#e6f5d0\"], [0.7, \"#b8e186\"], [0.8, \"#7fbc41\"], [0.9, \"#4d9221\"], [1, \"#276419\"]], \"sequential\": [[0.0, \"#0d0887\"], [0.1111111111111111, \"#46039f\"], [0.2222222222222222, \"#7201a8\"], [0.3333333333333333, \"#9c179e\"], [0.4444444444444444, \"#bd3786\"], [0.5555555555555556, \"#d8576b\"], [0.6666666666666666, \"#ed7953\"], [0.7777777777777778, \"#fb9f3a\"], [0.8888888888888888, \"#fdca26\"], [1.0, \"#f0f921\"]], \"sequentialminus\": [[0.0, \"#0d0887\"], [0.1111111111111111, \"#46039f\"], [0.2222222222222222, \"#7201a8\"], [0.3333333333333333, \"#9c179e\"], [0.4444444444444444, \"#bd3786\"], [0.5555555555555556, \"#d8576b\"], [0.6666666666666666, \"#ed7953\"], [0.7777777777777778, \"#fb9f3a\"], [0.8888888888888888, \"#fdca26\"], [1.0, \"#f0f921\"]]}, \"colorway\": [\"#636efa\", \"#EF553B\", \"#00cc96\", \"#ab63fa\", \"#FFA15A\", \"#19d3f3\", \"#FF6692\", \"#B6E880\", \"#FF97FF\", \"#FECB52\"], \"font\": {\"color\": \"#2a3f5f\"}, \"geo\": {\"bgcolor\": \"white\", \"lakecolor\": \"white\", \"landcolor\": \"#E5ECF6\", \"showlakes\": true, \"showland\": true, \"subunitcolor\": \"white\"}, \"hoverlabel\": {\"align\": \"left\"}, \"hovermode\": \"closest\", \"mapbox\": {\"style\": \"light\"}, \"paper_bgcolor\": \"white\", \"plot_bgcolor\": \"#E5ECF6\", \"polar\": {\"angularaxis\": {\"gridcolor\": \"white\", \"linecolor\": \"white\", \"ticks\": \"\"}, \"bgcolor\": \"#E5ECF6\", \"radialaxis\": {\"gridcolor\": \"white\", \"linecolor\": \"white\", \"ticks\": \"\"}}, \"scene\": {\"xaxis\": {\"backgroundcolor\": \"#E5ECF6\", \"gridcolor\": \"white\", \"gridwidth\": 2, \"linecolor\": \"white\", \"showbackground\": true, \"ticks\": \"\", \"zerolinecolor\": \"white\"}, \"yaxis\": {\"backgroundcolor\": \"#E5ECF6\", \"gridcolor\": \"white\", \"gridwidth\": 2, \"linecolor\": \"white\", \"showbackground\": true, \"ticks\": \"\", \"zerolinecolor\": \"white\"}, \"zaxis\": {\"backgroundcolor\": \"#E5ECF6\", \"gridcolor\": \"white\", \"gridwidth\": 2, \"linecolor\": \"white\", \"showbackground\": true, \"ticks\": \"\", \"zerolinecolor\": \"white\"}}, \"shapedefaults\": {\"line\": {\"color\": \"#2a3f5f\"}}, \"ternary\": {\"aaxis\": {\"gridcolor\": \"white\", \"linecolor\": \"white\", \"ticks\": \"\"}, \"baxis\": {\"gridcolor\": \"white\", \"linecolor\": \"white\", \"ticks\": \"\"}, \"bgcolor\": \"#E5ECF6\", \"caxis\": {\"gridcolor\": \"white\", \"linecolor\": \"white\", \"ticks\": \"\"}}, \"title\": {\"x\": 0.05}, \"xaxis\": {\"automargin\": true, \"gridcolor\": \"white\", \"linecolor\": \"white\", \"ticks\": \"\", \"title\": {\"standoff\": 15}, \"zerolinecolor\": \"white\", \"zerolinewidth\": 2}, \"yaxis\": {\"automargin\": true, \"gridcolor\": \"white\", \"linecolor\": \"white\", \"ticks\": \"\", \"title\": {\"standoff\": 15}, \"zerolinecolor\": \"white\", \"zerolinewidth\": 2}}}, \"title\": {\"font\": {\"color\": \"#4D5663\"}}, \"xaxis\": {\"gridcolor\": \"#E1E5ED\", \"showgrid\": true, \"tickfont\": {\"color\": \"#4D5663\"}, \"title\": {\"font\": {\"color\": \"#4D5663\"}, \"text\": \"\"}, \"zerolinecolor\": \"#E1E5ED\"}, \"yaxis\": {\"gridcolor\": \"#E1E5ED\", \"showgrid\": true, \"tickfont\": {\"color\": \"#4D5663\"}, \"title\": {\"font\": {\"color\": \"#4D5663\"}, \"text\": \"\"}, \"zerolinecolor\": \"#E1E5ED\"}},\n",
       "                        {\"showLink\": true, \"linkText\": \"Export to plot.ly\", \"plotlyServerURL\": \"https://plot.ly\", \"responsive\": true}\n",
       "                    ).then(function(){\n",
       "                            \n",
       "var gd = document.getElementById('86ae844b-45f3-413f-bd14-7e0b6346a8c6');\n",
       "var x = new MutationObserver(function (mutations, observer) {{\n",
       "        var display = window.getComputedStyle(gd).display;\n",
       "        if (!display || display === 'none') {{\n",
       "            console.log([gd, 'removed!']);\n",
       "            Plotly.purge(gd);\n",
       "            observer.disconnect();\n",
       "        }}\n",
       "}});\n",
       "\n",
       "// Listen for the removal of the full notebook cells\n",
       "var notebookContainer = gd.closest('#notebook-container');\n",
       "if (notebookContainer) {{\n",
       "    x.observe(notebookContainer, {childList: true});\n",
       "}}\n",
       "\n",
       "// Listen for the clearing of the current output cell\n",
       "var outputEl = gd.closest('.output');\n",
       "if (outputEl) {{\n",
       "    x.observe(outputEl, {childList: true});\n",
       "}}\n",
       "\n",
       "                        })\n",
       "                };\n",
       "                });\n",
       "            </script>\n",
       "        </div>"
      ]
     },
     "metadata": {},
     "output_type": "display_data"
    }
   ],
   "source": [
    "#interactive scatter plot\n",
    "\n",
    "df.iplot(kind = 'scatter', x = 'A', y = 'B')"
   ]
  },
  {
   "cell_type": "code",
   "execution_count": 22,
   "metadata": {},
   "outputs": [
    {
     "data": {
      "application/vnd.plotly.v1+json": {
       "config": {
        "linkText": "Export to plot.ly",
        "plotlyServerURL": "https://plot.ly",
        "showLink": true
       },
       "data": [
        {
         "line": {
          "color": "rgba(255, 153, 51, 1.0)",
          "dash": "solid",
          "shape": "linear",
          "width": 1.3
         },
         "marker": {
          "size": 10,
          "symbol": "circle"
         },
         "mode": "markers",
         "name": "B",
         "text": "",
         "type": "scatter",
         "x": [
          -0.24200640252741798,
          -0.9352878538108119,
          0.027388841991728325,
          -0.1819147191636028,
          1.0220939910254634,
          -2.5043642881046715,
          -0.31178537143269014,
          -0.27461685256679524,
          1.0543329194274218,
          0.3914427901382899,
          -1.441136423378452,
          1.915385670890251,
          1.0612013772594604,
          -1.3257408567553322,
          0.30134531166233225,
          0.13394694504780527,
          0.012414377790086016,
          -0.562666842819727,
          -2.1360295145840436,
          0.35120093080140075,
          -1.064081139900174,
          0.28589172652849776,
          -0.4836939196007413,
          -0.34394615357419,
          -0.00290307679785654,
          -1.14598078661371,
          0.3534869579588663,
          -0.8319610105553975,
          -0.589016049936948,
          -1.2072376829173481,
          0.2899195261165965,
          2.4927642854600336,
          -0.026883405147536468,
          1.0847247380259522,
          -0.4185054870473495,
          -1.7001290191162755,
          -0.6631138255023695,
          -1.3977215756251955,
          0.4455411861792529,
          0.30197911688308654,
          -0.2261709832051633,
          -0.1710396088940495,
          1.4433380795926118,
          0.530847712833768,
          0.961866271646887,
          1.2941998843821159,
          1.0216519281617251,
          1.6208258662004693,
          0.5421996729638662,
          0.13349040574255092,
          0.011698411413139344,
          0.3243929093413252,
          0.326055891967591,
          -1.857943472441847,
          -0.30463758552150405,
          -0.8808632160511382,
          0.5239216903007925,
          0.9834386074104604,
          1.4396406440418086,
          -0.257708302017176,
          0.829152364017514,
          -0.3546228497011296,
          0.5561073129790329,
          -0.12952762277766025,
          -0.8591907520878445,
          -0.11880680844042457,
          0.16303119021191692,
          1.5420497685582935,
          -0.952295004519987,
          1.3149511788637551,
          0.1793165206361868,
          0.39153581454967,
          0.40918112144156693,
          -0.1746866446198252,
          -0.27734651150838513,
          0.6868843028329731,
          -0.530086144552545,
          1.0225358547499583,
          1.0811481712042423,
          0.2860430974355543,
          -0.5235381746515275,
          -0.5030792474726582,
          0.17829313427772936,
          0.3689593426878984,
          0.8974440778903857,
          -0.2957284041584042,
          -1.0028423302906537,
          -0.4381398352349791,
          1.3607909151527158,
          -0.6508323686744798,
          -0.011964165734617253,
          1.350700373666675,
          -1.3173489072094142,
          -0.1409314948821588,
          -0.22547794130900795,
          1.3708181316671681,
          -1.829079525865196,
          -1.709605077000469,
          -2.0915084931810624,
          -1.0919845225225022
         ],
         "y": [
          0.5038966296896649,
          -0.6402432132700927,
          -0.046084521044311134,
          2.2664478783920683,
          0.9477353340492846,
          -0.614880202117463,
          -1.6423022200466404,
          -0.5506536135023554,
          0.5784162871305017,
          1.2635114897067978,
          -1.4963273936516859,
          -1.6115050059592841,
          -0.46441376428471964,
          -1.0227066828446538,
          0.9350020037598924,
          0.38227490517607154,
          2.4302360193947536,
          -1.3161131598068214,
          -1.2982968542416018,
          -0.13265819926035488,
          -0.7038606550102939,
          -0.2209763016023666,
          0.9345495975185338,
          1.0095771347136155,
          -0.9434848398914922,
          -0.0652309643019826,
          1.339454873313897,
          -1.041460847515743,
          -0.6544215716422075,
          -0.6086375499446177,
          0.012736190202873435,
          -0.8033846548321574,
          -0.1523522799250349,
          -0.5912413700796505,
          -1.427089639295129,
          -0.2764544125199372,
          -0.4502946295633157,
          -0.3968453730357518,
          0.0008621038702756964,
          -0.6860921613608862,
          0.2148442500563389,
          -0.3965507564693599,
          -1.580565695259094,
          -0.6886015208288447,
          -0.19922535695751326,
          -1.300702016080167,
          0.8242157825252651,
          -0.3012421823694876,
          0.25194677497620255,
          -0.70194952275731,
          0.4899170779278613,
          -1.1735718832175956,
          -0.09730938850281483,
          -0.3296320457351763,
          0.6486586398947655,
          -1.4424157416670944,
          0.05808274371576219,
          -0.23849797529827363,
          -0.08816774745216509,
          -0.21844032759229703,
          0.232829730943407,
          -0.8574261372665845,
          -0.6448024783666553,
          0.04393697665503743,
          -0.9570215870458508,
          0.014303354983442854,
          -1.2418935875107275,
          0.35919198953731796,
          -0.8741166986646901,
          1.029193048664084,
          0.6521119689469097,
          -0.9868637243393551,
          0.01573171501393248,
          0.4984004502783877,
          -0.6326102152728523,
          -1.126999452904778,
          1.5111832744616316,
          -0.5362773785464199,
          -0.9171718630254313,
          -1.7903024971797645,
          0.33929301647279025,
          0.456425947566487,
          0.42651392121564213,
          0.3026441119122942,
          -0.3979126650758561,
          -1.3931863975895338,
          -0.7551173004643796,
          1.432726180997327,
          1.0706620899027854,
          2.054268754109293,
          0.20114830502964962,
          0.4683070160993021,
          0.6937735075316896,
          -0.7714541780919164,
          -2.2640923269889983,
          1.1699990427947233,
          -0.688947311971546,
          -0.10920382633628391,
          0.4329725303136423,
          0.16414135807661928
         ]
        }
       ],
       "layout": {
        "legend": {
         "bgcolor": "#F5F6F9",
         "font": {
          "color": "#4D5663"
         }
        },
        "paper_bgcolor": "#F5F6F9",
        "plot_bgcolor": "#F5F6F9",
        "template": {
         "data": {
          "bar": [
           {
            "error_x": {
             "color": "#2a3f5f"
            },
            "error_y": {
             "color": "#2a3f5f"
            },
            "marker": {
             "line": {
              "color": "#E5ECF6",
              "width": 0.5
             }
            },
            "type": "bar"
           }
          ],
          "barpolar": [
           {
            "marker": {
             "line": {
              "color": "#E5ECF6",
              "width": 0.5
             }
            },
            "type": "barpolar"
           }
          ],
          "carpet": [
           {
            "aaxis": {
             "endlinecolor": "#2a3f5f",
             "gridcolor": "white",
             "linecolor": "white",
             "minorgridcolor": "white",
             "startlinecolor": "#2a3f5f"
            },
            "baxis": {
             "endlinecolor": "#2a3f5f",
             "gridcolor": "white",
             "linecolor": "white",
             "minorgridcolor": "white",
             "startlinecolor": "#2a3f5f"
            },
            "type": "carpet"
           }
          ],
          "choropleth": [
           {
            "colorbar": {
             "outlinewidth": 0,
             "ticks": ""
            },
            "type": "choropleth"
           }
          ],
          "contour": [
           {
            "colorbar": {
             "outlinewidth": 0,
             "ticks": ""
            },
            "colorscale": [
             [
              0,
              "#0d0887"
             ],
             [
              0.1111111111111111,
              "#46039f"
             ],
             [
              0.2222222222222222,
              "#7201a8"
             ],
             [
              0.3333333333333333,
              "#9c179e"
             ],
             [
              0.4444444444444444,
              "#bd3786"
             ],
             [
              0.5555555555555556,
              "#d8576b"
             ],
             [
              0.6666666666666666,
              "#ed7953"
             ],
             [
              0.7777777777777778,
              "#fb9f3a"
             ],
             [
              0.8888888888888888,
              "#fdca26"
             ],
             [
              1,
              "#f0f921"
             ]
            ],
            "type": "contour"
           }
          ],
          "contourcarpet": [
           {
            "colorbar": {
             "outlinewidth": 0,
             "ticks": ""
            },
            "type": "contourcarpet"
           }
          ],
          "heatmap": [
           {
            "colorbar": {
             "outlinewidth": 0,
             "ticks": ""
            },
            "colorscale": [
             [
              0,
              "#0d0887"
             ],
             [
              0.1111111111111111,
              "#46039f"
             ],
             [
              0.2222222222222222,
              "#7201a8"
             ],
             [
              0.3333333333333333,
              "#9c179e"
             ],
             [
              0.4444444444444444,
              "#bd3786"
             ],
             [
              0.5555555555555556,
              "#d8576b"
             ],
             [
              0.6666666666666666,
              "#ed7953"
             ],
             [
              0.7777777777777778,
              "#fb9f3a"
             ],
             [
              0.8888888888888888,
              "#fdca26"
             ],
             [
              1,
              "#f0f921"
             ]
            ],
            "type": "heatmap"
           }
          ],
          "heatmapgl": [
           {
            "colorbar": {
             "outlinewidth": 0,
             "ticks": ""
            },
            "colorscale": [
             [
              0,
              "#0d0887"
             ],
             [
              0.1111111111111111,
              "#46039f"
             ],
             [
              0.2222222222222222,
              "#7201a8"
             ],
             [
              0.3333333333333333,
              "#9c179e"
             ],
             [
              0.4444444444444444,
              "#bd3786"
             ],
             [
              0.5555555555555556,
              "#d8576b"
             ],
             [
              0.6666666666666666,
              "#ed7953"
             ],
             [
              0.7777777777777778,
              "#fb9f3a"
             ],
             [
              0.8888888888888888,
              "#fdca26"
             ],
             [
              1,
              "#f0f921"
             ]
            ],
            "type": "heatmapgl"
           }
          ],
          "histogram": [
           {
            "marker": {
             "colorbar": {
              "outlinewidth": 0,
              "ticks": ""
             }
            },
            "type": "histogram"
           }
          ],
          "histogram2d": [
           {
            "colorbar": {
             "outlinewidth": 0,
             "ticks": ""
            },
            "colorscale": [
             [
              0,
              "#0d0887"
             ],
             [
              0.1111111111111111,
              "#46039f"
             ],
             [
              0.2222222222222222,
              "#7201a8"
             ],
             [
              0.3333333333333333,
              "#9c179e"
             ],
             [
              0.4444444444444444,
              "#bd3786"
             ],
             [
              0.5555555555555556,
              "#d8576b"
             ],
             [
              0.6666666666666666,
              "#ed7953"
             ],
             [
              0.7777777777777778,
              "#fb9f3a"
             ],
             [
              0.8888888888888888,
              "#fdca26"
             ],
             [
              1,
              "#f0f921"
             ]
            ],
            "type": "histogram2d"
           }
          ],
          "histogram2dcontour": [
           {
            "colorbar": {
             "outlinewidth": 0,
             "ticks": ""
            },
            "colorscale": [
             [
              0,
              "#0d0887"
             ],
             [
              0.1111111111111111,
              "#46039f"
             ],
             [
              0.2222222222222222,
              "#7201a8"
             ],
             [
              0.3333333333333333,
              "#9c179e"
             ],
             [
              0.4444444444444444,
              "#bd3786"
             ],
             [
              0.5555555555555556,
              "#d8576b"
             ],
             [
              0.6666666666666666,
              "#ed7953"
             ],
             [
              0.7777777777777778,
              "#fb9f3a"
             ],
             [
              0.8888888888888888,
              "#fdca26"
             ],
             [
              1,
              "#f0f921"
             ]
            ],
            "type": "histogram2dcontour"
           }
          ],
          "mesh3d": [
           {
            "colorbar": {
             "outlinewidth": 0,
             "ticks": ""
            },
            "type": "mesh3d"
           }
          ],
          "parcoords": [
           {
            "line": {
             "colorbar": {
              "outlinewidth": 0,
              "ticks": ""
             }
            },
            "type": "parcoords"
           }
          ],
          "pie": [
           {
            "automargin": true,
            "type": "pie"
           }
          ],
          "scatter": [
           {
            "marker": {
             "colorbar": {
              "outlinewidth": 0,
              "ticks": ""
             }
            },
            "type": "scatter"
           }
          ],
          "scatter3d": [
           {
            "line": {
             "colorbar": {
              "outlinewidth": 0,
              "ticks": ""
             }
            },
            "marker": {
             "colorbar": {
              "outlinewidth": 0,
              "ticks": ""
             }
            },
            "type": "scatter3d"
           }
          ],
          "scattercarpet": [
           {
            "marker": {
             "colorbar": {
              "outlinewidth": 0,
              "ticks": ""
             }
            },
            "type": "scattercarpet"
           }
          ],
          "scattergeo": [
           {
            "marker": {
             "colorbar": {
              "outlinewidth": 0,
              "ticks": ""
             }
            },
            "type": "scattergeo"
           }
          ],
          "scattergl": [
           {
            "marker": {
             "colorbar": {
              "outlinewidth": 0,
              "ticks": ""
             }
            },
            "type": "scattergl"
           }
          ],
          "scattermapbox": [
           {
            "marker": {
             "colorbar": {
              "outlinewidth": 0,
              "ticks": ""
             }
            },
            "type": "scattermapbox"
           }
          ],
          "scatterpolar": [
           {
            "marker": {
             "colorbar": {
              "outlinewidth": 0,
              "ticks": ""
             }
            },
            "type": "scatterpolar"
           }
          ],
          "scatterpolargl": [
           {
            "marker": {
             "colorbar": {
              "outlinewidth": 0,
              "ticks": ""
             }
            },
            "type": "scatterpolargl"
           }
          ],
          "scatterternary": [
           {
            "marker": {
             "colorbar": {
              "outlinewidth": 0,
              "ticks": ""
             }
            },
            "type": "scatterternary"
           }
          ],
          "surface": [
           {
            "colorbar": {
             "outlinewidth": 0,
             "ticks": ""
            },
            "colorscale": [
             [
              0,
              "#0d0887"
             ],
             [
              0.1111111111111111,
              "#46039f"
             ],
             [
              0.2222222222222222,
              "#7201a8"
             ],
             [
              0.3333333333333333,
              "#9c179e"
             ],
             [
              0.4444444444444444,
              "#bd3786"
             ],
             [
              0.5555555555555556,
              "#d8576b"
             ],
             [
              0.6666666666666666,
              "#ed7953"
             ],
             [
              0.7777777777777778,
              "#fb9f3a"
             ],
             [
              0.8888888888888888,
              "#fdca26"
             ],
             [
              1,
              "#f0f921"
             ]
            ],
            "type": "surface"
           }
          ],
          "table": [
           {
            "cells": {
             "fill": {
              "color": "#EBF0F8"
             },
             "line": {
              "color": "white"
             }
            },
            "header": {
             "fill": {
              "color": "#C8D4E3"
             },
             "line": {
              "color": "white"
             }
            },
            "type": "table"
           }
          ]
         },
         "layout": {
          "annotationdefaults": {
           "arrowcolor": "#2a3f5f",
           "arrowhead": 0,
           "arrowwidth": 1
          },
          "coloraxis": {
           "colorbar": {
            "outlinewidth": 0,
            "ticks": ""
           }
          },
          "colorscale": {
           "diverging": [
            [
             0,
             "#8e0152"
            ],
            [
             0.1,
             "#c51b7d"
            ],
            [
             0.2,
             "#de77ae"
            ],
            [
             0.3,
             "#f1b6da"
            ],
            [
             0.4,
             "#fde0ef"
            ],
            [
             0.5,
             "#f7f7f7"
            ],
            [
             0.6,
             "#e6f5d0"
            ],
            [
             0.7,
             "#b8e186"
            ],
            [
             0.8,
             "#7fbc41"
            ],
            [
             0.9,
             "#4d9221"
            ],
            [
             1,
             "#276419"
            ]
           ],
           "sequential": [
            [
             0,
             "#0d0887"
            ],
            [
             0.1111111111111111,
             "#46039f"
            ],
            [
             0.2222222222222222,
             "#7201a8"
            ],
            [
             0.3333333333333333,
             "#9c179e"
            ],
            [
             0.4444444444444444,
             "#bd3786"
            ],
            [
             0.5555555555555556,
             "#d8576b"
            ],
            [
             0.6666666666666666,
             "#ed7953"
            ],
            [
             0.7777777777777778,
             "#fb9f3a"
            ],
            [
             0.8888888888888888,
             "#fdca26"
            ],
            [
             1,
             "#f0f921"
            ]
           ],
           "sequentialminus": [
            [
             0,
             "#0d0887"
            ],
            [
             0.1111111111111111,
             "#46039f"
            ],
            [
             0.2222222222222222,
             "#7201a8"
            ],
            [
             0.3333333333333333,
             "#9c179e"
            ],
            [
             0.4444444444444444,
             "#bd3786"
            ],
            [
             0.5555555555555556,
             "#d8576b"
            ],
            [
             0.6666666666666666,
             "#ed7953"
            ],
            [
             0.7777777777777778,
             "#fb9f3a"
            ],
            [
             0.8888888888888888,
             "#fdca26"
            ],
            [
             1,
             "#f0f921"
            ]
           ]
          },
          "colorway": [
           "#636efa",
           "#EF553B",
           "#00cc96",
           "#ab63fa",
           "#FFA15A",
           "#19d3f3",
           "#FF6692",
           "#B6E880",
           "#FF97FF",
           "#FECB52"
          ],
          "font": {
           "color": "#2a3f5f"
          },
          "geo": {
           "bgcolor": "white",
           "lakecolor": "white",
           "landcolor": "#E5ECF6",
           "showlakes": true,
           "showland": true,
           "subunitcolor": "white"
          },
          "hoverlabel": {
           "align": "left"
          },
          "hovermode": "closest",
          "mapbox": {
           "style": "light"
          },
          "paper_bgcolor": "white",
          "plot_bgcolor": "#E5ECF6",
          "polar": {
           "angularaxis": {
            "gridcolor": "white",
            "linecolor": "white",
            "ticks": ""
           },
           "bgcolor": "#E5ECF6",
           "radialaxis": {
            "gridcolor": "white",
            "linecolor": "white",
            "ticks": ""
           }
          },
          "scene": {
           "xaxis": {
            "backgroundcolor": "#E5ECF6",
            "gridcolor": "white",
            "gridwidth": 2,
            "linecolor": "white",
            "showbackground": true,
            "ticks": "",
            "zerolinecolor": "white"
           },
           "yaxis": {
            "backgroundcolor": "#E5ECF6",
            "gridcolor": "white",
            "gridwidth": 2,
            "linecolor": "white",
            "showbackground": true,
            "ticks": "",
            "zerolinecolor": "white"
           },
           "zaxis": {
            "backgroundcolor": "#E5ECF6",
            "gridcolor": "white",
            "gridwidth": 2,
            "linecolor": "white",
            "showbackground": true,
            "ticks": "",
            "zerolinecolor": "white"
           }
          },
          "shapedefaults": {
           "line": {
            "color": "#2a3f5f"
           }
          },
          "ternary": {
           "aaxis": {
            "gridcolor": "white",
            "linecolor": "white",
            "ticks": ""
           },
           "baxis": {
            "gridcolor": "white",
            "linecolor": "white",
            "ticks": ""
           },
           "bgcolor": "#E5ECF6",
           "caxis": {
            "gridcolor": "white",
            "linecolor": "white",
            "ticks": ""
           }
          },
          "title": {
           "x": 0.05
          },
          "xaxis": {
           "automargin": true,
           "gridcolor": "white",
           "linecolor": "white",
           "ticks": "",
           "title": {
            "standoff": 15
           },
           "zerolinecolor": "white",
           "zerolinewidth": 2
          },
          "yaxis": {
           "automargin": true,
           "gridcolor": "white",
           "linecolor": "white",
           "ticks": "",
           "title": {
            "standoff": 15
           },
           "zerolinecolor": "white",
           "zerolinewidth": 2
          }
         }
        },
        "title": {
         "font": {
          "color": "#4D5663"
         }
        },
        "xaxis": {
         "gridcolor": "#E1E5ED",
         "showgrid": true,
         "tickfont": {
          "color": "#4D5663"
         },
         "title": {
          "font": {
           "color": "#4D5663"
          },
          "text": ""
         },
         "zerolinecolor": "#E1E5ED"
        },
        "yaxis": {
         "gridcolor": "#E1E5ED",
         "showgrid": true,
         "tickfont": {
          "color": "#4D5663"
         },
         "title": {
          "font": {
           "color": "#4D5663"
          },
          "text": ""
         },
         "zerolinecolor": "#E1E5ED"
        }
       }
      },
      "text/html": [
       "<div>\n",
       "        \n",
       "        \n",
       "            <div id=\"4e9cb076-6cb9-4193-807b-5605b1d72a25\" class=\"plotly-graph-div\" style=\"height:525px; width:100%;\"></div>\n",
       "            <script type=\"text/javascript\">\n",
       "                require([\"plotly\"], function(Plotly) {\n",
       "                    window.PLOTLYENV=window.PLOTLYENV || {};\n",
       "                    window.PLOTLYENV.BASE_URL='https://plot.ly';\n",
       "                    \n",
       "                if (document.getElementById(\"4e9cb076-6cb9-4193-807b-5605b1d72a25\")) {\n",
       "                    Plotly.newPlot(\n",
       "                        '4e9cb076-6cb9-4193-807b-5605b1d72a25',\n",
       "                        [{\"line\": {\"color\": \"rgba(255, 153, 51, 1.0)\", \"dash\": \"solid\", \"shape\": \"linear\", \"width\": 1.3}, \"marker\": {\"size\": 10, \"symbol\": \"circle\"}, \"mode\": \"markers\", \"name\": \"B\", \"text\": \"\", \"type\": \"scatter\", \"x\": [-0.24200640252741798, -0.9352878538108119, 0.027388841991728325, -0.1819147191636028, 1.0220939910254634, -2.5043642881046715, -0.31178537143269014, -0.27461685256679524, 1.0543329194274218, 0.3914427901382899, -1.441136423378452, 1.915385670890251, 1.0612013772594604, -1.3257408567553322, 0.30134531166233225, 0.13394694504780527, 0.012414377790086016, -0.562666842819727, -2.1360295145840436, 0.35120093080140075, -1.064081139900174, 0.28589172652849776, -0.4836939196007413, -0.34394615357419, -0.00290307679785654, -1.14598078661371, 0.3534869579588663, -0.8319610105553975, -0.589016049936948, -1.2072376829173481, 0.2899195261165965, 2.4927642854600336, -0.026883405147536468, 1.0847247380259522, -0.4185054870473495, -1.7001290191162755, -0.6631138255023695, -1.3977215756251955, 0.4455411861792529, 0.30197911688308654, -0.2261709832051633, -0.1710396088940495, 1.4433380795926118, 0.530847712833768, 0.961866271646887, 1.2941998843821159, 1.0216519281617251, 1.6208258662004693, 0.5421996729638662, 0.13349040574255092, 0.011698411413139344, 0.3243929093413252, 0.326055891967591, -1.857943472441847, -0.30463758552150405, -0.8808632160511382, 0.5239216903007925, 0.9834386074104604, 1.4396406440418086, -0.257708302017176, 0.829152364017514, -0.3546228497011296, 0.5561073129790329, -0.12952762277766025, -0.8591907520878445, -0.11880680844042457, 0.16303119021191692, 1.5420497685582935, -0.952295004519987, 1.3149511788637551, 0.1793165206361868, 0.39153581454967, 0.40918112144156693, -0.1746866446198252, -0.27734651150838513, 0.6868843028329731, -0.530086144552545, 1.0225358547499583, 1.0811481712042423, 0.2860430974355543, -0.5235381746515275, -0.5030792474726582, 0.17829313427772936, 0.3689593426878984, 0.8974440778903857, -0.2957284041584042, -1.0028423302906537, -0.4381398352349791, 1.3607909151527158, -0.6508323686744798, -0.011964165734617253, 1.350700373666675, -1.3173489072094142, -0.1409314948821588, -0.22547794130900795, 1.3708181316671681, -1.829079525865196, -1.709605077000469, -2.0915084931810624, -1.0919845225225022], \"y\": [0.5038966296896649, -0.6402432132700927, -0.046084521044311134, 2.2664478783920683, 0.9477353340492846, -0.614880202117463, -1.6423022200466404, -0.5506536135023554, 0.5784162871305017, 1.2635114897067978, -1.4963273936516859, -1.6115050059592841, -0.46441376428471964, -1.0227066828446538, 0.9350020037598924, 0.38227490517607154, 2.4302360193947536, -1.3161131598068214, -1.2982968542416018, -0.13265819926035488, -0.7038606550102939, -0.2209763016023666, 0.9345495975185338, 1.0095771347136155, -0.9434848398914922, -0.0652309643019826, 1.339454873313897, -1.041460847515743, -0.6544215716422075, -0.6086375499446177, 0.012736190202873435, -0.8033846548321574, -0.1523522799250349, -0.5912413700796505, -1.427089639295129, -0.2764544125199372, -0.4502946295633157, -0.3968453730357518, 0.0008621038702756964, -0.6860921613608862, 0.2148442500563389, -0.3965507564693599, -1.580565695259094, -0.6886015208288447, -0.19922535695751326, -1.300702016080167, 0.8242157825252651, -0.3012421823694876, 0.25194677497620255, -0.70194952275731, 0.4899170779278613, -1.1735718832175956, -0.09730938850281483, -0.3296320457351763, 0.6486586398947655, -1.4424157416670944, 0.05808274371576219, -0.23849797529827363, -0.08816774745216509, -0.21844032759229703, 0.232829730943407, -0.8574261372665845, -0.6448024783666553, 0.04393697665503743, -0.9570215870458508, 0.014303354983442854, -1.2418935875107275, 0.35919198953731796, -0.8741166986646901, 1.029193048664084, 0.6521119689469097, -0.9868637243393551, 0.01573171501393248, 0.4984004502783877, -0.6326102152728523, -1.126999452904778, 1.5111832744616316, -0.5362773785464199, -0.9171718630254313, -1.7903024971797645, 0.33929301647279025, 0.456425947566487, 0.42651392121564213, 0.3026441119122942, -0.3979126650758561, -1.3931863975895338, -0.7551173004643796, 1.432726180997327, 1.0706620899027854, 2.054268754109293, 0.20114830502964962, 0.4683070160993021, 0.6937735075316896, -0.7714541780919164, -2.2640923269889983, 1.1699990427947233, -0.688947311971546, -0.10920382633628391, 0.4329725303136423, 0.16414135807661928]}],\n",
       "                        {\"legend\": {\"bgcolor\": \"#F5F6F9\", \"font\": {\"color\": \"#4D5663\"}}, \"paper_bgcolor\": \"#F5F6F9\", \"plot_bgcolor\": \"#F5F6F9\", \"template\": {\"data\": {\"bar\": [{\"error_x\": {\"color\": \"#2a3f5f\"}, \"error_y\": {\"color\": \"#2a3f5f\"}, \"marker\": {\"line\": {\"color\": \"#E5ECF6\", \"width\": 0.5}}, \"type\": \"bar\"}], \"barpolar\": [{\"marker\": {\"line\": {\"color\": \"#E5ECF6\", \"width\": 0.5}}, \"type\": \"barpolar\"}], \"carpet\": [{\"aaxis\": {\"endlinecolor\": \"#2a3f5f\", \"gridcolor\": \"white\", \"linecolor\": \"white\", \"minorgridcolor\": \"white\", \"startlinecolor\": \"#2a3f5f\"}, \"baxis\": {\"endlinecolor\": \"#2a3f5f\", \"gridcolor\": \"white\", \"linecolor\": \"white\", \"minorgridcolor\": \"white\", \"startlinecolor\": \"#2a3f5f\"}, \"type\": \"carpet\"}], \"choropleth\": [{\"colorbar\": {\"outlinewidth\": 0, \"ticks\": \"\"}, \"type\": \"choropleth\"}], \"contour\": [{\"colorbar\": {\"outlinewidth\": 0, \"ticks\": \"\"}, \"colorscale\": [[0.0, \"#0d0887\"], [0.1111111111111111, \"#46039f\"], [0.2222222222222222, \"#7201a8\"], [0.3333333333333333, \"#9c179e\"], [0.4444444444444444, \"#bd3786\"], [0.5555555555555556, \"#d8576b\"], [0.6666666666666666, \"#ed7953\"], [0.7777777777777778, \"#fb9f3a\"], [0.8888888888888888, \"#fdca26\"], [1.0, \"#f0f921\"]], \"type\": \"contour\"}], \"contourcarpet\": [{\"colorbar\": {\"outlinewidth\": 0, \"ticks\": \"\"}, \"type\": \"contourcarpet\"}], \"heatmap\": [{\"colorbar\": {\"outlinewidth\": 0, \"ticks\": \"\"}, \"colorscale\": [[0.0, \"#0d0887\"], [0.1111111111111111, \"#46039f\"], [0.2222222222222222, \"#7201a8\"], [0.3333333333333333, \"#9c179e\"], [0.4444444444444444, \"#bd3786\"], [0.5555555555555556, \"#d8576b\"], [0.6666666666666666, \"#ed7953\"], [0.7777777777777778, \"#fb9f3a\"], [0.8888888888888888, \"#fdca26\"], [1.0, \"#f0f921\"]], \"type\": \"heatmap\"}], \"heatmapgl\": [{\"colorbar\": {\"outlinewidth\": 0, \"ticks\": \"\"}, \"colorscale\": [[0.0, \"#0d0887\"], [0.1111111111111111, \"#46039f\"], [0.2222222222222222, \"#7201a8\"], [0.3333333333333333, \"#9c179e\"], [0.4444444444444444, \"#bd3786\"], [0.5555555555555556, \"#d8576b\"], [0.6666666666666666, \"#ed7953\"], [0.7777777777777778, \"#fb9f3a\"], [0.8888888888888888, \"#fdca26\"], [1.0, \"#f0f921\"]], \"type\": \"heatmapgl\"}], \"histogram\": [{\"marker\": {\"colorbar\": {\"outlinewidth\": 0, \"ticks\": \"\"}}, \"type\": \"histogram\"}], \"histogram2d\": [{\"colorbar\": {\"outlinewidth\": 0, \"ticks\": \"\"}, \"colorscale\": [[0.0, \"#0d0887\"], [0.1111111111111111, \"#46039f\"], [0.2222222222222222, \"#7201a8\"], [0.3333333333333333, \"#9c179e\"], [0.4444444444444444, \"#bd3786\"], [0.5555555555555556, \"#d8576b\"], [0.6666666666666666, \"#ed7953\"], [0.7777777777777778, \"#fb9f3a\"], [0.8888888888888888, \"#fdca26\"], [1.0, \"#f0f921\"]], \"type\": \"histogram2d\"}], \"histogram2dcontour\": [{\"colorbar\": {\"outlinewidth\": 0, \"ticks\": \"\"}, \"colorscale\": [[0.0, \"#0d0887\"], [0.1111111111111111, \"#46039f\"], [0.2222222222222222, \"#7201a8\"], [0.3333333333333333, \"#9c179e\"], [0.4444444444444444, \"#bd3786\"], [0.5555555555555556, \"#d8576b\"], [0.6666666666666666, \"#ed7953\"], [0.7777777777777778, \"#fb9f3a\"], [0.8888888888888888, \"#fdca26\"], [1.0, \"#f0f921\"]], \"type\": \"histogram2dcontour\"}], \"mesh3d\": [{\"colorbar\": {\"outlinewidth\": 0, \"ticks\": \"\"}, \"type\": \"mesh3d\"}], \"parcoords\": [{\"line\": {\"colorbar\": {\"outlinewidth\": 0, \"ticks\": \"\"}}, \"type\": \"parcoords\"}], \"pie\": [{\"automargin\": true, \"type\": \"pie\"}], \"scatter\": [{\"marker\": {\"colorbar\": {\"outlinewidth\": 0, \"ticks\": \"\"}}, \"type\": \"scatter\"}], \"scatter3d\": [{\"line\": {\"colorbar\": {\"outlinewidth\": 0, \"ticks\": \"\"}}, \"marker\": {\"colorbar\": {\"outlinewidth\": 0, \"ticks\": \"\"}}, \"type\": \"scatter3d\"}], \"scattercarpet\": [{\"marker\": {\"colorbar\": {\"outlinewidth\": 0, \"ticks\": \"\"}}, \"type\": \"scattercarpet\"}], \"scattergeo\": [{\"marker\": {\"colorbar\": {\"outlinewidth\": 0, \"ticks\": \"\"}}, \"type\": \"scattergeo\"}], \"scattergl\": [{\"marker\": {\"colorbar\": {\"outlinewidth\": 0, \"ticks\": \"\"}}, \"type\": \"scattergl\"}], \"scattermapbox\": [{\"marker\": {\"colorbar\": {\"outlinewidth\": 0, \"ticks\": \"\"}}, \"type\": \"scattermapbox\"}], \"scatterpolar\": [{\"marker\": {\"colorbar\": {\"outlinewidth\": 0, \"ticks\": \"\"}}, \"type\": \"scatterpolar\"}], \"scatterpolargl\": [{\"marker\": {\"colorbar\": {\"outlinewidth\": 0, \"ticks\": \"\"}}, \"type\": \"scatterpolargl\"}], \"scatterternary\": [{\"marker\": {\"colorbar\": {\"outlinewidth\": 0, \"ticks\": \"\"}}, \"type\": \"scatterternary\"}], \"surface\": [{\"colorbar\": {\"outlinewidth\": 0, \"ticks\": \"\"}, \"colorscale\": [[0.0, \"#0d0887\"], [0.1111111111111111, \"#46039f\"], [0.2222222222222222, \"#7201a8\"], [0.3333333333333333, \"#9c179e\"], [0.4444444444444444, \"#bd3786\"], [0.5555555555555556, \"#d8576b\"], [0.6666666666666666, \"#ed7953\"], [0.7777777777777778, \"#fb9f3a\"], [0.8888888888888888, \"#fdca26\"], [1.0, \"#f0f921\"]], \"type\": \"surface\"}], \"table\": [{\"cells\": {\"fill\": {\"color\": \"#EBF0F8\"}, \"line\": {\"color\": \"white\"}}, \"header\": {\"fill\": {\"color\": \"#C8D4E3\"}, \"line\": {\"color\": \"white\"}}, \"type\": \"table\"}]}, \"layout\": {\"annotationdefaults\": {\"arrowcolor\": \"#2a3f5f\", \"arrowhead\": 0, \"arrowwidth\": 1}, \"coloraxis\": {\"colorbar\": {\"outlinewidth\": 0, \"ticks\": \"\"}}, \"colorscale\": {\"diverging\": [[0, \"#8e0152\"], [0.1, \"#c51b7d\"], [0.2, \"#de77ae\"], [0.3, \"#f1b6da\"], [0.4, \"#fde0ef\"], [0.5, \"#f7f7f7\"], [0.6, \"#e6f5d0\"], [0.7, \"#b8e186\"], [0.8, \"#7fbc41\"], [0.9, \"#4d9221\"], [1, \"#276419\"]], \"sequential\": [[0.0, \"#0d0887\"], [0.1111111111111111, \"#46039f\"], [0.2222222222222222, \"#7201a8\"], [0.3333333333333333, \"#9c179e\"], [0.4444444444444444, \"#bd3786\"], [0.5555555555555556, \"#d8576b\"], [0.6666666666666666, \"#ed7953\"], [0.7777777777777778, \"#fb9f3a\"], [0.8888888888888888, \"#fdca26\"], [1.0, \"#f0f921\"]], \"sequentialminus\": [[0.0, \"#0d0887\"], [0.1111111111111111, \"#46039f\"], [0.2222222222222222, \"#7201a8\"], [0.3333333333333333, \"#9c179e\"], [0.4444444444444444, \"#bd3786\"], [0.5555555555555556, \"#d8576b\"], [0.6666666666666666, \"#ed7953\"], [0.7777777777777778, \"#fb9f3a\"], [0.8888888888888888, \"#fdca26\"], [1.0, \"#f0f921\"]]}, \"colorway\": [\"#636efa\", \"#EF553B\", \"#00cc96\", \"#ab63fa\", \"#FFA15A\", \"#19d3f3\", \"#FF6692\", \"#B6E880\", \"#FF97FF\", \"#FECB52\"], \"font\": {\"color\": \"#2a3f5f\"}, \"geo\": {\"bgcolor\": \"white\", \"lakecolor\": \"white\", \"landcolor\": \"#E5ECF6\", \"showlakes\": true, \"showland\": true, \"subunitcolor\": \"white\"}, \"hoverlabel\": {\"align\": \"left\"}, \"hovermode\": \"closest\", \"mapbox\": {\"style\": \"light\"}, \"paper_bgcolor\": \"white\", \"plot_bgcolor\": \"#E5ECF6\", \"polar\": {\"angularaxis\": {\"gridcolor\": \"white\", \"linecolor\": \"white\", \"ticks\": \"\"}, \"bgcolor\": \"#E5ECF6\", \"radialaxis\": {\"gridcolor\": \"white\", \"linecolor\": \"white\", \"ticks\": \"\"}}, \"scene\": {\"xaxis\": {\"backgroundcolor\": \"#E5ECF6\", \"gridcolor\": \"white\", \"gridwidth\": 2, \"linecolor\": \"white\", \"showbackground\": true, \"ticks\": \"\", \"zerolinecolor\": \"white\"}, \"yaxis\": {\"backgroundcolor\": \"#E5ECF6\", \"gridcolor\": \"white\", \"gridwidth\": 2, \"linecolor\": \"white\", \"showbackground\": true, \"ticks\": \"\", \"zerolinecolor\": \"white\"}, \"zaxis\": {\"backgroundcolor\": \"#E5ECF6\", \"gridcolor\": \"white\", \"gridwidth\": 2, \"linecolor\": \"white\", \"showbackground\": true, \"ticks\": \"\", \"zerolinecolor\": \"white\"}}, \"shapedefaults\": {\"line\": {\"color\": \"#2a3f5f\"}}, \"ternary\": {\"aaxis\": {\"gridcolor\": \"white\", \"linecolor\": \"white\", \"ticks\": \"\"}, \"baxis\": {\"gridcolor\": \"white\", \"linecolor\": \"white\", \"ticks\": \"\"}, \"bgcolor\": \"#E5ECF6\", \"caxis\": {\"gridcolor\": \"white\", \"linecolor\": \"white\", \"ticks\": \"\"}}, \"title\": {\"x\": 0.05}, \"xaxis\": {\"automargin\": true, \"gridcolor\": \"white\", \"linecolor\": \"white\", \"ticks\": \"\", \"title\": {\"standoff\": 15}, \"zerolinecolor\": \"white\", \"zerolinewidth\": 2}, \"yaxis\": {\"automargin\": true, \"gridcolor\": \"white\", \"linecolor\": \"white\", \"ticks\": \"\", \"title\": {\"standoff\": 15}, \"zerolinecolor\": \"white\", \"zerolinewidth\": 2}}}, \"title\": {\"font\": {\"color\": \"#4D5663\"}}, \"xaxis\": {\"gridcolor\": \"#E1E5ED\", \"showgrid\": true, \"tickfont\": {\"color\": \"#4D5663\"}, \"title\": {\"font\": {\"color\": \"#4D5663\"}, \"text\": \"\"}, \"zerolinecolor\": \"#E1E5ED\"}, \"yaxis\": {\"gridcolor\": \"#E1E5ED\", \"showgrid\": true, \"tickfont\": {\"color\": \"#4D5663\"}, \"title\": {\"font\": {\"color\": \"#4D5663\"}, \"text\": \"\"}, \"zerolinecolor\": \"#E1E5ED\"}},\n",
       "                        {\"showLink\": true, \"linkText\": \"Export to plot.ly\", \"plotlyServerURL\": \"https://plot.ly\", \"responsive\": true}\n",
       "                    ).then(function(){\n",
       "                            \n",
       "var gd = document.getElementById('4e9cb076-6cb9-4193-807b-5605b1d72a25');\n",
       "var x = new MutationObserver(function (mutations, observer) {{\n",
       "        var display = window.getComputedStyle(gd).display;\n",
       "        if (!display || display === 'none') {{\n",
       "            console.log([gd, 'removed!']);\n",
       "            Plotly.purge(gd);\n",
       "            observer.disconnect();\n",
       "        }}\n",
       "}});\n",
       "\n",
       "// Listen for the removal of the full notebook cells\n",
       "var notebookContainer = gd.closest('#notebook-container');\n",
       "if (notebookContainer) {{\n",
       "    x.observe(notebookContainer, {childList: true});\n",
       "}}\n",
       "\n",
       "// Listen for the clearing of the current output cell\n",
       "var outputEl = gd.closest('.output');\n",
       "if (outputEl) {{\n",
       "    x.observe(outputEl, {childList: true});\n",
       "}}\n",
       "\n",
       "                        })\n",
       "                };\n",
       "                });\n",
       "            </script>\n",
       "        </div>"
      ]
     },
     "metadata": {},
     "output_type": "display_data"
    }
   ],
   "source": [
    "df.iplot(kind = 'scatter', x = 'A', y = 'B', mode = 'markers', size = 10)"
   ]
  },
  {
   "cell_type": "code",
   "execution_count": 23,
   "metadata": {},
   "outputs": [
    {
     "data": {
      "application/vnd.plotly.v1+json": {
       "config": {
        "linkText": "Export to plot.ly",
        "plotlyServerURL": "https://plot.ly",
        "showLink": true
       },
       "data": [
        {
         "marker": {
          "color": "rgba(255, 153, 51, 0.6)",
          "line": {
           "color": "rgba(255, 153, 51, 1.0)",
           "width": 1
          }
         },
         "name": "Values",
         "orientation": "v",
         "text": "",
         "type": "bar",
         "x": [
          "A",
          "B",
          "C"
         ],
         "y": [
          34,
          43,
          52
         ]
        }
       ],
       "layout": {
        "legend": {
         "bgcolor": "#F5F6F9",
         "font": {
          "color": "#4D5663"
         }
        },
        "paper_bgcolor": "#F5F6F9",
        "plot_bgcolor": "#F5F6F9",
        "template": {
         "data": {
          "bar": [
           {
            "error_x": {
             "color": "#2a3f5f"
            },
            "error_y": {
             "color": "#2a3f5f"
            },
            "marker": {
             "line": {
              "color": "#E5ECF6",
              "width": 0.5
             }
            },
            "type": "bar"
           }
          ],
          "barpolar": [
           {
            "marker": {
             "line": {
              "color": "#E5ECF6",
              "width": 0.5
             }
            },
            "type": "barpolar"
           }
          ],
          "carpet": [
           {
            "aaxis": {
             "endlinecolor": "#2a3f5f",
             "gridcolor": "white",
             "linecolor": "white",
             "minorgridcolor": "white",
             "startlinecolor": "#2a3f5f"
            },
            "baxis": {
             "endlinecolor": "#2a3f5f",
             "gridcolor": "white",
             "linecolor": "white",
             "minorgridcolor": "white",
             "startlinecolor": "#2a3f5f"
            },
            "type": "carpet"
           }
          ],
          "choropleth": [
           {
            "colorbar": {
             "outlinewidth": 0,
             "ticks": ""
            },
            "type": "choropleth"
           }
          ],
          "contour": [
           {
            "colorbar": {
             "outlinewidth": 0,
             "ticks": ""
            },
            "colorscale": [
             [
              0,
              "#0d0887"
             ],
             [
              0.1111111111111111,
              "#46039f"
             ],
             [
              0.2222222222222222,
              "#7201a8"
             ],
             [
              0.3333333333333333,
              "#9c179e"
             ],
             [
              0.4444444444444444,
              "#bd3786"
             ],
             [
              0.5555555555555556,
              "#d8576b"
             ],
             [
              0.6666666666666666,
              "#ed7953"
             ],
             [
              0.7777777777777778,
              "#fb9f3a"
             ],
             [
              0.8888888888888888,
              "#fdca26"
             ],
             [
              1,
              "#f0f921"
             ]
            ],
            "type": "contour"
           }
          ],
          "contourcarpet": [
           {
            "colorbar": {
             "outlinewidth": 0,
             "ticks": ""
            },
            "type": "contourcarpet"
           }
          ],
          "heatmap": [
           {
            "colorbar": {
             "outlinewidth": 0,
             "ticks": ""
            },
            "colorscale": [
             [
              0,
              "#0d0887"
             ],
             [
              0.1111111111111111,
              "#46039f"
             ],
             [
              0.2222222222222222,
              "#7201a8"
             ],
             [
              0.3333333333333333,
              "#9c179e"
             ],
             [
              0.4444444444444444,
              "#bd3786"
             ],
             [
              0.5555555555555556,
              "#d8576b"
             ],
             [
              0.6666666666666666,
              "#ed7953"
             ],
             [
              0.7777777777777778,
              "#fb9f3a"
             ],
             [
              0.8888888888888888,
              "#fdca26"
             ],
             [
              1,
              "#f0f921"
             ]
            ],
            "type": "heatmap"
           }
          ],
          "heatmapgl": [
           {
            "colorbar": {
             "outlinewidth": 0,
             "ticks": ""
            },
            "colorscale": [
             [
              0,
              "#0d0887"
             ],
             [
              0.1111111111111111,
              "#46039f"
             ],
             [
              0.2222222222222222,
              "#7201a8"
             ],
             [
              0.3333333333333333,
              "#9c179e"
             ],
             [
              0.4444444444444444,
              "#bd3786"
             ],
             [
              0.5555555555555556,
              "#d8576b"
             ],
             [
              0.6666666666666666,
              "#ed7953"
             ],
             [
              0.7777777777777778,
              "#fb9f3a"
             ],
             [
              0.8888888888888888,
              "#fdca26"
             ],
             [
              1,
              "#f0f921"
             ]
            ],
            "type": "heatmapgl"
           }
          ],
          "histogram": [
           {
            "marker": {
             "colorbar": {
              "outlinewidth": 0,
              "ticks": ""
             }
            },
            "type": "histogram"
           }
          ],
          "histogram2d": [
           {
            "colorbar": {
             "outlinewidth": 0,
             "ticks": ""
            },
            "colorscale": [
             [
              0,
              "#0d0887"
             ],
             [
              0.1111111111111111,
              "#46039f"
             ],
             [
              0.2222222222222222,
              "#7201a8"
             ],
             [
              0.3333333333333333,
              "#9c179e"
             ],
             [
              0.4444444444444444,
              "#bd3786"
             ],
             [
              0.5555555555555556,
              "#d8576b"
             ],
             [
              0.6666666666666666,
              "#ed7953"
             ],
             [
              0.7777777777777778,
              "#fb9f3a"
             ],
             [
              0.8888888888888888,
              "#fdca26"
             ],
             [
              1,
              "#f0f921"
             ]
            ],
            "type": "histogram2d"
           }
          ],
          "histogram2dcontour": [
           {
            "colorbar": {
             "outlinewidth": 0,
             "ticks": ""
            },
            "colorscale": [
             [
              0,
              "#0d0887"
             ],
             [
              0.1111111111111111,
              "#46039f"
             ],
             [
              0.2222222222222222,
              "#7201a8"
             ],
             [
              0.3333333333333333,
              "#9c179e"
             ],
             [
              0.4444444444444444,
              "#bd3786"
             ],
             [
              0.5555555555555556,
              "#d8576b"
             ],
             [
              0.6666666666666666,
              "#ed7953"
             ],
             [
              0.7777777777777778,
              "#fb9f3a"
             ],
             [
              0.8888888888888888,
              "#fdca26"
             ],
             [
              1,
              "#f0f921"
             ]
            ],
            "type": "histogram2dcontour"
           }
          ],
          "mesh3d": [
           {
            "colorbar": {
             "outlinewidth": 0,
             "ticks": ""
            },
            "type": "mesh3d"
           }
          ],
          "parcoords": [
           {
            "line": {
             "colorbar": {
              "outlinewidth": 0,
              "ticks": ""
             }
            },
            "type": "parcoords"
           }
          ],
          "pie": [
           {
            "automargin": true,
            "type": "pie"
           }
          ],
          "scatter": [
           {
            "marker": {
             "colorbar": {
              "outlinewidth": 0,
              "ticks": ""
             }
            },
            "type": "scatter"
           }
          ],
          "scatter3d": [
           {
            "line": {
             "colorbar": {
              "outlinewidth": 0,
              "ticks": ""
             }
            },
            "marker": {
             "colorbar": {
              "outlinewidth": 0,
              "ticks": ""
             }
            },
            "type": "scatter3d"
           }
          ],
          "scattercarpet": [
           {
            "marker": {
             "colorbar": {
              "outlinewidth": 0,
              "ticks": ""
             }
            },
            "type": "scattercarpet"
           }
          ],
          "scattergeo": [
           {
            "marker": {
             "colorbar": {
              "outlinewidth": 0,
              "ticks": ""
             }
            },
            "type": "scattergeo"
           }
          ],
          "scattergl": [
           {
            "marker": {
             "colorbar": {
              "outlinewidth": 0,
              "ticks": ""
             }
            },
            "type": "scattergl"
           }
          ],
          "scattermapbox": [
           {
            "marker": {
             "colorbar": {
              "outlinewidth": 0,
              "ticks": ""
             }
            },
            "type": "scattermapbox"
           }
          ],
          "scatterpolar": [
           {
            "marker": {
             "colorbar": {
              "outlinewidth": 0,
              "ticks": ""
             }
            },
            "type": "scatterpolar"
           }
          ],
          "scatterpolargl": [
           {
            "marker": {
             "colorbar": {
              "outlinewidth": 0,
              "ticks": ""
             }
            },
            "type": "scatterpolargl"
           }
          ],
          "scatterternary": [
           {
            "marker": {
             "colorbar": {
              "outlinewidth": 0,
              "ticks": ""
             }
            },
            "type": "scatterternary"
           }
          ],
          "surface": [
           {
            "colorbar": {
             "outlinewidth": 0,
             "ticks": ""
            },
            "colorscale": [
             [
              0,
              "#0d0887"
             ],
             [
              0.1111111111111111,
              "#46039f"
             ],
             [
              0.2222222222222222,
              "#7201a8"
             ],
             [
              0.3333333333333333,
              "#9c179e"
             ],
             [
              0.4444444444444444,
              "#bd3786"
             ],
             [
              0.5555555555555556,
              "#d8576b"
             ],
             [
              0.6666666666666666,
              "#ed7953"
             ],
             [
              0.7777777777777778,
              "#fb9f3a"
             ],
             [
              0.8888888888888888,
              "#fdca26"
             ],
             [
              1,
              "#f0f921"
             ]
            ],
            "type": "surface"
           }
          ],
          "table": [
           {
            "cells": {
             "fill": {
              "color": "#EBF0F8"
             },
             "line": {
              "color": "white"
             }
            },
            "header": {
             "fill": {
              "color": "#C8D4E3"
             },
             "line": {
              "color": "white"
             }
            },
            "type": "table"
           }
          ]
         },
         "layout": {
          "annotationdefaults": {
           "arrowcolor": "#2a3f5f",
           "arrowhead": 0,
           "arrowwidth": 1
          },
          "coloraxis": {
           "colorbar": {
            "outlinewidth": 0,
            "ticks": ""
           }
          },
          "colorscale": {
           "diverging": [
            [
             0,
             "#8e0152"
            ],
            [
             0.1,
             "#c51b7d"
            ],
            [
             0.2,
             "#de77ae"
            ],
            [
             0.3,
             "#f1b6da"
            ],
            [
             0.4,
             "#fde0ef"
            ],
            [
             0.5,
             "#f7f7f7"
            ],
            [
             0.6,
             "#e6f5d0"
            ],
            [
             0.7,
             "#b8e186"
            ],
            [
             0.8,
             "#7fbc41"
            ],
            [
             0.9,
             "#4d9221"
            ],
            [
             1,
             "#276419"
            ]
           ],
           "sequential": [
            [
             0,
             "#0d0887"
            ],
            [
             0.1111111111111111,
             "#46039f"
            ],
            [
             0.2222222222222222,
             "#7201a8"
            ],
            [
             0.3333333333333333,
             "#9c179e"
            ],
            [
             0.4444444444444444,
             "#bd3786"
            ],
            [
             0.5555555555555556,
             "#d8576b"
            ],
            [
             0.6666666666666666,
             "#ed7953"
            ],
            [
             0.7777777777777778,
             "#fb9f3a"
            ],
            [
             0.8888888888888888,
             "#fdca26"
            ],
            [
             1,
             "#f0f921"
            ]
           ],
           "sequentialminus": [
            [
             0,
             "#0d0887"
            ],
            [
             0.1111111111111111,
             "#46039f"
            ],
            [
             0.2222222222222222,
             "#7201a8"
            ],
            [
             0.3333333333333333,
             "#9c179e"
            ],
            [
             0.4444444444444444,
             "#bd3786"
            ],
            [
             0.5555555555555556,
             "#d8576b"
            ],
            [
             0.6666666666666666,
             "#ed7953"
            ],
            [
             0.7777777777777778,
             "#fb9f3a"
            ],
            [
             0.8888888888888888,
             "#fdca26"
            ],
            [
             1,
             "#f0f921"
            ]
           ]
          },
          "colorway": [
           "#636efa",
           "#EF553B",
           "#00cc96",
           "#ab63fa",
           "#FFA15A",
           "#19d3f3",
           "#FF6692",
           "#B6E880",
           "#FF97FF",
           "#FECB52"
          ],
          "font": {
           "color": "#2a3f5f"
          },
          "geo": {
           "bgcolor": "white",
           "lakecolor": "white",
           "landcolor": "#E5ECF6",
           "showlakes": true,
           "showland": true,
           "subunitcolor": "white"
          },
          "hoverlabel": {
           "align": "left"
          },
          "hovermode": "closest",
          "mapbox": {
           "style": "light"
          },
          "paper_bgcolor": "white",
          "plot_bgcolor": "#E5ECF6",
          "polar": {
           "angularaxis": {
            "gridcolor": "white",
            "linecolor": "white",
            "ticks": ""
           },
           "bgcolor": "#E5ECF6",
           "radialaxis": {
            "gridcolor": "white",
            "linecolor": "white",
            "ticks": ""
           }
          },
          "scene": {
           "xaxis": {
            "backgroundcolor": "#E5ECF6",
            "gridcolor": "white",
            "gridwidth": 2,
            "linecolor": "white",
            "showbackground": true,
            "ticks": "",
            "zerolinecolor": "white"
           },
           "yaxis": {
            "backgroundcolor": "#E5ECF6",
            "gridcolor": "white",
            "gridwidth": 2,
            "linecolor": "white",
            "showbackground": true,
            "ticks": "",
            "zerolinecolor": "white"
           },
           "zaxis": {
            "backgroundcolor": "#E5ECF6",
            "gridcolor": "white",
            "gridwidth": 2,
            "linecolor": "white",
            "showbackground": true,
            "ticks": "",
            "zerolinecolor": "white"
           }
          },
          "shapedefaults": {
           "line": {
            "color": "#2a3f5f"
           }
          },
          "ternary": {
           "aaxis": {
            "gridcolor": "white",
            "linecolor": "white",
            "ticks": ""
           },
           "baxis": {
            "gridcolor": "white",
            "linecolor": "white",
            "ticks": ""
           },
           "bgcolor": "#E5ECF6",
           "caxis": {
            "gridcolor": "white",
            "linecolor": "white",
            "ticks": ""
           }
          },
          "title": {
           "x": 0.05
          },
          "xaxis": {
           "automargin": true,
           "gridcolor": "white",
           "linecolor": "white",
           "ticks": "",
           "title": {
            "standoff": 15
           },
           "zerolinecolor": "white",
           "zerolinewidth": 2
          },
          "yaxis": {
           "automargin": true,
           "gridcolor": "white",
           "linecolor": "white",
           "ticks": "",
           "title": {
            "standoff": 15
           },
           "zerolinecolor": "white",
           "zerolinewidth": 2
          }
         }
        },
        "title": {
         "font": {
          "color": "#4D5663"
         }
        },
        "xaxis": {
         "gridcolor": "#E1E5ED",
         "showgrid": true,
         "tickfont": {
          "color": "#4D5663"
         },
         "title": {
          "font": {
           "color": "#4D5663"
          },
          "text": ""
         },
         "zerolinecolor": "#E1E5ED"
        },
        "yaxis": {
         "gridcolor": "#E1E5ED",
         "showgrid": true,
         "tickfont": {
          "color": "#4D5663"
         },
         "title": {
          "font": {
           "color": "#4D5663"
          },
          "text": ""
         },
         "zerolinecolor": "#E1E5ED"
        }
       }
      },
      "text/html": [
       "<div>\n",
       "        \n",
       "        \n",
       "            <div id=\"8f85d719-5f7d-4a6a-8384-d986afecb478\" class=\"plotly-graph-div\" style=\"height:525px; width:100%;\"></div>\n",
       "            <script type=\"text/javascript\">\n",
       "                require([\"plotly\"], function(Plotly) {\n",
       "                    window.PLOTLYENV=window.PLOTLYENV || {};\n",
       "                    window.PLOTLYENV.BASE_URL='https://plot.ly';\n",
       "                    \n",
       "                if (document.getElementById(\"8f85d719-5f7d-4a6a-8384-d986afecb478\")) {\n",
       "                    Plotly.newPlot(\n",
       "                        '8f85d719-5f7d-4a6a-8384-d986afecb478',\n",
       "                        [{\"marker\": {\"color\": \"rgba(255, 153, 51, 0.6)\", \"line\": {\"color\": \"rgba(255, 153, 51, 1.0)\", \"width\": 1}}, \"name\": \"Values\", \"orientation\": \"v\", \"text\": \"\", \"type\": \"bar\", \"x\": [\"A\", \"B\", \"C\"], \"y\": [34, 43, 52]}],\n",
       "                        {\"legend\": {\"bgcolor\": \"#F5F6F9\", \"font\": {\"color\": \"#4D5663\"}}, \"paper_bgcolor\": \"#F5F6F9\", \"plot_bgcolor\": \"#F5F6F9\", \"template\": {\"data\": {\"bar\": [{\"error_x\": {\"color\": \"#2a3f5f\"}, \"error_y\": {\"color\": \"#2a3f5f\"}, \"marker\": {\"line\": {\"color\": \"#E5ECF6\", \"width\": 0.5}}, \"type\": \"bar\"}], \"barpolar\": [{\"marker\": {\"line\": {\"color\": \"#E5ECF6\", \"width\": 0.5}}, \"type\": \"barpolar\"}], \"carpet\": [{\"aaxis\": {\"endlinecolor\": \"#2a3f5f\", \"gridcolor\": \"white\", \"linecolor\": \"white\", \"minorgridcolor\": \"white\", \"startlinecolor\": \"#2a3f5f\"}, \"baxis\": {\"endlinecolor\": \"#2a3f5f\", \"gridcolor\": \"white\", \"linecolor\": \"white\", \"minorgridcolor\": \"white\", \"startlinecolor\": \"#2a3f5f\"}, \"type\": \"carpet\"}], \"choropleth\": [{\"colorbar\": {\"outlinewidth\": 0, \"ticks\": \"\"}, \"type\": \"choropleth\"}], \"contour\": [{\"colorbar\": {\"outlinewidth\": 0, \"ticks\": \"\"}, \"colorscale\": [[0.0, \"#0d0887\"], [0.1111111111111111, \"#46039f\"], [0.2222222222222222, \"#7201a8\"], [0.3333333333333333, \"#9c179e\"], [0.4444444444444444, \"#bd3786\"], [0.5555555555555556, \"#d8576b\"], [0.6666666666666666, \"#ed7953\"], [0.7777777777777778, \"#fb9f3a\"], [0.8888888888888888, \"#fdca26\"], [1.0, \"#f0f921\"]], \"type\": \"contour\"}], \"contourcarpet\": [{\"colorbar\": {\"outlinewidth\": 0, \"ticks\": \"\"}, \"type\": \"contourcarpet\"}], \"heatmap\": [{\"colorbar\": {\"outlinewidth\": 0, \"ticks\": \"\"}, \"colorscale\": [[0.0, \"#0d0887\"], [0.1111111111111111, \"#46039f\"], [0.2222222222222222, \"#7201a8\"], [0.3333333333333333, \"#9c179e\"], [0.4444444444444444, \"#bd3786\"], [0.5555555555555556, \"#d8576b\"], [0.6666666666666666, \"#ed7953\"], [0.7777777777777778, \"#fb9f3a\"], [0.8888888888888888, \"#fdca26\"], [1.0, \"#f0f921\"]], \"type\": \"heatmap\"}], \"heatmapgl\": [{\"colorbar\": {\"outlinewidth\": 0, \"ticks\": \"\"}, \"colorscale\": [[0.0, \"#0d0887\"], [0.1111111111111111, \"#46039f\"], [0.2222222222222222, \"#7201a8\"], [0.3333333333333333, \"#9c179e\"], [0.4444444444444444, \"#bd3786\"], [0.5555555555555556, \"#d8576b\"], [0.6666666666666666, \"#ed7953\"], [0.7777777777777778, \"#fb9f3a\"], [0.8888888888888888, \"#fdca26\"], [1.0, \"#f0f921\"]], \"type\": \"heatmapgl\"}], \"histogram\": [{\"marker\": {\"colorbar\": {\"outlinewidth\": 0, \"ticks\": \"\"}}, \"type\": \"histogram\"}], \"histogram2d\": [{\"colorbar\": {\"outlinewidth\": 0, \"ticks\": \"\"}, \"colorscale\": [[0.0, \"#0d0887\"], [0.1111111111111111, \"#46039f\"], [0.2222222222222222, \"#7201a8\"], [0.3333333333333333, \"#9c179e\"], [0.4444444444444444, \"#bd3786\"], [0.5555555555555556, \"#d8576b\"], [0.6666666666666666, \"#ed7953\"], [0.7777777777777778, \"#fb9f3a\"], [0.8888888888888888, \"#fdca26\"], [1.0, \"#f0f921\"]], \"type\": \"histogram2d\"}], \"histogram2dcontour\": [{\"colorbar\": {\"outlinewidth\": 0, \"ticks\": \"\"}, \"colorscale\": [[0.0, \"#0d0887\"], [0.1111111111111111, \"#46039f\"], [0.2222222222222222, \"#7201a8\"], [0.3333333333333333, \"#9c179e\"], [0.4444444444444444, \"#bd3786\"], [0.5555555555555556, \"#d8576b\"], [0.6666666666666666, \"#ed7953\"], [0.7777777777777778, \"#fb9f3a\"], [0.8888888888888888, \"#fdca26\"], [1.0, \"#f0f921\"]], \"type\": \"histogram2dcontour\"}], \"mesh3d\": [{\"colorbar\": {\"outlinewidth\": 0, \"ticks\": \"\"}, \"type\": \"mesh3d\"}], \"parcoords\": [{\"line\": {\"colorbar\": {\"outlinewidth\": 0, \"ticks\": \"\"}}, \"type\": \"parcoords\"}], \"pie\": [{\"automargin\": true, \"type\": \"pie\"}], \"scatter\": [{\"marker\": {\"colorbar\": {\"outlinewidth\": 0, \"ticks\": \"\"}}, \"type\": \"scatter\"}], \"scatter3d\": [{\"line\": {\"colorbar\": {\"outlinewidth\": 0, \"ticks\": \"\"}}, \"marker\": {\"colorbar\": {\"outlinewidth\": 0, \"ticks\": \"\"}}, \"type\": \"scatter3d\"}], \"scattercarpet\": [{\"marker\": {\"colorbar\": {\"outlinewidth\": 0, \"ticks\": \"\"}}, \"type\": \"scattercarpet\"}], \"scattergeo\": [{\"marker\": {\"colorbar\": {\"outlinewidth\": 0, \"ticks\": \"\"}}, \"type\": \"scattergeo\"}], \"scattergl\": [{\"marker\": {\"colorbar\": {\"outlinewidth\": 0, \"ticks\": \"\"}}, \"type\": \"scattergl\"}], \"scattermapbox\": [{\"marker\": {\"colorbar\": {\"outlinewidth\": 0, \"ticks\": \"\"}}, \"type\": \"scattermapbox\"}], \"scatterpolar\": [{\"marker\": {\"colorbar\": {\"outlinewidth\": 0, \"ticks\": \"\"}}, \"type\": \"scatterpolar\"}], \"scatterpolargl\": [{\"marker\": {\"colorbar\": {\"outlinewidth\": 0, \"ticks\": \"\"}}, \"type\": \"scatterpolargl\"}], \"scatterternary\": [{\"marker\": {\"colorbar\": {\"outlinewidth\": 0, \"ticks\": \"\"}}, \"type\": \"scatterternary\"}], \"surface\": [{\"colorbar\": {\"outlinewidth\": 0, \"ticks\": \"\"}, \"colorscale\": [[0.0, \"#0d0887\"], [0.1111111111111111, \"#46039f\"], [0.2222222222222222, \"#7201a8\"], [0.3333333333333333, \"#9c179e\"], [0.4444444444444444, \"#bd3786\"], [0.5555555555555556, \"#d8576b\"], [0.6666666666666666, \"#ed7953\"], [0.7777777777777778, \"#fb9f3a\"], [0.8888888888888888, \"#fdca26\"], [1.0, \"#f0f921\"]], \"type\": \"surface\"}], \"table\": [{\"cells\": {\"fill\": {\"color\": \"#EBF0F8\"}, \"line\": {\"color\": \"white\"}}, \"header\": {\"fill\": {\"color\": \"#C8D4E3\"}, \"line\": {\"color\": \"white\"}}, \"type\": \"table\"}]}, \"layout\": {\"annotationdefaults\": {\"arrowcolor\": \"#2a3f5f\", \"arrowhead\": 0, \"arrowwidth\": 1}, \"coloraxis\": {\"colorbar\": {\"outlinewidth\": 0, \"ticks\": \"\"}}, \"colorscale\": {\"diverging\": [[0, \"#8e0152\"], [0.1, \"#c51b7d\"], [0.2, \"#de77ae\"], [0.3, \"#f1b6da\"], [0.4, \"#fde0ef\"], [0.5, \"#f7f7f7\"], [0.6, \"#e6f5d0\"], [0.7, \"#b8e186\"], [0.8, \"#7fbc41\"], [0.9, \"#4d9221\"], [1, \"#276419\"]], \"sequential\": [[0.0, \"#0d0887\"], [0.1111111111111111, \"#46039f\"], [0.2222222222222222, \"#7201a8\"], [0.3333333333333333, \"#9c179e\"], [0.4444444444444444, \"#bd3786\"], [0.5555555555555556, \"#d8576b\"], [0.6666666666666666, \"#ed7953\"], [0.7777777777777778, \"#fb9f3a\"], [0.8888888888888888, \"#fdca26\"], [1.0, \"#f0f921\"]], \"sequentialminus\": [[0.0, \"#0d0887\"], [0.1111111111111111, \"#46039f\"], [0.2222222222222222, \"#7201a8\"], [0.3333333333333333, \"#9c179e\"], [0.4444444444444444, \"#bd3786\"], [0.5555555555555556, \"#d8576b\"], [0.6666666666666666, \"#ed7953\"], [0.7777777777777778, \"#fb9f3a\"], [0.8888888888888888, \"#fdca26\"], [1.0, \"#f0f921\"]]}, \"colorway\": [\"#636efa\", \"#EF553B\", \"#00cc96\", \"#ab63fa\", \"#FFA15A\", \"#19d3f3\", \"#FF6692\", \"#B6E880\", \"#FF97FF\", \"#FECB52\"], \"font\": {\"color\": \"#2a3f5f\"}, \"geo\": {\"bgcolor\": \"white\", \"lakecolor\": \"white\", \"landcolor\": \"#E5ECF6\", \"showlakes\": true, \"showland\": true, \"subunitcolor\": \"white\"}, \"hoverlabel\": {\"align\": \"left\"}, \"hovermode\": \"closest\", \"mapbox\": {\"style\": \"light\"}, \"paper_bgcolor\": \"white\", \"plot_bgcolor\": \"#E5ECF6\", \"polar\": {\"angularaxis\": {\"gridcolor\": \"white\", \"linecolor\": \"white\", \"ticks\": \"\"}, \"bgcolor\": \"#E5ECF6\", \"radialaxis\": {\"gridcolor\": \"white\", \"linecolor\": \"white\", \"ticks\": \"\"}}, \"scene\": {\"xaxis\": {\"backgroundcolor\": \"#E5ECF6\", \"gridcolor\": \"white\", \"gridwidth\": 2, \"linecolor\": \"white\", \"showbackground\": true, \"ticks\": \"\", \"zerolinecolor\": \"white\"}, \"yaxis\": {\"backgroundcolor\": \"#E5ECF6\", \"gridcolor\": \"white\", \"gridwidth\": 2, \"linecolor\": \"white\", \"showbackground\": true, \"ticks\": \"\", \"zerolinecolor\": \"white\"}, \"zaxis\": {\"backgroundcolor\": \"#E5ECF6\", \"gridcolor\": \"white\", \"gridwidth\": 2, \"linecolor\": \"white\", \"showbackground\": true, \"ticks\": \"\", \"zerolinecolor\": \"white\"}}, \"shapedefaults\": {\"line\": {\"color\": \"#2a3f5f\"}}, \"ternary\": {\"aaxis\": {\"gridcolor\": \"white\", \"linecolor\": \"white\", \"ticks\": \"\"}, \"baxis\": {\"gridcolor\": \"white\", \"linecolor\": \"white\", \"ticks\": \"\"}, \"bgcolor\": \"#E5ECF6\", \"caxis\": {\"gridcolor\": \"white\", \"linecolor\": \"white\", \"ticks\": \"\"}}, \"title\": {\"x\": 0.05}, \"xaxis\": {\"automargin\": true, \"gridcolor\": \"white\", \"linecolor\": \"white\", \"ticks\": \"\", \"title\": {\"standoff\": 15}, \"zerolinecolor\": \"white\", \"zerolinewidth\": 2}, \"yaxis\": {\"automargin\": true, \"gridcolor\": \"white\", \"linecolor\": \"white\", \"ticks\": \"\", \"title\": {\"standoff\": 15}, \"zerolinecolor\": \"white\", \"zerolinewidth\": 2}}}, \"title\": {\"font\": {\"color\": \"#4D5663\"}}, \"xaxis\": {\"gridcolor\": \"#E1E5ED\", \"showgrid\": true, \"tickfont\": {\"color\": \"#4D5663\"}, \"title\": {\"font\": {\"color\": \"#4D5663\"}, \"text\": \"\"}, \"zerolinecolor\": \"#E1E5ED\"}, \"yaxis\": {\"gridcolor\": \"#E1E5ED\", \"showgrid\": true, \"tickfont\": {\"color\": \"#4D5663\"}, \"title\": {\"font\": {\"color\": \"#4D5663\"}, \"text\": \"\"}, \"zerolinecolor\": \"#E1E5ED\"}},\n",
       "                        {\"showLink\": true, \"linkText\": \"Export to plot.ly\", \"plotlyServerURL\": \"https://plot.ly\", \"responsive\": true}\n",
       "                    ).then(function(){\n",
       "                            \n",
       "var gd = document.getElementById('8f85d719-5f7d-4a6a-8384-d986afecb478');\n",
       "var x = new MutationObserver(function (mutations, observer) {{\n",
       "        var display = window.getComputedStyle(gd).display;\n",
       "        if (!display || display === 'none') {{\n",
       "            console.log([gd, 'removed!']);\n",
       "            Plotly.purge(gd);\n",
       "            observer.disconnect();\n",
       "        }}\n",
       "}});\n",
       "\n",
       "// Listen for the removal of the full notebook cells\n",
       "var notebookContainer = gd.closest('#notebook-container');\n",
       "if (notebookContainer) {{\n",
       "    x.observe(notebookContainer, {childList: true});\n",
       "}}\n",
       "\n",
       "// Listen for the clearing of the current output cell\n",
       "var outputEl = gd.closest('.output');\n",
       "if (outputEl) {{\n",
       "    x.observe(outputEl, {childList: true});\n",
       "}}\n",
       "\n",
       "                        })\n",
       "                };\n",
       "                });\n",
       "            </script>\n",
       "        </div>"
      ]
     },
     "metadata": {},
     "output_type": "display_data"
    }
   ],
   "source": [
    "df2.iplot(kind = 'bar', x = 'Category', y = 'Values') # x-axis needs to be a categorical variable for bar plot"
   ]
  },
  {
   "cell_type": "code",
   "execution_count": 25,
   "metadata": {},
   "outputs": [
    {
     "data": {
      "application/vnd.plotly.v1+json": {
       "config": {
        "linkText": "Export to plot.ly",
        "plotlyServerURL": "https://plot.ly",
        "showLink": true
       },
       "data": [
        {
         "marker": {
          "color": "rgba(255, 153, 51, 0.6)",
          "line": {
           "color": "rgba(255, 153, 51, 1.0)",
           "width": 1
          }
         },
         "name": "None",
         "orientation": "v",
         "text": "",
         "type": "bar",
         "x": [
          "A",
          "B",
          "C",
          "D"
         ],
         "y": [
          100,
          100,
          100,
          100
         ]
        }
       ],
       "layout": {
        "legend": {
         "bgcolor": "#F5F6F9",
         "font": {
          "color": "#4D5663"
         }
        },
        "paper_bgcolor": "#F5F6F9",
        "plot_bgcolor": "#F5F6F9",
        "template": {
         "data": {
          "bar": [
           {
            "error_x": {
             "color": "#2a3f5f"
            },
            "error_y": {
             "color": "#2a3f5f"
            },
            "marker": {
             "line": {
              "color": "#E5ECF6",
              "width": 0.5
             }
            },
            "type": "bar"
           }
          ],
          "barpolar": [
           {
            "marker": {
             "line": {
              "color": "#E5ECF6",
              "width": 0.5
             }
            },
            "type": "barpolar"
           }
          ],
          "carpet": [
           {
            "aaxis": {
             "endlinecolor": "#2a3f5f",
             "gridcolor": "white",
             "linecolor": "white",
             "minorgridcolor": "white",
             "startlinecolor": "#2a3f5f"
            },
            "baxis": {
             "endlinecolor": "#2a3f5f",
             "gridcolor": "white",
             "linecolor": "white",
             "minorgridcolor": "white",
             "startlinecolor": "#2a3f5f"
            },
            "type": "carpet"
           }
          ],
          "choropleth": [
           {
            "colorbar": {
             "outlinewidth": 0,
             "ticks": ""
            },
            "type": "choropleth"
           }
          ],
          "contour": [
           {
            "colorbar": {
             "outlinewidth": 0,
             "ticks": ""
            },
            "colorscale": [
             [
              0,
              "#0d0887"
             ],
             [
              0.1111111111111111,
              "#46039f"
             ],
             [
              0.2222222222222222,
              "#7201a8"
             ],
             [
              0.3333333333333333,
              "#9c179e"
             ],
             [
              0.4444444444444444,
              "#bd3786"
             ],
             [
              0.5555555555555556,
              "#d8576b"
             ],
             [
              0.6666666666666666,
              "#ed7953"
             ],
             [
              0.7777777777777778,
              "#fb9f3a"
             ],
             [
              0.8888888888888888,
              "#fdca26"
             ],
             [
              1,
              "#f0f921"
             ]
            ],
            "type": "contour"
           }
          ],
          "contourcarpet": [
           {
            "colorbar": {
             "outlinewidth": 0,
             "ticks": ""
            },
            "type": "contourcarpet"
           }
          ],
          "heatmap": [
           {
            "colorbar": {
             "outlinewidth": 0,
             "ticks": ""
            },
            "colorscale": [
             [
              0,
              "#0d0887"
             ],
             [
              0.1111111111111111,
              "#46039f"
             ],
             [
              0.2222222222222222,
              "#7201a8"
             ],
             [
              0.3333333333333333,
              "#9c179e"
             ],
             [
              0.4444444444444444,
              "#bd3786"
             ],
             [
              0.5555555555555556,
              "#d8576b"
             ],
             [
              0.6666666666666666,
              "#ed7953"
             ],
             [
              0.7777777777777778,
              "#fb9f3a"
             ],
             [
              0.8888888888888888,
              "#fdca26"
             ],
             [
              1,
              "#f0f921"
             ]
            ],
            "type": "heatmap"
           }
          ],
          "heatmapgl": [
           {
            "colorbar": {
             "outlinewidth": 0,
             "ticks": ""
            },
            "colorscale": [
             [
              0,
              "#0d0887"
             ],
             [
              0.1111111111111111,
              "#46039f"
             ],
             [
              0.2222222222222222,
              "#7201a8"
             ],
             [
              0.3333333333333333,
              "#9c179e"
             ],
             [
              0.4444444444444444,
              "#bd3786"
             ],
             [
              0.5555555555555556,
              "#d8576b"
             ],
             [
              0.6666666666666666,
              "#ed7953"
             ],
             [
              0.7777777777777778,
              "#fb9f3a"
             ],
             [
              0.8888888888888888,
              "#fdca26"
             ],
             [
              1,
              "#f0f921"
             ]
            ],
            "type": "heatmapgl"
           }
          ],
          "histogram": [
           {
            "marker": {
             "colorbar": {
              "outlinewidth": 0,
              "ticks": ""
             }
            },
            "type": "histogram"
           }
          ],
          "histogram2d": [
           {
            "colorbar": {
             "outlinewidth": 0,
             "ticks": ""
            },
            "colorscale": [
             [
              0,
              "#0d0887"
             ],
             [
              0.1111111111111111,
              "#46039f"
             ],
             [
              0.2222222222222222,
              "#7201a8"
             ],
             [
              0.3333333333333333,
              "#9c179e"
             ],
             [
              0.4444444444444444,
              "#bd3786"
             ],
             [
              0.5555555555555556,
              "#d8576b"
             ],
             [
              0.6666666666666666,
              "#ed7953"
             ],
             [
              0.7777777777777778,
              "#fb9f3a"
             ],
             [
              0.8888888888888888,
              "#fdca26"
             ],
             [
              1,
              "#f0f921"
             ]
            ],
            "type": "histogram2d"
           }
          ],
          "histogram2dcontour": [
           {
            "colorbar": {
             "outlinewidth": 0,
             "ticks": ""
            },
            "colorscale": [
             [
              0,
              "#0d0887"
             ],
             [
              0.1111111111111111,
              "#46039f"
             ],
             [
              0.2222222222222222,
              "#7201a8"
             ],
             [
              0.3333333333333333,
              "#9c179e"
             ],
             [
              0.4444444444444444,
              "#bd3786"
             ],
             [
              0.5555555555555556,
              "#d8576b"
             ],
             [
              0.6666666666666666,
              "#ed7953"
             ],
             [
              0.7777777777777778,
              "#fb9f3a"
             ],
             [
              0.8888888888888888,
              "#fdca26"
             ],
             [
              1,
              "#f0f921"
             ]
            ],
            "type": "histogram2dcontour"
           }
          ],
          "mesh3d": [
           {
            "colorbar": {
             "outlinewidth": 0,
             "ticks": ""
            },
            "type": "mesh3d"
           }
          ],
          "parcoords": [
           {
            "line": {
             "colorbar": {
              "outlinewidth": 0,
              "ticks": ""
             }
            },
            "type": "parcoords"
           }
          ],
          "pie": [
           {
            "automargin": true,
            "type": "pie"
           }
          ],
          "scatter": [
           {
            "marker": {
             "colorbar": {
              "outlinewidth": 0,
              "ticks": ""
             }
            },
            "type": "scatter"
           }
          ],
          "scatter3d": [
           {
            "line": {
             "colorbar": {
              "outlinewidth": 0,
              "ticks": ""
             }
            },
            "marker": {
             "colorbar": {
              "outlinewidth": 0,
              "ticks": ""
             }
            },
            "type": "scatter3d"
           }
          ],
          "scattercarpet": [
           {
            "marker": {
             "colorbar": {
              "outlinewidth": 0,
              "ticks": ""
             }
            },
            "type": "scattercarpet"
           }
          ],
          "scattergeo": [
           {
            "marker": {
             "colorbar": {
              "outlinewidth": 0,
              "ticks": ""
             }
            },
            "type": "scattergeo"
           }
          ],
          "scattergl": [
           {
            "marker": {
             "colorbar": {
              "outlinewidth": 0,
              "ticks": ""
             }
            },
            "type": "scattergl"
           }
          ],
          "scattermapbox": [
           {
            "marker": {
             "colorbar": {
              "outlinewidth": 0,
              "ticks": ""
             }
            },
            "type": "scattermapbox"
           }
          ],
          "scatterpolar": [
           {
            "marker": {
             "colorbar": {
              "outlinewidth": 0,
              "ticks": ""
             }
            },
            "type": "scatterpolar"
           }
          ],
          "scatterpolargl": [
           {
            "marker": {
             "colorbar": {
              "outlinewidth": 0,
              "ticks": ""
             }
            },
            "type": "scatterpolargl"
           }
          ],
          "scatterternary": [
           {
            "marker": {
             "colorbar": {
              "outlinewidth": 0,
              "ticks": ""
             }
            },
            "type": "scatterternary"
           }
          ],
          "surface": [
           {
            "colorbar": {
             "outlinewidth": 0,
             "ticks": ""
            },
            "colorscale": [
             [
              0,
              "#0d0887"
             ],
             [
              0.1111111111111111,
              "#46039f"
             ],
             [
              0.2222222222222222,
              "#7201a8"
             ],
             [
              0.3333333333333333,
              "#9c179e"
             ],
             [
              0.4444444444444444,
              "#bd3786"
             ],
             [
              0.5555555555555556,
              "#d8576b"
             ],
             [
              0.6666666666666666,
              "#ed7953"
             ],
             [
              0.7777777777777778,
              "#fb9f3a"
             ],
             [
              0.8888888888888888,
              "#fdca26"
             ],
             [
              1,
              "#f0f921"
             ]
            ],
            "type": "surface"
           }
          ],
          "table": [
           {
            "cells": {
             "fill": {
              "color": "#EBF0F8"
             },
             "line": {
              "color": "white"
             }
            },
            "header": {
             "fill": {
              "color": "#C8D4E3"
             },
             "line": {
              "color": "white"
             }
            },
            "type": "table"
           }
          ]
         },
         "layout": {
          "annotationdefaults": {
           "arrowcolor": "#2a3f5f",
           "arrowhead": 0,
           "arrowwidth": 1
          },
          "coloraxis": {
           "colorbar": {
            "outlinewidth": 0,
            "ticks": ""
           }
          },
          "colorscale": {
           "diverging": [
            [
             0,
             "#8e0152"
            ],
            [
             0.1,
             "#c51b7d"
            ],
            [
             0.2,
             "#de77ae"
            ],
            [
             0.3,
             "#f1b6da"
            ],
            [
             0.4,
             "#fde0ef"
            ],
            [
             0.5,
             "#f7f7f7"
            ],
            [
             0.6,
             "#e6f5d0"
            ],
            [
             0.7,
             "#b8e186"
            ],
            [
             0.8,
             "#7fbc41"
            ],
            [
             0.9,
             "#4d9221"
            ],
            [
             1,
             "#276419"
            ]
           ],
           "sequential": [
            [
             0,
             "#0d0887"
            ],
            [
             0.1111111111111111,
             "#46039f"
            ],
            [
             0.2222222222222222,
             "#7201a8"
            ],
            [
             0.3333333333333333,
             "#9c179e"
            ],
            [
             0.4444444444444444,
             "#bd3786"
            ],
            [
             0.5555555555555556,
             "#d8576b"
            ],
            [
             0.6666666666666666,
             "#ed7953"
            ],
            [
             0.7777777777777778,
             "#fb9f3a"
            ],
            [
             0.8888888888888888,
             "#fdca26"
            ],
            [
             1,
             "#f0f921"
            ]
           ],
           "sequentialminus": [
            [
             0,
             "#0d0887"
            ],
            [
             0.1111111111111111,
             "#46039f"
            ],
            [
             0.2222222222222222,
             "#7201a8"
            ],
            [
             0.3333333333333333,
             "#9c179e"
            ],
            [
             0.4444444444444444,
             "#bd3786"
            ],
            [
             0.5555555555555556,
             "#d8576b"
            ],
            [
             0.6666666666666666,
             "#ed7953"
            ],
            [
             0.7777777777777778,
             "#fb9f3a"
            ],
            [
             0.8888888888888888,
             "#fdca26"
            ],
            [
             1,
             "#f0f921"
            ]
           ]
          },
          "colorway": [
           "#636efa",
           "#EF553B",
           "#00cc96",
           "#ab63fa",
           "#FFA15A",
           "#19d3f3",
           "#FF6692",
           "#B6E880",
           "#FF97FF",
           "#FECB52"
          ],
          "font": {
           "color": "#2a3f5f"
          },
          "geo": {
           "bgcolor": "white",
           "lakecolor": "white",
           "landcolor": "#E5ECF6",
           "showlakes": true,
           "showland": true,
           "subunitcolor": "white"
          },
          "hoverlabel": {
           "align": "left"
          },
          "hovermode": "closest",
          "mapbox": {
           "style": "light"
          },
          "paper_bgcolor": "white",
          "plot_bgcolor": "#E5ECF6",
          "polar": {
           "angularaxis": {
            "gridcolor": "white",
            "linecolor": "white",
            "ticks": ""
           },
           "bgcolor": "#E5ECF6",
           "radialaxis": {
            "gridcolor": "white",
            "linecolor": "white",
            "ticks": ""
           }
          },
          "scene": {
           "xaxis": {
            "backgroundcolor": "#E5ECF6",
            "gridcolor": "white",
            "gridwidth": 2,
            "linecolor": "white",
            "showbackground": true,
            "ticks": "",
            "zerolinecolor": "white"
           },
           "yaxis": {
            "backgroundcolor": "#E5ECF6",
            "gridcolor": "white",
            "gridwidth": 2,
            "linecolor": "white",
            "showbackground": true,
            "ticks": "",
            "zerolinecolor": "white"
           },
           "zaxis": {
            "backgroundcolor": "#E5ECF6",
            "gridcolor": "white",
            "gridwidth": 2,
            "linecolor": "white",
            "showbackground": true,
            "ticks": "",
            "zerolinecolor": "white"
           }
          },
          "shapedefaults": {
           "line": {
            "color": "#2a3f5f"
           }
          },
          "ternary": {
           "aaxis": {
            "gridcolor": "white",
            "linecolor": "white",
            "ticks": ""
           },
           "baxis": {
            "gridcolor": "white",
            "linecolor": "white",
            "ticks": ""
           },
           "bgcolor": "#E5ECF6",
           "caxis": {
            "gridcolor": "white",
            "linecolor": "white",
            "ticks": ""
           }
          },
          "title": {
           "x": 0.05
          },
          "xaxis": {
           "automargin": true,
           "gridcolor": "white",
           "linecolor": "white",
           "ticks": "",
           "title": {
            "standoff": 15
           },
           "zerolinecolor": "white",
           "zerolinewidth": 2
          },
          "yaxis": {
           "automargin": true,
           "gridcolor": "white",
           "linecolor": "white",
           "ticks": "",
           "title": {
            "standoff": 15
           },
           "zerolinecolor": "white",
           "zerolinewidth": 2
          }
         }
        },
        "title": {
         "font": {
          "color": "#4D5663"
         }
        },
        "xaxis": {
         "gridcolor": "#E1E5ED",
         "showgrid": true,
         "tickfont": {
          "color": "#4D5663"
         },
         "title": {
          "font": {
           "color": "#4D5663"
          },
          "text": ""
         },
         "zerolinecolor": "#E1E5ED"
        },
        "yaxis": {
         "gridcolor": "#E1E5ED",
         "showgrid": true,
         "tickfont": {
          "color": "#4D5663"
         },
         "title": {
          "font": {
           "color": "#4D5663"
          },
          "text": ""
         },
         "zerolinecolor": "#E1E5ED"
        }
       }
      },
      "text/html": [
       "<div>\n",
       "        \n",
       "        \n",
       "            <div id=\"6df17ea0-b748-4836-ab44-ee8766ce8bf7\" class=\"plotly-graph-div\" style=\"height:525px; width:100%;\"></div>\n",
       "            <script type=\"text/javascript\">\n",
       "                require([\"plotly\"], function(Plotly) {\n",
       "                    window.PLOTLYENV=window.PLOTLYENV || {};\n",
       "                    window.PLOTLYENV.BASE_URL='https://plot.ly';\n",
       "                    \n",
       "                if (document.getElementById(\"6df17ea0-b748-4836-ab44-ee8766ce8bf7\")) {\n",
       "                    Plotly.newPlot(\n",
       "                        '6df17ea0-b748-4836-ab44-ee8766ce8bf7',\n",
       "                        [{\"marker\": {\"color\": \"rgba(255, 153, 51, 0.6)\", \"line\": {\"color\": \"rgba(255, 153, 51, 1.0)\", \"width\": 1}}, \"name\": \"None\", \"orientation\": \"v\", \"text\": \"\", \"type\": \"bar\", \"x\": [\"A\", \"B\", \"C\", \"D\"], \"y\": [100, 100, 100, 100]}],\n",
       "                        {\"legend\": {\"bgcolor\": \"#F5F6F9\", \"font\": {\"color\": \"#4D5663\"}}, \"paper_bgcolor\": \"#F5F6F9\", \"plot_bgcolor\": \"#F5F6F9\", \"template\": {\"data\": {\"bar\": [{\"error_x\": {\"color\": \"#2a3f5f\"}, \"error_y\": {\"color\": \"#2a3f5f\"}, \"marker\": {\"line\": {\"color\": \"#E5ECF6\", \"width\": 0.5}}, \"type\": \"bar\"}], \"barpolar\": [{\"marker\": {\"line\": {\"color\": \"#E5ECF6\", \"width\": 0.5}}, \"type\": \"barpolar\"}], \"carpet\": [{\"aaxis\": {\"endlinecolor\": \"#2a3f5f\", \"gridcolor\": \"white\", \"linecolor\": \"white\", \"minorgridcolor\": \"white\", \"startlinecolor\": \"#2a3f5f\"}, \"baxis\": {\"endlinecolor\": \"#2a3f5f\", \"gridcolor\": \"white\", \"linecolor\": \"white\", \"minorgridcolor\": \"white\", \"startlinecolor\": \"#2a3f5f\"}, \"type\": \"carpet\"}], \"choropleth\": [{\"colorbar\": {\"outlinewidth\": 0, \"ticks\": \"\"}, \"type\": \"choropleth\"}], \"contour\": [{\"colorbar\": {\"outlinewidth\": 0, \"ticks\": \"\"}, \"colorscale\": [[0.0, \"#0d0887\"], [0.1111111111111111, \"#46039f\"], [0.2222222222222222, \"#7201a8\"], [0.3333333333333333, \"#9c179e\"], [0.4444444444444444, \"#bd3786\"], [0.5555555555555556, \"#d8576b\"], [0.6666666666666666, \"#ed7953\"], [0.7777777777777778, \"#fb9f3a\"], [0.8888888888888888, \"#fdca26\"], [1.0, \"#f0f921\"]], \"type\": \"contour\"}], \"contourcarpet\": [{\"colorbar\": {\"outlinewidth\": 0, \"ticks\": \"\"}, \"type\": \"contourcarpet\"}], \"heatmap\": [{\"colorbar\": {\"outlinewidth\": 0, \"ticks\": \"\"}, \"colorscale\": [[0.0, \"#0d0887\"], [0.1111111111111111, \"#46039f\"], [0.2222222222222222, \"#7201a8\"], [0.3333333333333333, \"#9c179e\"], [0.4444444444444444, \"#bd3786\"], [0.5555555555555556, \"#d8576b\"], [0.6666666666666666, \"#ed7953\"], [0.7777777777777778, \"#fb9f3a\"], [0.8888888888888888, \"#fdca26\"], [1.0, \"#f0f921\"]], \"type\": \"heatmap\"}], \"heatmapgl\": [{\"colorbar\": {\"outlinewidth\": 0, \"ticks\": \"\"}, \"colorscale\": [[0.0, \"#0d0887\"], [0.1111111111111111, \"#46039f\"], [0.2222222222222222, \"#7201a8\"], [0.3333333333333333, \"#9c179e\"], [0.4444444444444444, \"#bd3786\"], [0.5555555555555556, \"#d8576b\"], [0.6666666666666666, \"#ed7953\"], [0.7777777777777778, \"#fb9f3a\"], [0.8888888888888888, \"#fdca26\"], [1.0, \"#f0f921\"]], \"type\": \"heatmapgl\"}], \"histogram\": [{\"marker\": {\"colorbar\": {\"outlinewidth\": 0, \"ticks\": \"\"}}, \"type\": \"histogram\"}], \"histogram2d\": [{\"colorbar\": {\"outlinewidth\": 0, \"ticks\": \"\"}, \"colorscale\": [[0.0, \"#0d0887\"], [0.1111111111111111, \"#46039f\"], [0.2222222222222222, \"#7201a8\"], [0.3333333333333333, \"#9c179e\"], [0.4444444444444444, \"#bd3786\"], [0.5555555555555556, \"#d8576b\"], [0.6666666666666666, \"#ed7953\"], [0.7777777777777778, \"#fb9f3a\"], [0.8888888888888888, \"#fdca26\"], [1.0, \"#f0f921\"]], \"type\": \"histogram2d\"}], \"histogram2dcontour\": [{\"colorbar\": {\"outlinewidth\": 0, \"ticks\": \"\"}, \"colorscale\": [[0.0, \"#0d0887\"], [0.1111111111111111, \"#46039f\"], [0.2222222222222222, \"#7201a8\"], [0.3333333333333333, \"#9c179e\"], [0.4444444444444444, \"#bd3786\"], [0.5555555555555556, \"#d8576b\"], [0.6666666666666666, \"#ed7953\"], [0.7777777777777778, \"#fb9f3a\"], [0.8888888888888888, \"#fdca26\"], [1.0, \"#f0f921\"]], \"type\": \"histogram2dcontour\"}], \"mesh3d\": [{\"colorbar\": {\"outlinewidth\": 0, \"ticks\": \"\"}, \"type\": \"mesh3d\"}], \"parcoords\": [{\"line\": {\"colorbar\": {\"outlinewidth\": 0, \"ticks\": \"\"}}, \"type\": \"parcoords\"}], \"pie\": [{\"automargin\": true, \"type\": \"pie\"}], \"scatter\": [{\"marker\": {\"colorbar\": {\"outlinewidth\": 0, \"ticks\": \"\"}}, \"type\": \"scatter\"}], \"scatter3d\": [{\"line\": {\"colorbar\": {\"outlinewidth\": 0, \"ticks\": \"\"}}, \"marker\": {\"colorbar\": {\"outlinewidth\": 0, \"ticks\": \"\"}}, \"type\": \"scatter3d\"}], \"scattercarpet\": [{\"marker\": {\"colorbar\": {\"outlinewidth\": 0, \"ticks\": \"\"}}, \"type\": \"scattercarpet\"}], \"scattergeo\": [{\"marker\": {\"colorbar\": {\"outlinewidth\": 0, \"ticks\": \"\"}}, \"type\": \"scattergeo\"}], \"scattergl\": [{\"marker\": {\"colorbar\": {\"outlinewidth\": 0, \"ticks\": \"\"}}, \"type\": \"scattergl\"}], \"scattermapbox\": [{\"marker\": {\"colorbar\": {\"outlinewidth\": 0, \"ticks\": \"\"}}, \"type\": \"scattermapbox\"}], \"scatterpolar\": [{\"marker\": {\"colorbar\": {\"outlinewidth\": 0, \"ticks\": \"\"}}, \"type\": \"scatterpolar\"}], \"scatterpolargl\": [{\"marker\": {\"colorbar\": {\"outlinewidth\": 0, \"ticks\": \"\"}}, \"type\": \"scatterpolargl\"}], \"scatterternary\": [{\"marker\": {\"colorbar\": {\"outlinewidth\": 0, \"ticks\": \"\"}}, \"type\": \"scatterternary\"}], \"surface\": [{\"colorbar\": {\"outlinewidth\": 0, \"ticks\": \"\"}, \"colorscale\": [[0.0, \"#0d0887\"], [0.1111111111111111, \"#46039f\"], [0.2222222222222222, \"#7201a8\"], [0.3333333333333333, \"#9c179e\"], [0.4444444444444444, \"#bd3786\"], [0.5555555555555556, \"#d8576b\"], [0.6666666666666666, \"#ed7953\"], [0.7777777777777778, \"#fb9f3a\"], [0.8888888888888888, \"#fdca26\"], [1.0, \"#f0f921\"]], \"type\": \"surface\"}], \"table\": [{\"cells\": {\"fill\": {\"color\": \"#EBF0F8\"}, \"line\": {\"color\": \"white\"}}, \"header\": {\"fill\": {\"color\": \"#C8D4E3\"}, \"line\": {\"color\": \"white\"}}, \"type\": \"table\"}]}, \"layout\": {\"annotationdefaults\": {\"arrowcolor\": \"#2a3f5f\", \"arrowhead\": 0, \"arrowwidth\": 1}, \"coloraxis\": {\"colorbar\": {\"outlinewidth\": 0, \"ticks\": \"\"}}, \"colorscale\": {\"diverging\": [[0, \"#8e0152\"], [0.1, \"#c51b7d\"], [0.2, \"#de77ae\"], [0.3, \"#f1b6da\"], [0.4, \"#fde0ef\"], [0.5, \"#f7f7f7\"], [0.6, \"#e6f5d0\"], [0.7, \"#b8e186\"], [0.8, \"#7fbc41\"], [0.9, \"#4d9221\"], [1, \"#276419\"]], \"sequential\": [[0.0, \"#0d0887\"], [0.1111111111111111, \"#46039f\"], [0.2222222222222222, \"#7201a8\"], [0.3333333333333333, \"#9c179e\"], [0.4444444444444444, \"#bd3786\"], [0.5555555555555556, \"#d8576b\"], [0.6666666666666666, \"#ed7953\"], [0.7777777777777778, \"#fb9f3a\"], [0.8888888888888888, \"#fdca26\"], [1.0, \"#f0f921\"]], \"sequentialminus\": [[0.0, \"#0d0887\"], [0.1111111111111111, \"#46039f\"], [0.2222222222222222, \"#7201a8\"], [0.3333333333333333, \"#9c179e\"], [0.4444444444444444, \"#bd3786\"], [0.5555555555555556, \"#d8576b\"], [0.6666666666666666, \"#ed7953\"], [0.7777777777777778, \"#fb9f3a\"], [0.8888888888888888, \"#fdca26\"], [1.0, \"#f0f921\"]]}, \"colorway\": [\"#636efa\", \"#EF553B\", \"#00cc96\", \"#ab63fa\", \"#FFA15A\", \"#19d3f3\", \"#FF6692\", \"#B6E880\", \"#FF97FF\", \"#FECB52\"], \"font\": {\"color\": \"#2a3f5f\"}, \"geo\": {\"bgcolor\": \"white\", \"lakecolor\": \"white\", \"landcolor\": \"#E5ECF6\", \"showlakes\": true, \"showland\": true, \"subunitcolor\": \"white\"}, \"hoverlabel\": {\"align\": \"left\"}, \"hovermode\": \"closest\", \"mapbox\": {\"style\": \"light\"}, \"paper_bgcolor\": \"white\", \"plot_bgcolor\": \"#E5ECF6\", \"polar\": {\"angularaxis\": {\"gridcolor\": \"white\", \"linecolor\": \"white\", \"ticks\": \"\"}, \"bgcolor\": \"#E5ECF6\", \"radialaxis\": {\"gridcolor\": \"white\", \"linecolor\": \"white\", \"ticks\": \"\"}}, \"scene\": {\"xaxis\": {\"backgroundcolor\": \"#E5ECF6\", \"gridcolor\": \"white\", \"gridwidth\": 2, \"linecolor\": \"white\", \"showbackground\": true, \"ticks\": \"\", \"zerolinecolor\": \"white\"}, \"yaxis\": {\"backgroundcolor\": \"#E5ECF6\", \"gridcolor\": \"white\", \"gridwidth\": 2, \"linecolor\": \"white\", \"showbackground\": true, \"ticks\": \"\", \"zerolinecolor\": \"white\"}, \"zaxis\": {\"backgroundcolor\": \"#E5ECF6\", \"gridcolor\": \"white\", \"gridwidth\": 2, \"linecolor\": \"white\", \"showbackground\": true, \"ticks\": \"\", \"zerolinecolor\": \"white\"}}, \"shapedefaults\": {\"line\": {\"color\": \"#2a3f5f\"}}, \"ternary\": {\"aaxis\": {\"gridcolor\": \"white\", \"linecolor\": \"white\", \"ticks\": \"\"}, \"baxis\": {\"gridcolor\": \"white\", \"linecolor\": \"white\", \"ticks\": \"\"}, \"bgcolor\": \"#E5ECF6\", \"caxis\": {\"gridcolor\": \"white\", \"linecolor\": \"white\", \"ticks\": \"\"}}, \"title\": {\"x\": 0.05}, \"xaxis\": {\"automargin\": true, \"gridcolor\": \"white\", \"linecolor\": \"white\", \"ticks\": \"\", \"title\": {\"standoff\": 15}, \"zerolinecolor\": \"white\", \"zerolinewidth\": 2}, \"yaxis\": {\"automargin\": true, \"gridcolor\": \"white\", \"linecolor\": \"white\", \"ticks\": \"\", \"title\": {\"standoff\": 15}, \"zerolinecolor\": \"white\", \"zerolinewidth\": 2}}}, \"title\": {\"font\": {\"color\": \"#4D5663\"}}, \"xaxis\": {\"gridcolor\": \"#E1E5ED\", \"showgrid\": true, \"tickfont\": {\"color\": \"#4D5663\"}, \"title\": {\"font\": {\"color\": \"#4D5663\"}, \"text\": \"\"}, \"zerolinecolor\": \"#E1E5ED\"}, \"yaxis\": {\"gridcolor\": \"#E1E5ED\", \"showgrid\": true, \"tickfont\": {\"color\": \"#4D5663\"}, \"title\": {\"font\": {\"color\": \"#4D5663\"}, \"text\": \"\"}, \"zerolinecolor\": \"#E1E5ED\"}},\n",
       "                        {\"showLink\": true, \"linkText\": \"Export to plot.ly\", \"plotlyServerURL\": \"https://plot.ly\", \"responsive\": true}\n",
       "                    ).then(function(){\n",
       "                            \n",
       "var gd = document.getElementById('6df17ea0-b748-4836-ab44-ee8766ce8bf7');\n",
       "var x = new MutationObserver(function (mutations, observer) {{\n",
       "        var display = window.getComputedStyle(gd).display;\n",
       "        if (!display || display === 'none') {{\n",
       "            console.log([gd, 'removed!']);\n",
       "            Plotly.purge(gd);\n",
       "            observer.disconnect();\n",
       "        }}\n",
       "}});\n",
       "\n",
       "// Listen for the removal of the full notebook cells\n",
       "var notebookContainer = gd.closest('#notebook-container');\n",
       "if (notebookContainer) {{\n",
       "    x.observe(notebookContainer, {childList: true});\n",
       "}}\n",
       "\n",
       "// Listen for the clearing of the current output cell\n",
       "var outputEl = gd.closest('.output');\n",
       "if (outputEl) {{\n",
       "    x.observe(outputEl, {childList: true});\n",
       "}}\n",
       "\n",
       "                        })\n",
       "                };\n",
       "                });\n",
       "            </script>\n",
       "        </div>"
      ]
     },
     "metadata": {},
     "output_type": "display_data"
    }
   ],
   "source": [
    "#In case of numerical columns, we need to do some aggregation to plot the bar plot\n",
    "\n",
    "\n",
    "df.count().iplot(kind='bar')"
   ]
  },
  {
   "cell_type": "code",
   "execution_count": 26,
   "metadata": {},
   "outputs": [
    {
     "data": {
      "application/vnd.plotly.v1+json": {
       "config": {
        "linkText": "Export to plot.ly",
        "plotlyServerURL": "https://plot.ly",
        "showLink": true
       },
       "data": [
        {
         "marker": {
          "color": "rgba(255, 153, 51, 0.6)",
          "line": {
           "color": "rgba(255, 153, 51, 1.0)",
           "width": 1
          }
         },
         "name": "None",
         "orientation": "v",
         "text": "",
         "type": "bar",
         "x": [
          "A",
          "B",
          "C",
          "D"
         ],
         "y": [
          -2.0461369099955724,
          -16.89815985985854,
          -2.555742755528199,
          3.591530903496003
         ]
        }
       ],
       "layout": {
        "legend": {
         "bgcolor": "#F5F6F9",
         "font": {
          "color": "#4D5663"
         }
        },
        "paper_bgcolor": "#F5F6F9",
        "plot_bgcolor": "#F5F6F9",
        "template": {
         "data": {
          "bar": [
           {
            "error_x": {
             "color": "#2a3f5f"
            },
            "error_y": {
             "color": "#2a3f5f"
            },
            "marker": {
             "line": {
              "color": "#E5ECF6",
              "width": 0.5
             }
            },
            "type": "bar"
           }
          ],
          "barpolar": [
           {
            "marker": {
             "line": {
              "color": "#E5ECF6",
              "width": 0.5
             }
            },
            "type": "barpolar"
           }
          ],
          "carpet": [
           {
            "aaxis": {
             "endlinecolor": "#2a3f5f",
             "gridcolor": "white",
             "linecolor": "white",
             "minorgridcolor": "white",
             "startlinecolor": "#2a3f5f"
            },
            "baxis": {
             "endlinecolor": "#2a3f5f",
             "gridcolor": "white",
             "linecolor": "white",
             "minorgridcolor": "white",
             "startlinecolor": "#2a3f5f"
            },
            "type": "carpet"
           }
          ],
          "choropleth": [
           {
            "colorbar": {
             "outlinewidth": 0,
             "ticks": ""
            },
            "type": "choropleth"
           }
          ],
          "contour": [
           {
            "colorbar": {
             "outlinewidth": 0,
             "ticks": ""
            },
            "colorscale": [
             [
              0,
              "#0d0887"
             ],
             [
              0.1111111111111111,
              "#46039f"
             ],
             [
              0.2222222222222222,
              "#7201a8"
             ],
             [
              0.3333333333333333,
              "#9c179e"
             ],
             [
              0.4444444444444444,
              "#bd3786"
             ],
             [
              0.5555555555555556,
              "#d8576b"
             ],
             [
              0.6666666666666666,
              "#ed7953"
             ],
             [
              0.7777777777777778,
              "#fb9f3a"
             ],
             [
              0.8888888888888888,
              "#fdca26"
             ],
             [
              1,
              "#f0f921"
             ]
            ],
            "type": "contour"
           }
          ],
          "contourcarpet": [
           {
            "colorbar": {
             "outlinewidth": 0,
             "ticks": ""
            },
            "type": "contourcarpet"
           }
          ],
          "heatmap": [
           {
            "colorbar": {
             "outlinewidth": 0,
             "ticks": ""
            },
            "colorscale": [
             [
              0,
              "#0d0887"
             ],
             [
              0.1111111111111111,
              "#46039f"
             ],
             [
              0.2222222222222222,
              "#7201a8"
             ],
             [
              0.3333333333333333,
              "#9c179e"
             ],
             [
              0.4444444444444444,
              "#bd3786"
             ],
             [
              0.5555555555555556,
              "#d8576b"
             ],
             [
              0.6666666666666666,
              "#ed7953"
             ],
             [
              0.7777777777777778,
              "#fb9f3a"
             ],
             [
              0.8888888888888888,
              "#fdca26"
             ],
             [
              1,
              "#f0f921"
             ]
            ],
            "type": "heatmap"
           }
          ],
          "heatmapgl": [
           {
            "colorbar": {
             "outlinewidth": 0,
             "ticks": ""
            },
            "colorscale": [
             [
              0,
              "#0d0887"
             ],
             [
              0.1111111111111111,
              "#46039f"
             ],
             [
              0.2222222222222222,
              "#7201a8"
             ],
             [
              0.3333333333333333,
              "#9c179e"
             ],
             [
              0.4444444444444444,
              "#bd3786"
             ],
             [
              0.5555555555555556,
              "#d8576b"
             ],
             [
              0.6666666666666666,
              "#ed7953"
             ],
             [
              0.7777777777777778,
              "#fb9f3a"
             ],
             [
              0.8888888888888888,
              "#fdca26"
             ],
             [
              1,
              "#f0f921"
             ]
            ],
            "type": "heatmapgl"
           }
          ],
          "histogram": [
           {
            "marker": {
             "colorbar": {
              "outlinewidth": 0,
              "ticks": ""
             }
            },
            "type": "histogram"
           }
          ],
          "histogram2d": [
           {
            "colorbar": {
             "outlinewidth": 0,
             "ticks": ""
            },
            "colorscale": [
             [
              0,
              "#0d0887"
             ],
             [
              0.1111111111111111,
              "#46039f"
             ],
             [
              0.2222222222222222,
              "#7201a8"
             ],
             [
              0.3333333333333333,
              "#9c179e"
             ],
             [
              0.4444444444444444,
              "#bd3786"
             ],
             [
              0.5555555555555556,
              "#d8576b"
             ],
             [
              0.6666666666666666,
              "#ed7953"
             ],
             [
              0.7777777777777778,
              "#fb9f3a"
             ],
             [
              0.8888888888888888,
              "#fdca26"
             ],
             [
              1,
              "#f0f921"
             ]
            ],
            "type": "histogram2d"
           }
          ],
          "histogram2dcontour": [
           {
            "colorbar": {
             "outlinewidth": 0,
             "ticks": ""
            },
            "colorscale": [
             [
              0,
              "#0d0887"
             ],
             [
              0.1111111111111111,
              "#46039f"
             ],
             [
              0.2222222222222222,
              "#7201a8"
             ],
             [
              0.3333333333333333,
              "#9c179e"
             ],
             [
              0.4444444444444444,
              "#bd3786"
             ],
             [
              0.5555555555555556,
              "#d8576b"
             ],
             [
              0.6666666666666666,
              "#ed7953"
             ],
             [
              0.7777777777777778,
              "#fb9f3a"
             ],
             [
              0.8888888888888888,
              "#fdca26"
             ],
             [
              1,
              "#f0f921"
             ]
            ],
            "type": "histogram2dcontour"
           }
          ],
          "mesh3d": [
           {
            "colorbar": {
             "outlinewidth": 0,
             "ticks": ""
            },
            "type": "mesh3d"
           }
          ],
          "parcoords": [
           {
            "line": {
             "colorbar": {
              "outlinewidth": 0,
              "ticks": ""
             }
            },
            "type": "parcoords"
           }
          ],
          "pie": [
           {
            "automargin": true,
            "type": "pie"
           }
          ],
          "scatter": [
           {
            "marker": {
             "colorbar": {
              "outlinewidth": 0,
              "ticks": ""
             }
            },
            "type": "scatter"
           }
          ],
          "scatter3d": [
           {
            "line": {
             "colorbar": {
              "outlinewidth": 0,
              "ticks": ""
             }
            },
            "marker": {
             "colorbar": {
              "outlinewidth": 0,
              "ticks": ""
             }
            },
            "type": "scatter3d"
           }
          ],
          "scattercarpet": [
           {
            "marker": {
             "colorbar": {
              "outlinewidth": 0,
              "ticks": ""
             }
            },
            "type": "scattercarpet"
           }
          ],
          "scattergeo": [
           {
            "marker": {
             "colorbar": {
              "outlinewidth": 0,
              "ticks": ""
             }
            },
            "type": "scattergeo"
           }
          ],
          "scattergl": [
           {
            "marker": {
             "colorbar": {
              "outlinewidth": 0,
              "ticks": ""
             }
            },
            "type": "scattergl"
           }
          ],
          "scattermapbox": [
           {
            "marker": {
             "colorbar": {
              "outlinewidth": 0,
              "ticks": ""
             }
            },
            "type": "scattermapbox"
           }
          ],
          "scatterpolar": [
           {
            "marker": {
             "colorbar": {
              "outlinewidth": 0,
              "ticks": ""
             }
            },
            "type": "scatterpolar"
           }
          ],
          "scatterpolargl": [
           {
            "marker": {
             "colorbar": {
              "outlinewidth": 0,
              "ticks": ""
             }
            },
            "type": "scatterpolargl"
           }
          ],
          "scatterternary": [
           {
            "marker": {
             "colorbar": {
              "outlinewidth": 0,
              "ticks": ""
             }
            },
            "type": "scatterternary"
           }
          ],
          "surface": [
           {
            "colorbar": {
             "outlinewidth": 0,
             "ticks": ""
            },
            "colorscale": [
             [
              0,
              "#0d0887"
             ],
             [
              0.1111111111111111,
              "#46039f"
             ],
             [
              0.2222222222222222,
              "#7201a8"
             ],
             [
              0.3333333333333333,
              "#9c179e"
             ],
             [
              0.4444444444444444,
              "#bd3786"
             ],
             [
              0.5555555555555556,
              "#d8576b"
             ],
             [
              0.6666666666666666,
              "#ed7953"
             ],
             [
              0.7777777777777778,
              "#fb9f3a"
             ],
             [
              0.8888888888888888,
              "#fdca26"
             ],
             [
              1,
              "#f0f921"
             ]
            ],
            "type": "surface"
           }
          ],
          "table": [
           {
            "cells": {
             "fill": {
              "color": "#EBF0F8"
             },
             "line": {
              "color": "white"
             }
            },
            "header": {
             "fill": {
              "color": "#C8D4E3"
             },
             "line": {
              "color": "white"
             }
            },
            "type": "table"
           }
          ]
         },
         "layout": {
          "annotationdefaults": {
           "arrowcolor": "#2a3f5f",
           "arrowhead": 0,
           "arrowwidth": 1
          },
          "coloraxis": {
           "colorbar": {
            "outlinewidth": 0,
            "ticks": ""
           }
          },
          "colorscale": {
           "diverging": [
            [
             0,
             "#8e0152"
            ],
            [
             0.1,
             "#c51b7d"
            ],
            [
             0.2,
             "#de77ae"
            ],
            [
             0.3,
             "#f1b6da"
            ],
            [
             0.4,
             "#fde0ef"
            ],
            [
             0.5,
             "#f7f7f7"
            ],
            [
             0.6,
             "#e6f5d0"
            ],
            [
             0.7,
             "#b8e186"
            ],
            [
             0.8,
             "#7fbc41"
            ],
            [
             0.9,
             "#4d9221"
            ],
            [
             1,
             "#276419"
            ]
           ],
           "sequential": [
            [
             0,
             "#0d0887"
            ],
            [
             0.1111111111111111,
             "#46039f"
            ],
            [
             0.2222222222222222,
             "#7201a8"
            ],
            [
             0.3333333333333333,
             "#9c179e"
            ],
            [
             0.4444444444444444,
             "#bd3786"
            ],
            [
             0.5555555555555556,
             "#d8576b"
            ],
            [
             0.6666666666666666,
             "#ed7953"
            ],
            [
             0.7777777777777778,
             "#fb9f3a"
            ],
            [
             0.8888888888888888,
             "#fdca26"
            ],
            [
             1,
             "#f0f921"
            ]
           ],
           "sequentialminus": [
            [
             0,
             "#0d0887"
            ],
            [
             0.1111111111111111,
             "#46039f"
            ],
            [
             0.2222222222222222,
             "#7201a8"
            ],
            [
             0.3333333333333333,
             "#9c179e"
            ],
            [
             0.4444444444444444,
             "#bd3786"
            ],
            [
             0.5555555555555556,
             "#d8576b"
            ],
            [
             0.6666666666666666,
             "#ed7953"
            ],
            [
             0.7777777777777778,
             "#fb9f3a"
            ],
            [
             0.8888888888888888,
             "#fdca26"
            ],
            [
             1,
             "#f0f921"
            ]
           ]
          },
          "colorway": [
           "#636efa",
           "#EF553B",
           "#00cc96",
           "#ab63fa",
           "#FFA15A",
           "#19d3f3",
           "#FF6692",
           "#B6E880",
           "#FF97FF",
           "#FECB52"
          ],
          "font": {
           "color": "#2a3f5f"
          },
          "geo": {
           "bgcolor": "white",
           "lakecolor": "white",
           "landcolor": "#E5ECF6",
           "showlakes": true,
           "showland": true,
           "subunitcolor": "white"
          },
          "hoverlabel": {
           "align": "left"
          },
          "hovermode": "closest",
          "mapbox": {
           "style": "light"
          },
          "paper_bgcolor": "white",
          "plot_bgcolor": "#E5ECF6",
          "polar": {
           "angularaxis": {
            "gridcolor": "white",
            "linecolor": "white",
            "ticks": ""
           },
           "bgcolor": "#E5ECF6",
           "radialaxis": {
            "gridcolor": "white",
            "linecolor": "white",
            "ticks": ""
           }
          },
          "scene": {
           "xaxis": {
            "backgroundcolor": "#E5ECF6",
            "gridcolor": "white",
            "gridwidth": 2,
            "linecolor": "white",
            "showbackground": true,
            "ticks": "",
            "zerolinecolor": "white"
           },
           "yaxis": {
            "backgroundcolor": "#E5ECF6",
            "gridcolor": "white",
            "gridwidth": 2,
            "linecolor": "white",
            "showbackground": true,
            "ticks": "",
            "zerolinecolor": "white"
           },
           "zaxis": {
            "backgroundcolor": "#E5ECF6",
            "gridcolor": "white",
            "gridwidth": 2,
            "linecolor": "white",
            "showbackground": true,
            "ticks": "",
            "zerolinecolor": "white"
           }
          },
          "shapedefaults": {
           "line": {
            "color": "#2a3f5f"
           }
          },
          "ternary": {
           "aaxis": {
            "gridcolor": "white",
            "linecolor": "white",
            "ticks": ""
           },
           "baxis": {
            "gridcolor": "white",
            "linecolor": "white",
            "ticks": ""
           },
           "bgcolor": "#E5ECF6",
           "caxis": {
            "gridcolor": "white",
            "linecolor": "white",
            "ticks": ""
           }
          },
          "title": {
           "x": 0.05
          },
          "xaxis": {
           "automargin": true,
           "gridcolor": "white",
           "linecolor": "white",
           "ticks": "",
           "title": {
            "standoff": 15
           },
           "zerolinecolor": "white",
           "zerolinewidth": 2
          },
          "yaxis": {
           "automargin": true,
           "gridcolor": "white",
           "linecolor": "white",
           "ticks": "",
           "title": {
            "standoff": 15
           },
           "zerolinecolor": "white",
           "zerolinewidth": 2
          }
         }
        },
        "title": {
         "font": {
          "color": "#4D5663"
         }
        },
        "xaxis": {
         "gridcolor": "#E1E5ED",
         "showgrid": true,
         "tickfont": {
          "color": "#4D5663"
         },
         "title": {
          "font": {
           "color": "#4D5663"
          },
          "text": ""
         },
         "zerolinecolor": "#E1E5ED"
        },
        "yaxis": {
         "gridcolor": "#E1E5ED",
         "showgrid": true,
         "tickfont": {
          "color": "#4D5663"
         },
         "title": {
          "font": {
           "color": "#4D5663"
          },
          "text": ""
         },
         "zerolinecolor": "#E1E5ED"
        }
       }
      },
      "text/html": [
       "<div>\n",
       "        \n",
       "        \n",
       "            <div id=\"0be10833-a82d-4490-bf74-8c6d6091b040\" class=\"plotly-graph-div\" style=\"height:525px; width:100%;\"></div>\n",
       "            <script type=\"text/javascript\">\n",
       "                require([\"plotly\"], function(Plotly) {\n",
       "                    window.PLOTLYENV=window.PLOTLYENV || {};\n",
       "                    window.PLOTLYENV.BASE_URL='https://plot.ly';\n",
       "                    \n",
       "                if (document.getElementById(\"0be10833-a82d-4490-bf74-8c6d6091b040\")) {\n",
       "                    Plotly.newPlot(\n",
       "                        '0be10833-a82d-4490-bf74-8c6d6091b040',\n",
       "                        [{\"marker\": {\"color\": \"rgba(255, 153, 51, 0.6)\", \"line\": {\"color\": \"rgba(255, 153, 51, 1.0)\", \"width\": 1}}, \"name\": \"None\", \"orientation\": \"v\", \"text\": \"\", \"type\": \"bar\", \"x\": [\"A\", \"B\", \"C\", \"D\"], \"y\": [-2.0461369099955724, -16.89815985985854, -2.555742755528199, 3.591530903496003]}],\n",
       "                        {\"legend\": {\"bgcolor\": \"#F5F6F9\", \"font\": {\"color\": \"#4D5663\"}}, \"paper_bgcolor\": \"#F5F6F9\", \"plot_bgcolor\": \"#F5F6F9\", \"template\": {\"data\": {\"bar\": [{\"error_x\": {\"color\": \"#2a3f5f\"}, \"error_y\": {\"color\": \"#2a3f5f\"}, \"marker\": {\"line\": {\"color\": \"#E5ECF6\", \"width\": 0.5}}, \"type\": \"bar\"}], \"barpolar\": [{\"marker\": {\"line\": {\"color\": \"#E5ECF6\", \"width\": 0.5}}, \"type\": \"barpolar\"}], \"carpet\": [{\"aaxis\": {\"endlinecolor\": \"#2a3f5f\", \"gridcolor\": \"white\", \"linecolor\": \"white\", \"minorgridcolor\": \"white\", \"startlinecolor\": \"#2a3f5f\"}, \"baxis\": {\"endlinecolor\": \"#2a3f5f\", \"gridcolor\": \"white\", \"linecolor\": \"white\", \"minorgridcolor\": \"white\", \"startlinecolor\": \"#2a3f5f\"}, \"type\": \"carpet\"}], \"choropleth\": [{\"colorbar\": {\"outlinewidth\": 0, \"ticks\": \"\"}, \"type\": \"choropleth\"}], \"contour\": [{\"colorbar\": {\"outlinewidth\": 0, \"ticks\": \"\"}, \"colorscale\": [[0.0, \"#0d0887\"], [0.1111111111111111, \"#46039f\"], [0.2222222222222222, \"#7201a8\"], [0.3333333333333333, \"#9c179e\"], [0.4444444444444444, \"#bd3786\"], [0.5555555555555556, \"#d8576b\"], [0.6666666666666666, \"#ed7953\"], [0.7777777777777778, \"#fb9f3a\"], [0.8888888888888888, \"#fdca26\"], [1.0, \"#f0f921\"]], \"type\": \"contour\"}], \"contourcarpet\": [{\"colorbar\": {\"outlinewidth\": 0, \"ticks\": \"\"}, \"type\": \"contourcarpet\"}], \"heatmap\": [{\"colorbar\": {\"outlinewidth\": 0, \"ticks\": \"\"}, \"colorscale\": [[0.0, \"#0d0887\"], [0.1111111111111111, \"#46039f\"], [0.2222222222222222, \"#7201a8\"], [0.3333333333333333, \"#9c179e\"], [0.4444444444444444, \"#bd3786\"], [0.5555555555555556, \"#d8576b\"], [0.6666666666666666, \"#ed7953\"], [0.7777777777777778, \"#fb9f3a\"], [0.8888888888888888, \"#fdca26\"], [1.0, \"#f0f921\"]], \"type\": \"heatmap\"}], \"heatmapgl\": [{\"colorbar\": {\"outlinewidth\": 0, \"ticks\": \"\"}, \"colorscale\": [[0.0, \"#0d0887\"], [0.1111111111111111, \"#46039f\"], [0.2222222222222222, \"#7201a8\"], [0.3333333333333333, \"#9c179e\"], [0.4444444444444444, \"#bd3786\"], [0.5555555555555556, \"#d8576b\"], [0.6666666666666666, \"#ed7953\"], [0.7777777777777778, \"#fb9f3a\"], [0.8888888888888888, \"#fdca26\"], [1.0, \"#f0f921\"]], \"type\": \"heatmapgl\"}], \"histogram\": [{\"marker\": {\"colorbar\": {\"outlinewidth\": 0, \"ticks\": \"\"}}, \"type\": \"histogram\"}], \"histogram2d\": [{\"colorbar\": {\"outlinewidth\": 0, \"ticks\": \"\"}, \"colorscale\": [[0.0, \"#0d0887\"], [0.1111111111111111, \"#46039f\"], [0.2222222222222222, \"#7201a8\"], [0.3333333333333333, \"#9c179e\"], [0.4444444444444444, \"#bd3786\"], [0.5555555555555556, \"#d8576b\"], [0.6666666666666666, \"#ed7953\"], [0.7777777777777778, \"#fb9f3a\"], [0.8888888888888888, \"#fdca26\"], [1.0, \"#f0f921\"]], \"type\": \"histogram2d\"}], \"histogram2dcontour\": [{\"colorbar\": {\"outlinewidth\": 0, \"ticks\": \"\"}, \"colorscale\": [[0.0, \"#0d0887\"], [0.1111111111111111, \"#46039f\"], [0.2222222222222222, \"#7201a8\"], [0.3333333333333333, \"#9c179e\"], [0.4444444444444444, \"#bd3786\"], [0.5555555555555556, \"#d8576b\"], [0.6666666666666666, \"#ed7953\"], [0.7777777777777778, \"#fb9f3a\"], [0.8888888888888888, \"#fdca26\"], [1.0, \"#f0f921\"]], \"type\": \"histogram2dcontour\"}], \"mesh3d\": [{\"colorbar\": {\"outlinewidth\": 0, \"ticks\": \"\"}, \"type\": \"mesh3d\"}], \"parcoords\": [{\"line\": {\"colorbar\": {\"outlinewidth\": 0, \"ticks\": \"\"}}, \"type\": \"parcoords\"}], \"pie\": [{\"automargin\": true, \"type\": \"pie\"}], \"scatter\": [{\"marker\": {\"colorbar\": {\"outlinewidth\": 0, \"ticks\": \"\"}}, \"type\": \"scatter\"}], \"scatter3d\": [{\"line\": {\"colorbar\": {\"outlinewidth\": 0, \"ticks\": \"\"}}, \"marker\": {\"colorbar\": {\"outlinewidth\": 0, \"ticks\": \"\"}}, \"type\": \"scatter3d\"}], \"scattercarpet\": [{\"marker\": {\"colorbar\": {\"outlinewidth\": 0, \"ticks\": \"\"}}, \"type\": \"scattercarpet\"}], \"scattergeo\": [{\"marker\": {\"colorbar\": {\"outlinewidth\": 0, \"ticks\": \"\"}}, \"type\": \"scattergeo\"}], \"scattergl\": [{\"marker\": {\"colorbar\": {\"outlinewidth\": 0, \"ticks\": \"\"}}, \"type\": \"scattergl\"}], \"scattermapbox\": [{\"marker\": {\"colorbar\": {\"outlinewidth\": 0, \"ticks\": \"\"}}, \"type\": \"scattermapbox\"}], \"scatterpolar\": [{\"marker\": {\"colorbar\": {\"outlinewidth\": 0, \"ticks\": \"\"}}, \"type\": \"scatterpolar\"}], \"scatterpolargl\": [{\"marker\": {\"colorbar\": {\"outlinewidth\": 0, \"ticks\": \"\"}}, \"type\": \"scatterpolargl\"}], \"scatterternary\": [{\"marker\": {\"colorbar\": {\"outlinewidth\": 0, \"ticks\": \"\"}}, \"type\": \"scatterternary\"}], \"surface\": [{\"colorbar\": {\"outlinewidth\": 0, \"ticks\": \"\"}, \"colorscale\": [[0.0, \"#0d0887\"], [0.1111111111111111, \"#46039f\"], [0.2222222222222222, \"#7201a8\"], [0.3333333333333333, \"#9c179e\"], [0.4444444444444444, \"#bd3786\"], [0.5555555555555556, \"#d8576b\"], [0.6666666666666666, \"#ed7953\"], [0.7777777777777778, \"#fb9f3a\"], [0.8888888888888888, \"#fdca26\"], [1.0, \"#f0f921\"]], \"type\": \"surface\"}], \"table\": [{\"cells\": {\"fill\": {\"color\": \"#EBF0F8\"}, \"line\": {\"color\": \"white\"}}, \"header\": {\"fill\": {\"color\": \"#C8D4E3\"}, \"line\": {\"color\": \"white\"}}, \"type\": \"table\"}]}, \"layout\": {\"annotationdefaults\": {\"arrowcolor\": \"#2a3f5f\", \"arrowhead\": 0, \"arrowwidth\": 1}, \"coloraxis\": {\"colorbar\": {\"outlinewidth\": 0, \"ticks\": \"\"}}, \"colorscale\": {\"diverging\": [[0, \"#8e0152\"], [0.1, \"#c51b7d\"], [0.2, \"#de77ae\"], [0.3, \"#f1b6da\"], [0.4, \"#fde0ef\"], [0.5, \"#f7f7f7\"], [0.6, \"#e6f5d0\"], [0.7, \"#b8e186\"], [0.8, \"#7fbc41\"], [0.9, \"#4d9221\"], [1, \"#276419\"]], \"sequential\": [[0.0, \"#0d0887\"], [0.1111111111111111, \"#46039f\"], [0.2222222222222222, \"#7201a8\"], [0.3333333333333333, \"#9c179e\"], [0.4444444444444444, \"#bd3786\"], [0.5555555555555556, \"#d8576b\"], [0.6666666666666666, \"#ed7953\"], [0.7777777777777778, \"#fb9f3a\"], [0.8888888888888888, \"#fdca26\"], [1.0, \"#f0f921\"]], \"sequentialminus\": [[0.0, \"#0d0887\"], [0.1111111111111111, \"#46039f\"], [0.2222222222222222, \"#7201a8\"], [0.3333333333333333, \"#9c179e\"], [0.4444444444444444, \"#bd3786\"], [0.5555555555555556, \"#d8576b\"], [0.6666666666666666, \"#ed7953\"], [0.7777777777777778, \"#fb9f3a\"], [0.8888888888888888, \"#fdca26\"], [1.0, \"#f0f921\"]]}, \"colorway\": [\"#636efa\", \"#EF553B\", \"#00cc96\", \"#ab63fa\", \"#FFA15A\", \"#19d3f3\", \"#FF6692\", \"#B6E880\", \"#FF97FF\", \"#FECB52\"], \"font\": {\"color\": \"#2a3f5f\"}, \"geo\": {\"bgcolor\": \"white\", \"lakecolor\": \"white\", \"landcolor\": \"#E5ECF6\", \"showlakes\": true, \"showland\": true, \"subunitcolor\": \"white\"}, \"hoverlabel\": {\"align\": \"left\"}, \"hovermode\": \"closest\", \"mapbox\": {\"style\": \"light\"}, \"paper_bgcolor\": \"white\", \"plot_bgcolor\": \"#E5ECF6\", \"polar\": {\"angularaxis\": {\"gridcolor\": \"white\", \"linecolor\": \"white\", \"ticks\": \"\"}, \"bgcolor\": \"#E5ECF6\", \"radialaxis\": {\"gridcolor\": \"white\", \"linecolor\": \"white\", \"ticks\": \"\"}}, \"scene\": {\"xaxis\": {\"backgroundcolor\": \"#E5ECF6\", \"gridcolor\": \"white\", \"gridwidth\": 2, \"linecolor\": \"white\", \"showbackground\": true, \"ticks\": \"\", \"zerolinecolor\": \"white\"}, \"yaxis\": {\"backgroundcolor\": \"#E5ECF6\", \"gridcolor\": \"white\", \"gridwidth\": 2, \"linecolor\": \"white\", \"showbackground\": true, \"ticks\": \"\", \"zerolinecolor\": \"white\"}, \"zaxis\": {\"backgroundcolor\": \"#E5ECF6\", \"gridcolor\": \"white\", \"gridwidth\": 2, \"linecolor\": \"white\", \"showbackground\": true, \"ticks\": \"\", \"zerolinecolor\": \"white\"}}, \"shapedefaults\": {\"line\": {\"color\": \"#2a3f5f\"}}, \"ternary\": {\"aaxis\": {\"gridcolor\": \"white\", \"linecolor\": \"white\", \"ticks\": \"\"}, \"baxis\": {\"gridcolor\": \"white\", \"linecolor\": \"white\", \"ticks\": \"\"}, \"bgcolor\": \"#E5ECF6\", \"caxis\": {\"gridcolor\": \"white\", \"linecolor\": \"white\", \"ticks\": \"\"}}, \"title\": {\"x\": 0.05}, \"xaxis\": {\"automargin\": true, \"gridcolor\": \"white\", \"linecolor\": \"white\", \"ticks\": \"\", \"title\": {\"standoff\": 15}, \"zerolinecolor\": \"white\", \"zerolinewidth\": 2}, \"yaxis\": {\"automargin\": true, \"gridcolor\": \"white\", \"linecolor\": \"white\", \"ticks\": \"\", \"title\": {\"standoff\": 15}, \"zerolinecolor\": \"white\", \"zerolinewidth\": 2}}}, \"title\": {\"font\": {\"color\": \"#4D5663\"}}, \"xaxis\": {\"gridcolor\": \"#E1E5ED\", \"showgrid\": true, \"tickfont\": {\"color\": \"#4D5663\"}, \"title\": {\"font\": {\"color\": \"#4D5663\"}, \"text\": \"\"}, \"zerolinecolor\": \"#E1E5ED\"}, \"yaxis\": {\"gridcolor\": \"#E1E5ED\", \"showgrid\": true, \"tickfont\": {\"color\": \"#4D5663\"}, \"title\": {\"font\": {\"color\": \"#4D5663\"}, \"text\": \"\"}, \"zerolinecolor\": \"#E1E5ED\"}},\n",
       "                        {\"showLink\": true, \"linkText\": \"Export to plot.ly\", \"plotlyServerURL\": \"https://plot.ly\", \"responsive\": true}\n",
       "                    ).then(function(){\n",
       "                            \n",
       "var gd = document.getElementById('0be10833-a82d-4490-bf74-8c6d6091b040');\n",
       "var x = new MutationObserver(function (mutations, observer) {{\n",
       "        var display = window.getComputedStyle(gd).display;\n",
       "        if (!display || display === 'none') {{\n",
       "            console.log([gd, 'removed!']);\n",
       "            Plotly.purge(gd);\n",
       "            observer.disconnect();\n",
       "        }}\n",
       "}});\n",
       "\n",
       "// Listen for the removal of the full notebook cells\n",
       "var notebookContainer = gd.closest('#notebook-container');\n",
       "if (notebookContainer) {{\n",
       "    x.observe(notebookContainer, {childList: true});\n",
       "}}\n",
       "\n",
       "// Listen for the clearing of the current output cell\n",
       "var outputEl = gd.closest('.output');\n",
       "if (outputEl) {{\n",
       "    x.observe(outputEl, {childList: true});\n",
       "}}\n",
       "\n",
       "                        })\n",
       "                };\n",
       "                });\n",
       "            </script>\n",
       "        </div>"
      ]
     },
     "metadata": {},
     "output_type": "display_data"
    }
   ],
   "source": [
    "\n",
    "df.sum().iplot(kind='bar')"
   ]
  },
  {
   "cell_type": "code",
   "execution_count": 27,
   "metadata": {},
   "outputs": [
    {
     "data": {
      "application/vnd.plotly.v1+json": {
       "config": {
        "linkText": "Export to plot.ly",
        "plotlyServerURL": "https://plot.ly",
        "showLink": true
       },
       "data": [
        {
         "boxpoints": false,
         "line": {
          "width": 1.3
         },
         "marker": {
          "color": "rgba(255, 153, 51, 1.0)"
         },
         "name": "A",
         "orientation": "v",
         "type": "box",
         "y": [
          -0.24200640252741798,
          -0.9352878538108119,
          0.027388841991728325,
          -0.1819147191636028,
          1.0220939910254634,
          -2.5043642881046715,
          -0.31178537143269014,
          -0.27461685256679524,
          1.0543329194274218,
          0.3914427901382899,
          -1.441136423378452,
          1.915385670890251,
          1.0612013772594604,
          -1.3257408567553322,
          0.30134531166233225,
          0.13394694504780527,
          0.012414377790086016,
          -0.562666842819727,
          -2.1360295145840436,
          0.35120093080140075,
          -1.064081139900174,
          0.28589172652849776,
          -0.4836939196007413,
          -0.34394615357419,
          -0.00290307679785654,
          -1.14598078661371,
          0.3534869579588663,
          -0.8319610105553975,
          -0.589016049936948,
          -1.2072376829173481,
          0.2899195261165965,
          2.4927642854600336,
          -0.026883405147536468,
          1.0847247380259522,
          -0.4185054870473495,
          -1.7001290191162755,
          -0.6631138255023695,
          -1.3977215756251955,
          0.4455411861792529,
          0.30197911688308654,
          -0.2261709832051633,
          -0.1710396088940495,
          1.4433380795926118,
          0.530847712833768,
          0.961866271646887,
          1.2941998843821159,
          1.0216519281617251,
          1.6208258662004693,
          0.5421996729638662,
          0.13349040574255092,
          0.011698411413139344,
          0.3243929093413252,
          0.326055891967591,
          -1.857943472441847,
          -0.30463758552150405,
          -0.8808632160511382,
          0.5239216903007925,
          0.9834386074104604,
          1.4396406440418086,
          -0.257708302017176,
          0.829152364017514,
          -0.3546228497011296,
          0.5561073129790329,
          -0.12952762277766025,
          -0.8591907520878445,
          -0.11880680844042457,
          0.16303119021191692,
          1.5420497685582935,
          -0.952295004519987,
          1.3149511788637551,
          0.1793165206361868,
          0.39153581454967,
          0.40918112144156693,
          -0.1746866446198252,
          -0.27734651150838513,
          0.6868843028329731,
          -0.530086144552545,
          1.0225358547499583,
          1.0811481712042423,
          0.2860430974355543,
          -0.5235381746515275,
          -0.5030792474726582,
          0.17829313427772936,
          0.3689593426878984,
          0.8974440778903857,
          -0.2957284041584042,
          -1.0028423302906537,
          -0.4381398352349791,
          1.3607909151527158,
          -0.6508323686744798,
          -0.011964165734617253,
          1.350700373666675,
          -1.3173489072094142,
          -0.1409314948821588,
          -0.22547794130900795,
          1.3708181316671681,
          -1.829079525865196,
          -1.709605077000469,
          -2.0915084931810624,
          -1.0919845225225022
         ]
        },
        {
         "boxpoints": false,
         "line": {
          "width": 1.3
         },
         "marker": {
          "color": "rgba(55, 128, 191, 1.0)"
         },
         "name": "B",
         "orientation": "v",
         "type": "box",
         "y": [
          0.5038966296896649,
          -0.6402432132700927,
          -0.046084521044311134,
          2.2664478783920683,
          0.9477353340492846,
          -0.614880202117463,
          -1.6423022200466404,
          -0.5506536135023554,
          0.5784162871305017,
          1.2635114897067978,
          -1.4963273936516859,
          -1.6115050059592841,
          -0.46441376428471964,
          -1.0227066828446538,
          0.9350020037598924,
          0.38227490517607154,
          2.4302360193947536,
          -1.3161131598068214,
          -1.2982968542416018,
          -0.13265819926035488,
          -0.7038606550102939,
          -0.2209763016023666,
          0.9345495975185338,
          1.0095771347136155,
          -0.9434848398914922,
          -0.0652309643019826,
          1.339454873313897,
          -1.041460847515743,
          -0.6544215716422075,
          -0.6086375499446177,
          0.012736190202873435,
          -0.8033846548321574,
          -0.1523522799250349,
          -0.5912413700796505,
          -1.427089639295129,
          -0.2764544125199372,
          -0.4502946295633157,
          -0.3968453730357518,
          0.0008621038702756964,
          -0.6860921613608862,
          0.2148442500563389,
          -0.3965507564693599,
          -1.580565695259094,
          -0.6886015208288447,
          -0.19922535695751326,
          -1.300702016080167,
          0.8242157825252651,
          -0.3012421823694876,
          0.25194677497620255,
          -0.70194952275731,
          0.4899170779278613,
          -1.1735718832175956,
          -0.09730938850281483,
          -0.3296320457351763,
          0.6486586398947655,
          -1.4424157416670944,
          0.05808274371576219,
          -0.23849797529827363,
          -0.08816774745216509,
          -0.21844032759229703,
          0.232829730943407,
          -0.8574261372665845,
          -0.6448024783666553,
          0.04393697665503743,
          -0.9570215870458508,
          0.014303354983442854,
          -1.2418935875107275,
          0.35919198953731796,
          -0.8741166986646901,
          1.029193048664084,
          0.6521119689469097,
          -0.9868637243393551,
          0.01573171501393248,
          0.4984004502783877,
          -0.6326102152728523,
          -1.126999452904778,
          1.5111832744616316,
          -0.5362773785464199,
          -0.9171718630254313,
          -1.7903024971797645,
          0.33929301647279025,
          0.456425947566487,
          0.42651392121564213,
          0.3026441119122942,
          -0.3979126650758561,
          -1.3931863975895338,
          -0.7551173004643796,
          1.432726180997327,
          1.0706620899027854,
          2.054268754109293,
          0.20114830502964962,
          0.4683070160993021,
          0.6937735075316896,
          -0.7714541780919164,
          -2.2640923269889983,
          1.1699990427947233,
          -0.688947311971546,
          -0.10920382633628391,
          0.4329725303136423,
          0.16414135807661928
         ]
        },
        {
         "boxpoints": false,
         "line": {
          "width": 1.3
         },
         "marker": {
          "color": "rgba(50, 171, 96, 1.0)"
         },
         "name": "C",
         "orientation": "v",
         "type": "box",
         "y": [
          -0.0815347408742451,
          -0.5077649874988244,
          -0.06783904671905902,
          0.21062879208003074,
          0.38573975804107985,
          -0.42360398570600855,
          1.126717880451138,
          0.4353040461859579,
          -0.16601683108397614,
          0.20112069662041537,
          -0.9833596189946507,
          0.08798596302378772,
          -0.7032347433409032,
          -1.5193404907008845,
          0.6898031931166413,
          1.7689481636828148,
          -0.2205547686471449,
          0.706231048131834,
          1.4043000547925377,
          -1.5902270637207583,
          -0.5143664446343622,
          -0.4626087338865982,
          -0.8067031776035528,
          0.5723749949077205,
          -0.26923891560132895,
          1.527390451046774,
          -0.23770574624676455,
          -0.6313622148516641,
          0.24272218133055415,
          0.8594737224447366,
          -0.10153987154467391,
          -1.717481040343149,
          1.0147921385615757,
          0.910054309875966,
          0.28008821090081704,
          -1.73032732075467,
          -0.28032059857314184,
          0.020122614351310953,
          -0.62375902583589,
          -0.3362728984526408,
          -0.08747833013708962,
          1.7631604063434605,
          0.8301295635882725,
          0.08343587737131603,
          0.5477498426940517,
          0.40120705901539583,
          -1.014745792105112,
          -0.5004521513616882,
          0.29818789930043105,
          -0.9809039936952862,
          0.9612354079406753,
          0.14841866854001332,
          -0.8464508896410459,
          -0.49167492702023696,
          1.5381095565937783,
          -0.49089723014232334,
          0.44786229405164624,
          -0.2549100305603017,
          1.1309559744299842,
          -0.47578146796949433,
          0.03741717705911311,
          1.4675174286300103,
          -0.8045759523130023,
          -0.20080564559621938,
          -0.41159970632305587,
          -0.3213075604811162,
          -1.3809187836891244,
          0.9843946553936557,
          -0.6641791667254091,
          -2.668145682918329,
          1.5993922170193002,
          -0.2413458924577472,
          0.8553292191891982,
          -0.14892263793418098,
          0.7810111214371379,
          -1.7989069561723146,
          0.9602172066003379,
          0.2887724586354856,
          1.578662781392761,
          0.14463727492632686,
          0.6570661994938628,
          -0.401899493996044,
          -1.9309247477980442,
          0.9770918792089008,
          0.4898447052731042,
          -0.03318207920985528,
          -0.07467510973904955,
          0.6979736845657323,
          -1.9455591832381112,
          1.0860275040330245,
          -0.1918506689970517,
          -0.6886176684385715,
          -0.20238791595904101,
          0.8843775776516403,
          -0.08382639543647263,
          -0.20340165761830264,
          -1.4445858442180954,
          -0.4892485704502599,
          -0.4716963532959964,
          -0.7187058641996431
         ]
        },
        {
         "boxpoints": false,
         "line": {
          "width": 1.3
         },
         "marker": {
          "color": "rgba(128, 0, 128, 1.0)"
         },
         "name": "D",
         "orientation": "v",
         "type": "box",
         "y": [
          0.35011902790803934,
          -1.130866996845766,
          1.405284017456432,
          -1.8383419387844024,
          0.4765900950509363,
          -0.6713898667241399,
          -1.3185899430154078,
          0.3378607451901761,
          0.6812660236448889,
          -1.0583839844937002,
          0.21565699200799157,
          -0.39395362864556077,
          0.7864893063104716,
          -0.5109287460002682,
          1.3849823826501693,
          0.2656412310236148,
          -0.10532516018872078,
          0.34287931269975025,
          -1.375585888315486,
          -0.21499363349708459,
          1.3334888664607976,
          -0.4369653145103137,
          -1.1586555422237812,
          1.4302164537345452,
          -0.36780045273821715,
          -0.3692686528252982,
          -1.197000247649865,
          1.274993547734382,
          0.035822369915254726,
          -2.134053502281586,
          -1.3980532184794499,
          1.1928982293240424,
          -0.6633007278151068,
          0.7918241967649958,
          0.49424181834881475,
          -0.031805503187669164,
          -0.32943044867987525,
          0.03790470052222459,
          -0.22342106187880453,
          1.5366750148475983,
          -0.9496741075144404,
          0.03228590529755793,
          2.038895422480149,
          0.8886414845324146,
          -0.41147293507101385,
          -0.9311556393251326,
          0.5626543846304182,
          -0.19711756086049487,
          0.4851560219361143,
          -0.6597978611602378,
          -1.4232224256695793,
          -0.2262457980031783,
          0.9872238659614562,
          -1.1923726907339864,
          -1.500148492942461,
          -0.18599308207191292,
          -0.1654533592379869,
          -0.014656178952166133,
          2.6095406717691456,
          -1.2786216710356257,
          1.234638254186483,
          -0.4405921922176544,
          0.5116843289964375,
          -0.31744975288468247,
          0.3537073991650773,
          0.7593184727176464,
          0.9786571994511789,
          0.42243434646639316,
          -0.3280179290024408,
          -1.0859001215259885,
          -1.0155426234437614,
          0.18841236666978298,
          2.206442621586147,
          0.4722429074452371,
          1.3410013389700695,
          0.6197716938493748,
          -1.5845241954413414,
          -0.40970971262400313,
          0.7823349966285804,
          -0.7379069442536994,
          0.8806573278666577,
          -0.5127245160554915,
          -0.3179367685431994,
          3.0908379636496686,
          -0.9543873202451807,
          0.6764550592398433,
          -1.0324233628058,
          -1.1235452650742854,
          0.8836913358267898,
          1.22175671949375,
          1.3468180419008624,
          1.0956173241965554,
          -2.569890199980508,
          -0.5931116880279594,
          -1.096365880122233,
          0.4415956326673109,
          0.18730582073897895,
          -1.0319362002233652,
          1.643651569409393,
          1.4892770280017191
         ]
        }
       ],
       "layout": {
        "legend": {
         "bgcolor": "#F5F6F9",
         "font": {
          "color": "#4D5663"
         }
        },
        "paper_bgcolor": "#F5F6F9",
        "plot_bgcolor": "#F5F6F9",
        "template": {
         "data": {
          "bar": [
           {
            "error_x": {
             "color": "#2a3f5f"
            },
            "error_y": {
             "color": "#2a3f5f"
            },
            "marker": {
             "line": {
              "color": "#E5ECF6",
              "width": 0.5
             }
            },
            "type": "bar"
           }
          ],
          "barpolar": [
           {
            "marker": {
             "line": {
              "color": "#E5ECF6",
              "width": 0.5
             }
            },
            "type": "barpolar"
           }
          ],
          "carpet": [
           {
            "aaxis": {
             "endlinecolor": "#2a3f5f",
             "gridcolor": "white",
             "linecolor": "white",
             "minorgridcolor": "white",
             "startlinecolor": "#2a3f5f"
            },
            "baxis": {
             "endlinecolor": "#2a3f5f",
             "gridcolor": "white",
             "linecolor": "white",
             "minorgridcolor": "white",
             "startlinecolor": "#2a3f5f"
            },
            "type": "carpet"
           }
          ],
          "choropleth": [
           {
            "colorbar": {
             "outlinewidth": 0,
             "ticks": ""
            },
            "type": "choropleth"
           }
          ],
          "contour": [
           {
            "colorbar": {
             "outlinewidth": 0,
             "ticks": ""
            },
            "colorscale": [
             [
              0,
              "#0d0887"
             ],
             [
              0.1111111111111111,
              "#46039f"
             ],
             [
              0.2222222222222222,
              "#7201a8"
             ],
             [
              0.3333333333333333,
              "#9c179e"
             ],
             [
              0.4444444444444444,
              "#bd3786"
             ],
             [
              0.5555555555555556,
              "#d8576b"
             ],
             [
              0.6666666666666666,
              "#ed7953"
             ],
             [
              0.7777777777777778,
              "#fb9f3a"
             ],
             [
              0.8888888888888888,
              "#fdca26"
             ],
             [
              1,
              "#f0f921"
             ]
            ],
            "type": "contour"
           }
          ],
          "contourcarpet": [
           {
            "colorbar": {
             "outlinewidth": 0,
             "ticks": ""
            },
            "type": "contourcarpet"
           }
          ],
          "heatmap": [
           {
            "colorbar": {
             "outlinewidth": 0,
             "ticks": ""
            },
            "colorscale": [
             [
              0,
              "#0d0887"
             ],
             [
              0.1111111111111111,
              "#46039f"
             ],
             [
              0.2222222222222222,
              "#7201a8"
             ],
             [
              0.3333333333333333,
              "#9c179e"
             ],
             [
              0.4444444444444444,
              "#bd3786"
             ],
             [
              0.5555555555555556,
              "#d8576b"
             ],
             [
              0.6666666666666666,
              "#ed7953"
             ],
             [
              0.7777777777777778,
              "#fb9f3a"
             ],
             [
              0.8888888888888888,
              "#fdca26"
             ],
             [
              1,
              "#f0f921"
             ]
            ],
            "type": "heatmap"
           }
          ],
          "heatmapgl": [
           {
            "colorbar": {
             "outlinewidth": 0,
             "ticks": ""
            },
            "colorscale": [
             [
              0,
              "#0d0887"
             ],
             [
              0.1111111111111111,
              "#46039f"
             ],
             [
              0.2222222222222222,
              "#7201a8"
             ],
             [
              0.3333333333333333,
              "#9c179e"
             ],
             [
              0.4444444444444444,
              "#bd3786"
             ],
             [
              0.5555555555555556,
              "#d8576b"
             ],
             [
              0.6666666666666666,
              "#ed7953"
             ],
             [
              0.7777777777777778,
              "#fb9f3a"
             ],
             [
              0.8888888888888888,
              "#fdca26"
             ],
             [
              1,
              "#f0f921"
             ]
            ],
            "type": "heatmapgl"
           }
          ],
          "histogram": [
           {
            "marker": {
             "colorbar": {
              "outlinewidth": 0,
              "ticks": ""
             }
            },
            "type": "histogram"
           }
          ],
          "histogram2d": [
           {
            "colorbar": {
             "outlinewidth": 0,
             "ticks": ""
            },
            "colorscale": [
             [
              0,
              "#0d0887"
             ],
             [
              0.1111111111111111,
              "#46039f"
             ],
             [
              0.2222222222222222,
              "#7201a8"
             ],
             [
              0.3333333333333333,
              "#9c179e"
             ],
             [
              0.4444444444444444,
              "#bd3786"
             ],
             [
              0.5555555555555556,
              "#d8576b"
             ],
             [
              0.6666666666666666,
              "#ed7953"
             ],
             [
              0.7777777777777778,
              "#fb9f3a"
             ],
             [
              0.8888888888888888,
              "#fdca26"
             ],
             [
              1,
              "#f0f921"
             ]
            ],
            "type": "histogram2d"
           }
          ],
          "histogram2dcontour": [
           {
            "colorbar": {
             "outlinewidth": 0,
             "ticks": ""
            },
            "colorscale": [
             [
              0,
              "#0d0887"
             ],
             [
              0.1111111111111111,
              "#46039f"
             ],
             [
              0.2222222222222222,
              "#7201a8"
             ],
             [
              0.3333333333333333,
              "#9c179e"
             ],
             [
              0.4444444444444444,
              "#bd3786"
             ],
             [
              0.5555555555555556,
              "#d8576b"
             ],
             [
              0.6666666666666666,
              "#ed7953"
             ],
             [
              0.7777777777777778,
              "#fb9f3a"
             ],
             [
              0.8888888888888888,
              "#fdca26"
             ],
             [
              1,
              "#f0f921"
             ]
            ],
            "type": "histogram2dcontour"
           }
          ],
          "mesh3d": [
           {
            "colorbar": {
             "outlinewidth": 0,
             "ticks": ""
            },
            "type": "mesh3d"
           }
          ],
          "parcoords": [
           {
            "line": {
             "colorbar": {
              "outlinewidth": 0,
              "ticks": ""
             }
            },
            "type": "parcoords"
           }
          ],
          "pie": [
           {
            "automargin": true,
            "type": "pie"
           }
          ],
          "scatter": [
           {
            "marker": {
             "colorbar": {
              "outlinewidth": 0,
              "ticks": ""
             }
            },
            "type": "scatter"
           }
          ],
          "scatter3d": [
           {
            "line": {
             "colorbar": {
              "outlinewidth": 0,
              "ticks": ""
             }
            },
            "marker": {
             "colorbar": {
              "outlinewidth": 0,
              "ticks": ""
             }
            },
            "type": "scatter3d"
           }
          ],
          "scattercarpet": [
           {
            "marker": {
             "colorbar": {
              "outlinewidth": 0,
              "ticks": ""
             }
            },
            "type": "scattercarpet"
           }
          ],
          "scattergeo": [
           {
            "marker": {
             "colorbar": {
              "outlinewidth": 0,
              "ticks": ""
             }
            },
            "type": "scattergeo"
           }
          ],
          "scattergl": [
           {
            "marker": {
             "colorbar": {
              "outlinewidth": 0,
              "ticks": ""
             }
            },
            "type": "scattergl"
           }
          ],
          "scattermapbox": [
           {
            "marker": {
             "colorbar": {
              "outlinewidth": 0,
              "ticks": ""
             }
            },
            "type": "scattermapbox"
           }
          ],
          "scatterpolar": [
           {
            "marker": {
             "colorbar": {
              "outlinewidth": 0,
              "ticks": ""
             }
            },
            "type": "scatterpolar"
           }
          ],
          "scatterpolargl": [
           {
            "marker": {
             "colorbar": {
              "outlinewidth": 0,
              "ticks": ""
             }
            },
            "type": "scatterpolargl"
           }
          ],
          "scatterternary": [
           {
            "marker": {
             "colorbar": {
              "outlinewidth": 0,
              "ticks": ""
             }
            },
            "type": "scatterternary"
           }
          ],
          "surface": [
           {
            "colorbar": {
             "outlinewidth": 0,
             "ticks": ""
            },
            "colorscale": [
             [
              0,
              "#0d0887"
             ],
             [
              0.1111111111111111,
              "#46039f"
             ],
             [
              0.2222222222222222,
              "#7201a8"
             ],
             [
              0.3333333333333333,
              "#9c179e"
             ],
             [
              0.4444444444444444,
              "#bd3786"
             ],
             [
              0.5555555555555556,
              "#d8576b"
             ],
             [
              0.6666666666666666,
              "#ed7953"
             ],
             [
              0.7777777777777778,
              "#fb9f3a"
             ],
             [
              0.8888888888888888,
              "#fdca26"
             ],
             [
              1,
              "#f0f921"
             ]
            ],
            "type": "surface"
           }
          ],
          "table": [
           {
            "cells": {
             "fill": {
              "color": "#EBF0F8"
             },
             "line": {
              "color": "white"
             }
            },
            "header": {
             "fill": {
              "color": "#C8D4E3"
             },
             "line": {
              "color": "white"
             }
            },
            "type": "table"
           }
          ]
         },
         "layout": {
          "annotationdefaults": {
           "arrowcolor": "#2a3f5f",
           "arrowhead": 0,
           "arrowwidth": 1
          },
          "coloraxis": {
           "colorbar": {
            "outlinewidth": 0,
            "ticks": ""
           }
          },
          "colorscale": {
           "diverging": [
            [
             0,
             "#8e0152"
            ],
            [
             0.1,
             "#c51b7d"
            ],
            [
             0.2,
             "#de77ae"
            ],
            [
             0.3,
             "#f1b6da"
            ],
            [
             0.4,
             "#fde0ef"
            ],
            [
             0.5,
             "#f7f7f7"
            ],
            [
             0.6,
             "#e6f5d0"
            ],
            [
             0.7,
             "#b8e186"
            ],
            [
             0.8,
             "#7fbc41"
            ],
            [
             0.9,
             "#4d9221"
            ],
            [
             1,
             "#276419"
            ]
           ],
           "sequential": [
            [
             0,
             "#0d0887"
            ],
            [
             0.1111111111111111,
             "#46039f"
            ],
            [
             0.2222222222222222,
             "#7201a8"
            ],
            [
             0.3333333333333333,
             "#9c179e"
            ],
            [
             0.4444444444444444,
             "#bd3786"
            ],
            [
             0.5555555555555556,
             "#d8576b"
            ],
            [
             0.6666666666666666,
             "#ed7953"
            ],
            [
             0.7777777777777778,
             "#fb9f3a"
            ],
            [
             0.8888888888888888,
             "#fdca26"
            ],
            [
             1,
             "#f0f921"
            ]
           ],
           "sequentialminus": [
            [
             0,
             "#0d0887"
            ],
            [
             0.1111111111111111,
             "#46039f"
            ],
            [
             0.2222222222222222,
             "#7201a8"
            ],
            [
             0.3333333333333333,
             "#9c179e"
            ],
            [
             0.4444444444444444,
             "#bd3786"
            ],
            [
             0.5555555555555556,
             "#d8576b"
            ],
            [
             0.6666666666666666,
             "#ed7953"
            ],
            [
             0.7777777777777778,
             "#fb9f3a"
            ],
            [
             0.8888888888888888,
             "#fdca26"
            ],
            [
             1,
             "#f0f921"
            ]
           ]
          },
          "colorway": [
           "#636efa",
           "#EF553B",
           "#00cc96",
           "#ab63fa",
           "#FFA15A",
           "#19d3f3",
           "#FF6692",
           "#B6E880",
           "#FF97FF",
           "#FECB52"
          ],
          "font": {
           "color": "#2a3f5f"
          },
          "geo": {
           "bgcolor": "white",
           "lakecolor": "white",
           "landcolor": "#E5ECF6",
           "showlakes": true,
           "showland": true,
           "subunitcolor": "white"
          },
          "hoverlabel": {
           "align": "left"
          },
          "hovermode": "closest",
          "mapbox": {
           "style": "light"
          },
          "paper_bgcolor": "white",
          "plot_bgcolor": "#E5ECF6",
          "polar": {
           "angularaxis": {
            "gridcolor": "white",
            "linecolor": "white",
            "ticks": ""
           },
           "bgcolor": "#E5ECF6",
           "radialaxis": {
            "gridcolor": "white",
            "linecolor": "white",
            "ticks": ""
           }
          },
          "scene": {
           "xaxis": {
            "backgroundcolor": "#E5ECF6",
            "gridcolor": "white",
            "gridwidth": 2,
            "linecolor": "white",
            "showbackground": true,
            "ticks": "",
            "zerolinecolor": "white"
           },
           "yaxis": {
            "backgroundcolor": "#E5ECF6",
            "gridcolor": "white",
            "gridwidth": 2,
            "linecolor": "white",
            "showbackground": true,
            "ticks": "",
            "zerolinecolor": "white"
           },
           "zaxis": {
            "backgroundcolor": "#E5ECF6",
            "gridcolor": "white",
            "gridwidth": 2,
            "linecolor": "white",
            "showbackground": true,
            "ticks": "",
            "zerolinecolor": "white"
           }
          },
          "shapedefaults": {
           "line": {
            "color": "#2a3f5f"
           }
          },
          "ternary": {
           "aaxis": {
            "gridcolor": "white",
            "linecolor": "white",
            "ticks": ""
           },
           "baxis": {
            "gridcolor": "white",
            "linecolor": "white",
            "ticks": ""
           },
           "bgcolor": "#E5ECF6",
           "caxis": {
            "gridcolor": "white",
            "linecolor": "white",
            "ticks": ""
           }
          },
          "title": {
           "x": 0.05
          },
          "xaxis": {
           "automargin": true,
           "gridcolor": "white",
           "linecolor": "white",
           "ticks": "",
           "title": {
            "standoff": 15
           },
           "zerolinecolor": "white",
           "zerolinewidth": 2
          },
          "yaxis": {
           "automargin": true,
           "gridcolor": "white",
           "linecolor": "white",
           "ticks": "",
           "title": {
            "standoff": 15
           },
           "zerolinecolor": "white",
           "zerolinewidth": 2
          }
         }
        },
        "title": {
         "font": {
          "color": "#4D5663"
         }
        },
        "xaxis": {
         "gridcolor": "#E1E5ED",
         "showgrid": true,
         "tickfont": {
          "color": "#4D5663"
         },
         "title": {
          "font": {
           "color": "#4D5663"
          },
          "text": ""
         },
         "zerolinecolor": "#E1E5ED"
        },
        "yaxis": {
         "gridcolor": "#E1E5ED",
         "showgrid": true,
         "tickfont": {
          "color": "#4D5663"
         },
         "title": {
          "font": {
           "color": "#4D5663"
          },
          "text": ""
         },
         "zerolinecolor": "#E1E5ED"
        }
       }
      },
      "text/html": [
       "<div>\n",
       "        \n",
       "        \n",
       "            <div id=\"57e6e860-3977-4c13-8421-d7f40aa2209f\" class=\"plotly-graph-div\" style=\"height:525px; width:100%;\"></div>\n",
       "            <script type=\"text/javascript\">\n",
       "                require([\"plotly\"], function(Plotly) {\n",
       "                    window.PLOTLYENV=window.PLOTLYENV || {};\n",
       "                    window.PLOTLYENV.BASE_URL='https://plot.ly';\n",
       "                    \n",
       "                if (document.getElementById(\"57e6e860-3977-4c13-8421-d7f40aa2209f\")) {\n",
       "                    Plotly.newPlot(\n",
       "                        '57e6e860-3977-4c13-8421-d7f40aa2209f',\n",
       "                        [{\"boxpoints\": false, \"line\": {\"width\": 1.3}, \"marker\": {\"color\": \"rgba(255, 153, 51, 1.0)\"}, \"name\": \"A\", \"orientation\": \"v\", \"type\": \"box\", \"y\": [-0.24200640252741798, -0.9352878538108119, 0.027388841991728325, -0.1819147191636028, 1.0220939910254634, -2.5043642881046715, -0.31178537143269014, -0.27461685256679524, 1.0543329194274218, 0.3914427901382899, -1.441136423378452, 1.915385670890251, 1.0612013772594604, -1.3257408567553322, 0.30134531166233225, 0.13394694504780527, 0.012414377790086016, -0.562666842819727, -2.1360295145840436, 0.35120093080140075, -1.064081139900174, 0.28589172652849776, -0.4836939196007413, -0.34394615357419, -0.00290307679785654, -1.14598078661371, 0.3534869579588663, -0.8319610105553975, -0.589016049936948, -1.2072376829173481, 0.2899195261165965, 2.4927642854600336, -0.026883405147536468, 1.0847247380259522, -0.4185054870473495, -1.7001290191162755, -0.6631138255023695, -1.3977215756251955, 0.4455411861792529, 0.30197911688308654, -0.2261709832051633, -0.1710396088940495, 1.4433380795926118, 0.530847712833768, 0.961866271646887, 1.2941998843821159, 1.0216519281617251, 1.6208258662004693, 0.5421996729638662, 0.13349040574255092, 0.011698411413139344, 0.3243929093413252, 0.326055891967591, -1.857943472441847, -0.30463758552150405, -0.8808632160511382, 0.5239216903007925, 0.9834386074104604, 1.4396406440418086, -0.257708302017176, 0.829152364017514, -0.3546228497011296, 0.5561073129790329, -0.12952762277766025, -0.8591907520878445, -0.11880680844042457, 0.16303119021191692, 1.5420497685582935, -0.952295004519987, 1.3149511788637551, 0.1793165206361868, 0.39153581454967, 0.40918112144156693, -0.1746866446198252, -0.27734651150838513, 0.6868843028329731, -0.530086144552545, 1.0225358547499583, 1.0811481712042423, 0.2860430974355543, -0.5235381746515275, -0.5030792474726582, 0.17829313427772936, 0.3689593426878984, 0.8974440778903857, -0.2957284041584042, -1.0028423302906537, -0.4381398352349791, 1.3607909151527158, -0.6508323686744798, -0.011964165734617253, 1.350700373666675, -1.3173489072094142, -0.1409314948821588, -0.22547794130900795, 1.3708181316671681, -1.829079525865196, -1.709605077000469, -2.0915084931810624, -1.0919845225225022]}, {\"boxpoints\": false, \"line\": {\"width\": 1.3}, \"marker\": {\"color\": \"rgba(55, 128, 191, 1.0)\"}, \"name\": \"B\", \"orientation\": \"v\", \"type\": \"box\", \"y\": [0.5038966296896649, -0.6402432132700927, -0.046084521044311134, 2.2664478783920683, 0.9477353340492846, -0.614880202117463, -1.6423022200466404, -0.5506536135023554, 0.5784162871305017, 1.2635114897067978, -1.4963273936516859, -1.6115050059592841, -0.46441376428471964, -1.0227066828446538, 0.9350020037598924, 0.38227490517607154, 2.4302360193947536, -1.3161131598068214, -1.2982968542416018, -0.13265819926035488, -0.7038606550102939, -0.2209763016023666, 0.9345495975185338, 1.0095771347136155, -0.9434848398914922, -0.0652309643019826, 1.339454873313897, -1.041460847515743, -0.6544215716422075, -0.6086375499446177, 0.012736190202873435, -0.8033846548321574, -0.1523522799250349, -0.5912413700796505, -1.427089639295129, -0.2764544125199372, -0.4502946295633157, -0.3968453730357518, 0.0008621038702756964, -0.6860921613608862, 0.2148442500563389, -0.3965507564693599, -1.580565695259094, -0.6886015208288447, -0.19922535695751326, -1.300702016080167, 0.8242157825252651, -0.3012421823694876, 0.25194677497620255, -0.70194952275731, 0.4899170779278613, -1.1735718832175956, -0.09730938850281483, -0.3296320457351763, 0.6486586398947655, -1.4424157416670944, 0.05808274371576219, -0.23849797529827363, -0.08816774745216509, -0.21844032759229703, 0.232829730943407, -0.8574261372665845, -0.6448024783666553, 0.04393697665503743, -0.9570215870458508, 0.014303354983442854, -1.2418935875107275, 0.35919198953731796, -0.8741166986646901, 1.029193048664084, 0.6521119689469097, -0.9868637243393551, 0.01573171501393248, 0.4984004502783877, -0.6326102152728523, -1.126999452904778, 1.5111832744616316, -0.5362773785464199, -0.9171718630254313, -1.7903024971797645, 0.33929301647279025, 0.456425947566487, 0.42651392121564213, 0.3026441119122942, -0.3979126650758561, -1.3931863975895338, -0.7551173004643796, 1.432726180997327, 1.0706620899027854, 2.054268754109293, 0.20114830502964962, 0.4683070160993021, 0.6937735075316896, -0.7714541780919164, -2.2640923269889983, 1.1699990427947233, -0.688947311971546, -0.10920382633628391, 0.4329725303136423, 0.16414135807661928]}, {\"boxpoints\": false, \"line\": {\"width\": 1.3}, \"marker\": {\"color\": \"rgba(50, 171, 96, 1.0)\"}, \"name\": \"C\", \"orientation\": \"v\", \"type\": \"box\", \"y\": [-0.0815347408742451, -0.5077649874988244, -0.06783904671905902, 0.21062879208003074, 0.38573975804107985, -0.42360398570600855, 1.126717880451138, 0.4353040461859579, -0.16601683108397614, 0.20112069662041537, -0.9833596189946507, 0.08798596302378772, -0.7032347433409032, -1.5193404907008845, 0.6898031931166413, 1.7689481636828148, -0.2205547686471449, 0.706231048131834, 1.4043000547925377, -1.5902270637207583, -0.5143664446343622, -0.4626087338865982, -0.8067031776035528, 0.5723749949077205, -0.26923891560132895, 1.527390451046774, -0.23770574624676455, -0.6313622148516641, 0.24272218133055415, 0.8594737224447366, -0.10153987154467391, -1.717481040343149, 1.0147921385615757, 0.910054309875966, 0.28008821090081704, -1.73032732075467, -0.28032059857314184, 0.020122614351310953, -0.62375902583589, -0.3362728984526408, -0.08747833013708962, 1.7631604063434605, 0.8301295635882725, 0.08343587737131603, 0.5477498426940517, 0.40120705901539583, -1.014745792105112, -0.5004521513616882, 0.29818789930043105, -0.9809039936952862, 0.9612354079406753, 0.14841866854001332, -0.8464508896410459, -0.49167492702023696, 1.5381095565937783, -0.49089723014232334, 0.44786229405164624, -0.2549100305603017, 1.1309559744299842, -0.47578146796949433, 0.03741717705911311, 1.4675174286300103, -0.8045759523130023, -0.20080564559621938, -0.41159970632305587, -0.3213075604811162, -1.3809187836891244, 0.9843946553936557, -0.6641791667254091, -2.668145682918329, 1.5993922170193002, -0.2413458924577472, 0.8553292191891982, -0.14892263793418098, 0.7810111214371379, -1.7989069561723146, 0.9602172066003379, 0.2887724586354856, 1.578662781392761, 0.14463727492632686, 0.6570661994938628, -0.401899493996044, -1.9309247477980442, 0.9770918792089008, 0.4898447052731042, -0.03318207920985528, -0.07467510973904955, 0.6979736845657323, -1.9455591832381112, 1.0860275040330245, -0.1918506689970517, -0.6886176684385715, -0.20238791595904101, 0.8843775776516403, -0.08382639543647263, -0.20340165761830264, -1.4445858442180954, -0.4892485704502599, -0.4716963532959964, -0.7187058641996431]}, {\"boxpoints\": false, \"line\": {\"width\": 1.3}, \"marker\": {\"color\": \"rgba(128, 0, 128, 1.0)\"}, \"name\": \"D\", \"orientation\": \"v\", \"type\": \"box\", \"y\": [0.35011902790803934, -1.130866996845766, 1.405284017456432, -1.8383419387844024, 0.4765900950509363, -0.6713898667241399, -1.3185899430154078, 0.3378607451901761, 0.6812660236448889, -1.0583839844937002, 0.21565699200799157, -0.39395362864556077, 0.7864893063104716, -0.5109287460002682, 1.3849823826501693, 0.2656412310236148, -0.10532516018872078, 0.34287931269975025, -1.375585888315486, -0.21499363349708459, 1.3334888664607976, -0.4369653145103137, -1.1586555422237812, 1.4302164537345452, -0.36780045273821715, -0.3692686528252982, -1.197000247649865, 1.274993547734382, 0.035822369915254726, -2.134053502281586, -1.3980532184794499, 1.1928982293240424, -0.6633007278151068, 0.7918241967649958, 0.49424181834881475, -0.031805503187669164, -0.32943044867987525, 0.03790470052222459, -0.22342106187880453, 1.5366750148475983, -0.9496741075144404, 0.03228590529755793, 2.038895422480149, 0.8886414845324146, -0.41147293507101385, -0.9311556393251326, 0.5626543846304182, -0.19711756086049487, 0.4851560219361143, -0.6597978611602378, -1.4232224256695793, -0.2262457980031783, 0.9872238659614562, -1.1923726907339864, -1.500148492942461, -0.18599308207191292, -0.1654533592379869, -0.014656178952166133, 2.6095406717691456, -1.2786216710356257, 1.234638254186483, -0.4405921922176544, 0.5116843289964375, -0.31744975288468247, 0.3537073991650773, 0.7593184727176464, 0.9786571994511789, 0.42243434646639316, -0.3280179290024408, -1.0859001215259885, -1.0155426234437614, 0.18841236666978298, 2.206442621586147, 0.4722429074452371, 1.3410013389700695, 0.6197716938493748, -1.5845241954413414, -0.40970971262400313, 0.7823349966285804, -0.7379069442536994, 0.8806573278666577, -0.5127245160554915, -0.3179367685431994, 3.0908379636496686, -0.9543873202451807, 0.6764550592398433, -1.0324233628058, -1.1235452650742854, 0.8836913358267898, 1.22175671949375, 1.3468180419008624, 1.0956173241965554, -2.569890199980508, -0.5931116880279594, -1.096365880122233, 0.4415956326673109, 0.18730582073897895, -1.0319362002233652, 1.643651569409393, 1.4892770280017191]}],\n",
       "                        {\"legend\": {\"bgcolor\": \"#F5F6F9\", \"font\": {\"color\": \"#4D5663\"}}, \"paper_bgcolor\": \"#F5F6F9\", \"plot_bgcolor\": \"#F5F6F9\", \"template\": {\"data\": {\"bar\": [{\"error_x\": {\"color\": \"#2a3f5f\"}, \"error_y\": {\"color\": \"#2a3f5f\"}, \"marker\": {\"line\": {\"color\": \"#E5ECF6\", \"width\": 0.5}}, \"type\": \"bar\"}], \"barpolar\": [{\"marker\": {\"line\": {\"color\": \"#E5ECF6\", \"width\": 0.5}}, \"type\": \"barpolar\"}], \"carpet\": [{\"aaxis\": {\"endlinecolor\": \"#2a3f5f\", \"gridcolor\": \"white\", \"linecolor\": \"white\", \"minorgridcolor\": \"white\", \"startlinecolor\": \"#2a3f5f\"}, \"baxis\": {\"endlinecolor\": \"#2a3f5f\", \"gridcolor\": \"white\", \"linecolor\": \"white\", \"minorgridcolor\": \"white\", \"startlinecolor\": \"#2a3f5f\"}, \"type\": \"carpet\"}], \"choropleth\": [{\"colorbar\": {\"outlinewidth\": 0, \"ticks\": \"\"}, \"type\": \"choropleth\"}], \"contour\": [{\"colorbar\": {\"outlinewidth\": 0, \"ticks\": \"\"}, \"colorscale\": [[0.0, \"#0d0887\"], [0.1111111111111111, \"#46039f\"], [0.2222222222222222, \"#7201a8\"], [0.3333333333333333, \"#9c179e\"], [0.4444444444444444, \"#bd3786\"], [0.5555555555555556, \"#d8576b\"], [0.6666666666666666, \"#ed7953\"], [0.7777777777777778, \"#fb9f3a\"], [0.8888888888888888, \"#fdca26\"], [1.0, \"#f0f921\"]], \"type\": \"contour\"}], \"contourcarpet\": [{\"colorbar\": {\"outlinewidth\": 0, \"ticks\": \"\"}, \"type\": \"contourcarpet\"}], \"heatmap\": [{\"colorbar\": {\"outlinewidth\": 0, \"ticks\": \"\"}, \"colorscale\": [[0.0, \"#0d0887\"], [0.1111111111111111, \"#46039f\"], [0.2222222222222222, \"#7201a8\"], [0.3333333333333333, \"#9c179e\"], [0.4444444444444444, \"#bd3786\"], [0.5555555555555556, \"#d8576b\"], [0.6666666666666666, \"#ed7953\"], [0.7777777777777778, \"#fb9f3a\"], [0.8888888888888888, \"#fdca26\"], [1.0, \"#f0f921\"]], \"type\": \"heatmap\"}], \"heatmapgl\": [{\"colorbar\": {\"outlinewidth\": 0, \"ticks\": \"\"}, \"colorscale\": [[0.0, \"#0d0887\"], [0.1111111111111111, \"#46039f\"], [0.2222222222222222, \"#7201a8\"], [0.3333333333333333, \"#9c179e\"], [0.4444444444444444, \"#bd3786\"], [0.5555555555555556, \"#d8576b\"], [0.6666666666666666, \"#ed7953\"], [0.7777777777777778, \"#fb9f3a\"], [0.8888888888888888, \"#fdca26\"], [1.0, \"#f0f921\"]], \"type\": \"heatmapgl\"}], \"histogram\": [{\"marker\": {\"colorbar\": {\"outlinewidth\": 0, \"ticks\": \"\"}}, \"type\": \"histogram\"}], \"histogram2d\": [{\"colorbar\": {\"outlinewidth\": 0, \"ticks\": \"\"}, \"colorscale\": [[0.0, \"#0d0887\"], [0.1111111111111111, \"#46039f\"], [0.2222222222222222, \"#7201a8\"], [0.3333333333333333, \"#9c179e\"], [0.4444444444444444, \"#bd3786\"], [0.5555555555555556, \"#d8576b\"], [0.6666666666666666, \"#ed7953\"], [0.7777777777777778, \"#fb9f3a\"], [0.8888888888888888, \"#fdca26\"], [1.0, \"#f0f921\"]], \"type\": \"histogram2d\"}], \"histogram2dcontour\": [{\"colorbar\": {\"outlinewidth\": 0, \"ticks\": \"\"}, \"colorscale\": [[0.0, \"#0d0887\"], [0.1111111111111111, \"#46039f\"], [0.2222222222222222, \"#7201a8\"], [0.3333333333333333, \"#9c179e\"], [0.4444444444444444, \"#bd3786\"], [0.5555555555555556, \"#d8576b\"], [0.6666666666666666, \"#ed7953\"], [0.7777777777777778, \"#fb9f3a\"], [0.8888888888888888, \"#fdca26\"], [1.0, \"#f0f921\"]], \"type\": \"histogram2dcontour\"}], \"mesh3d\": [{\"colorbar\": {\"outlinewidth\": 0, \"ticks\": \"\"}, \"type\": \"mesh3d\"}], \"parcoords\": [{\"line\": {\"colorbar\": {\"outlinewidth\": 0, \"ticks\": \"\"}}, \"type\": \"parcoords\"}], \"pie\": [{\"automargin\": true, \"type\": \"pie\"}], \"scatter\": [{\"marker\": {\"colorbar\": {\"outlinewidth\": 0, \"ticks\": \"\"}}, \"type\": \"scatter\"}], \"scatter3d\": [{\"line\": {\"colorbar\": {\"outlinewidth\": 0, \"ticks\": \"\"}}, \"marker\": {\"colorbar\": {\"outlinewidth\": 0, \"ticks\": \"\"}}, \"type\": \"scatter3d\"}], \"scattercarpet\": [{\"marker\": {\"colorbar\": {\"outlinewidth\": 0, \"ticks\": \"\"}}, \"type\": \"scattercarpet\"}], \"scattergeo\": [{\"marker\": {\"colorbar\": {\"outlinewidth\": 0, \"ticks\": \"\"}}, \"type\": \"scattergeo\"}], \"scattergl\": [{\"marker\": {\"colorbar\": {\"outlinewidth\": 0, \"ticks\": \"\"}}, \"type\": \"scattergl\"}], \"scattermapbox\": [{\"marker\": {\"colorbar\": {\"outlinewidth\": 0, \"ticks\": \"\"}}, \"type\": \"scattermapbox\"}], \"scatterpolar\": [{\"marker\": {\"colorbar\": {\"outlinewidth\": 0, \"ticks\": \"\"}}, \"type\": \"scatterpolar\"}], \"scatterpolargl\": [{\"marker\": {\"colorbar\": {\"outlinewidth\": 0, \"ticks\": \"\"}}, \"type\": \"scatterpolargl\"}], \"scatterternary\": [{\"marker\": {\"colorbar\": {\"outlinewidth\": 0, \"ticks\": \"\"}}, \"type\": \"scatterternary\"}], \"surface\": [{\"colorbar\": {\"outlinewidth\": 0, \"ticks\": \"\"}, \"colorscale\": [[0.0, \"#0d0887\"], [0.1111111111111111, \"#46039f\"], [0.2222222222222222, \"#7201a8\"], [0.3333333333333333, \"#9c179e\"], [0.4444444444444444, \"#bd3786\"], [0.5555555555555556, \"#d8576b\"], [0.6666666666666666, \"#ed7953\"], [0.7777777777777778, \"#fb9f3a\"], [0.8888888888888888, \"#fdca26\"], [1.0, \"#f0f921\"]], \"type\": \"surface\"}], \"table\": [{\"cells\": {\"fill\": {\"color\": \"#EBF0F8\"}, \"line\": {\"color\": \"white\"}}, \"header\": {\"fill\": {\"color\": \"#C8D4E3\"}, \"line\": {\"color\": \"white\"}}, \"type\": \"table\"}]}, \"layout\": {\"annotationdefaults\": {\"arrowcolor\": \"#2a3f5f\", \"arrowhead\": 0, \"arrowwidth\": 1}, \"coloraxis\": {\"colorbar\": {\"outlinewidth\": 0, \"ticks\": \"\"}}, \"colorscale\": {\"diverging\": [[0, \"#8e0152\"], [0.1, \"#c51b7d\"], [0.2, \"#de77ae\"], [0.3, \"#f1b6da\"], [0.4, \"#fde0ef\"], [0.5, \"#f7f7f7\"], [0.6, \"#e6f5d0\"], [0.7, \"#b8e186\"], [0.8, \"#7fbc41\"], [0.9, \"#4d9221\"], [1, \"#276419\"]], \"sequential\": [[0.0, \"#0d0887\"], [0.1111111111111111, \"#46039f\"], [0.2222222222222222, \"#7201a8\"], [0.3333333333333333, \"#9c179e\"], [0.4444444444444444, \"#bd3786\"], [0.5555555555555556, \"#d8576b\"], [0.6666666666666666, \"#ed7953\"], [0.7777777777777778, \"#fb9f3a\"], [0.8888888888888888, \"#fdca26\"], [1.0, \"#f0f921\"]], \"sequentialminus\": [[0.0, \"#0d0887\"], [0.1111111111111111, \"#46039f\"], [0.2222222222222222, \"#7201a8\"], [0.3333333333333333, \"#9c179e\"], [0.4444444444444444, \"#bd3786\"], [0.5555555555555556, \"#d8576b\"], [0.6666666666666666, \"#ed7953\"], [0.7777777777777778, \"#fb9f3a\"], [0.8888888888888888, \"#fdca26\"], [1.0, \"#f0f921\"]]}, \"colorway\": [\"#636efa\", \"#EF553B\", \"#00cc96\", \"#ab63fa\", \"#FFA15A\", \"#19d3f3\", \"#FF6692\", \"#B6E880\", \"#FF97FF\", \"#FECB52\"], \"font\": {\"color\": \"#2a3f5f\"}, \"geo\": {\"bgcolor\": \"white\", \"lakecolor\": \"white\", \"landcolor\": \"#E5ECF6\", \"showlakes\": true, \"showland\": true, \"subunitcolor\": \"white\"}, \"hoverlabel\": {\"align\": \"left\"}, \"hovermode\": \"closest\", \"mapbox\": {\"style\": \"light\"}, \"paper_bgcolor\": \"white\", \"plot_bgcolor\": \"#E5ECF6\", \"polar\": {\"angularaxis\": {\"gridcolor\": \"white\", \"linecolor\": \"white\", \"ticks\": \"\"}, \"bgcolor\": \"#E5ECF6\", \"radialaxis\": {\"gridcolor\": \"white\", \"linecolor\": \"white\", \"ticks\": \"\"}}, \"scene\": {\"xaxis\": {\"backgroundcolor\": \"#E5ECF6\", \"gridcolor\": \"white\", \"gridwidth\": 2, \"linecolor\": \"white\", \"showbackground\": true, \"ticks\": \"\", \"zerolinecolor\": \"white\"}, \"yaxis\": {\"backgroundcolor\": \"#E5ECF6\", \"gridcolor\": \"white\", \"gridwidth\": 2, \"linecolor\": \"white\", \"showbackground\": true, \"ticks\": \"\", \"zerolinecolor\": \"white\"}, \"zaxis\": {\"backgroundcolor\": \"#E5ECF6\", \"gridcolor\": \"white\", \"gridwidth\": 2, \"linecolor\": \"white\", \"showbackground\": true, \"ticks\": \"\", \"zerolinecolor\": \"white\"}}, \"shapedefaults\": {\"line\": {\"color\": \"#2a3f5f\"}}, \"ternary\": {\"aaxis\": {\"gridcolor\": \"white\", \"linecolor\": \"white\", \"ticks\": \"\"}, \"baxis\": {\"gridcolor\": \"white\", \"linecolor\": \"white\", \"ticks\": \"\"}, \"bgcolor\": \"#E5ECF6\", \"caxis\": {\"gridcolor\": \"white\", \"linecolor\": \"white\", \"ticks\": \"\"}}, \"title\": {\"x\": 0.05}, \"xaxis\": {\"automargin\": true, \"gridcolor\": \"white\", \"linecolor\": \"white\", \"ticks\": \"\", \"title\": {\"standoff\": 15}, \"zerolinecolor\": \"white\", \"zerolinewidth\": 2}, \"yaxis\": {\"automargin\": true, \"gridcolor\": \"white\", \"linecolor\": \"white\", \"ticks\": \"\", \"title\": {\"standoff\": 15}, \"zerolinecolor\": \"white\", \"zerolinewidth\": 2}}}, \"title\": {\"font\": {\"color\": \"#4D5663\"}}, \"xaxis\": {\"gridcolor\": \"#E1E5ED\", \"showgrid\": true, \"tickfont\": {\"color\": \"#4D5663\"}, \"title\": {\"font\": {\"color\": \"#4D5663\"}, \"text\": \"\"}, \"zerolinecolor\": \"#E1E5ED\"}, \"yaxis\": {\"gridcolor\": \"#E1E5ED\", \"showgrid\": true, \"tickfont\": {\"color\": \"#4D5663\"}, \"title\": {\"font\": {\"color\": \"#4D5663\"}, \"text\": \"\"}, \"zerolinecolor\": \"#E1E5ED\"}},\n",
       "                        {\"showLink\": true, \"linkText\": \"Export to plot.ly\", \"plotlyServerURL\": \"https://plot.ly\", \"responsive\": true}\n",
       "                    ).then(function(){\n",
       "                            \n",
       "var gd = document.getElementById('57e6e860-3977-4c13-8421-d7f40aa2209f');\n",
       "var x = new MutationObserver(function (mutations, observer) {{\n",
       "        var display = window.getComputedStyle(gd).display;\n",
       "        if (!display || display === 'none') {{\n",
       "            console.log([gd, 'removed!']);\n",
       "            Plotly.purge(gd);\n",
       "            observer.disconnect();\n",
       "        }}\n",
       "}});\n",
       "\n",
       "// Listen for the removal of the full notebook cells\n",
       "var notebookContainer = gd.closest('#notebook-container');\n",
       "if (notebookContainer) {{\n",
       "    x.observe(notebookContainer, {childList: true});\n",
       "}}\n",
       "\n",
       "// Listen for the clearing of the current output cell\n",
       "var outputEl = gd.closest('.output');\n",
       "if (outputEl) {{\n",
       "    x.observe(outputEl, {childList: true});\n",
       "}}\n",
       "\n",
       "                        })\n",
       "                };\n",
       "                });\n",
       "            </script>\n",
       "        </div>"
      ]
     },
     "metadata": {},
     "output_type": "display_data"
    }
   ],
   "source": [
    "#interactive boxplots using plotly\n",
    "\n",
    "df.iplot(kind = 'box')"
   ]
  },
  {
   "cell_type": "code",
   "execution_count": 31,
   "metadata": {},
   "outputs": [],
   "source": [
    "df3 = pd.DataFrame({\n",
    "    'x': [1,2,3,4,5], 'y':[10,20,30,20,10], 'z': [5,4,3,2,1]\n",
    "})"
   ]
  },
  {
   "cell_type": "code",
   "execution_count": 32,
   "metadata": {},
   "outputs": [
    {
     "data": {
      "text/html": [
       "<div>\n",
       "<style scoped>\n",
       "    .dataframe tbody tr th:only-of-type {\n",
       "        vertical-align: middle;\n",
       "    }\n",
       "\n",
       "    .dataframe tbody tr th {\n",
       "        vertical-align: top;\n",
       "    }\n",
       "\n",
       "    .dataframe thead th {\n",
       "        text-align: right;\n",
       "    }\n",
       "</style>\n",
       "<table border=\"1\" class=\"dataframe\">\n",
       "  <thead>\n",
       "    <tr style=\"text-align: right;\">\n",
       "      <th></th>\n",
       "      <th>x</th>\n",
       "      <th>y</th>\n",
       "      <th>z</th>\n",
       "    </tr>\n",
       "  </thead>\n",
       "  <tbody>\n",
       "    <tr>\n",
       "      <th>0</th>\n",
       "      <td>1</td>\n",
       "      <td>10</td>\n",
       "      <td>5</td>\n",
       "    </tr>\n",
       "    <tr>\n",
       "      <th>1</th>\n",
       "      <td>2</td>\n",
       "      <td>20</td>\n",
       "      <td>4</td>\n",
       "    </tr>\n",
       "    <tr>\n",
       "      <th>2</th>\n",
       "      <td>3</td>\n",
       "      <td>30</td>\n",
       "      <td>3</td>\n",
       "    </tr>\n",
       "    <tr>\n",
       "      <th>3</th>\n",
       "      <td>4</td>\n",
       "      <td>20</td>\n",
       "      <td>2</td>\n",
       "    </tr>\n",
       "    <tr>\n",
       "      <th>4</th>\n",
       "      <td>5</td>\n",
       "      <td>10</td>\n",
       "      <td>1</td>\n",
       "    </tr>\n",
       "  </tbody>\n",
       "</table>\n",
       "</div>"
      ],
      "text/plain": [
       "   x   y  z\n",
       "0  1  10  5\n",
       "1  2  20  4\n",
       "2  3  30  3\n",
       "3  4  20  2\n",
       "4  5  10  1"
      ]
     },
     "execution_count": 32,
     "metadata": {},
     "output_type": "execute_result"
    }
   ],
   "source": [
    "df3.head()"
   ]
  },
  {
   "cell_type": "code",
   "execution_count": 33,
   "metadata": {},
   "outputs": [
    {
     "data": {
      "application/vnd.plotly.v1+json": {
       "config": {
        "linkText": "Export to plot.ly",
        "plotlyServerURL": "https://plot.ly",
        "showLink": true
       },
       "data": [
        {
         "colorscale": [
          [
           0,
           "rgb(255, 153, 51)"
          ],
          [
           0.1111111111111111,
           "rgb(55, 128, 191)"
          ],
          [
           0.2222222222222222,
           "rgb(50, 171, 96)"
          ],
          [
           0.3333333333333333,
           "rgb(128, 0, 128)"
          ],
          [
           0.4444444444444444,
           "rgb(219, 64, 82)"
          ],
          [
           0.5555555555555556,
           "rgb(0, 128, 128)"
          ],
          [
           0.6666666666666666,
           "rgb(255, 255, 51)"
          ],
          [
           0.7777777777777778,
           "rgb(128, 128, 0)"
          ],
          [
           0.8888888888888888,
           "rgb(251, 128, 114)"
          ],
          [
           1,
           "rgb(128, 177, 211)"
          ]
         ],
         "type": "surface",
         "x": [
          0,
          1,
          2,
          3,
          4
         ],
         "y": [
          "x",
          "y",
          "z"
         ],
         "z": [
          [
           1,
           2,
           3,
           4,
           5
          ],
          [
           10,
           20,
           30,
           20,
           10
          ],
          [
           5,
           4,
           3,
           2,
           1
          ]
         ]
        }
       ],
       "layout": {
        "legend": {
         "bgcolor": "#F5F6F9",
         "font": {
          "color": "#4D5663"
         }
        },
        "paper_bgcolor": "#F5F6F9",
        "plot_bgcolor": "#F5F6F9",
        "template": {
         "data": {
          "bar": [
           {
            "error_x": {
             "color": "#2a3f5f"
            },
            "error_y": {
             "color": "#2a3f5f"
            },
            "marker": {
             "line": {
              "color": "#E5ECF6",
              "width": 0.5
             }
            },
            "type": "bar"
           }
          ],
          "barpolar": [
           {
            "marker": {
             "line": {
              "color": "#E5ECF6",
              "width": 0.5
             }
            },
            "type": "barpolar"
           }
          ],
          "carpet": [
           {
            "aaxis": {
             "endlinecolor": "#2a3f5f",
             "gridcolor": "white",
             "linecolor": "white",
             "minorgridcolor": "white",
             "startlinecolor": "#2a3f5f"
            },
            "baxis": {
             "endlinecolor": "#2a3f5f",
             "gridcolor": "white",
             "linecolor": "white",
             "minorgridcolor": "white",
             "startlinecolor": "#2a3f5f"
            },
            "type": "carpet"
           }
          ],
          "choropleth": [
           {
            "colorbar": {
             "outlinewidth": 0,
             "ticks": ""
            },
            "type": "choropleth"
           }
          ],
          "contour": [
           {
            "colorbar": {
             "outlinewidth": 0,
             "ticks": ""
            },
            "colorscale": [
             [
              0,
              "#0d0887"
             ],
             [
              0.1111111111111111,
              "#46039f"
             ],
             [
              0.2222222222222222,
              "#7201a8"
             ],
             [
              0.3333333333333333,
              "#9c179e"
             ],
             [
              0.4444444444444444,
              "#bd3786"
             ],
             [
              0.5555555555555556,
              "#d8576b"
             ],
             [
              0.6666666666666666,
              "#ed7953"
             ],
             [
              0.7777777777777778,
              "#fb9f3a"
             ],
             [
              0.8888888888888888,
              "#fdca26"
             ],
             [
              1,
              "#f0f921"
             ]
            ],
            "type": "contour"
           }
          ],
          "contourcarpet": [
           {
            "colorbar": {
             "outlinewidth": 0,
             "ticks": ""
            },
            "type": "contourcarpet"
           }
          ],
          "heatmap": [
           {
            "colorbar": {
             "outlinewidth": 0,
             "ticks": ""
            },
            "colorscale": [
             [
              0,
              "#0d0887"
             ],
             [
              0.1111111111111111,
              "#46039f"
             ],
             [
              0.2222222222222222,
              "#7201a8"
             ],
             [
              0.3333333333333333,
              "#9c179e"
             ],
             [
              0.4444444444444444,
              "#bd3786"
             ],
             [
              0.5555555555555556,
              "#d8576b"
             ],
             [
              0.6666666666666666,
              "#ed7953"
             ],
             [
              0.7777777777777778,
              "#fb9f3a"
             ],
             [
              0.8888888888888888,
              "#fdca26"
             ],
             [
              1,
              "#f0f921"
             ]
            ],
            "type": "heatmap"
           }
          ],
          "heatmapgl": [
           {
            "colorbar": {
             "outlinewidth": 0,
             "ticks": ""
            },
            "colorscale": [
             [
              0,
              "#0d0887"
             ],
             [
              0.1111111111111111,
              "#46039f"
             ],
             [
              0.2222222222222222,
              "#7201a8"
             ],
             [
              0.3333333333333333,
              "#9c179e"
             ],
             [
              0.4444444444444444,
              "#bd3786"
             ],
             [
              0.5555555555555556,
              "#d8576b"
             ],
             [
              0.6666666666666666,
              "#ed7953"
             ],
             [
              0.7777777777777778,
              "#fb9f3a"
             ],
             [
              0.8888888888888888,
              "#fdca26"
             ],
             [
              1,
              "#f0f921"
             ]
            ],
            "type": "heatmapgl"
           }
          ],
          "histogram": [
           {
            "marker": {
             "colorbar": {
              "outlinewidth": 0,
              "ticks": ""
             }
            },
            "type": "histogram"
           }
          ],
          "histogram2d": [
           {
            "colorbar": {
             "outlinewidth": 0,
             "ticks": ""
            },
            "colorscale": [
             [
              0,
              "#0d0887"
             ],
             [
              0.1111111111111111,
              "#46039f"
             ],
             [
              0.2222222222222222,
              "#7201a8"
             ],
             [
              0.3333333333333333,
              "#9c179e"
             ],
             [
              0.4444444444444444,
              "#bd3786"
             ],
             [
              0.5555555555555556,
              "#d8576b"
             ],
             [
              0.6666666666666666,
              "#ed7953"
             ],
             [
              0.7777777777777778,
              "#fb9f3a"
             ],
             [
              0.8888888888888888,
              "#fdca26"
             ],
             [
              1,
              "#f0f921"
             ]
            ],
            "type": "histogram2d"
           }
          ],
          "histogram2dcontour": [
           {
            "colorbar": {
             "outlinewidth": 0,
             "ticks": ""
            },
            "colorscale": [
             [
              0,
              "#0d0887"
             ],
             [
              0.1111111111111111,
              "#46039f"
             ],
             [
              0.2222222222222222,
              "#7201a8"
             ],
             [
              0.3333333333333333,
              "#9c179e"
             ],
             [
              0.4444444444444444,
              "#bd3786"
             ],
             [
              0.5555555555555556,
              "#d8576b"
             ],
             [
              0.6666666666666666,
              "#ed7953"
             ],
             [
              0.7777777777777778,
              "#fb9f3a"
             ],
             [
              0.8888888888888888,
              "#fdca26"
             ],
             [
              1,
              "#f0f921"
             ]
            ],
            "type": "histogram2dcontour"
           }
          ],
          "mesh3d": [
           {
            "colorbar": {
             "outlinewidth": 0,
             "ticks": ""
            },
            "type": "mesh3d"
           }
          ],
          "parcoords": [
           {
            "line": {
             "colorbar": {
              "outlinewidth": 0,
              "ticks": ""
             }
            },
            "type": "parcoords"
           }
          ],
          "pie": [
           {
            "automargin": true,
            "type": "pie"
           }
          ],
          "scatter": [
           {
            "marker": {
             "colorbar": {
              "outlinewidth": 0,
              "ticks": ""
             }
            },
            "type": "scatter"
           }
          ],
          "scatter3d": [
           {
            "line": {
             "colorbar": {
              "outlinewidth": 0,
              "ticks": ""
             }
            },
            "marker": {
             "colorbar": {
              "outlinewidth": 0,
              "ticks": ""
             }
            },
            "type": "scatter3d"
           }
          ],
          "scattercarpet": [
           {
            "marker": {
             "colorbar": {
              "outlinewidth": 0,
              "ticks": ""
             }
            },
            "type": "scattercarpet"
           }
          ],
          "scattergeo": [
           {
            "marker": {
             "colorbar": {
              "outlinewidth": 0,
              "ticks": ""
             }
            },
            "type": "scattergeo"
           }
          ],
          "scattergl": [
           {
            "marker": {
             "colorbar": {
              "outlinewidth": 0,
              "ticks": ""
             }
            },
            "type": "scattergl"
           }
          ],
          "scattermapbox": [
           {
            "marker": {
             "colorbar": {
              "outlinewidth": 0,
              "ticks": ""
             }
            },
            "type": "scattermapbox"
           }
          ],
          "scatterpolar": [
           {
            "marker": {
             "colorbar": {
              "outlinewidth": 0,
              "ticks": ""
             }
            },
            "type": "scatterpolar"
           }
          ],
          "scatterpolargl": [
           {
            "marker": {
             "colorbar": {
              "outlinewidth": 0,
              "ticks": ""
             }
            },
            "type": "scatterpolargl"
           }
          ],
          "scatterternary": [
           {
            "marker": {
             "colorbar": {
              "outlinewidth": 0,
              "ticks": ""
             }
            },
            "type": "scatterternary"
           }
          ],
          "surface": [
           {
            "colorbar": {
             "outlinewidth": 0,
             "ticks": ""
            },
            "colorscale": [
             [
              0,
              "#0d0887"
             ],
             [
              0.1111111111111111,
              "#46039f"
             ],
             [
              0.2222222222222222,
              "#7201a8"
             ],
             [
              0.3333333333333333,
              "#9c179e"
             ],
             [
              0.4444444444444444,
              "#bd3786"
             ],
             [
              0.5555555555555556,
              "#d8576b"
             ],
             [
              0.6666666666666666,
              "#ed7953"
             ],
             [
              0.7777777777777778,
              "#fb9f3a"
             ],
             [
              0.8888888888888888,
              "#fdca26"
             ],
             [
              1,
              "#f0f921"
             ]
            ],
            "type": "surface"
           }
          ],
          "table": [
           {
            "cells": {
             "fill": {
              "color": "#EBF0F8"
             },
             "line": {
              "color": "white"
             }
            },
            "header": {
             "fill": {
              "color": "#C8D4E3"
             },
             "line": {
              "color": "white"
             }
            },
            "type": "table"
           }
          ]
         },
         "layout": {
          "annotationdefaults": {
           "arrowcolor": "#2a3f5f",
           "arrowhead": 0,
           "arrowwidth": 1
          },
          "coloraxis": {
           "colorbar": {
            "outlinewidth": 0,
            "ticks": ""
           }
          },
          "colorscale": {
           "diverging": [
            [
             0,
             "#8e0152"
            ],
            [
             0.1,
             "#c51b7d"
            ],
            [
             0.2,
             "#de77ae"
            ],
            [
             0.3,
             "#f1b6da"
            ],
            [
             0.4,
             "#fde0ef"
            ],
            [
             0.5,
             "#f7f7f7"
            ],
            [
             0.6,
             "#e6f5d0"
            ],
            [
             0.7,
             "#b8e186"
            ],
            [
             0.8,
             "#7fbc41"
            ],
            [
             0.9,
             "#4d9221"
            ],
            [
             1,
             "#276419"
            ]
           ],
           "sequential": [
            [
             0,
             "#0d0887"
            ],
            [
             0.1111111111111111,
             "#46039f"
            ],
            [
             0.2222222222222222,
             "#7201a8"
            ],
            [
             0.3333333333333333,
             "#9c179e"
            ],
            [
             0.4444444444444444,
             "#bd3786"
            ],
            [
             0.5555555555555556,
             "#d8576b"
            ],
            [
             0.6666666666666666,
             "#ed7953"
            ],
            [
             0.7777777777777778,
             "#fb9f3a"
            ],
            [
             0.8888888888888888,
             "#fdca26"
            ],
            [
             1,
             "#f0f921"
            ]
           ],
           "sequentialminus": [
            [
             0,
             "#0d0887"
            ],
            [
             0.1111111111111111,
             "#46039f"
            ],
            [
             0.2222222222222222,
             "#7201a8"
            ],
            [
             0.3333333333333333,
             "#9c179e"
            ],
            [
             0.4444444444444444,
             "#bd3786"
            ],
            [
             0.5555555555555556,
             "#d8576b"
            ],
            [
             0.6666666666666666,
             "#ed7953"
            ],
            [
             0.7777777777777778,
             "#fb9f3a"
            ],
            [
             0.8888888888888888,
             "#fdca26"
            ],
            [
             1,
             "#f0f921"
            ]
           ]
          },
          "colorway": [
           "#636efa",
           "#EF553B",
           "#00cc96",
           "#ab63fa",
           "#FFA15A",
           "#19d3f3",
           "#FF6692",
           "#B6E880",
           "#FF97FF",
           "#FECB52"
          ],
          "font": {
           "color": "#2a3f5f"
          },
          "geo": {
           "bgcolor": "white",
           "lakecolor": "white",
           "landcolor": "#E5ECF6",
           "showlakes": true,
           "showland": true,
           "subunitcolor": "white"
          },
          "hoverlabel": {
           "align": "left"
          },
          "hovermode": "closest",
          "mapbox": {
           "style": "light"
          },
          "paper_bgcolor": "white",
          "plot_bgcolor": "#E5ECF6",
          "polar": {
           "angularaxis": {
            "gridcolor": "white",
            "linecolor": "white",
            "ticks": ""
           },
           "bgcolor": "#E5ECF6",
           "radialaxis": {
            "gridcolor": "white",
            "linecolor": "white",
            "ticks": ""
           }
          },
          "scene": {
           "xaxis": {
            "backgroundcolor": "#E5ECF6",
            "gridcolor": "white",
            "gridwidth": 2,
            "linecolor": "white",
            "showbackground": true,
            "ticks": "",
            "zerolinecolor": "white"
           },
           "yaxis": {
            "backgroundcolor": "#E5ECF6",
            "gridcolor": "white",
            "gridwidth": 2,
            "linecolor": "white",
            "showbackground": true,
            "ticks": "",
            "zerolinecolor": "white"
           },
           "zaxis": {
            "backgroundcolor": "#E5ECF6",
            "gridcolor": "white",
            "gridwidth": 2,
            "linecolor": "white",
            "showbackground": true,
            "ticks": "",
            "zerolinecolor": "white"
           }
          },
          "shapedefaults": {
           "line": {
            "color": "#2a3f5f"
           }
          },
          "ternary": {
           "aaxis": {
            "gridcolor": "white",
            "linecolor": "white",
            "ticks": ""
           },
           "baxis": {
            "gridcolor": "white",
            "linecolor": "white",
            "ticks": ""
           },
           "bgcolor": "#E5ECF6",
           "caxis": {
            "gridcolor": "white",
            "linecolor": "white",
            "ticks": ""
           }
          },
          "title": {
           "x": 0.05
          },
          "xaxis": {
           "automargin": true,
           "gridcolor": "white",
           "linecolor": "white",
           "ticks": "",
           "title": {
            "standoff": 15
           },
           "zerolinecolor": "white",
           "zerolinewidth": 2
          },
          "yaxis": {
           "automargin": true,
           "gridcolor": "white",
           "linecolor": "white",
           "ticks": "",
           "title": {
            "standoff": 15
           },
           "zerolinecolor": "white",
           "zerolinewidth": 2
          }
         }
        },
        "title": {
         "font": {
          "color": "#4D5663"
         }
        },
        "xaxis": {
         "gridcolor": "#E1E5ED",
         "showgrid": true,
         "tickfont": {
          "color": "#4D5663"
         },
         "title": {
          "font": {
           "color": "#4D5663"
          },
          "text": ""
         },
         "zerolinecolor": "#E1E5ED"
        },
        "yaxis": {
         "gridcolor": "#E1E5ED",
         "showgrid": true,
         "tickfont": {
          "color": "#4D5663"
         },
         "title": {
          "font": {
           "color": "#4D5663"
          },
          "text": ""
         },
         "zerolinecolor": "#E1E5ED"
        }
       }
      },
      "text/html": [
       "<div>\n",
       "        \n",
       "        \n",
       "            <div id=\"ea57d9e3-053b-498c-a485-73a8353d33da\" class=\"plotly-graph-div\" style=\"height:525px; width:100%;\"></div>\n",
       "            <script type=\"text/javascript\">\n",
       "                require([\"plotly\"], function(Plotly) {\n",
       "                    window.PLOTLYENV=window.PLOTLYENV || {};\n",
       "                    window.PLOTLYENV.BASE_URL='https://plot.ly';\n",
       "                    \n",
       "                if (document.getElementById(\"ea57d9e3-053b-498c-a485-73a8353d33da\")) {\n",
       "                    Plotly.newPlot(\n",
       "                        'ea57d9e3-053b-498c-a485-73a8353d33da',\n",
       "                        [{\"colorscale\": [[0.0, \"rgb(255, 153, 51)\"], [0.1111111111111111, \"rgb(55, 128, 191)\"], [0.2222222222222222, \"rgb(50, 171, 96)\"], [0.3333333333333333, \"rgb(128, 0, 128)\"], [0.4444444444444444, \"rgb(219, 64, 82)\"], [0.5555555555555556, \"rgb(0, 128, 128)\"], [0.6666666666666666, \"rgb(255, 255, 51)\"], [0.7777777777777778, \"rgb(128, 128, 0)\"], [0.8888888888888888, \"rgb(251, 128, 114)\"], [1.0, \"rgb(128, 177, 211)\"]], \"type\": \"surface\", \"x\": [0, 1, 2, 3, 4], \"y\": [\"x\", \"y\", \"z\"], \"z\": [[1, 2, 3, 4, 5], [10, 20, 30, 20, 10], [5, 4, 3, 2, 1]]}],\n",
       "                        {\"legend\": {\"bgcolor\": \"#F5F6F9\", \"font\": {\"color\": \"#4D5663\"}}, \"paper_bgcolor\": \"#F5F6F9\", \"plot_bgcolor\": \"#F5F6F9\", \"template\": {\"data\": {\"bar\": [{\"error_x\": {\"color\": \"#2a3f5f\"}, \"error_y\": {\"color\": \"#2a3f5f\"}, \"marker\": {\"line\": {\"color\": \"#E5ECF6\", \"width\": 0.5}}, \"type\": \"bar\"}], \"barpolar\": [{\"marker\": {\"line\": {\"color\": \"#E5ECF6\", \"width\": 0.5}}, \"type\": \"barpolar\"}], \"carpet\": [{\"aaxis\": {\"endlinecolor\": \"#2a3f5f\", \"gridcolor\": \"white\", \"linecolor\": \"white\", \"minorgridcolor\": \"white\", \"startlinecolor\": \"#2a3f5f\"}, \"baxis\": {\"endlinecolor\": \"#2a3f5f\", \"gridcolor\": \"white\", \"linecolor\": \"white\", \"minorgridcolor\": \"white\", \"startlinecolor\": \"#2a3f5f\"}, \"type\": \"carpet\"}], \"choropleth\": [{\"colorbar\": {\"outlinewidth\": 0, \"ticks\": \"\"}, \"type\": \"choropleth\"}], \"contour\": [{\"colorbar\": {\"outlinewidth\": 0, \"ticks\": \"\"}, \"colorscale\": [[0.0, \"#0d0887\"], [0.1111111111111111, \"#46039f\"], [0.2222222222222222, \"#7201a8\"], [0.3333333333333333, \"#9c179e\"], [0.4444444444444444, \"#bd3786\"], [0.5555555555555556, \"#d8576b\"], [0.6666666666666666, \"#ed7953\"], [0.7777777777777778, \"#fb9f3a\"], [0.8888888888888888, \"#fdca26\"], [1.0, \"#f0f921\"]], \"type\": \"contour\"}], \"contourcarpet\": [{\"colorbar\": {\"outlinewidth\": 0, \"ticks\": \"\"}, \"type\": \"contourcarpet\"}], \"heatmap\": [{\"colorbar\": {\"outlinewidth\": 0, \"ticks\": \"\"}, \"colorscale\": [[0.0, \"#0d0887\"], [0.1111111111111111, \"#46039f\"], [0.2222222222222222, \"#7201a8\"], [0.3333333333333333, \"#9c179e\"], [0.4444444444444444, \"#bd3786\"], [0.5555555555555556, \"#d8576b\"], [0.6666666666666666, \"#ed7953\"], [0.7777777777777778, \"#fb9f3a\"], [0.8888888888888888, \"#fdca26\"], [1.0, \"#f0f921\"]], \"type\": \"heatmap\"}], \"heatmapgl\": [{\"colorbar\": {\"outlinewidth\": 0, \"ticks\": \"\"}, \"colorscale\": [[0.0, \"#0d0887\"], [0.1111111111111111, \"#46039f\"], [0.2222222222222222, \"#7201a8\"], [0.3333333333333333, \"#9c179e\"], [0.4444444444444444, \"#bd3786\"], [0.5555555555555556, \"#d8576b\"], [0.6666666666666666, \"#ed7953\"], [0.7777777777777778, \"#fb9f3a\"], [0.8888888888888888, \"#fdca26\"], [1.0, \"#f0f921\"]], \"type\": \"heatmapgl\"}], \"histogram\": [{\"marker\": {\"colorbar\": {\"outlinewidth\": 0, \"ticks\": \"\"}}, \"type\": \"histogram\"}], \"histogram2d\": [{\"colorbar\": {\"outlinewidth\": 0, \"ticks\": \"\"}, \"colorscale\": [[0.0, \"#0d0887\"], [0.1111111111111111, \"#46039f\"], [0.2222222222222222, \"#7201a8\"], [0.3333333333333333, \"#9c179e\"], [0.4444444444444444, \"#bd3786\"], [0.5555555555555556, \"#d8576b\"], [0.6666666666666666, \"#ed7953\"], [0.7777777777777778, \"#fb9f3a\"], [0.8888888888888888, \"#fdca26\"], [1.0, \"#f0f921\"]], \"type\": \"histogram2d\"}], \"histogram2dcontour\": [{\"colorbar\": {\"outlinewidth\": 0, \"ticks\": \"\"}, \"colorscale\": [[0.0, \"#0d0887\"], [0.1111111111111111, \"#46039f\"], [0.2222222222222222, \"#7201a8\"], [0.3333333333333333, \"#9c179e\"], [0.4444444444444444, \"#bd3786\"], [0.5555555555555556, \"#d8576b\"], [0.6666666666666666, \"#ed7953\"], [0.7777777777777778, \"#fb9f3a\"], [0.8888888888888888, \"#fdca26\"], [1.0, \"#f0f921\"]], \"type\": \"histogram2dcontour\"}], \"mesh3d\": [{\"colorbar\": {\"outlinewidth\": 0, \"ticks\": \"\"}, \"type\": \"mesh3d\"}], \"parcoords\": [{\"line\": {\"colorbar\": {\"outlinewidth\": 0, \"ticks\": \"\"}}, \"type\": \"parcoords\"}], \"pie\": [{\"automargin\": true, \"type\": \"pie\"}], \"scatter\": [{\"marker\": {\"colorbar\": {\"outlinewidth\": 0, \"ticks\": \"\"}}, \"type\": \"scatter\"}], \"scatter3d\": [{\"line\": {\"colorbar\": {\"outlinewidth\": 0, \"ticks\": \"\"}}, \"marker\": {\"colorbar\": {\"outlinewidth\": 0, \"ticks\": \"\"}}, \"type\": \"scatter3d\"}], \"scattercarpet\": [{\"marker\": {\"colorbar\": {\"outlinewidth\": 0, \"ticks\": \"\"}}, \"type\": \"scattercarpet\"}], \"scattergeo\": [{\"marker\": {\"colorbar\": {\"outlinewidth\": 0, \"ticks\": \"\"}}, \"type\": \"scattergeo\"}], \"scattergl\": [{\"marker\": {\"colorbar\": {\"outlinewidth\": 0, \"ticks\": \"\"}}, \"type\": \"scattergl\"}], \"scattermapbox\": [{\"marker\": {\"colorbar\": {\"outlinewidth\": 0, \"ticks\": \"\"}}, \"type\": \"scattermapbox\"}], \"scatterpolar\": [{\"marker\": {\"colorbar\": {\"outlinewidth\": 0, \"ticks\": \"\"}}, \"type\": \"scatterpolar\"}], \"scatterpolargl\": [{\"marker\": {\"colorbar\": {\"outlinewidth\": 0, \"ticks\": \"\"}}, \"type\": \"scatterpolargl\"}], \"scatterternary\": [{\"marker\": {\"colorbar\": {\"outlinewidth\": 0, \"ticks\": \"\"}}, \"type\": \"scatterternary\"}], \"surface\": [{\"colorbar\": {\"outlinewidth\": 0, \"ticks\": \"\"}, \"colorscale\": [[0.0, \"#0d0887\"], [0.1111111111111111, \"#46039f\"], [0.2222222222222222, \"#7201a8\"], [0.3333333333333333, \"#9c179e\"], [0.4444444444444444, \"#bd3786\"], [0.5555555555555556, \"#d8576b\"], [0.6666666666666666, \"#ed7953\"], [0.7777777777777778, \"#fb9f3a\"], [0.8888888888888888, \"#fdca26\"], [1.0, \"#f0f921\"]], \"type\": \"surface\"}], \"table\": [{\"cells\": {\"fill\": {\"color\": \"#EBF0F8\"}, \"line\": {\"color\": \"white\"}}, \"header\": {\"fill\": {\"color\": \"#C8D4E3\"}, \"line\": {\"color\": \"white\"}}, \"type\": \"table\"}]}, \"layout\": {\"annotationdefaults\": {\"arrowcolor\": \"#2a3f5f\", \"arrowhead\": 0, \"arrowwidth\": 1}, \"coloraxis\": {\"colorbar\": {\"outlinewidth\": 0, \"ticks\": \"\"}}, \"colorscale\": {\"diverging\": [[0, \"#8e0152\"], [0.1, \"#c51b7d\"], [0.2, \"#de77ae\"], [0.3, \"#f1b6da\"], [0.4, \"#fde0ef\"], [0.5, \"#f7f7f7\"], [0.6, \"#e6f5d0\"], [0.7, \"#b8e186\"], [0.8, \"#7fbc41\"], [0.9, \"#4d9221\"], [1, \"#276419\"]], \"sequential\": [[0.0, \"#0d0887\"], [0.1111111111111111, \"#46039f\"], [0.2222222222222222, \"#7201a8\"], [0.3333333333333333, \"#9c179e\"], [0.4444444444444444, \"#bd3786\"], [0.5555555555555556, \"#d8576b\"], [0.6666666666666666, \"#ed7953\"], [0.7777777777777778, \"#fb9f3a\"], [0.8888888888888888, \"#fdca26\"], [1.0, \"#f0f921\"]], \"sequentialminus\": [[0.0, \"#0d0887\"], [0.1111111111111111, \"#46039f\"], [0.2222222222222222, \"#7201a8\"], [0.3333333333333333, \"#9c179e\"], [0.4444444444444444, \"#bd3786\"], [0.5555555555555556, \"#d8576b\"], [0.6666666666666666, \"#ed7953\"], [0.7777777777777778, \"#fb9f3a\"], [0.8888888888888888, \"#fdca26\"], [1.0, \"#f0f921\"]]}, \"colorway\": [\"#636efa\", \"#EF553B\", \"#00cc96\", \"#ab63fa\", \"#FFA15A\", \"#19d3f3\", \"#FF6692\", \"#B6E880\", \"#FF97FF\", \"#FECB52\"], \"font\": {\"color\": \"#2a3f5f\"}, \"geo\": {\"bgcolor\": \"white\", \"lakecolor\": \"white\", \"landcolor\": \"#E5ECF6\", \"showlakes\": true, \"showland\": true, \"subunitcolor\": \"white\"}, \"hoverlabel\": {\"align\": \"left\"}, \"hovermode\": \"closest\", \"mapbox\": {\"style\": \"light\"}, \"paper_bgcolor\": \"white\", \"plot_bgcolor\": \"#E5ECF6\", \"polar\": {\"angularaxis\": {\"gridcolor\": \"white\", \"linecolor\": \"white\", \"ticks\": \"\"}, \"bgcolor\": \"#E5ECF6\", \"radialaxis\": {\"gridcolor\": \"white\", \"linecolor\": \"white\", \"ticks\": \"\"}}, \"scene\": {\"xaxis\": {\"backgroundcolor\": \"#E5ECF6\", \"gridcolor\": \"white\", \"gridwidth\": 2, \"linecolor\": \"white\", \"showbackground\": true, \"ticks\": \"\", \"zerolinecolor\": \"white\"}, \"yaxis\": {\"backgroundcolor\": \"#E5ECF6\", \"gridcolor\": \"white\", \"gridwidth\": 2, \"linecolor\": \"white\", \"showbackground\": true, \"ticks\": \"\", \"zerolinecolor\": \"white\"}, \"zaxis\": {\"backgroundcolor\": \"#E5ECF6\", \"gridcolor\": \"white\", \"gridwidth\": 2, \"linecolor\": \"white\", \"showbackground\": true, \"ticks\": \"\", \"zerolinecolor\": \"white\"}}, \"shapedefaults\": {\"line\": {\"color\": \"#2a3f5f\"}}, \"ternary\": {\"aaxis\": {\"gridcolor\": \"white\", \"linecolor\": \"white\", \"ticks\": \"\"}, \"baxis\": {\"gridcolor\": \"white\", \"linecolor\": \"white\", \"ticks\": \"\"}, \"bgcolor\": \"#E5ECF6\", \"caxis\": {\"gridcolor\": \"white\", \"linecolor\": \"white\", \"ticks\": \"\"}}, \"title\": {\"x\": 0.05}, \"xaxis\": {\"automargin\": true, \"gridcolor\": \"white\", \"linecolor\": \"white\", \"ticks\": \"\", \"title\": {\"standoff\": 15}, \"zerolinecolor\": \"white\", \"zerolinewidth\": 2}, \"yaxis\": {\"automargin\": true, \"gridcolor\": \"white\", \"linecolor\": \"white\", \"ticks\": \"\", \"title\": {\"standoff\": 15}, \"zerolinecolor\": \"white\", \"zerolinewidth\": 2}}}, \"title\": {\"font\": {\"color\": \"#4D5663\"}}, \"xaxis\": {\"gridcolor\": \"#E1E5ED\", \"showgrid\": true, \"tickfont\": {\"color\": \"#4D5663\"}, \"title\": {\"font\": {\"color\": \"#4D5663\"}, \"text\": \"\"}, \"zerolinecolor\": \"#E1E5ED\"}, \"yaxis\": {\"gridcolor\": \"#E1E5ED\", \"showgrid\": true, \"tickfont\": {\"color\": \"#4D5663\"}, \"title\": {\"font\": {\"color\": \"#4D5663\"}, \"text\": \"\"}, \"zerolinecolor\": \"#E1E5ED\"}},\n",
       "                        {\"showLink\": true, \"linkText\": \"Export to plot.ly\", \"plotlyServerURL\": \"https://plot.ly\", \"responsive\": true}\n",
       "                    ).then(function(){\n",
       "                            \n",
       "var gd = document.getElementById('ea57d9e3-053b-498c-a485-73a8353d33da');\n",
       "var x = new MutationObserver(function (mutations, observer) {{\n",
       "        var display = window.getComputedStyle(gd).display;\n",
       "        if (!display || display === 'none') {{\n",
       "            console.log([gd, 'removed!']);\n",
       "            Plotly.purge(gd);\n",
       "            observer.disconnect();\n",
       "        }}\n",
       "}});\n",
       "\n",
       "// Listen for the removal of the full notebook cells\n",
       "var notebookContainer = gd.closest('#notebook-container');\n",
       "if (notebookContainer) {{\n",
       "    x.observe(notebookContainer, {childList: true});\n",
       "}}\n",
       "\n",
       "// Listen for the clearing of the current output cell\n",
       "var outputEl = gd.closest('.output');\n",
       "if (outputEl) {{\n",
       "    x.observe(outputEl, {childList: true});\n",
       "}}\n",
       "\n",
       "                        })\n",
       "                };\n",
       "                });\n",
       "            </script>\n",
       "        </div>"
      ]
     },
     "metadata": {},
     "output_type": "display_data"
    }
   ],
   "source": [
    "#3-d plot using the surface plot\n",
    "\n",
    "df3.iplot(kind = 'surface')"
   ]
  },
  {
   "cell_type": "code",
   "execution_count": 34,
   "metadata": {},
   "outputs": [
    {
     "data": {
      "application/vnd.plotly.v1+json": {
       "config": {
        "linkText": "Export to plot.ly",
        "plotlyServerURL": "https://plot.ly",
        "showLink": true
       },
       "data": [
        {
         "colorscale": [
          [
           0,
           "rgb(165,0,38)"
          ],
          [
           0.1,
           "rgb(215,48,39)"
          ],
          [
           0.2,
           "rgb(244,109,67)"
          ],
          [
           0.3,
           "rgb(253,174,97)"
          ],
          [
           0.4,
           "rgb(254,224,144)"
          ],
          [
           0.5,
           "rgb(255,255,191)"
          ],
          [
           0.6,
           "rgb(224,243,248)"
          ],
          [
           0.7,
           "rgb(171,217,233)"
          ],
          [
           0.8,
           "rgb(116,173,209)"
          ],
          [
           0.9,
           "rgb(69,117,180)"
          ],
          [
           1,
           "rgb(49,54,149)"
          ]
         ],
         "type": "surface",
         "x": [
          0,
          1,
          2,
          3,
          4
         ],
         "y": [
          "x",
          "y",
          "z"
         ],
         "z": [
          [
           1,
           2,
           3,
           4,
           5
          ],
          [
           10,
           20,
           30,
           20,
           10
          ],
          [
           5,
           4,
           3,
           2,
           1
          ]
         ]
        }
       ],
       "layout": {
        "legend": {
         "bgcolor": "#F5F6F9",
         "font": {
          "color": "#4D5663"
         }
        },
        "paper_bgcolor": "#F5F6F9",
        "plot_bgcolor": "#F5F6F9",
        "template": {
         "data": {
          "bar": [
           {
            "error_x": {
             "color": "#2a3f5f"
            },
            "error_y": {
             "color": "#2a3f5f"
            },
            "marker": {
             "line": {
              "color": "#E5ECF6",
              "width": 0.5
             }
            },
            "type": "bar"
           }
          ],
          "barpolar": [
           {
            "marker": {
             "line": {
              "color": "#E5ECF6",
              "width": 0.5
             }
            },
            "type": "barpolar"
           }
          ],
          "carpet": [
           {
            "aaxis": {
             "endlinecolor": "#2a3f5f",
             "gridcolor": "white",
             "linecolor": "white",
             "minorgridcolor": "white",
             "startlinecolor": "#2a3f5f"
            },
            "baxis": {
             "endlinecolor": "#2a3f5f",
             "gridcolor": "white",
             "linecolor": "white",
             "minorgridcolor": "white",
             "startlinecolor": "#2a3f5f"
            },
            "type": "carpet"
           }
          ],
          "choropleth": [
           {
            "colorbar": {
             "outlinewidth": 0,
             "ticks": ""
            },
            "type": "choropleth"
           }
          ],
          "contour": [
           {
            "colorbar": {
             "outlinewidth": 0,
             "ticks": ""
            },
            "colorscale": [
             [
              0,
              "#0d0887"
             ],
             [
              0.1111111111111111,
              "#46039f"
             ],
             [
              0.2222222222222222,
              "#7201a8"
             ],
             [
              0.3333333333333333,
              "#9c179e"
             ],
             [
              0.4444444444444444,
              "#bd3786"
             ],
             [
              0.5555555555555556,
              "#d8576b"
             ],
             [
              0.6666666666666666,
              "#ed7953"
             ],
             [
              0.7777777777777778,
              "#fb9f3a"
             ],
             [
              0.8888888888888888,
              "#fdca26"
             ],
             [
              1,
              "#f0f921"
             ]
            ],
            "type": "contour"
           }
          ],
          "contourcarpet": [
           {
            "colorbar": {
             "outlinewidth": 0,
             "ticks": ""
            },
            "type": "contourcarpet"
           }
          ],
          "heatmap": [
           {
            "colorbar": {
             "outlinewidth": 0,
             "ticks": ""
            },
            "colorscale": [
             [
              0,
              "#0d0887"
             ],
             [
              0.1111111111111111,
              "#46039f"
             ],
             [
              0.2222222222222222,
              "#7201a8"
             ],
             [
              0.3333333333333333,
              "#9c179e"
             ],
             [
              0.4444444444444444,
              "#bd3786"
             ],
             [
              0.5555555555555556,
              "#d8576b"
             ],
             [
              0.6666666666666666,
              "#ed7953"
             ],
             [
              0.7777777777777778,
              "#fb9f3a"
             ],
             [
              0.8888888888888888,
              "#fdca26"
             ],
             [
              1,
              "#f0f921"
             ]
            ],
            "type": "heatmap"
           }
          ],
          "heatmapgl": [
           {
            "colorbar": {
             "outlinewidth": 0,
             "ticks": ""
            },
            "colorscale": [
             [
              0,
              "#0d0887"
             ],
             [
              0.1111111111111111,
              "#46039f"
             ],
             [
              0.2222222222222222,
              "#7201a8"
             ],
             [
              0.3333333333333333,
              "#9c179e"
             ],
             [
              0.4444444444444444,
              "#bd3786"
             ],
             [
              0.5555555555555556,
              "#d8576b"
             ],
             [
              0.6666666666666666,
              "#ed7953"
             ],
             [
              0.7777777777777778,
              "#fb9f3a"
             ],
             [
              0.8888888888888888,
              "#fdca26"
             ],
             [
              1,
              "#f0f921"
             ]
            ],
            "type": "heatmapgl"
           }
          ],
          "histogram": [
           {
            "marker": {
             "colorbar": {
              "outlinewidth": 0,
              "ticks": ""
             }
            },
            "type": "histogram"
           }
          ],
          "histogram2d": [
           {
            "colorbar": {
             "outlinewidth": 0,
             "ticks": ""
            },
            "colorscale": [
             [
              0,
              "#0d0887"
             ],
             [
              0.1111111111111111,
              "#46039f"
             ],
             [
              0.2222222222222222,
              "#7201a8"
             ],
             [
              0.3333333333333333,
              "#9c179e"
             ],
             [
              0.4444444444444444,
              "#bd3786"
             ],
             [
              0.5555555555555556,
              "#d8576b"
             ],
             [
              0.6666666666666666,
              "#ed7953"
             ],
             [
              0.7777777777777778,
              "#fb9f3a"
             ],
             [
              0.8888888888888888,
              "#fdca26"
             ],
             [
              1,
              "#f0f921"
             ]
            ],
            "type": "histogram2d"
           }
          ],
          "histogram2dcontour": [
           {
            "colorbar": {
             "outlinewidth": 0,
             "ticks": ""
            },
            "colorscale": [
             [
              0,
              "#0d0887"
             ],
             [
              0.1111111111111111,
              "#46039f"
             ],
             [
              0.2222222222222222,
              "#7201a8"
             ],
             [
              0.3333333333333333,
              "#9c179e"
             ],
             [
              0.4444444444444444,
              "#bd3786"
             ],
             [
              0.5555555555555556,
              "#d8576b"
             ],
             [
              0.6666666666666666,
              "#ed7953"
             ],
             [
              0.7777777777777778,
              "#fb9f3a"
             ],
             [
              0.8888888888888888,
              "#fdca26"
             ],
             [
              1,
              "#f0f921"
             ]
            ],
            "type": "histogram2dcontour"
           }
          ],
          "mesh3d": [
           {
            "colorbar": {
             "outlinewidth": 0,
             "ticks": ""
            },
            "type": "mesh3d"
           }
          ],
          "parcoords": [
           {
            "line": {
             "colorbar": {
              "outlinewidth": 0,
              "ticks": ""
             }
            },
            "type": "parcoords"
           }
          ],
          "pie": [
           {
            "automargin": true,
            "type": "pie"
           }
          ],
          "scatter": [
           {
            "marker": {
             "colorbar": {
              "outlinewidth": 0,
              "ticks": ""
             }
            },
            "type": "scatter"
           }
          ],
          "scatter3d": [
           {
            "line": {
             "colorbar": {
              "outlinewidth": 0,
              "ticks": ""
             }
            },
            "marker": {
             "colorbar": {
              "outlinewidth": 0,
              "ticks": ""
             }
            },
            "type": "scatter3d"
           }
          ],
          "scattercarpet": [
           {
            "marker": {
             "colorbar": {
              "outlinewidth": 0,
              "ticks": ""
             }
            },
            "type": "scattercarpet"
           }
          ],
          "scattergeo": [
           {
            "marker": {
             "colorbar": {
              "outlinewidth": 0,
              "ticks": ""
             }
            },
            "type": "scattergeo"
           }
          ],
          "scattergl": [
           {
            "marker": {
             "colorbar": {
              "outlinewidth": 0,
              "ticks": ""
             }
            },
            "type": "scattergl"
           }
          ],
          "scattermapbox": [
           {
            "marker": {
             "colorbar": {
              "outlinewidth": 0,
              "ticks": ""
             }
            },
            "type": "scattermapbox"
           }
          ],
          "scatterpolar": [
           {
            "marker": {
             "colorbar": {
              "outlinewidth": 0,
              "ticks": ""
             }
            },
            "type": "scatterpolar"
           }
          ],
          "scatterpolargl": [
           {
            "marker": {
             "colorbar": {
              "outlinewidth": 0,
              "ticks": ""
             }
            },
            "type": "scatterpolargl"
           }
          ],
          "scatterternary": [
           {
            "marker": {
             "colorbar": {
              "outlinewidth": 0,
              "ticks": ""
             }
            },
            "type": "scatterternary"
           }
          ],
          "surface": [
           {
            "colorbar": {
             "outlinewidth": 0,
             "ticks": ""
            },
            "colorscale": [
             [
              0,
              "#0d0887"
             ],
             [
              0.1111111111111111,
              "#46039f"
             ],
             [
              0.2222222222222222,
              "#7201a8"
             ],
             [
              0.3333333333333333,
              "#9c179e"
             ],
             [
              0.4444444444444444,
              "#bd3786"
             ],
             [
              0.5555555555555556,
              "#d8576b"
             ],
             [
              0.6666666666666666,
              "#ed7953"
             ],
             [
              0.7777777777777778,
              "#fb9f3a"
             ],
             [
              0.8888888888888888,
              "#fdca26"
             ],
             [
              1,
              "#f0f921"
             ]
            ],
            "type": "surface"
           }
          ],
          "table": [
           {
            "cells": {
             "fill": {
              "color": "#EBF0F8"
             },
             "line": {
              "color": "white"
             }
            },
            "header": {
             "fill": {
              "color": "#C8D4E3"
             },
             "line": {
              "color": "white"
             }
            },
            "type": "table"
           }
          ]
         },
         "layout": {
          "annotationdefaults": {
           "arrowcolor": "#2a3f5f",
           "arrowhead": 0,
           "arrowwidth": 1
          },
          "coloraxis": {
           "colorbar": {
            "outlinewidth": 0,
            "ticks": ""
           }
          },
          "colorscale": {
           "diverging": [
            [
             0,
             "#8e0152"
            ],
            [
             0.1,
             "#c51b7d"
            ],
            [
             0.2,
             "#de77ae"
            ],
            [
             0.3,
             "#f1b6da"
            ],
            [
             0.4,
             "#fde0ef"
            ],
            [
             0.5,
             "#f7f7f7"
            ],
            [
             0.6,
             "#e6f5d0"
            ],
            [
             0.7,
             "#b8e186"
            ],
            [
             0.8,
             "#7fbc41"
            ],
            [
             0.9,
             "#4d9221"
            ],
            [
             1,
             "#276419"
            ]
           ],
           "sequential": [
            [
             0,
             "#0d0887"
            ],
            [
             0.1111111111111111,
             "#46039f"
            ],
            [
             0.2222222222222222,
             "#7201a8"
            ],
            [
             0.3333333333333333,
             "#9c179e"
            ],
            [
             0.4444444444444444,
             "#bd3786"
            ],
            [
             0.5555555555555556,
             "#d8576b"
            ],
            [
             0.6666666666666666,
             "#ed7953"
            ],
            [
             0.7777777777777778,
             "#fb9f3a"
            ],
            [
             0.8888888888888888,
             "#fdca26"
            ],
            [
             1,
             "#f0f921"
            ]
           ],
           "sequentialminus": [
            [
             0,
             "#0d0887"
            ],
            [
             0.1111111111111111,
             "#46039f"
            ],
            [
             0.2222222222222222,
             "#7201a8"
            ],
            [
             0.3333333333333333,
             "#9c179e"
            ],
            [
             0.4444444444444444,
             "#bd3786"
            ],
            [
             0.5555555555555556,
             "#d8576b"
            ],
            [
             0.6666666666666666,
             "#ed7953"
            ],
            [
             0.7777777777777778,
             "#fb9f3a"
            ],
            [
             0.8888888888888888,
             "#fdca26"
            ],
            [
             1,
             "#f0f921"
            ]
           ]
          },
          "colorway": [
           "#636efa",
           "#EF553B",
           "#00cc96",
           "#ab63fa",
           "#FFA15A",
           "#19d3f3",
           "#FF6692",
           "#B6E880",
           "#FF97FF",
           "#FECB52"
          ],
          "font": {
           "color": "#2a3f5f"
          },
          "geo": {
           "bgcolor": "white",
           "lakecolor": "white",
           "landcolor": "#E5ECF6",
           "showlakes": true,
           "showland": true,
           "subunitcolor": "white"
          },
          "hoverlabel": {
           "align": "left"
          },
          "hovermode": "closest",
          "mapbox": {
           "style": "light"
          },
          "paper_bgcolor": "white",
          "plot_bgcolor": "#E5ECF6",
          "polar": {
           "angularaxis": {
            "gridcolor": "white",
            "linecolor": "white",
            "ticks": ""
           },
           "bgcolor": "#E5ECF6",
           "radialaxis": {
            "gridcolor": "white",
            "linecolor": "white",
            "ticks": ""
           }
          },
          "scene": {
           "xaxis": {
            "backgroundcolor": "#E5ECF6",
            "gridcolor": "white",
            "gridwidth": 2,
            "linecolor": "white",
            "showbackground": true,
            "ticks": "",
            "zerolinecolor": "white"
           },
           "yaxis": {
            "backgroundcolor": "#E5ECF6",
            "gridcolor": "white",
            "gridwidth": 2,
            "linecolor": "white",
            "showbackground": true,
            "ticks": "",
            "zerolinecolor": "white"
           },
           "zaxis": {
            "backgroundcolor": "#E5ECF6",
            "gridcolor": "white",
            "gridwidth": 2,
            "linecolor": "white",
            "showbackground": true,
            "ticks": "",
            "zerolinecolor": "white"
           }
          },
          "shapedefaults": {
           "line": {
            "color": "#2a3f5f"
           }
          },
          "ternary": {
           "aaxis": {
            "gridcolor": "white",
            "linecolor": "white",
            "ticks": ""
           },
           "baxis": {
            "gridcolor": "white",
            "linecolor": "white",
            "ticks": ""
           },
           "bgcolor": "#E5ECF6",
           "caxis": {
            "gridcolor": "white",
            "linecolor": "white",
            "ticks": ""
           }
          },
          "title": {
           "x": 0.05
          },
          "xaxis": {
           "automargin": true,
           "gridcolor": "white",
           "linecolor": "white",
           "ticks": "",
           "title": {
            "standoff": 15
           },
           "zerolinecolor": "white",
           "zerolinewidth": 2
          },
          "yaxis": {
           "automargin": true,
           "gridcolor": "white",
           "linecolor": "white",
           "ticks": "",
           "title": {
            "standoff": 15
           },
           "zerolinecolor": "white",
           "zerolinewidth": 2
          }
         }
        },
        "title": {
         "font": {
          "color": "#4D5663"
         }
        },
        "xaxis": {
         "gridcolor": "#E1E5ED",
         "showgrid": true,
         "tickfont": {
          "color": "#4D5663"
         },
         "title": {
          "font": {
           "color": "#4D5663"
          },
          "text": ""
         },
         "zerolinecolor": "#E1E5ED"
        },
        "yaxis": {
         "gridcolor": "#E1E5ED",
         "showgrid": true,
         "tickfont": {
          "color": "#4D5663"
         },
         "title": {
          "font": {
           "color": "#4D5663"
          },
          "text": ""
         },
         "zerolinecolor": "#E1E5ED"
        }
       }
      },
      "text/html": [
       "<div>\n",
       "        \n",
       "        \n",
       "            <div id=\"1932423d-92a2-4a16-ba6e-c7d2b10e7187\" class=\"plotly-graph-div\" style=\"height:525px; width:100%;\"></div>\n",
       "            <script type=\"text/javascript\">\n",
       "                require([\"plotly\"], function(Plotly) {\n",
       "                    window.PLOTLYENV=window.PLOTLYENV || {};\n",
       "                    window.PLOTLYENV.BASE_URL='https://plot.ly';\n",
       "                    \n",
       "                if (document.getElementById(\"1932423d-92a2-4a16-ba6e-c7d2b10e7187\")) {\n",
       "                    Plotly.newPlot(\n",
       "                        '1932423d-92a2-4a16-ba6e-c7d2b10e7187',\n",
       "                        [{\"colorscale\": [[0.0, \"rgb(165,0,38)\"], [0.1, \"rgb(215,48,39)\"], [0.2, \"rgb(244,109,67)\"], [0.3, \"rgb(253,174,97)\"], [0.4, \"rgb(254,224,144)\"], [0.5, \"rgb(255,255,191)\"], [0.6, \"rgb(224,243,248)\"], [0.7, \"rgb(171,217,233)\"], [0.8, \"rgb(116,173,209)\"], [0.9, \"rgb(69,117,180)\"], [1.0, \"rgb(49,54,149)\"]], \"type\": \"surface\", \"x\": [0, 1, 2, 3, 4], \"y\": [\"x\", \"y\", \"z\"], \"z\": [[1, 2, 3, 4, 5], [10, 20, 30, 20, 10], [5, 4, 3, 2, 1]]}],\n",
       "                        {\"legend\": {\"bgcolor\": \"#F5F6F9\", \"font\": {\"color\": \"#4D5663\"}}, \"paper_bgcolor\": \"#F5F6F9\", \"plot_bgcolor\": \"#F5F6F9\", \"template\": {\"data\": {\"bar\": [{\"error_x\": {\"color\": \"#2a3f5f\"}, \"error_y\": {\"color\": \"#2a3f5f\"}, \"marker\": {\"line\": {\"color\": \"#E5ECF6\", \"width\": 0.5}}, \"type\": \"bar\"}], \"barpolar\": [{\"marker\": {\"line\": {\"color\": \"#E5ECF6\", \"width\": 0.5}}, \"type\": \"barpolar\"}], \"carpet\": [{\"aaxis\": {\"endlinecolor\": \"#2a3f5f\", \"gridcolor\": \"white\", \"linecolor\": \"white\", \"minorgridcolor\": \"white\", \"startlinecolor\": \"#2a3f5f\"}, \"baxis\": {\"endlinecolor\": \"#2a3f5f\", \"gridcolor\": \"white\", \"linecolor\": \"white\", \"minorgridcolor\": \"white\", \"startlinecolor\": \"#2a3f5f\"}, \"type\": \"carpet\"}], \"choropleth\": [{\"colorbar\": {\"outlinewidth\": 0, \"ticks\": \"\"}, \"type\": \"choropleth\"}], \"contour\": [{\"colorbar\": {\"outlinewidth\": 0, \"ticks\": \"\"}, \"colorscale\": [[0.0, \"#0d0887\"], [0.1111111111111111, \"#46039f\"], [0.2222222222222222, \"#7201a8\"], [0.3333333333333333, \"#9c179e\"], [0.4444444444444444, \"#bd3786\"], [0.5555555555555556, \"#d8576b\"], [0.6666666666666666, \"#ed7953\"], [0.7777777777777778, \"#fb9f3a\"], [0.8888888888888888, \"#fdca26\"], [1.0, \"#f0f921\"]], \"type\": \"contour\"}], \"contourcarpet\": [{\"colorbar\": {\"outlinewidth\": 0, \"ticks\": \"\"}, \"type\": \"contourcarpet\"}], \"heatmap\": [{\"colorbar\": {\"outlinewidth\": 0, \"ticks\": \"\"}, \"colorscale\": [[0.0, \"#0d0887\"], [0.1111111111111111, \"#46039f\"], [0.2222222222222222, \"#7201a8\"], [0.3333333333333333, \"#9c179e\"], [0.4444444444444444, \"#bd3786\"], [0.5555555555555556, \"#d8576b\"], [0.6666666666666666, \"#ed7953\"], [0.7777777777777778, \"#fb9f3a\"], [0.8888888888888888, \"#fdca26\"], [1.0, \"#f0f921\"]], \"type\": \"heatmap\"}], \"heatmapgl\": [{\"colorbar\": {\"outlinewidth\": 0, \"ticks\": \"\"}, \"colorscale\": [[0.0, \"#0d0887\"], [0.1111111111111111, \"#46039f\"], [0.2222222222222222, \"#7201a8\"], [0.3333333333333333, \"#9c179e\"], [0.4444444444444444, \"#bd3786\"], [0.5555555555555556, \"#d8576b\"], [0.6666666666666666, \"#ed7953\"], [0.7777777777777778, \"#fb9f3a\"], [0.8888888888888888, \"#fdca26\"], [1.0, \"#f0f921\"]], \"type\": \"heatmapgl\"}], \"histogram\": [{\"marker\": {\"colorbar\": {\"outlinewidth\": 0, \"ticks\": \"\"}}, \"type\": \"histogram\"}], \"histogram2d\": [{\"colorbar\": {\"outlinewidth\": 0, \"ticks\": \"\"}, \"colorscale\": [[0.0, \"#0d0887\"], [0.1111111111111111, \"#46039f\"], [0.2222222222222222, \"#7201a8\"], [0.3333333333333333, \"#9c179e\"], [0.4444444444444444, \"#bd3786\"], [0.5555555555555556, \"#d8576b\"], [0.6666666666666666, \"#ed7953\"], [0.7777777777777778, \"#fb9f3a\"], [0.8888888888888888, \"#fdca26\"], [1.0, \"#f0f921\"]], \"type\": \"histogram2d\"}], \"histogram2dcontour\": [{\"colorbar\": {\"outlinewidth\": 0, \"ticks\": \"\"}, \"colorscale\": [[0.0, \"#0d0887\"], [0.1111111111111111, \"#46039f\"], [0.2222222222222222, \"#7201a8\"], [0.3333333333333333, \"#9c179e\"], [0.4444444444444444, \"#bd3786\"], [0.5555555555555556, \"#d8576b\"], [0.6666666666666666, \"#ed7953\"], [0.7777777777777778, \"#fb9f3a\"], [0.8888888888888888, \"#fdca26\"], [1.0, \"#f0f921\"]], \"type\": \"histogram2dcontour\"}], \"mesh3d\": [{\"colorbar\": {\"outlinewidth\": 0, \"ticks\": \"\"}, \"type\": \"mesh3d\"}], \"parcoords\": [{\"line\": {\"colorbar\": {\"outlinewidth\": 0, \"ticks\": \"\"}}, \"type\": \"parcoords\"}], \"pie\": [{\"automargin\": true, \"type\": \"pie\"}], \"scatter\": [{\"marker\": {\"colorbar\": {\"outlinewidth\": 0, \"ticks\": \"\"}}, \"type\": \"scatter\"}], \"scatter3d\": [{\"line\": {\"colorbar\": {\"outlinewidth\": 0, \"ticks\": \"\"}}, \"marker\": {\"colorbar\": {\"outlinewidth\": 0, \"ticks\": \"\"}}, \"type\": \"scatter3d\"}], \"scattercarpet\": [{\"marker\": {\"colorbar\": {\"outlinewidth\": 0, \"ticks\": \"\"}}, \"type\": \"scattercarpet\"}], \"scattergeo\": [{\"marker\": {\"colorbar\": {\"outlinewidth\": 0, \"ticks\": \"\"}}, \"type\": \"scattergeo\"}], \"scattergl\": [{\"marker\": {\"colorbar\": {\"outlinewidth\": 0, \"ticks\": \"\"}}, \"type\": \"scattergl\"}], \"scattermapbox\": [{\"marker\": {\"colorbar\": {\"outlinewidth\": 0, \"ticks\": \"\"}}, \"type\": \"scattermapbox\"}], \"scatterpolar\": [{\"marker\": {\"colorbar\": {\"outlinewidth\": 0, \"ticks\": \"\"}}, \"type\": \"scatterpolar\"}], \"scatterpolargl\": [{\"marker\": {\"colorbar\": {\"outlinewidth\": 0, \"ticks\": \"\"}}, \"type\": \"scatterpolargl\"}], \"scatterternary\": [{\"marker\": {\"colorbar\": {\"outlinewidth\": 0, \"ticks\": \"\"}}, \"type\": \"scatterternary\"}], \"surface\": [{\"colorbar\": {\"outlinewidth\": 0, \"ticks\": \"\"}, \"colorscale\": [[0.0, \"#0d0887\"], [0.1111111111111111, \"#46039f\"], [0.2222222222222222, \"#7201a8\"], [0.3333333333333333, \"#9c179e\"], [0.4444444444444444, \"#bd3786\"], [0.5555555555555556, \"#d8576b\"], [0.6666666666666666, \"#ed7953\"], [0.7777777777777778, \"#fb9f3a\"], [0.8888888888888888, \"#fdca26\"], [1.0, \"#f0f921\"]], \"type\": \"surface\"}], \"table\": [{\"cells\": {\"fill\": {\"color\": \"#EBF0F8\"}, \"line\": {\"color\": \"white\"}}, \"header\": {\"fill\": {\"color\": \"#C8D4E3\"}, \"line\": {\"color\": \"white\"}}, \"type\": \"table\"}]}, \"layout\": {\"annotationdefaults\": {\"arrowcolor\": \"#2a3f5f\", \"arrowhead\": 0, \"arrowwidth\": 1}, \"coloraxis\": {\"colorbar\": {\"outlinewidth\": 0, \"ticks\": \"\"}}, \"colorscale\": {\"diverging\": [[0, \"#8e0152\"], [0.1, \"#c51b7d\"], [0.2, \"#de77ae\"], [0.3, \"#f1b6da\"], [0.4, \"#fde0ef\"], [0.5, \"#f7f7f7\"], [0.6, \"#e6f5d0\"], [0.7, \"#b8e186\"], [0.8, \"#7fbc41\"], [0.9, \"#4d9221\"], [1, \"#276419\"]], \"sequential\": [[0.0, \"#0d0887\"], [0.1111111111111111, \"#46039f\"], [0.2222222222222222, \"#7201a8\"], [0.3333333333333333, \"#9c179e\"], [0.4444444444444444, \"#bd3786\"], [0.5555555555555556, \"#d8576b\"], [0.6666666666666666, \"#ed7953\"], [0.7777777777777778, \"#fb9f3a\"], [0.8888888888888888, \"#fdca26\"], [1.0, \"#f0f921\"]], \"sequentialminus\": [[0.0, \"#0d0887\"], [0.1111111111111111, \"#46039f\"], [0.2222222222222222, \"#7201a8\"], [0.3333333333333333, \"#9c179e\"], [0.4444444444444444, \"#bd3786\"], [0.5555555555555556, \"#d8576b\"], [0.6666666666666666, \"#ed7953\"], [0.7777777777777778, \"#fb9f3a\"], [0.8888888888888888, \"#fdca26\"], [1.0, \"#f0f921\"]]}, \"colorway\": [\"#636efa\", \"#EF553B\", \"#00cc96\", \"#ab63fa\", \"#FFA15A\", \"#19d3f3\", \"#FF6692\", \"#B6E880\", \"#FF97FF\", \"#FECB52\"], \"font\": {\"color\": \"#2a3f5f\"}, \"geo\": {\"bgcolor\": \"white\", \"lakecolor\": \"white\", \"landcolor\": \"#E5ECF6\", \"showlakes\": true, \"showland\": true, \"subunitcolor\": \"white\"}, \"hoverlabel\": {\"align\": \"left\"}, \"hovermode\": \"closest\", \"mapbox\": {\"style\": \"light\"}, \"paper_bgcolor\": \"white\", \"plot_bgcolor\": \"#E5ECF6\", \"polar\": {\"angularaxis\": {\"gridcolor\": \"white\", \"linecolor\": \"white\", \"ticks\": \"\"}, \"bgcolor\": \"#E5ECF6\", \"radialaxis\": {\"gridcolor\": \"white\", \"linecolor\": \"white\", \"ticks\": \"\"}}, \"scene\": {\"xaxis\": {\"backgroundcolor\": \"#E5ECF6\", \"gridcolor\": \"white\", \"gridwidth\": 2, \"linecolor\": \"white\", \"showbackground\": true, \"ticks\": \"\", \"zerolinecolor\": \"white\"}, \"yaxis\": {\"backgroundcolor\": \"#E5ECF6\", \"gridcolor\": \"white\", \"gridwidth\": 2, \"linecolor\": \"white\", \"showbackground\": true, \"ticks\": \"\", \"zerolinecolor\": \"white\"}, \"zaxis\": {\"backgroundcolor\": \"#E5ECF6\", \"gridcolor\": \"white\", \"gridwidth\": 2, \"linecolor\": \"white\", \"showbackground\": true, \"ticks\": \"\", \"zerolinecolor\": \"white\"}}, \"shapedefaults\": {\"line\": {\"color\": \"#2a3f5f\"}}, \"ternary\": {\"aaxis\": {\"gridcolor\": \"white\", \"linecolor\": \"white\", \"ticks\": \"\"}, \"baxis\": {\"gridcolor\": \"white\", \"linecolor\": \"white\", \"ticks\": \"\"}, \"bgcolor\": \"#E5ECF6\", \"caxis\": {\"gridcolor\": \"white\", \"linecolor\": \"white\", \"ticks\": \"\"}}, \"title\": {\"x\": 0.05}, \"xaxis\": {\"automargin\": true, \"gridcolor\": \"white\", \"linecolor\": \"white\", \"ticks\": \"\", \"title\": {\"standoff\": 15}, \"zerolinecolor\": \"white\", \"zerolinewidth\": 2}, \"yaxis\": {\"automargin\": true, \"gridcolor\": \"white\", \"linecolor\": \"white\", \"ticks\": \"\", \"title\": {\"standoff\": 15}, \"zerolinecolor\": \"white\", \"zerolinewidth\": 2}}}, \"title\": {\"font\": {\"color\": \"#4D5663\"}}, \"xaxis\": {\"gridcolor\": \"#E1E5ED\", \"showgrid\": true, \"tickfont\": {\"color\": \"#4D5663\"}, \"title\": {\"font\": {\"color\": \"#4D5663\"}, \"text\": \"\"}, \"zerolinecolor\": \"#E1E5ED\"}, \"yaxis\": {\"gridcolor\": \"#E1E5ED\", \"showgrid\": true, \"tickfont\": {\"color\": \"#4D5663\"}, \"title\": {\"font\": {\"color\": \"#4D5663\"}, \"text\": \"\"}, \"zerolinecolor\": \"#E1E5ED\"}},\n",
       "                        {\"showLink\": true, \"linkText\": \"Export to plot.ly\", \"plotlyServerURL\": \"https://plot.ly\", \"responsive\": true}\n",
       "                    ).then(function(){\n",
       "                            \n",
       "var gd = document.getElementById('1932423d-92a2-4a16-ba6e-c7d2b10e7187');\n",
       "var x = new MutationObserver(function (mutations, observer) {{\n",
       "        var display = window.getComputedStyle(gd).display;\n",
       "        if (!display || display === 'none') {{\n",
       "            console.log([gd, 'removed!']);\n",
       "            Plotly.purge(gd);\n",
       "            observer.disconnect();\n",
       "        }}\n",
       "}});\n",
       "\n",
       "// Listen for the removal of the full notebook cells\n",
       "var notebookContainer = gd.closest('#notebook-container');\n",
       "if (notebookContainer) {{\n",
       "    x.observe(notebookContainer, {childList: true});\n",
       "}}\n",
       "\n",
       "// Listen for the clearing of the current output cell\n",
       "var outputEl = gd.closest('.output');\n",
       "if (outputEl) {{\n",
       "    x.observe(outputEl, {childList: true});\n",
       "}}\n",
       "\n",
       "                        })\n",
       "                };\n",
       "                });\n",
       "            </script>\n",
       "        </div>"
      ]
     },
     "metadata": {},
     "output_type": "display_data"
    }
   ],
   "source": [
    "df3.iplot(kind = 'surface', colorscale='rdylbu')"
   ]
  },
  {
   "cell_type": "code",
   "execution_count": 37,
   "metadata": {},
   "outputs": [
    {
     "data": {
      "application/vnd.plotly.v1+json": {
       "config": {
        "linkText": "Export to plot.ly",
        "plotlyServerURL": "https://plot.ly",
        "showLink": true
       },
       "data": [
        {
         "histfunc": "count",
         "histnorm": "",
         "marker": {
          "color": "rgba(255, 153, 51, 1.0)",
          "line": {
           "color": "#4D5663",
           "width": 1.3
          }
         },
         "name": "A",
         "nbinsx": 40,
         "opacity": 0.8,
         "orientation": "v",
         "type": "histogram",
         "x": [
          -0.24200640252741798,
          -0.9352878538108119,
          0.027388841991728325,
          -0.1819147191636028,
          1.0220939910254634,
          -2.5043642881046715,
          -0.31178537143269014,
          -0.27461685256679524,
          1.0543329194274218,
          0.3914427901382899,
          -1.441136423378452,
          1.915385670890251,
          1.0612013772594604,
          -1.3257408567553322,
          0.30134531166233225,
          0.13394694504780527,
          0.012414377790086016,
          -0.562666842819727,
          -2.1360295145840436,
          0.35120093080140075,
          -1.064081139900174,
          0.28589172652849776,
          -0.4836939196007413,
          -0.34394615357419,
          -0.00290307679785654,
          -1.14598078661371,
          0.3534869579588663,
          -0.8319610105553975,
          -0.589016049936948,
          -1.2072376829173481,
          0.2899195261165965,
          2.4927642854600336,
          -0.026883405147536468,
          1.0847247380259522,
          -0.4185054870473495,
          -1.7001290191162755,
          -0.6631138255023695,
          -1.3977215756251955,
          0.4455411861792529,
          0.30197911688308654,
          -0.2261709832051633,
          -0.1710396088940495,
          1.4433380795926118,
          0.530847712833768,
          0.961866271646887,
          1.2941998843821159,
          1.0216519281617251,
          1.6208258662004693,
          0.5421996729638662,
          0.13349040574255092,
          0.011698411413139344,
          0.3243929093413252,
          0.326055891967591,
          -1.857943472441847,
          -0.30463758552150405,
          -0.8808632160511382,
          0.5239216903007925,
          0.9834386074104604,
          1.4396406440418086,
          -0.257708302017176,
          0.829152364017514,
          -0.3546228497011296,
          0.5561073129790329,
          -0.12952762277766025,
          -0.8591907520878445,
          -0.11880680844042457,
          0.16303119021191692,
          1.5420497685582935,
          -0.952295004519987,
          1.3149511788637551,
          0.1793165206361868,
          0.39153581454967,
          0.40918112144156693,
          -0.1746866446198252,
          -0.27734651150838513,
          0.6868843028329731,
          -0.530086144552545,
          1.0225358547499583,
          1.0811481712042423,
          0.2860430974355543,
          -0.5235381746515275,
          -0.5030792474726582,
          0.17829313427772936,
          0.3689593426878984,
          0.8974440778903857,
          -0.2957284041584042,
          -1.0028423302906537,
          -0.4381398352349791,
          1.3607909151527158,
          -0.6508323686744798,
          -0.011964165734617253,
          1.350700373666675,
          -1.3173489072094142,
          -0.1409314948821588,
          -0.22547794130900795,
          1.3708181316671681,
          -1.829079525865196,
          -1.709605077000469,
          -2.0915084931810624,
          -1.0919845225225022
         ]
        }
       ],
       "layout": {
        "barmode": "overlay",
        "legend": {
         "bgcolor": "#F5F6F9",
         "font": {
          "color": "#4D5663"
         }
        },
        "paper_bgcolor": "#F5F6F9",
        "plot_bgcolor": "#F5F6F9",
        "template": {
         "data": {
          "bar": [
           {
            "error_x": {
             "color": "#2a3f5f"
            },
            "error_y": {
             "color": "#2a3f5f"
            },
            "marker": {
             "line": {
              "color": "#E5ECF6",
              "width": 0.5
             }
            },
            "type": "bar"
           }
          ],
          "barpolar": [
           {
            "marker": {
             "line": {
              "color": "#E5ECF6",
              "width": 0.5
             }
            },
            "type": "barpolar"
           }
          ],
          "carpet": [
           {
            "aaxis": {
             "endlinecolor": "#2a3f5f",
             "gridcolor": "white",
             "linecolor": "white",
             "minorgridcolor": "white",
             "startlinecolor": "#2a3f5f"
            },
            "baxis": {
             "endlinecolor": "#2a3f5f",
             "gridcolor": "white",
             "linecolor": "white",
             "minorgridcolor": "white",
             "startlinecolor": "#2a3f5f"
            },
            "type": "carpet"
           }
          ],
          "choropleth": [
           {
            "colorbar": {
             "outlinewidth": 0,
             "ticks": ""
            },
            "type": "choropleth"
           }
          ],
          "contour": [
           {
            "colorbar": {
             "outlinewidth": 0,
             "ticks": ""
            },
            "colorscale": [
             [
              0,
              "#0d0887"
             ],
             [
              0.1111111111111111,
              "#46039f"
             ],
             [
              0.2222222222222222,
              "#7201a8"
             ],
             [
              0.3333333333333333,
              "#9c179e"
             ],
             [
              0.4444444444444444,
              "#bd3786"
             ],
             [
              0.5555555555555556,
              "#d8576b"
             ],
             [
              0.6666666666666666,
              "#ed7953"
             ],
             [
              0.7777777777777778,
              "#fb9f3a"
             ],
             [
              0.8888888888888888,
              "#fdca26"
             ],
             [
              1,
              "#f0f921"
             ]
            ],
            "type": "contour"
           }
          ],
          "contourcarpet": [
           {
            "colorbar": {
             "outlinewidth": 0,
             "ticks": ""
            },
            "type": "contourcarpet"
           }
          ],
          "heatmap": [
           {
            "colorbar": {
             "outlinewidth": 0,
             "ticks": ""
            },
            "colorscale": [
             [
              0,
              "#0d0887"
             ],
             [
              0.1111111111111111,
              "#46039f"
             ],
             [
              0.2222222222222222,
              "#7201a8"
             ],
             [
              0.3333333333333333,
              "#9c179e"
             ],
             [
              0.4444444444444444,
              "#bd3786"
             ],
             [
              0.5555555555555556,
              "#d8576b"
             ],
             [
              0.6666666666666666,
              "#ed7953"
             ],
             [
              0.7777777777777778,
              "#fb9f3a"
             ],
             [
              0.8888888888888888,
              "#fdca26"
             ],
             [
              1,
              "#f0f921"
             ]
            ],
            "type": "heatmap"
           }
          ],
          "heatmapgl": [
           {
            "colorbar": {
             "outlinewidth": 0,
             "ticks": ""
            },
            "colorscale": [
             [
              0,
              "#0d0887"
             ],
             [
              0.1111111111111111,
              "#46039f"
             ],
             [
              0.2222222222222222,
              "#7201a8"
             ],
             [
              0.3333333333333333,
              "#9c179e"
             ],
             [
              0.4444444444444444,
              "#bd3786"
             ],
             [
              0.5555555555555556,
              "#d8576b"
             ],
             [
              0.6666666666666666,
              "#ed7953"
             ],
             [
              0.7777777777777778,
              "#fb9f3a"
             ],
             [
              0.8888888888888888,
              "#fdca26"
             ],
             [
              1,
              "#f0f921"
             ]
            ],
            "type": "heatmapgl"
           }
          ],
          "histogram": [
           {
            "marker": {
             "colorbar": {
              "outlinewidth": 0,
              "ticks": ""
             }
            },
            "type": "histogram"
           }
          ],
          "histogram2d": [
           {
            "colorbar": {
             "outlinewidth": 0,
             "ticks": ""
            },
            "colorscale": [
             [
              0,
              "#0d0887"
             ],
             [
              0.1111111111111111,
              "#46039f"
             ],
             [
              0.2222222222222222,
              "#7201a8"
             ],
             [
              0.3333333333333333,
              "#9c179e"
             ],
             [
              0.4444444444444444,
              "#bd3786"
             ],
             [
              0.5555555555555556,
              "#d8576b"
             ],
             [
              0.6666666666666666,
              "#ed7953"
             ],
             [
              0.7777777777777778,
              "#fb9f3a"
             ],
             [
              0.8888888888888888,
              "#fdca26"
             ],
             [
              1,
              "#f0f921"
             ]
            ],
            "type": "histogram2d"
           }
          ],
          "histogram2dcontour": [
           {
            "colorbar": {
             "outlinewidth": 0,
             "ticks": ""
            },
            "colorscale": [
             [
              0,
              "#0d0887"
             ],
             [
              0.1111111111111111,
              "#46039f"
             ],
             [
              0.2222222222222222,
              "#7201a8"
             ],
             [
              0.3333333333333333,
              "#9c179e"
             ],
             [
              0.4444444444444444,
              "#bd3786"
             ],
             [
              0.5555555555555556,
              "#d8576b"
             ],
             [
              0.6666666666666666,
              "#ed7953"
             ],
             [
              0.7777777777777778,
              "#fb9f3a"
             ],
             [
              0.8888888888888888,
              "#fdca26"
             ],
             [
              1,
              "#f0f921"
             ]
            ],
            "type": "histogram2dcontour"
           }
          ],
          "mesh3d": [
           {
            "colorbar": {
             "outlinewidth": 0,
             "ticks": ""
            },
            "type": "mesh3d"
           }
          ],
          "parcoords": [
           {
            "line": {
             "colorbar": {
              "outlinewidth": 0,
              "ticks": ""
             }
            },
            "type": "parcoords"
           }
          ],
          "pie": [
           {
            "automargin": true,
            "type": "pie"
           }
          ],
          "scatter": [
           {
            "marker": {
             "colorbar": {
              "outlinewidth": 0,
              "ticks": ""
             }
            },
            "type": "scatter"
           }
          ],
          "scatter3d": [
           {
            "line": {
             "colorbar": {
              "outlinewidth": 0,
              "ticks": ""
             }
            },
            "marker": {
             "colorbar": {
              "outlinewidth": 0,
              "ticks": ""
             }
            },
            "type": "scatter3d"
           }
          ],
          "scattercarpet": [
           {
            "marker": {
             "colorbar": {
              "outlinewidth": 0,
              "ticks": ""
             }
            },
            "type": "scattercarpet"
           }
          ],
          "scattergeo": [
           {
            "marker": {
             "colorbar": {
              "outlinewidth": 0,
              "ticks": ""
             }
            },
            "type": "scattergeo"
           }
          ],
          "scattergl": [
           {
            "marker": {
             "colorbar": {
              "outlinewidth": 0,
              "ticks": ""
             }
            },
            "type": "scattergl"
           }
          ],
          "scattermapbox": [
           {
            "marker": {
             "colorbar": {
              "outlinewidth": 0,
              "ticks": ""
             }
            },
            "type": "scattermapbox"
           }
          ],
          "scatterpolar": [
           {
            "marker": {
             "colorbar": {
              "outlinewidth": 0,
              "ticks": ""
             }
            },
            "type": "scatterpolar"
           }
          ],
          "scatterpolargl": [
           {
            "marker": {
             "colorbar": {
              "outlinewidth": 0,
              "ticks": ""
             }
            },
            "type": "scatterpolargl"
           }
          ],
          "scatterternary": [
           {
            "marker": {
             "colorbar": {
              "outlinewidth": 0,
              "ticks": ""
             }
            },
            "type": "scatterternary"
           }
          ],
          "surface": [
           {
            "colorbar": {
             "outlinewidth": 0,
             "ticks": ""
            },
            "colorscale": [
             [
              0,
              "#0d0887"
             ],
             [
              0.1111111111111111,
              "#46039f"
             ],
             [
              0.2222222222222222,
              "#7201a8"
             ],
             [
              0.3333333333333333,
              "#9c179e"
             ],
             [
              0.4444444444444444,
              "#bd3786"
             ],
             [
              0.5555555555555556,
              "#d8576b"
             ],
             [
              0.6666666666666666,
              "#ed7953"
             ],
             [
              0.7777777777777778,
              "#fb9f3a"
             ],
             [
              0.8888888888888888,
              "#fdca26"
             ],
             [
              1,
              "#f0f921"
             ]
            ],
            "type": "surface"
           }
          ],
          "table": [
           {
            "cells": {
             "fill": {
              "color": "#EBF0F8"
             },
             "line": {
              "color": "white"
             }
            },
            "header": {
             "fill": {
              "color": "#C8D4E3"
             },
             "line": {
              "color": "white"
             }
            },
            "type": "table"
           }
          ]
         },
         "layout": {
          "annotationdefaults": {
           "arrowcolor": "#2a3f5f",
           "arrowhead": 0,
           "arrowwidth": 1
          },
          "coloraxis": {
           "colorbar": {
            "outlinewidth": 0,
            "ticks": ""
           }
          },
          "colorscale": {
           "diverging": [
            [
             0,
             "#8e0152"
            ],
            [
             0.1,
             "#c51b7d"
            ],
            [
             0.2,
             "#de77ae"
            ],
            [
             0.3,
             "#f1b6da"
            ],
            [
             0.4,
             "#fde0ef"
            ],
            [
             0.5,
             "#f7f7f7"
            ],
            [
             0.6,
             "#e6f5d0"
            ],
            [
             0.7,
             "#b8e186"
            ],
            [
             0.8,
             "#7fbc41"
            ],
            [
             0.9,
             "#4d9221"
            ],
            [
             1,
             "#276419"
            ]
           ],
           "sequential": [
            [
             0,
             "#0d0887"
            ],
            [
             0.1111111111111111,
             "#46039f"
            ],
            [
             0.2222222222222222,
             "#7201a8"
            ],
            [
             0.3333333333333333,
             "#9c179e"
            ],
            [
             0.4444444444444444,
             "#bd3786"
            ],
            [
             0.5555555555555556,
             "#d8576b"
            ],
            [
             0.6666666666666666,
             "#ed7953"
            ],
            [
             0.7777777777777778,
             "#fb9f3a"
            ],
            [
             0.8888888888888888,
             "#fdca26"
            ],
            [
             1,
             "#f0f921"
            ]
           ],
           "sequentialminus": [
            [
             0,
             "#0d0887"
            ],
            [
             0.1111111111111111,
             "#46039f"
            ],
            [
             0.2222222222222222,
             "#7201a8"
            ],
            [
             0.3333333333333333,
             "#9c179e"
            ],
            [
             0.4444444444444444,
             "#bd3786"
            ],
            [
             0.5555555555555556,
             "#d8576b"
            ],
            [
             0.6666666666666666,
             "#ed7953"
            ],
            [
             0.7777777777777778,
             "#fb9f3a"
            ],
            [
             0.8888888888888888,
             "#fdca26"
            ],
            [
             1,
             "#f0f921"
            ]
           ]
          },
          "colorway": [
           "#636efa",
           "#EF553B",
           "#00cc96",
           "#ab63fa",
           "#FFA15A",
           "#19d3f3",
           "#FF6692",
           "#B6E880",
           "#FF97FF",
           "#FECB52"
          ],
          "font": {
           "color": "#2a3f5f"
          },
          "geo": {
           "bgcolor": "white",
           "lakecolor": "white",
           "landcolor": "#E5ECF6",
           "showlakes": true,
           "showland": true,
           "subunitcolor": "white"
          },
          "hoverlabel": {
           "align": "left"
          },
          "hovermode": "closest",
          "mapbox": {
           "style": "light"
          },
          "paper_bgcolor": "white",
          "plot_bgcolor": "#E5ECF6",
          "polar": {
           "angularaxis": {
            "gridcolor": "white",
            "linecolor": "white",
            "ticks": ""
           },
           "bgcolor": "#E5ECF6",
           "radialaxis": {
            "gridcolor": "white",
            "linecolor": "white",
            "ticks": ""
           }
          },
          "scene": {
           "xaxis": {
            "backgroundcolor": "#E5ECF6",
            "gridcolor": "white",
            "gridwidth": 2,
            "linecolor": "white",
            "showbackground": true,
            "ticks": "",
            "zerolinecolor": "white"
           },
           "yaxis": {
            "backgroundcolor": "#E5ECF6",
            "gridcolor": "white",
            "gridwidth": 2,
            "linecolor": "white",
            "showbackground": true,
            "ticks": "",
            "zerolinecolor": "white"
           },
           "zaxis": {
            "backgroundcolor": "#E5ECF6",
            "gridcolor": "white",
            "gridwidth": 2,
            "linecolor": "white",
            "showbackground": true,
            "ticks": "",
            "zerolinecolor": "white"
           }
          },
          "shapedefaults": {
           "line": {
            "color": "#2a3f5f"
           }
          },
          "ternary": {
           "aaxis": {
            "gridcolor": "white",
            "linecolor": "white",
            "ticks": ""
           },
           "baxis": {
            "gridcolor": "white",
            "linecolor": "white",
            "ticks": ""
           },
           "bgcolor": "#E5ECF6",
           "caxis": {
            "gridcolor": "white",
            "linecolor": "white",
            "ticks": ""
           }
          },
          "title": {
           "x": 0.05
          },
          "xaxis": {
           "automargin": true,
           "gridcolor": "white",
           "linecolor": "white",
           "ticks": "",
           "title": {
            "standoff": 15
           },
           "zerolinecolor": "white",
           "zerolinewidth": 2
          },
          "yaxis": {
           "automargin": true,
           "gridcolor": "white",
           "linecolor": "white",
           "ticks": "",
           "title": {
            "standoff": 15
           },
           "zerolinecolor": "white",
           "zerolinewidth": 2
          }
         }
        },
        "title": {
         "font": {
          "color": "#4D5663"
         }
        },
        "xaxis": {
         "gridcolor": "#E1E5ED",
         "showgrid": true,
         "tickfont": {
          "color": "#4D5663"
         },
         "title": {
          "font": {
           "color": "#4D5663"
          },
          "text": ""
         },
         "zerolinecolor": "#E1E5ED"
        },
        "yaxis": {
         "gridcolor": "#E1E5ED",
         "showgrid": true,
         "tickfont": {
          "color": "#4D5663"
         },
         "title": {
          "font": {
           "color": "#4D5663"
          },
          "text": ""
         },
         "zerolinecolor": "#E1E5ED"
        }
       }
      },
      "text/html": [
       "<div>\n",
       "        \n",
       "        \n",
       "            <div id=\"a754842c-4fee-4732-85e7-608e900b0212\" class=\"plotly-graph-div\" style=\"height:525px; width:100%;\"></div>\n",
       "            <script type=\"text/javascript\">\n",
       "                require([\"plotly\"], function(Plotly) {\n",
       "                    window.PLOTLYENV=window.PLOTLYENV || {};\n",
       "                    window.PLOTLYENV.BASE_URL='https://plot.ly';\n",
       "                    \n",
       "                if (document.getElementById(\"a754842c-4fee-4732-85e7-608e900b0212\")) {\n",
       "                    Plotly.newPlot(\n",
       "                        'a754842c-4fee-4732-85e7-608e900b0212',\n",
       "                        [{\"histfunc\": \"count\", \"histnorm\": \"\", \"marker\": {\"color\": \"rgba(255, 153, 51, 1.0)\", \"line\": {\"color\": \"#4D5663\", \"width\": 1.3}}, \"name\": \"A\", \"nbinsx\": 40, \"opacity\": 0.8, \"orientation\": \"v\", \"type\": \"histogram\", \"x\": [-0.24200640252741798, -0.9352878538108119, 0.027388841991728325, -0.1819147191636028, 1.0220939910254634, -2.5043642881046715, -0.31178537143269014, -0.27461685256679524, 1.0543329194274218, 0.3914427901382899, -1.441136423378452, 1.915385670890251, 1.0612013772594604, -1.3257408567553322, 0.30134531166233225, 0.13394694504780527, 0.012414377790086016, -0.562666842819727, -2.1360295145840436, 0.35120093080140075, -1.064081139900174, 0.28589172652849776, -0.4836939196007413, -0.34394615357419, -0.00290307679785654, -1.14598078661371, 0.3534869579588663, -0.8319610105553975, -0.589016049936948, -1.2072376829173481, 0.2899195261165965, 2.4927642854600336, -0.026883405147536468, 1.0847247380259522, -0.4185054870473495, -1.7001290191162755, -0.6631138255023695, -1.3977215756251955, 0.4455411861792529, 0.30197911688308654, -0.2261709832051633, -0.1710396088940495, 1.4433380795926118, 0.530847712833768, 0.961866271646887, 1.2941998843821159, 1.0216519281617251, 1.6208258662004693, 0.5421996729638662, 0.13349040574255092, 0.011698411413139344, 0.3243929093413252, 0.326055891967591, -1.857943472441847, -0.30463758552150405, -0.8808632160511382, 0.5239216903007925, 0.9834386074104604, 1.4396406440418086, -0.257708302017176, 0.829152364017514, -0.3546228497011296, 0.5561073129790329, -0.12952762277766025, -0.8591907520878445, -0.11880680844042457, 0.16303119021191692, 1.5420497685582935, -0.952295004519987, 1.3149511788637551, 0.1793165206361868, 0.39153581454967, 0.40918112144156693, -0.1746866446198252, -0.27734651150838513, 0.6868843028329731, -0.530086144552545, 1.0225358547499583, 1.0811481712042423, 0.2860430974355543, -0.5235381746515275, -0.5030792474726582, 0.17829313427772936, 0.3689593426878984, 0.8974440778903857, -0.2957284041584042, -1.0028423302906537, -0.4381398352349791, 1.3607909151527158, -0.6508323686744798, -0.011964165734617253, 1.350700373666675, -1.3173489072094142, -0.1409314948821588, -0.22547794130900795, 1.3708181316671681, -1.829079525865196, -1.709605077000469, -2.0915084931810624, -1.0919845225225022]}],\n",
       "                        {\"barmode\": \"overlay\", \"legend\": {\"bgcolor\": \"#F5F6F9\", \"font\": {\"color\": \"#4D5663\"}}, \"paper_bgcolor\": \"#F5F6F9\", \"plot_bgcolor\": \"#F5F6F9\", \"template\": {\"data\": {\"bar\": [{\"error_x\": {\"color\": \"#2a3f5f\"}, \"error_y\": {\"color\": \"#2a3f5f\"}, \"marker\": {\"line\": {\"color\": \"#E5ECF6\", \"width\": 0.5}}, \"type\": \"bar\"}], \"barpolar\": [{\"marker\": {\"line\": {\"color\": \"#E5ECF6\", \"width\": 0.5}}, \"type\": \"barpolar\"}], \"carpet\": [{\"aaxis\": {\"endlinecolor\": \"#2a3f5f\", \"gridcolor\": \"white\", \"linecolor\": \"white\", \"minorgridcolor\": \"white\", \"startlinecolor\": \"#2a3f5f\"}, \"baxis\": {\"endlinecolor\": \"#2a3f5f\", \"gridcolor\": \"white\", \"linecolor\": \"white\", \"minorgridcolor\": \"white\", \"startlinecolor\": \"#2a3f5f\"}, \"type\": \"carpet\"}], \"choropleth\": [{\"colorbar\": {\"outlinewidth\": 0, \"ticks\": \"\"}, \"type\": \"choropleth\"}], \"contour\": [{\"colorbar\": {\"outlinewidth\": 0, \"ticks\": \"\"}, \"colorscale\": [[0.0, \"#0d0887\"], [0.1111111111111111, \"#46039f\"], [0.2222222222222222, \"#7201a8\"], [0.3333333333333333, \"#9c179e\"], [0.4444444444444444, \"#bd3786\"], [0.5555555555555556, \"#d8576b\"], [0.6666666666666666, \"#ed7953\"], [0.7777777777777778, \"#fb9f3a\"], [0.8888888888888888, \"#fdca26\"], [1.0, \"#f0f921\"]], \"type\": \"contour\"}], \"contourcarpet\": [{\"colorbar\": {\"outlinewidth\": 0, \"ticks\": \"\"}, \"type\": \"contourcarpet\"}], \"heatmap\": [{\"colorbar\": {\"outlinewidth\": 0, \"ticks\": \"\"}, \"colorscale\": [[0.0, \"#0d0887\"], [0.1111111111111111, \"#46039f\"], [0.2222222222222222, \"#7201a8\"], [0.3333333333333333, \"#9c179e\"], [0.4444444444444444, \"#bd3786\"], [0.5555555555555556, \"#d8576b\"], [0.6666666666666666, \"#ed7953\"], [0.7777777777777778, \"#fb9f3a\"], [0.8888888888888888, \"#fdca26\"], [1.0, \"#f0f921\"]], \"type\": \"heatmap\"}], \"heatmapgl\": [{\"colorbar\": {\"outlinewidth\": 0, \"ticks\": \"\"}, \"colorscale\": [[0.0, \"#0d0887\"], [0.1111111111111111, \"#46039f\"], [0.2222222222222222, \"#7201a8\"], [0.3333333333333333, \"#9c179e\"], [0.4444444444444444, \"#bd3786\"], [0.5555555555555556, \"#d8576b\"], [0.6666666666666666, \"#ed7953\"], [0.7777777777777778, \"#fb9f3a\"], [0.8888888888888888, \"#fdca26\"], [1.0, \"#f0f921\"]], \"type\": \"heatmapgl\"}], \"histogram\": [{\"marker\": {\"colorbar\": {\"outlinewidth\": 0, \"ticks\": \"\"}}, \"type\": \"histogram\"}], \"histogram2d\": [{\"colorbar\": {\"outlinewidth\": 0, \"ticks\": \"\"}, \"colorscale\": [[0.0, \"#0d0887\"], [0.1111111111111111, \"#46039f\"], [0.2222222222222222, \"#7201a8\"], [0.3333333333333333, \"#9c179e\"], [0.4444444444444444, \"#bd3786\"], [0.5555555555555556, \"#d8576b\"], [0.6666666666666666, \"#ed7953\"], [0.7777777777777778, \"#fb9f3a\"], [0.8888888888888888, \"#fdca26\"], [1.0, \"#f0f921\"]], \"type\": \"histogram2d\"}], \"histogram2dcontour\": [{\"colorbar\": {\"outlinewidth\": 0, \"ticks\": \"\"}, \"colorscale\": [[0.0, \"#0d0887\"], [0.1111111111111111, \"#46039f\"], [0.2222222222222222, \"#7201a8\"], [0.3333333333333333, \"#9c179e\"], [0.4444444444444444, \"#bd3786\"], [0.5555555555555556, \"#d8576b\"], [0.6666666666666666, \"#ed7953\"], [0.7777777777777778, \"#fb9f3a\"], [0.8888888888888888, \"#fdca26\"], [1.0, \"#f0f921\"]], \"type\": \"histogram2dcontour\"}], \"mesh3d\": [{\"colorbar\": {\"outlinewidth\": 0, \"ticks\": \"\"}, \"type\": \"mesh3d\"}], \"parcoords\": [{\"line\": {\"colorbar\": {\"outlinewidth\": 0, \"ticks\": \"\"}}, \"type\": \"parcoords\"}], \"pie\": [{\"automargin\": true, \"type\": \"pie\"}], \"scatter\": [{\"marker\": {\"colorbar\": {\"outlinewidth\": 0, \"ticks\": \"\"}}, \"type\": \"scatter\"}], \"scatter3d\": [{\"line\": {\"colorbar\": {\"outlinewidth\": 0, \"ticks\": \"\"}}, \"marker\": {\"colorbar\": {\"outlinewidth\": 0, \"ticks\": \"\"}}, \"type\": \"scatter3d\"}], \"scattercarpet\": [{\"marker\": {\"colorbar\": {\"outlinewidth\": 0, \"ticks\": \"\"}}, \"type\": \"scattercarpet\"}], \"scattergeo\": [{\"marker\": {\"colorbar\": {\"outlinewidth\": 0, \"ticks\": \"\"}}, \"type\": \"scattergeo\"}], \"scattergl\": [{\"marker\": {\"colorbar\": {\"outlinewidth\": 0, \"ticks\": \"\"}}, \"type\": \"scattergl\"}], \"scattermapbox\": [{\"marker\": {\"colorbar\": {\"outlinewidth\": 0, \"ticks\": \"\"}}, \"type\": \"scattermapbox\"}], \"scatterpolar\": [{\"marker\": {\"colorbar\": {\"outlinewidth\": 0, \"ticks\": \"\"}}, \"type\": \"scatterpolar\"}], \"scatterpolargl\": [{\"marker\": {\"colorbar\": {\"outlinewidth\": 0, \"ticks\": \"\"}}, \"type\": \"scatterpolargl\"}], \"scatterternary\": [{\"marker\": {\"colorbar\": {\"outlinewidth\": 0, \"ticks\": \"\"}}, \"type\": \"scatterternary\"}], \"surface\": [{\"colorbar\": {\"outlinewidth\": 0, \"ticks\": \"\"}, \"colorscale\": [[0.0, \"#0d0887\"], [0.1111111111111111, \"#46039f\"], [0.2222222222222222, \"#7201a8\"], [0.3333333333333333, \"#9c179e\"], [0.4444444444444444, \"#bd3786\"], [0.5555555555555556, \"#d8576b\"], [0.6666666666666666, \"#ed7953\"], [0.7777777777777778, \"#fb9f3a\"], [0.8888888888888888, \"#fdca26\"], [1.0, \"#f0f921\"]], \"type\": \"surface\"}], \"table\": [{\"cells\": {\"fill\": {\"color\": \"#EBF0F8\"}, \"line\": {\"color\": \"white\"}}, \"header\": {\"fill\": {\"color\": \"#C8D4E3\"}, \"line\": {\"color\": \"white\"}}, \"type\": \"table\"}]}, \"layout\": {\"annotationdefaults\": {\"arrowcolor\": \"#2a3f5f\", \"arrowhead\": 0, \"arrowwidth\": 1}, \"coloraxis\": {\"colorbar\": {\"outlinewidth\": 0, \"ticks\": \"\"}}, \"colorscale\": {\"diverging\": [[0, \"#8e0152\"], [0.1, \"#c51b7d\"], [0.2, \"#de77ae\"], [0.3, \"#f1b6da\"], [0.4, \"#fde0ef\"], [0.5, \"#f7f7f7\"], [0.6, \"#e6f5d0\"], [0.7, \"#b8e186\"], [0.8, \"#7fbc41\"], [0.9, \"#4d9221\"], [1, \"#276419\"]], \"sequential\": [[0.0, \"#0d0887\"], [0.1111111111111111, \"#46039f\"], [0.2222222222222222, \"#7201a8\"], [0.3333333333333333, \"#9c179e\"], [0.4444444444444444, \"#bd3786\"], [0.5555555555555556, \"#d8576b\"], [0.6666666666666666, \"#ed7953\"], [0.7777777777777778, \"#fb9f3a\"], [0.8888888888888888, \"#fdca26\"], [1.0, \"#f0f921\"]], \"sequentialminus\": [[0.0, \"#0d0887\"], [0.1111111111111111, \"#46039f\"], [0.2222222222222222, \"#7201a8\"], [0.3333333333333333, \"#9c179e\"], [0.4444444444444444, \"#bd3786\"], [0.5555555555555556, \"#d8576b\"], [0.6666666666666666, \"#ed7953\"], [0.7777777777777778, \"#fb9f3a\"], [0.8888888888888888, \"#fdca26\"], [1.0, \"#f0f921\"]]}, \"colorway\": [\"#636efa\", \"#EF553B\", \"#00cc96\", \"#ab63fa\", \"#FFA15A\", \"#19d3f3\", \"#FF6692\", \"#B6E880\", \"#FF97FF\", \"#FECB52\"], \"font\": {\"color\": \"#2a3f5f\"}, \"geo\": {\"bgcolor\": \"white\", \"lakecolor\": \"white\", \"landcolor\": \"#E5ECF6\", \"showlakes\": true, \"showland\": true, \"subunitcolor\": \"white\"}, \"hoverlabel\": {\"align\": \"left\"}, \"hovermode\": \"closest\", \"mapbox\": {\"style\": \"light\"}, \"paper_bgcolor\": \"white\", \"plot_bgcolor\": \"#E5ECF6\", \"polar\": {\"angularaxis\": {\"gridcolor\": \"white\", \"linecolor\": \"white\", \"ticks\": \"\"}, \"bgcolor\": \"#E5ECF6\", \"radialaxis\": {\"gridcolor\": \"white\", \"linecolor\": \"white\", \"ticks\": \"\"}}, \"scene\": {\"xaxis\": {\"backgroundcolor\": \"#E5ECF6\", \"gridcolor\": \"white\", \"gridwidth\": 2, \"linecolor\": \"white\", \"showbackground\": true, \"ticks\": \"\", \"zerolinecolor\": \"white\"}, \"yaxis\": {\"backgroundcolor\": \"#E5ECF6\", \"gridcolor\": \"white\", \"gridwidth\": 2, \"linecolor\": \"white\", \"showbackground\": true, \"ticks\": \"\", \"zerolinecolor\": \"white\"}, \"zaxis\": {\"backgroundcolor\": \"#E5ECF6\", \"gridcolor\": \"white\", \"gridwidth\": 2, \"linecolor\": \"white\", \"showbackground\": true, \"ticks\": \"\", \"zerolinecolor\": \"white\"}}, \"shapedefaults\": {\"line\": {\"color\": \"#2a3f5f\"}}, \"ternary\": {\"aaxis\": {\"gridcolor\": \"white\", \"linecolor\": \"white\", \"ticks\": \"\"}, \"baxis\": {\"gridcolor\": \"white\", \"linecolor\": \"white\", \"ticks\": \"\"}, \"bgcolor\": \"#E5ECF6\", \"caxis\": {\"gridcolor\": \"white\", \"linecolor\": \"white\", \"ticks\": \"\"}}, \"title\": {\"x\": 0.05}, \"xaxis\": {\"automargin\": true, \"gridcolor\": \"white\", \"linecolor\": \"white\", \"ticks\": \"\", \"title\": {\"standoff\": 15}, \"zerolinecolor\": \"white\", \"zerolinewidth\": 2}, \"yaxis\": {\"automargin\": true, \"gridcolor\": \"white\", \"linecolor\": \"white\", \"ticks\": \"\", \"title\": {\"standoff\": 15}, \"zerolinecolor\": \"white\", \"zerolinewidth\": 2}}}, \"title\": {\"font\": {\"color\": \"#4D5663\"}}, \"xaxis\": {\"gridcolor\": \"#E1E5ED\", \"showgrid\": true, \"tickfont\": {\"color\": \"#4D5663\"}, \"title\": {\"font\": {\"color\": \"#4D5663\"}, \"text\": \"\"}, \"zerolinecolor\": \"#E1E5ED\"}, \"yaxis\": {\"gridcolor\": \"#E1E5ED\", \"showgrid\": true, \"tickfont\": {\"color\": \"#4D5663\"}, \"title\": {\"font\": {\"color\": \"#4D5663\"}, \"text\": \"\"}, \"zerolinecolor\": \"#E1E5ED\"}},\n",
       "                        {\"showLink\": true, \"linkText\": \"Export to plot.ly\", \"plotlyServerURL\": \"https://plot.ly\", \"responsive\": true}\n",
       "                    ).then(function(){\n",
       "                            \n",
       "var gd = document.getElementById('a754842c-4fee-4732-85e7-608e900b0212');\n",
       "var x = new MutationObserver(function (mutations, observer) {{\n",
       "        var display = window.getComputedStyle(gd).display;\n",
       "        if (!display || display === 'none') {{\n",
       "            console.log([gd, 'removed!']);\n",
       "            Plotly.purge(gd);\n",
       "            observer.disconnect();\n",
       "        }}\n",
       "}});\n",
       "\n",
       "// Listen for the removal of the full notebook cells\n",
       "var notebookContainer = gd.closest('#notebook-container');\n",
       "if (notebookContainer) {{\n",
       "    x.observe(notebookContainer, {childList: true});\n",
       "}}\n",
       "\n",
       "// Listen for the clearing of the current output cell\n",
       "var outputEl = gd.closest('.output');\n",
       "if (outputEl) {{\n",
       "    x.observe(outputEl, {childList: true});\n",
       "}}\n",
       "\n",
       "                        })\n",
       "                };\n",
       "                });\n",
       "            </script>\n",
       "        </div>"
      ]
     },
     "metadata": {},
     "output_type": "display_data"
    }
   ],
   "source": [
    "#Interactive histogram plot\n",
    "\n",
    "df['A'].iplot(kind = 'hist', bins = 40)"
   ]
  },
  {
   "cell_type": "code",
   "execution_count": 40,
   "metadata": {},
   "outputs": [
    {
     "data": {
      "application/vnd.plotly.v1+json": {
       "config": {
        "linkText": "Export to plot.ly",
        "plotlyServerURL": "https://plot.ly",
        "showLink": true
       },
       "data": [
        {
         "histfunc": "count",
         "histnorm": "",
         "marker": {
          "color": "rgba(255, 153, 51, 1.0)",
          "line": {
           "color": "#4D5663",
           "width": 1.3
          }
         },
         "name": "A",
         "nbinsx": 30,
         "opacity": 0.8,
         "orientation": "v",
         "type": "histogram",
         "x": [
          -0.24200640252741798,
          -0.9352878538108119,
          0.027388841991728325,
          -0.1819147191636028,
          1.0220939910254634,
          -2.5043642881046715,
          -0.31178537143269014,
          -0.27461685256679524,
          1.0543329194274218,
          0.3914427901382899,
          -1.441136423378452,
          1.915385670890251,
          1.0612013772594604,
          -1.3257408567553322,
          0.30134531166233225,
          0.13394694504780527,
          0.012414377790086016,
          -0.562666842819727,
          -2.1360295145840436,
          0.35120093080140075,
          -1.064081139900174,
          0.28589172652849776,
          -0.4836939196007413,
          -0.34394615357419,
          -0.00290307679785654,
          -1.14598078661371,
          0.3534869579588663,
          -0.8319610105553975,
          -0.589016049936948,
          -1.2072376829173481,
          0.2899195261165965,
          2.4927642854600336,
          -0.026883405147536468,
          1.0847247380259522,
          -0.4185054870473495,
          -1.7001290191162755,
          -0.6631138255023695,
          -1.3977215756251955,
          0.4455411861792529,
          0.30197911688308654,
          -0.2261709832051633,
          -0.1710396088940495,
          1.4433380795926118,
          0.530847712833768,
          0.961866271646887,
          1.2941998843821159,
          1.0216519281617251,
          1.6208258662004693,
          0.5421996729638662,
          0.13349040574255092,
          0.011698411413139344,
          0.3243929093413252,
          0.326055891967591,
          -1.857943472441847,
          -0.30463758552150405,
          -0.8808632160511382,
          0.5239216903007925,
          0.9834386074104604,
          1.4396406440418086,
          -0.257708302017176,
          0.829152364017514,
          -0.3546228497011296,
          0.5561073129790329,
          -0.12952762277766025,
          -0.8591907520878445,
          -0.11880680844042457,
          0.16303119021191692,
          1.5420497685582935,
          -0.952295004519987,
          1.3149511788637551,
          0.1793165206361868,
          0.39153581454967,
          0.40918112144156693,
          -0.1746866446198252,
          -0.27734651150838513,
          0.6868843028329731,
          -0.530086144552545,
          1.0225358547499583,
          1.0811481712042423,
          0.2860430974355543,
          -0.5235381746515275,
          -0.5030792474726582,
          0.17829313427772936,
          0.3689593426878984,
          0.8974440778903857,
          -0.2957284041584042,
          -1.0028423302906537,
          -0.4381398352349791,
          1.3607909151527158,
          -0.6508323686744798,
          -0.011964165734617253,
          1.350700373666675,
          -1.3173489072094142,
          -0.1409314948821588,
          -0.22547794130900795,
          1.3708181316671681,
          -1.829079525865196,
          -1.709605077000469,
          -2.0915084931810624,
          -1.0919845225225022
         ]
        },
        {
         "histfunc": "count",
         "histnorm": "",
         "marker": {
          "color": "rgba(55, 128, 191, 1.0)",
          "line": {
           "color": "#4D5663",
           "width": 1.3
          }
         },
         "name": "B",
         "nbinsx": 30,
         "opacity": 0.8,
         "orientation": "v",
         "type": "histogram",
         "x": [
          0.5038966296896649,
          -0.6402432132700927,
          -0.046084521044311134,
          2.2664478783920683,
          0.9477353340492846,
          -0.614880202117463,
          -1.6423022200466404,
          -0.5506536135023554,
          0.5784162871305017,
          1.2635114897067978,
          -1.4963273936516859,
          -1.6115050059592841,
          -0.46441376428471964,
          -1.0227066828446538,
          0.9350020037598924,
          0.38227490517607154,
          2.4302360193947536,
          -1.3161131598068214,
          -1.2982968542416018,
          -0.13265819926035488,
          -0.7038606550102939,
          -0.2209763016023666,
          0.9345495975185338,
          1.0095771347136155,
          -0.9434848398914922,
          -0.0652309643019826,
          1.339454873313897,
          -1.041460847515743,
          -0.6544215716422075,
          -0.6086375499446177,
          0.012736190202873435,
          -0.8033846548321574,
          -0.1523522799250349,
          -0.5912413700796505,
          -1.427089639295129,
          -0.2764544125199372,
          -0.4502946295633157,
          -0.3968453730357518,
          0.0008621038702756964,
          -0.6860921613608862,
          0.2148442500563389,
          -0.3965507564693599,
          -1.580565695259094,
          -0.6886015208288447,
          -0.19922535695751326,
          -1.300702016080167,
          0.8242157825252651,
          -0.3012421823694876,
          0.25194677497620255,
          -0.70194952275731,
          0.4899170779278613,
          -1.1735718832175956,
          -0.09730938850281483,
          -0.3296320457351763,
          0.6486586398947655,
          -1.4424157416670944,
          0.05808274371576219,
          -0.23849797529827363,
          -0.08816774745216509,
          -0.21844032759229703,
          0.232829730943407,
          -0.8574261372665845,
          -0.6448024783666553,
          0.04393697665503743,
          -0.9570215870458508,
          0.014303354983442854,
          -1.2418935875107275,
          0.35919198953731796,
          -0.8741166986646901,
          1.029193048664084,
          0.6521119689469097,
          -0.9868637243393551,
          0.01573171501393248,
          0.4984004502783877,
          -0.6326102152728523,
          -1.126999452904778,
          1.5111832744616316,
          -0.5362773785464199,
          -0.9171718630254313,
          -1.7903024971797645,
          0.33929301647279025,
          0.456425947566487,
          0.42651392121564213,
          0.3026441119122942,
          -0.3979126650758561,
          -1.3931863975895338,
          -0.7551173004643796,
          1.432726180997327,
          1.0706620899027854,
          2.054268754109293,
          0.20114830502964962,
          0.4683070160993021,
          0.6937735075316896,
          -0.7714541780919164,
          -2.2640923269889983,
          1.1699990427947233,
          -0.688947311971546,
          -0.10920382633628391,
          0.4329725303136423,
          0.16414135807661928
         ]
        },
        {
         "histfunc": "count",
         "histnorm": "",
         "marker": {
          "color": "rgba(50, 171, 96, 1.0)",
          "line": {
           "color": "#4D5663",
           "width": 1.3
          }
         },
         "name": "C",
         "nbinsx": 30,
         "opacity": 0.8,
         "orientation": "v",
         "type": "histogram",
         "x": [
          -0.0815347408742451,
          -0.5077649874988244,
          -0.06783904671905902,
          0.21062879208003074,
          0.38573975804107985,
          -0.42360398570600855,
          1.126717880451138,
          0.4353040461859579,
          -0.16601683108397614,
          0.20112069662041537,
          -0.9833596189946507,
          0.08798596302378772,
          -0.7032347433409032,
          -1.5193404907008845,
          0.6898031931166413,
          1.7689481636828148,
          -0.2205547686471449,
          0.706231048131834,
          1.4043000547925377,
          -1.5902270637207583,
          -0.5143664446343622,
          -0.4626087338865982,
          -0.8067031776035528,
          0.5723749949077205,
          -0.26923891560132895,
          1.527390451046774,
          -0.23770574624676455,
          -0.6313622148516641,
          0.24272218133055415,
          0.8594737224447366,
          -0.10153987154467391,
          -1.717481040343149,
          1.0147921385615757,
          0.910054309875966,
          0.28008821090081704,
          -1.73032732075467,
          -0.28032059857314184,
          0.020122614351310953,
          -0.62375902583589,
          -0.3362728984526408,
          -0.08747833013708962,
          1.7631604063434605,
          0.8301295635882725,
          0.08343587737131603,
          0.5477498426940517,
          0.40120705901539583,
          -1.014745792105112,
          -0.5004521513616882,
          0.29818789930043105,
          -0.9809039936952862,
          0.9612354079406753,
          0.14841866854001332,
          -0.8464508896410459,
          -0.49167492702023696,
          1.5381095565937783,
          -0.49089723014232334,
          0.44786229405164624,
          -0.2549100305603017,
          1.1309559744299842,
          -0.47578146796949433,
          0.03741717705911311,
          1.4675174286300103,
          -0.8045759523130023,
          -0.20080564559621938,
          -0.41159970632305587,
          -0.3213075604811162,
          -1.3809187836891244,
          0.9843946553936557,
          -0.6641791667254091,
          -2.668145682918329,
          1.5993922170193002,
          -0.2413458924577472,
          0.8553292191891982,
          -0.14892263793418098,
          0.7810111214371379,
          -1.7989069561723146,
          0.9602172066003379,
          0.2887724586354856,
          1.578662781392761,
          0.14463727492632686,
          0.6570661994938628,
          -0.401899493996044,
          -1.9309247477980442,
          0.9770918792089008,
          0.4898447052731042,
          -0.03318207920985528,
          -0.07467510973904955,
          0.6979736845657323,
          -1.9455591832381112,
          1.0860275040330245,
          -0.1918506689970517,
          -0.6886176684385715,
          -0.20238791595904101,
          0.8843775776516403,
          -0.08382639543647263,
          -0.20340165761830264,
          -1.4445858442180954,
          -0.4892485704502599,
          -0.4716963532959964,
          -0.7187058641996431
         ]
        },
        {
         "histfunc": "count",
         "histnorm": "",
         "marker": {
          "color": "rgba(128, 0, 128, 1.0)",
          "line": {
           "color": "#4D5663",
           "width": 1.3
          }
         },
         "name": "D",
         "nbinsx": 30,
         "opacity": 0.8,
         "orientation": "v",
         "type": "histogram",
         "x": [
          0.35011902790803934,
          -1.130866996845766,
          1.405284017456432,
          -1.8383419387844024,
          0.4765900950509363,
          -0.6713898667241399,
          -1.3185899430154078,
          0.3378607451901761,
          0.6812660236448889,
          -1.0583839844937002,
          0.21565699200799157,
          -0.39395362864556077,
          0.7864893063104716,
          -0.5109287460002682,
          1.3849823826501693,
          0.2656412310236148,
          -0.10532516018872078,
          0.34287931269975025,
          -1.375585888315486,
          -0.21499363349708459,
          1.3334888664607976,
          -0.4369653145103137,
          -1.1586555422237812,
          1.4302164537345452,
          -0.36780045273821715,
          -0.3692686528252982,
          -1.197000247649865,
          1.274993547734382,
          0.035822369915254726,
          -2.134053502281586,
          -1.3980532184794499,
          1.1928982293240424,
          -0.6633007278151068,
          0.7918241967649958,
          0.49424181834881475,
          -0.031805503187669164,
          -0.32943044867987525,
          0.03790470052222459,
          -0.22342106187880453,
          1.5366750148475983,
          -0.9496741075144404,
          0.03228590529755793,
          2.038895422480149,
          0.8886414845324146,
          -0.41147293507101385,
          -0.9311556393251326,
          0.5626543846304182,
          -0.19711756086049487,
          0.4851560219361143,
          -0.6597978611602378,
          -1.4232224256695793,
          -0.2262457980031783,
          0.9872238659614562,
          -1.1923726907339864,
          -1.500148492942461,
          -0.18599308207191292,
          -0.1654533592379869,
          -0.014656178952166133,
          2.6095406717691456,
          -1.2786216710356257,
          1.234638254186483,
          -0.4405921922176544,
          0.5116843289964375,
          -0.31744975288468247,
          0.3537073991650773,
          0.7593184727176464,
          0.9786571994511789,
          0.42243434646639316,
          -0.3280179290024408,
          -1.0859001215259885,
          -1.0155426234437614,
          0.18841236666978298,
          2.206442621586147,
          0.4722429074452371,
          1.3410013389700695,
          0.6197716938493748,
          -1.5845241954413414,
          -0.40970971262400313,
          0.7823349966285804,
          -0.7379069442536994,
          0.8806573278666577,
          -0.5127245160554915,
          -0.3179367685431994,
          3.0908379636496686,
          -0.9543873202451807,
          0.6764550592398433,
          -1.0324233628058,
          -1.1235452650742854,
          0.8836913358267898,
          1.22175671949375,
          1.3468180419008624,
          1.0956173241965554,
          -2.569890199980508,
          -0.5931116880279594,
          -1.096365880122233,
          0.4415956326673109,
          0.18730582073897895,
          -1.0319362002233652,
          1.643651569409393,
          1.4892770280017191
         ]
        }
       ],
       "layout": {
        "barmode": "overlay",
        "legend": {
         "bgcolor": "#F5F6F9",
         "font": {
          "color": "#4D5663"
         }
        },
        "paper_bgcolor": "#F5F6F9",
        "plot_bgcolor": "#F5F6F9",
        "template": {
         "data": {
          "bar": [
           {
            "error_x": {
             "color": "#2a3f5f"
            },
            "error_y": {
             "color": "#2a3f5f"
            },
            "marker": {
             "line": {
              "color": "#E5ECF6",
              "width": 0.5
             }
            },
            "type": "bar"
           }
          ],
          "barpolar": [
           {
            "marker": {
             "line": {
              "color": "#E5ECF6",
              "width": 0.5
             }
            },
            "type": "barpolar"
           }
          ],
          "carpet": [
           {
            "aaxis": {
             "endlinecolor": "#2a3f5f",
             "gridcolor": "white",
             "linecolor": "white",
             "minorgridcolor": "white",
             "startlinecolor": "#2a3f5f"
            },
            "baxis": {
             "endlinecolor": "#2a3f5f",
             "gridcolor": "white",
             "linecolor": "white",
             "minorgridcolor": "white",
             "startlinecolor": "#2a3f5f"
            },
            "type": "carpet"
           }
          ],
          "choropleth": [
           {
            "colorbar": {
             "outlinewidth": 0,
             "ticks": ""
            },
            "type": "choropleth"
           }
          ],
          "contour": [
           {
            "colorbar": {
             "outlinewidth": 0,
             "ticks": ""
            },
            "colorscale": [
             [
              0,
              "#0d0887"
             ],
             [
              0.1111111111111111,
              "#46039f"
             ],
             [
              0.2222222222222222,
              "#7201a8"
             ],
             [
              0.3333333333333333,
              "#9c179e"
             ],
             [
              0.4444444444444444,
              "#bd3786"
             ],
             [
              0.5555555555555556,
              "#d8576b"
             ],
             [
              0.6666666666666666,
              "#ed7953"
             ],
             [
              0.7777777777777778,
              "#fb9f3a"
             ],
             [
              0.8888888888888888,
              "#fdca26"
             ],
             [
              1,
              "#f0f921"
             ]
            ],
            "type": "contour"
           }
          ],
          "contourcarpet": [
           {
            "colorbar": {
             "outlinewidth": 0,
             "ticks": ""
            },
            "type": "contourcarpet"
           }
          ],
          "heatmap": [
           {
            "colorbar": {
             "outlinewidth": 0,
             "ticks": ""
            },
            "colorscale": [
             [
              0,
              "#0d0887"
             ],
             [
              0.1111111111111111,
              "#46039f"
             ],
             [
              0.2222222222222222,
              "#7201a8"
             ],
             [
              0.3333333333333333,
              "#9c179e"
             ],
             [
              0.4444444444444444,
              "#bd3786"
             ],
             [
              0.5555555555555556,
              "#d8576b"
             ],
             [
              0.6666666666666666,
              "#ed7953"
             ],
             [
              0.7777777777777778,
              "#fb9f3a"
             ],
             [
              0.8888888888888888,
              "#fdca26"
             ],
             [
              1,
              "#f0f921"
             ]
            ],
            "type": "heatmap"
           }
          ],
          "heatmapgl": [
           {
            "colorbar": {
             "outlinewidth": 0,
             "ticks": ""
            },
            "colorscale": [
             [
              0,
              "#0d0887"
             ],
             [
              0.1111111111111111,
              "#46039f"
             ],
             [
              0.2222222222222222,
              "#7201a8"
             ],
             [
              0.3333333333333333,
              "#9c179e"
             ],
             [
              0.4444444444444444,
              "#bd3786"
             ],
             [
              0.5555555555555556,
              "#d8576b"
             ],
             [
              0.6666666666666666,
              "#ed7953"
             ],
             [
              0.7777777777777778,
              "#fb9f3a"
             ],
             [
              0.8888888888888888,
              "#fdca26"
             ],
             [
              1,
              "#f0f921"
             ]
            ],
            "type": "heatmapgl"
           }
          ],
          "histogram": [
           {
            "marker": {
             "colorbar": {
              "outlinewidth": 0,
              "ticks": ""
             }
            },
            "type": "histogram"
           }
          ],
          "histogram2d": [
           {
            "colorbar": {
             "outlinewidth": 0,
             "ticks": ""
            },
            "colorscale": [
             [
              0,
              "#0d0887"
             ],
             [
              0.1111111111111111,
              "#46039f"
             ],
             [
              0.2222222222222222,
              "#7201a8"
             ],
             [
              0.3333333333333333,
              "#9c179e"
             ],
             [
              0.4444444444444444,
              "#bd3786"
             ],
             [
              0.5555555555555556,
              "#d8576b"
             ],
             [
              0.6666666666666666,
              "#ed7953"
             ],
             [
              0.7777777777777778,
              "#fb9f3a"
             ],
             [
              0.8888888888888888,
              "#fdca26"
             ],
             [
              1,
              "#f0f921"
             ]
            ],
            "type": "histogram2d"
           }
          ],
          "histogram2dcontour": [
           {
            "colorbar": {
             "outlinewidth": 0,
             "ticks": ""
            },
            "colorscale": [
             [
              0,
              "#0d0887"
             ],
             [
              0.1111111111111111,
              "#46039f"
             ],
             [
              0.2222222222222222,
              "#7201a8"
             ],
             [
              0.3333333333333333,
              "#9c179e"
             ],
             [
              0.4444444444444444,
              "#bd3786"
             ],
             [
              0.5555555555555556,
              "#d8576b"
             ],
             [
              0.6666666666666666,
              "#ed7953"
             ],
             [
              0.7777777777777778,
              "#fb9f3a"
             ],
             [
              0.8888888888888888,
              "#fdca26"
             ],
             [
              1,
              "#f0f921"
             ]
            ],
            "type": "histogram2dcontour"
           }
          ],
          "mesh3d": [
           {
            "colorbar": {
             "outlinewidth": 0,
             "ticks": ""
            },
            "type": "mesh3d"
           }
          ],
          "parcoords": [
           {
            "line": {
             "colorbar": {
              "outlinewidth": 0,
              "ticks": ""
             }
            },
            "type": "parcoords"
           }
          ],
          "pie": [
           {
            "automargin": true,
            "type": "pie"
           }
          ],
          "scatter": [
           {
            "marker": {
             "colorbar": {
              "outlinewidth": 0,
              "ticks": ""
             }
            },
            "type": "scatter"
           }
          ],
          "scatter3d": [
           {
            "line": {
             "colorbar": {
              "outlinewidth": 0,
              "ticks": ""
             }
            },
            "marker": {
             "colorbar": {
              "outlinewidth": 0,
              "ticks": ""
             }
            },
            "type": "scatter3d"
           }
          ],
          "scattercarpet": [
           {
            "marker": {
             "colorbar": {
              "outlinewidth": 0,
              "ticks": ""
             }
            },
            "type": "scattercarpet"
           }
          ],
          "scattergeo": [
           {
            "marker": {
             "colorbar": {
              "outlinewidth": 0,
              "ticks": ""
             }
            },
            "type": "scattergeo"
           }
          ],
          "scattergl": [
           {
            "marker": {
             "colorbar": {
              "outlinewidth": 0,
              "ticks": ""
             }
            },
            "type": "scattergl"
           }
          ],
          "scattermapbox": [
           {
            "marker": {
             "colorbar": {
              "outlinewidth": 0,
              "ticks": ""
             }
            },
            "type": "scattermapbox"
           }
          ],
          "scatterpolar": [
           {
            "marker": {
             "colorbar": {
              "outlinewidth": 0,
              "ticks": ""
             }
            },
            "type": "scatterpolar"
           }
          ],
          "scatterpolargl": [
           {
            "marker": {
             "colorbar": {
              "outlinewidth": 0,
              "ticks": ""
             }
            },
            "type": "scatterpolargl"
           }
          ],
          "scatterternary": [
           {
            "marker": {
             "colorbar": {
              "outlinewidth": 0,
              "ticks": ""
             }
            },
            "type": "scatterternary"
           }
          ],
          "surface": [
           {
            "colorbar": {
             "outlinewidth": 0,
             "ticks": ""
            },
            "colorscale": [
             [
              0,
              "#0d0887"
             ],
             [
              0.1111111111111111,
              "#46039f"
             ],
             [
              0.2222222222222222,
              "#7201a8"
             ],
             [
              0.3333333333333333,
              "#9c179e"
             ],
             [
              0.4444444444444444,
              "#bd3786"
             ],
             [
              0.5555555555555556,
              "#d8576b"
             ],
             [
              0.6666666666666666,
              "#ed7953"
             ],
             [
              0.7777777777777778,
              "#fb9f3a"
             ],
             [
              0.8888888888888888,
              "#fdca26"
             ],
             [
              1,
              "#f0f921"
             ]
            ],
            "type": "surface"
           }
          ],
          "table": [
           {
            "cells": {
             "fill": {
              "color": "#EBF0F8"
             },
             "line": {
              "color": "white"
             }
            },
            "header": {
             "fill": {
              "color": "#C8D4E3"
             },
             "line": {
              "color": "white"
             }
            },
            "type": "table"
           }
          ]
         },
         "layout": {
          "annotationdefaults": {
           "arrowcolor": "#2a3f5f",
           "arrowhead": 0,
           "arrowwidth": 1
          },
          "coloraxis": {
           "colorbar": {
            "outlinewidth": 0,
            "ticks": ""
           }
          },
          "colorscale": {
           "diverging": [
            [
             0,
             "#8e0152"
            ],
            [
             0.1,
             "#c51b7d"
            ],
            [
             0.2,
             "#de77ae"
            ],
            [
             0.3,
             "#f1b6da"
            ],
            [
             0.4,
             "#fde0ef"
            ],
            [
             0.5,
             "#f7f7f7"
            ],
            [
             0.6,
             "#e6f5d0"
            ],
            [
             0.7,
             "#b8e186"
            ],
            [
             0.8,
             "#7fbc41"
            ],
            [
             0.9,
             "#4d9221"
            ],
            [
             1,
             "#276419"
            ]
           ],
           "sequential": [
            [
             0,
             "#0d0887"
            ],
            [
             0.1111111111111111,
             "#46039f"
            ],
            [
             0.2222222222222222,
             "#7201a8"
            ],
            [
             0.3333333333333333,
             "#9c179e"
            ],
            [
             0.4444444444444444,
             "#bd3786"
            ],
            [
             0.5555555555555556,
             "#d8576b"
            ],
            [
             0.6666666666666666,
             "#ed7953"
            ],
            [
             0.7777777777777778,
             "#fb9f3a"
            ],
            [
             0.8888888888888888,
             "#fdca26"
            ],
            [
             1,
             "#f0f921"
            ]
           ],
           "sequentialminus": [
            [
             0,
             "#0d0887"
            ],
            [
             0.1111111111111111,
             "#46039f"
            ],
            [
             0.2222222222222222,
             "#7201a8"
            ],
            [
             0.3333333333333333,
             "#9c179e"
            ],
            [
             0.4444444444444444,
             "#bd3786"
            ],
            [
             0.5555555555555556,
             "#d8576b"
            ],
            [
             0.6666666666666666,
             "#ed7953"
            ],
            [
             0.7777777777777778,
             "#fb9f3a"
            ],
            [
             0.8888888888888888,
             "#fdca26"
            ],
            [
             1,
             "#f0f921"
            ]
           ]
          },
          "colorway": [
           "#636efa",
           "#EF553B",
           "#00cc96",
           "#ab63fa",
           "#FFA15A",
           "#19d3f3",
           "#FF6692",
           "#B6E880",
           "#FF97FF",
           "#FECB52"
          ],
          "font": {
           "color": "#2a3f5f"
          },
          "geo": {
           "bgcolor": "white",
           "lakecolor": "white",
           "landcolor": "#E5ECF6",
           "showlakes": true,
           "showland": true,
           "subunitcolor": "white"
          },
          "hoverlabel": {
           "align": "left"
          },
          "hovermode": "closest",
          "mapbox": {
           "style": "light"
          },
          "paper_bgcolor": "white",
          "plot_bgcolor": "#E5ECF6",
          "polar": {
           "angularaxis": {
            "gridcolor": "white",
            "linecolor": "white",
            "ticks": ""
           },
           "bgcolor": "#E5ECF6",
           "radialaxis": {
            "gridcolor": "white",
            "linecolor": "white",
            "ticks": ""
           }
          },
          "scene": {
           "xaxis": {
            "backgroundcolor": "#E5ECF6",
            "gridcolor": "white",
            "gridwidth": 2,
            "linecolor": "white",
            "showbackground": true,
            "ticks": "",
            "zerolinecolor": "white"
           },
           "yaxis": {
            "backgroundcolor": "#E5ECF6",
            "gridcolor": "white",
            "gridwidth": 2,
            "linecolor": "white",
            "showbackground": true,
            "ticks": "",
            "zerolinecolor": "white"
           },
           "zaxis": {
            "backgroundcolor": "#E5ECF6",
            "gridcolor": "white",
            "gridwidth": 2,
            "linecolor": "white",
            "showbackground": true,
            "ticks": "",
            "zerolinecolor": "white"
           }
          },
          "shapedefaults": {
           "line": {
            "color": "#2a3f5f"
           }
          },
          "ternary": {
           "aaxis": {
            "gridcolor": "white",
            "linecolor": "white",
            "ticks": ""
           },
           "baxis": {
            "gridcolor": "white",
            "linecolor": "white",
            "ticks": ""
           },
           "bgcolor": "#E5ECF6",
           "caxis": {
            "gridcolor": "white",
            "linecolor": "white",
            "ticks": ""
           }
          },
          "title": {
           "x": 0.05
          },
          "xaxis": {
           "automargin": true,
           "gridcolor": "white",
           "linecolor": "white",
           "ticks": "",
           "title": {
            "standoff": 15
           },
           "zerolinecolor": "white",
           "zerolinewidth": 2
          },
          "yaxis": {
           "automargin": true,
           "gridcolor": "white",
           "linecolor": "white",
           "ticks": "",
           "title": {
            "standoff": 15
           },
           "zerolinecolor": "white",
           "zerolinewidth": 2
          }
         }
        },
        "title": {
         "font": {
          "color": "#4D5663"
         }
        },
        "xaxis": {
         "gridcolor": "#E1E5ED",
         "showgrid": true,
         "tickfont": {
          "color": "#4D5663"
         },
         "title": {
          "font": {
           "color": "#4D5663"
          },
          "text": ""
         },
         "zerolinecolor": "#E1E5ED"
        },
        "yaxis": {
         "gridcolor": "#E1E5ED",
         "showgrid": true,
         "tickfont": {
          "color": "#4D5663"
         },
         "title": {
          "font": {
           "color": "#4D5663"
          },
          "text": ""
         },
         "zerolinecolor": "#E1E5ED"
        }
       }
      },
      "text/html": [
       "<div>\n",
       "        \n",
       "        \n",
       "            <div id=\"8dff4770-48ab-4114-948f-bb6a1e1676c5\" class=\"plotly-graph-div\" style=\"height:525px; width:100%;\"></div>\n",
       "            <script type=\"text/javascript\">\n",
       "                require([\"plotly\"], function(Plotly) {\n",
       "                    window.PLOTLYENV=window.PLOTLYENV || {};\n",
       "                    window.PLOTLYENV.BASE_URL='https://plot.ly';\n",
       "                    \n",
       "                if (document.getElementById(\"8dff4770-48ab-4114-948f-bb6a1e1676c5\")) {\n",
       "                    Plotly.newPlot(\n",
       "                        '8dff4770-48ab-4114-948f-bb6a1e1676c5',\n",
       "                        [{\"histfunc\": \"count\", \"histnorm\": \"\", \"marker\": {\"color\": \"rgba(255, 153, 51, 1.0)\", \"line\": {\"color\": \"#4D5663\", \"width\": 1.3}}, \"name\": \"A\", \"nbinsx\": 30, \"opacity\": 0.8, \"orientation\": \"v\", \"type\": \"histogram\", \"x\": [-0.24200640252741798, -0.9352878538108119, 0.027388841991728325, -0.1819147191636028, 1.0220939910254634, -2.5043642881046715, -0.31178537143269014, -0.27461685256679524, 1.0543329194274218, 0.3914427901382899, -1.441136423378452, 1.915385670890251, 1.0612013772594604, -1.3257408567553322, 0.30134531166233225, 0.13394694504780527, 0.012414377790086016, -0.562666842819727, -2.1360295145840436, 0.35120093080140075, -1.064081139900174, 0.28589172652849776, -0.4836939196007413, -0.34394615357419, -0.00290307679785654, -1.14598078661371, 0.3534869579588663, -0.8319610105553975, -0.589016049936948, -1.2072376829173481, 0.2899195261165965, 2.4927642854600336, -0.026883405147536468, 1.0847247380259522, -0.4185054870473495, -1.7001290191162755, -0.6631138255023695, -1.3977215756251955, 0.4455411861792529, 0.30197911688308654, -0.2261709832051633, -0.1710396088940495, 1.4433380795926118, 0.530847712833768, 0.961866271646887, 1.2941998843821159, 1.0216519281617251, 1.6208258662004693, 0.5421996729638662, 0.13349040574255092, 0.011698411413139344, 0.3243929093413252, 0.326055891967591, -1.857943472441847, -0.30463758552150405, -0.8808632160511382, 0.5239216903007925, 0.9834386074104604, 1.4396406440418086, -0.257708302017176, 0.829152364017514, -0.3546228497011296, 0.5561073129790329, -0.12952762277766025, -0.8591907520878445, -0.11880680844042457, 0.16303119021191692, 1.5420497685582935, -0.952295004519987, 1.3149511788637551, 0.1793165206361868, 0.39153581454967, 0.40918112144156693, -0.1746866446198252, -0.27734651150838513, 0.6868843028329731, -0.530086144552545, 1.0225358547499583, 1.0811481712042423, 0.2860430974355543, -0.5235381746515275, -0.5030792474726582, 0.17829313427772936, 0.3689593426878984, 0.8974440778903857, -0.2957284041584042, -1.0028423302906537, -0.4381398352349791, 1.3607909151527158, -0.6508323686744798, -0.011964165734617253, 1.350700373666675, -1.3173489072094142, -0.1409314948821588, -0.22547794130900795, 1.3708181316671681, -1.829079525865196, -1.709605077000469, -2.0915084931810624, -1.0919845225225022]}, {\"histfunc\": \"count\", \"histnorm\": \"\", \"marker\": {\"color\": \"rgba(55, 128, 191, 1.0)\", \"line\": {\"color\": \"#4D5663\", \"width\": 1.3}}, \"name\": \"B\", \"nbinsx\": 30, \"opacity\": 0.8, \"orientation\": \"v\", \"type\": \"histogram\", \"x\": [0.5038966296896649, -0.6402432132700927, -0.046084521044311134, 2.2664478783920683, 0.9477353340492846, -0.614880202117463, -1.6423022200466404, -0.5506536135023554, 0.5784162871305017, 1.2635114897067978, -1.4963273936516859, -1.6115050059592841, -0.46441376428471964, -1.0227066828446538, 0.9350020037598924, 0.38227490517607154, 2.4302360193947536, -1.3161131598068214, -1.2982968542416018, -0.13265819926035488, -0.7038606550102939, -0.2209763016023666, 0.9345495975185338, 1.0095771347136155, -0.9434848398914922, -0.0652309643019826, 1.339454873313897, -1.041460847515743, -0.6544215716422075, -0.6086375499446177, 0.012736190202873435, -0.8033846548321574, -0.1523522799250349, -0.5912413700796505, -1.427089639295129, -0.2764544125199372, -0.4502946295633157, -0.3968453730357518, 0.0008621038702756964, -0.6860921613608862, 0.2148442500563389, -0.3965507564693599, -1.580565695259094, -0.6886015208288447, -0.19922535695751326, -1.300702016080167, 0.8242157825252651, -0.3012421823694876, 0.25194677497620255, -0.70194952275731, 0.4899170779278613, -1.1735718832175956, -0.09730938850281483, -0.3296320457351763, 0.6486586398947655, -1.4424157416670944, 0.05808274371576219, -0.23849797529827363, -0.08816774745216509, -0.21844032759229703, 0.232829730943407, -0.8574261372665845, -0.6448024783666553, 0.04393697665503743, -0.9570215870458508, 0.014303354983442854, -1.2418935875107275, 0.35919198953731796, -0.8741166986646901, 1.029193048664084, 0.6521119689469097, -0.9868637243393551, 0.01573171501393248, 0.4984004502783877, -0.6326102152728523, -1.126999452904778, 1.5111832744616316, -0.5362773785464199, -0.9171718630254313, -1.7903024971797645, 0.33929301647279025, 0.456425947566487, 0.42651392121564213, 0.3026441119122942, -0.3979126650758561, -1.3931863975895338, -0.7551173004643796, 1.432726180997327, 1.0706620899027854, 2.054268754109293, 0.20114830502964962, 0.4683070160993021, 0.6937735075316896, -0.7714541780919164, -2.2640923269889983, 1.1699990427947233, -0.688947311971546, -0.10920382633628391, 0.4329725303136423, 0.16414135807661928]}, {\"histfunc\": \"count\", \"histnorm\": \"\", \"marker\": {\"color\": \"rgba(50, 171, 96, 1.0)\", \"line\": {\"color\": \"#4D5663\", \"width\": 1.3}}, \"name\": \"C\", \"nbinsx\": 30, \"opacity\": 0.8, \"orientation\": \"v\", \"type\": \"histogram\", \"x\": [-0.0815347408742451, -0.5077649874988244, -0.06783904671905902, 0.21062879208003074, 0.38573975804107985, -0.42360398570600855, 1.126717880451138, 0.4353040461859579, -0.16601683108397614, 0.20112069662041537, -0.9833596189946507, 0.08798596302378772, -0.7032347433409032, -1.5193404907008845, 0.6898031931166413, 1.7689481636828148, -0.2205547686471449, 0.706231048131834, 1.4043000547925377, -1.5902270637207583, -0.5143664446343622, -0.4626087338865982, -0.8067031776035528, 0.5723749949077205, -0.26923891560132895, 1.527390451046774, -0.23770574624676455, -0.6313622148516641, 0.24272218133055415, 0.8594737224447366, -0.10153987154467391, -1.717481040343149, 1.0147921385615757, 0.910054309875966, 0.28008821090081704, -1.73032732075467, -0.28032059857314184, 0.020122614351310953, -0.62375902583589, -0.3362728984526408, -0.08747833013708962, 1.7631604063434605, 0.8301295635882725, 0.08343587737131603, 0.5477498426940517, 0.40120705901539583, -1.014745792105112, -0.5004521513616882, 0.29818789930043105, -0.9809039936952862, 0.9612354079406753, 0.14841866854001332, -0.8464508896410459, -0.49167492702023696, 1.5381095565937783, -0.49089723014232334, 0.44786229405164624, -0.2549100305603017, 1.1309559744299842, -0.47578146796949433, 0.03741717705911311, 1.4675174286300103, -0.8045759523130023, -0.20080564559621938, -0.41159970632305587, -0.3213075604811162, -1.3809187836891244, 0.9843946553936557, -0.6641791667254091, -2.668145682918329, 1.5993922170193002, -0.2413458924577472, 0.8553292191891982, -0.14892263793418098, 0.7810111214371379, -1.7989069561723146, 0.9602172066003379, 0.2887724586354856, 1.578662781392761, 0.14463727492632686, 0.6570661994938628, -0.401899493996044, -1.9309247477980442, 0.9770918792089008, 0.4898447052731042, -0.03318207920985528, -0.07467510973904955, 0.6979736845657323, -1.9455591832381112, 1.0860275040330245, -0.1918506689970517, -0.6886176684385715, -0.20238791595904101, 0.8843775776516403, -0.08382639543647263, -0.20340165761830264, -1.4445858442180954, -0.4892485704502599, -0.4716963532959964, -0.7187058641996431]}, {\"histfunc\": \"count\", \"histnorm\": \"\", \"marker\": {\"color\": \"rgba(128, 0, 128, 1.0)\", \"line\": {\"color\": \"#4D5663\", \"width\": 1.3}}, \"name\": \"D\", \"nbinsx\": 30, \"opacity\": 0.8, \"orientation\": \"v\", \"type\": \"histogram\", \"x\": [0.35011902790803934, -1.130866996845766, 1.405284017456432, -1.8383419387844024, 0.4765900950509363, -0.6713898667241399, -1.3185899430154078, 0.3378607451901761, 0.6812660236448889, -1.0583839844937002, 0.21565699200799157, -0.39395362864556077, 0.7864893063104716, -0.5109287460002682, 1.3849823826501693, 0.2656412310236148, -0.10532516018872078, 0.34287931269975025, -1.375585888315486, -0.21499363349708459, 1.3334888664607976, -0.4369653145103137, -1.1586555422237812, 1.4302164537345452, -0.36780045273821715, -0.3692686528252982, -1.197000247649865, 1.274993547734382, 0.035822369915254726, -2.134053502281586, -1.3980532184794499, 1.1928982293240424, -0.6633007278151068, 0.7918241967649958, 0.49424181834881475, -0.031805503187669164, -0.32943044867987525, 0.03790470052222459, -0.22342106187880453, 1.5366750148475983, -0.9496741075144404, 0.03228590529755793, 2.038895422480149, 0.8886414845324146, -0.41147293507101385, -0.9311556393251326, 0.5626543846304182, -0.19711756086049487, 0.4851560219361143, -0.6597978611602378, -1.4232224256695793, -0.2262457980031783, 0.9872238659614562, -1.1923726907339864, -1.500148492942461, -0.18599308207191292, -0.1654533592379869, -0.014656178952166133, 2.6095406717691456, -1.2786216710356257, 1.234638254186483, -0.4405921922176544, 0.5116843289964375, -0.31744975288468247, 0.3537073991650773, 0.7593184727176464, 0.9786571994511789, 0.42243434646639316, -0.3280179290024408, -1.0859001215259885, -1.0155426234437614, 0.18841236666978298, 2.206442621586147, 0.4722429074452371, 1.3410013389700695, 0.6197716938493748, -1.5845241954413414, -0.40970971262400313, 0.7823349966285804, -0.7379069442536994, 0.8806573278666577, -0.5127245160554915, -0.3179367685431994, 3.0908379636496686, -0.9543873202451807, 0.6764550592398433, -1.0324233628058, -1.1235452650742854, 0.8836913358267898, 1.22175671949375, 1.3468180419008624, 1.0956173241965554, -2.569890199980508, -0.5931116880279594, -1.096365880122233, 0.4415956326673109, 0.18730582073897895, -1.0319362002233652, 1.643651569409393, 1.4892770280017191]}],\n",
       "                        {\"barmode\": \"overlay\", \"legend\": {\"bgcolor\": \"#F5F6F9\", \"font\": {\"color\": \"#4D5663\"}}, \"paper_bgcolor\": \"#F5F6F9\", \"plot_bgcolor\": \"#F5F6F9\", \"template\": {\"data\": {\"bar\": [{\"error_x\": {\"color\": \"#2a3f5f\"}, \"error_y\": {\"color\": \"#2a3f5f\"}, \"marker\": {\"line\": {\"color\": \"#E5ECF6\", \"width\": 0.5}}, \"type\": \"bar\"}], \"barpolar\": [{\"marker\": {\"line\": {\"color\": \"#E5ECF6\", \"width\": 0.5}}, \"type\": \"barpolar\"}], \"carpet\": [{\"aaxis\": {\"endlinecolor\": \"#2a3f5f\", \"gridcolor\": \"white\", \"linecolor\": \"white\", \"minorgridcolor\": \"white\", \"startlinecolor\": \"#2a3f5f\"}, \"baxis\": {\"endlinecolor\": \"#2a3f5f\", \"gridcolor\": \"white\", \"linecolor\": \"white\", \"minorgridcolor\": \"white\", \"startlinecolor\": \"#2a3f5f\"}, \"type\": \"carpet\"}], \"choropleth\": [{\"colorbar\": {\"outlinewidth\": 0, \"ticks\": \"\"}, \"type\": \"choropleth\"}], \"contour\": [{\"colorbar\": {\"outlinewidth\": 0, \"ticks\": \"\"}, \"colorscale\": [[0.0, \"#0d0887\"], [0.1111111111111111, \"#46039f\"], [0.2222222222222222, \"#7201a8\"], [0.3333333333333333, \"#9c179e\"], [0.4444444444444444, \"#bd3786\"], [0.5555555555555556, \"#d8576b\"], [0.6666666666666666, \"#ed7953\"], [0.7777777777777778, \"#fb9f3a\"], [0.8888888888888888, \"#fdca26\"], [1.0, \"#f0f921\"]], \"type\": \"contour\"}], \"contourcarpet\": [{\"colorbar\": {\"outlinewidth\": 0, \"ticks\": \"\"}, \"type\": \"contourcarpet\"}], \"heatmap\": [{\"colorbar\": {\"outlinewidth\": 0, \"ticks\": \"\"}, \"colorscale\": [[0.0, \"#0d0887\"], [0.1111111111111111, \"#46039f\"], [0.2222222222222222, \"#7201a8\"], [0.3333333333333333, \"#9c179e\"], [0.4444444444444444, \"#bd3786\"], [0.5555555555555556, \"#d8576b\"], [0.6666666666666666, \"#ed7953\"], [0.7777777777777778, \"#fb9f3a\"], [0.8888888888888888, \"#fdca26\"], [1.0, \"#f0f921\"]], \"type\": \"heatmap\"}], \"heatmapgl\": [{\"colorbar\": {\"outlinewidth\": 0, \"ticks\": \"\"}, \"colorscale\": [[0.0, \"#0d0887\"], [0.1111111111111111, \"#46039f\"], [0.2222222222222222, \"#7201a8\"], [0.3333333333333333, \"#9c179e\"], [0.4444444444444444, \"#bd3786\"], [0.5555555555555556, \"#d8576b\"], [0.6666666666666666, \"#ed7953\"], [0.7777777777777778, \"#fb9f3a\"], [0.8888888888888888, \"#fdca26\"], [1.0, \"#f0f921\"]], \"type\": \"heatmapgl\"}], \"histogram\": [{\"marker\": {\"colorbar\": {\"outlinewidth\": 0, \"ticks\": \"\"}}, \"type\": \"histogram\"}], \"histogram2d\": [{\"colorbar\": {\"outlinewidth\": 0, \"ticks\": \"\"}, \"colorscale\": [[0.0, \"#0d0887\"], [0.1111111111111111, \"#46039f\"], [0.2222222222222222, \"#7201a8\"], [0.3333333333333333, \"#9c179e\"], [0.4444444444444444, \"#bd3786\"], [0.5555555555555556, \"#d8576b\"], [0.6666666666666666, \"#ed7953\"], [0.7777777777777778, \"#fb9f3a\"], [0.8888888888888888, \"#fdca26\"], [1.0, \"#f0f921\"]], \"type\": \"histogram2d\"}], \"histogram2dcontour\": [{\"colorbar\": {\"outlinewidth\": 0, \"ticks\": \"\"}, \"colorscale\": [[0.0, \"#0d0887\"], [0.1111111111111111, \"#46039f\"], [0.2222222222222222, \"#7201a8\"], [0.3333333333333333, \"#9c179e\"], [0.4444444444444444, \"#bd3786\"], [0.5555555555555556, \"#d8576b\"], [0.6666666666666666, \"#ed7953\"], [0.7777777777777778, \"#fb9f3a\"], [0.8888888888888888, \"#fdca26\"], [1.0, \"#f0f921\"]], \"type\": \"histogram2dcontour\"}], \"mesh3d\": [{\"colorbar\": {\"outlinewidth\": 0, \"ticks\": \"\"}, \"type\": \"mesh3d\"}], \"parcoords\": [{\"line\": {\"colorbar\": {\"outlinewidth\": 0, \"ticks\": \"\"}}, \"type\": \"parcoords\"}], \"pie\": [{\"automargin\": true, \"type\": \"pie\"}], \"scatter\": [{\"marker\": {\"colorbar\": {\"outlinewidth\": 0, \"ticks\": \"\"}}, \"type\": \"scatter\"}], \"scatter3d\": [{\"line\": {\"colorbar\": {\"outlinewidth\": 0, \"ticks\": \"\"}}, \"marker\": {\"colorbar\": {\"outlinewidth\": 0, \"ticks\": \"\"}}, \"type\": \"scatter3d\"}], \"scattercarpet\": [{\"marker\": {\"colorbar\": {\"outlinewidth\": 0, \"ticks\": \"\"}}, \"type\": \"scattercarpet\"}], \"scattergeo\": [{\"marker\": {\"colorbar\": {\"outlinewidth\": 0, \"ticks\": \"\"}}, \"type\": \"scattergeo\"}], \"scattergl\": [{\"marker\": {\"colorbar\": {\"outlinewidth\": 0, \"ticks\": \"\"}}, \"type\": \"scattergl\"}], \"scattermapbox\": [{\"marker\": {\"colorbar\": {\"outlinewidth\": 0, \"ticks\": \"\"}}, \"type\": \"scattermapbox\"}], \"scatterpolar\": [{\"marker\": {\"colorbar\": {\"outlinewidth\": 0, \"ticks\": \"\"}}, \"type\": \"scatterpolar\"}], \"scatterpolargl\": [{\"marker\": {\"colorbar\": {\"outlinewidth\": 0, \"ticks\": \"\"}}, \"type\": \"scatterpolargl\"}], \"scatterternary\": [{\"marker\": {\"colorbar\": {\"outlinewidth\": 0, \"ticks\": \"\"}}, \"type\": \"scatterternary\"}], \"surface\": [{\"colorbar\": {\"outlinewidth\": 0, \"ticks\": \"\"}, \"colorscale\": [[0.0, \"#0d0887\"], [0.1111111111111111, \"#46039f\"], [0.2222222222222222, \"#7201a8\"], [0.3333333333333333, \"#9c179e\"], [0.4444444444444444, \"#bd3786\"], [0.5555555555555556, \"#d8576b\"], [0.6666666666666666, \"#ed7953\"], [0.7777777777777778, \"#fb9f3a\"], [0.8888888888888888, \"#fdca26\"], [1.0, \"#f0f921\"]], \"type\": \"surface\"}], \"table\": [{\"cells\": {\"fill\": {\"color\": \"#EBF0F8\"}, \"line\": {\"color\": \"white\"}}, \"header\": {\"fill\": {\"color\": \"#C8D4E3\"}, \"line\": {\"color\": \"white\"}}, \"type\": \"table\"}]}, \"layout\": {\"annotationdefaults\": {\"arrowcolor\": \"#2a3f5f\", \"arrowhead\": 0, \"arrowwidth\": 1}, \"coloraxis\": {\"colorbar\": {\"outlinewidth\": 0, \"ticks\": \"\"}}, \"colorscale\": {\"diverging\": [[0, \"#8e0152\"], [0.1, \"#c51b7d\"], [0.2, \"#de77ae\"], [0.3, \"#f1b6da\"], [0.4, \"#fde0ef\"], [0.5, \"#f7f7f7\"], [0.6, \"#e6f5d0\"], [0.7, \"#b8e186\"], [0.8, \"#7fbc41\"], [0.9, \"#4d9221\"], [1, \"#276419\"]], \"sequential\": [[0.0, \"#0d0887\"], [0.1111111111111111, \"#46039f\"], [0.2222222222222222, \"#7201a8\"], [0.3333333333333333, \"#9c179e\"], [0.4444444444444444, \"#bd3786\"], [0.5555555555555556, \"#d8576b\"], [0.6666666666666666, \"#ed7953\"], [0.7777777777777778, \"#fb9f3a\"], [0.8888888888888888, \"#fdca26\"], [1.0, \"#f0f921\"]], \"sequentialminus\": [[0.0, \"#0d0887\"], [0.1111111111111111, \"#46039f\"], [0.2222222222222222, \"#7201a8\"], [0.3333333333333333, \"#9c179e\"], [0.4444444444444444, \"#bd3786\"], [0.5555555555555556, \"#d8576b\"], [0.6666666666666666, \"#ed7953\"], [0.7777777777777778, \"#fb9f3a\"], [0.8888888888888888, \"#fdca26\"], [1.0, \"#f0f921\"]]}, \"colorway\": [\"#636efa\", \"#EF553B\", \"#00cc96\", \"#ab63fa\", \"#FFA15A\", \"#19d3f3\", \"#FF6692\", \"#B6E880\", \"#FF97FF\", \"#FECB52\"], \"font\": {\"color\": \"#2a3f5f\"}, \"geo\": {\"bgcolor\": \"white\", \"lakecolor\": \"white\", \"landcolor\": \"#E5ECF6\", \"showlakes\": true, \"showland\": true, \"subunitcolor\": \"white\"}, \"hoverlabel\": {\"align\": \"left\"}, \"hovermode\": \"closest\", \"mapbox\": {\"style\": \"light\"}, \"paper_bgcolor\": \"white\", \"plot_bgcolor\": \"#E5ECF6\", \"polar\": {\"angularaxis\": {\"gridcolor\": \"white\", \"linecolor\": \"white\", \"ticks\": \"\"}, \"bgcolor\": \"#E5ECF6\", \"radialaxis\": {\"gridcolor\": \"white\", \"linecolor\": \"white\", \"ticks\": \"\"}}, \"scene\": {\"xaxis\": {\"backgroundcolor\": \"#E5ECF6\", \"gridcolor\": \"white\", \"gridwidth\": 2, \"linecolor\": \"white\", \"showbackground\": true, \"ticks\": \"\", \"zerolinecolor\": \"white\"}, \"yaxis\": {\"backgroundcolor\": \"#E5ECF6\", \"gridcolor\": \"white\", \"gridwidth\": 2, \"linecolor\": \"white\", \"showbackground\": true, \"ticks\": \"\", \"zerolinecolor\": \"white\"}, \"zaxis\": {\"backgroundcolor\": \"#E5ECF6\", \"gridcolor\": \"white\", \"gridwidth\": 2, \"linecolor\": \"white\", \"showbackground\": true, \"ticks\": \"\", \"zerolinecolor\": \"white\"}}, \"shapedefaults\": {\"line\": {\"color\": \"#2a3f5f\"}}, \"ternary\": {\"aaxis\": {\"gridcolor\": \"white\", \"linecolor\": \"white\", \"ticks\": \"\"}, \"baxis\": {\"gridcolor\": \"white\", \"linecolor\": \"white\", \"ticks\": \"\"}, \"bgcolor\": \"#E5ECF6\", \"caxis\": {\"gridcolor\": \"white\", \"linecolor\": \"white\", \"ticks\": \"\"}}, \"title\": {\"x\": 0.05}, \"xaxis\": {\"automargin\": true, \"gridcolor\": \"white\", \"linecolor\": \"white\", \"ticks\": \"\", \"title\": {\"standoff\": 15}, \"zerolinecolor\": \"white\", \"zerolinewidth\": 2}, \"yaxis\": {\"automargin\": true, \"gridcolor\": \"white\", \"linecolor\": \"white\", \"ticks\": \"\", \"title\": {\"standoff\": 15}, \"zerolinecolor\": \"white\", \"zerolinewidth\": 2}}}, \"title\": {\"font\": {\"color\": \"#4D5663\"}}, \"xaxis\": {\"gridcolor\": \"#E1E5ED\", \"showgrid\": true, \"tickfont\": {\"color\": \"#4D5663\"}, \"title\": {\"font\": {\"color\": \"#4D5663\"}, \"text\": \"\"}, \"zerolinecolor\": \"#E1E5ED\"}, \"yaxis\": {\"gridcolor\": \"#E1E5ED\", \"showgrid\": true, \"tickfont\": {\"color\": \"#4D5663\"}, \"title\": {\"font\": {\"color\": \"#4D5663\"}, \"text\": \"\"}, \"zerolinecolor\": \"#E1E5ED\"}},\n",
       "                        {\"showLink\": true, \"linkText\": \"Export to plot.ly\", \"plotlyServerURL\": \"https://plot.ly\", \"responsive\": true}\n",
       "                    ).then(function(){\n",
       "                            \n",
       "var gd = document.getElementById('8dff4770-48ab-4114-948f-bb6a1e1676c5');\n",
       "var x = new MutationObserver(function (mutations, observer) {{\n",
       "        var display = window.getComputedStyle(gd).display;\n",
       "        if (!display || display === 'none') {{\n",
       "            console.log([gd, 'removed!']);\n",
       "            Plotly.purge(gd);\n",
       "            observer.disconnect();\n",
       "        }}\n",
       "}});\n",
       "\n",
       "// Listen for the removal of the full notebook cells\n",
       "var notebookContainer = gd.closest('#notebook-container');\n",
       "if (notebookContainer) {{\n",
       "    x.observe(notebookContainer, {childList: true});\n",
       "}}\n",
       "\n",
       "// Listen for the clearing of the current output cell\n",
       "var outputEl = gd.closest('.output');\n",
       "if (outputEl) {{\n",
       "    x.observe(outputEl, {childList: true});\n",
       "}}\n",
       "\n",
       "                        })\n",
       "                };\n",
       "                });\n",
       "            </script>\n",
       "        </div>"
      ]
     },
     "metadata": {},
     "output_type": "display_data"
    }
   ],
   "source": [
    "#Overlapping histograms of all the columns\n",
    "df.iplot(kind = 'hist', bins =30)"
   ]
  },
  {
   "cell_type": "code",
   "execution_count": 41,
   "metadata": {},
   "outputs": [
    {
     "data": {
      "application/vnd.plotly.v1+json": {
       "config": {
        "linkText": "Export to plot.ly",
        "plotlyServerURL": "https://plot.ly",
        "showLink": true
       },
       "data": [
        {
         "line": {
          "color": "rgba(255, 153, 51, 1.0)",
          "dash": "solid",
          "shape": "linear",
          "width": 1.3
         },
         "mode": "lines",
         "name": "A",
         "text": "",
         "type": "scatter",
         "x": [
          0,
          1,
          2,
          3,
          4,
          5,
          6,
          7,
          8,
          9,
          10,
          11,
          12,
          13,
          14,
          15,
          16,
          17,
          18,
          19,
          20,
          21,
          22,
          23,
          24,
          25,
          26,
          27,
          28,
          29,
          30,
          31,
          32,
          33,
          34,
          35,
          36,
          37,
          38,
          39,
          40,
          41,
          42,
          43,
          44,
          45,
          46,
          47,
          48,
          49,
          50,
          51,
          52,
          53,
          54,
          55,
          56,
          57,
          58,
          59,
          60,
          61,
          62,
          63,
          64,
          65,
          66,
          67,
          68,
          69,
          70,
          71,
          72,
          73,
          74,
          75,
          76,
          77,
          78,
          79,
          80,
          81,
          82,
          83,
          84,
          85,
          86,
          87,
          88,
          89,
          90,
          91,
          92,
          93,
          94,
          95,
          96,
          97,
          98,
          99
         ],
         "y": [
          -0.24200640252741798,
          -0.9352878538108119,
          0.027388841991728325,
          -0.1819147191636028,
          1.0220939910254634,
          -2.5043642881046715,
          -0.31178537143269014,
          -0.27461685256679524,
          1.0543329194274218,
          0.3914427901382899,
          -1.441136423378452,
          1.915385670890251,
          1.0612013772594604,
          -1.3257408567553322,
          0.30134531166233225,
          0.13394694504780527,
          0.012414377790086016,
          -0.562666842819727,
          -2.1360295145840436,
          0.35120093080140075,
          -1.064081139900174,
          0.28589172652849776,
          -0.4836939196007413,
          -0.34394615357419,
          -0.00290307679785654,
          -1.14598078661371,
          0.3534869579588663,
          -0.8319610105553975,
          -0.589016049936948,
          -1.2072376829173481,
          0.2899195261165965,
          2.4927642854600336,
          -0.026883405147536468,
          1.0847247380259522,
          -0.4185054870473495,
          -1.7001290191162755,
          -0.6631138255023695,
          -1.3977215756251955,
          0.4455411861792529,
          0.30197911688308654,
          -0.2261709832051633,
          -0.1710396088940495,
          1.4433380795926118,
          0.530847712833768,
          0.961866271646887,
          1.2941998843821159,
          1.0216519281617251,
          1.6208258662004693,
          0.5421996729638662,
          0.13349040574255092,
          0.011698411413139344,
          0.3243929093413252,
          0.326055891967591,
          -1.857943472441847,
          -0.30463758552150405,
          -0.8808632160511382,
          0.5239216903007925,
          0.9834386074104604,
          1.4396406440418086,
          -0.257708302017176,
          0.829152364017514,
          -0.3546228497011296,
          0.5561073129790329,
          -0.12952762277766025,
          -0.8591907520878445,
          -0.11880680844042457,
          0.16303119021191692,
          1.5420497685582935,
          -0.952295004519987,
          1.3149511788637551,
          0.1793165206361868,
          0.39153581454967,
          0.40918112144156693,
          -0.1746866446198252,
          -0.27734651150838513,
          0.6868843028329731,
          -0.530086144552545,
          1.0225358547499583,
          1.0811481712042423,
          0.2860430974355543,
          -0.5235381746515275,
          -0.5030792474726582,
          0.17829313427772936,
          0.3689593426878984,
          0.8974440778903857,
          -0.2957284041584042,
          -1.0028423302906537,
          -0.4381398352349791,
          1.3607909151527158,
          -0.6508323686744798,
          -0.011964165734617253,
          1.350700373666675,
          -1.3173489072094142,
          -0.1409314948821588,
          -0.22547794130900795,
          1.3708181316671681,
          -1.829079525865196,
          -1.709605077000469,
          -2.0915084931810624,
          -1.0919845225225022
         ]
        },
        {
         "line": {
          "color": "rgba(55, 128, 191, 1.0)",
          "dash": "solid",
          "shape": "linear",
          "width": 1.3
         },
         "mode": "lines",
         "name": "B",
         "text": "",
         "type": "scatter",
         "x": [
          0,
          1,
          2,
          3,
          4,
          5,
          6,
          7,
          8,
          9,
          10,
          11,
          12,
          13,
          14,
          15,
          16,
          17,
          18,
          19,
          20,
          21,
          22,
          23,
          24,
          25,
          26,
          27,
          28,
          29,
          30,
          31,
          32,
          33,
          34,
          35,
          36,
          37,
          38,
          39,
          40,
          41,
          42,
          43,
          44,
          45,
          46,
          47,
          48,
          49,
          50,
          51,
          52,
          53,
          54,
          55,
          56,
          57,
          58,
          59,
          60,
          61,
          62,
          63,
          64,
          65,
          66,
          67,
          68,
          69,
          70,
          71,
          72,
          73,
          74,
          75,
          76,
          77,
          78,
          79,
          80,
          81,
          82,
          83,
          84,
          85,
          86,
          87,
          88,
          89,
          90,
          91,
          92,
          93,
          94,
          95,
          96,
          97,
          98,
          99
         ],
         "y": [
          0.5038966296896649,
          -0.6402432132700927,
          -0.046084521044311134,
          2.2664478783920683,
          0.9477353340492846,
          -0.614880202117463,
          -1.6423022200466404,
          -0.5506536135023554,
          0.5784162871305017,
          1.2635114897067978,
          -1.4963273936516859,
          -1.6115050059592841,
          -0.46441376428471964,
          -1.0227066828446538,
          0.9350020037598924,
          0.38227490517607154,
          2.4302360193947536,
          -1.3161131598068214,
          -1.2982968542416018,
          -0.13265819926035488,
          -0.7038606550102939,
          -0.2209763016023666,
          0.9345495975185338,
          1.0095771347136155,
          -0.9434848398914922,
          -0.0652309643019826,
          1.339454873313897,
          -1.041460847515743,
          -0.6544215716422075,
          -0.6086375499446177,
          0.012736190202873435,
          -0.8033846548321574,
          -0.1523522799250349,
          -0.5912413700796505,
          -1.427089639295129,
          -0.2764544125199372,
          -0.4502946295633157,
          -0.3968453730357518,
          0.0008621038702756964,
          -0.6860921613608862,
          0.2148442500563389,
          -0.3965507564693599,
          -1.580565695259094,
          -0.6886015208288447,
          -0.19922535695751326,
          -1.300702016080167,
          0.8242157825252651,
          -0.3012421823694876,
          0.25194677497620255,
          -0.70194952275731,
          0.4899170779278613,
          -1.1735718832175956,
          -0.09730938850281483,
          -0.3296320457351763,
          0.6486586398947655,
          -1.4424157416670944,
          0.05808274371576219,
          -0.23849797529827363,
          -0.08816774745216509,
          -0.21844032759229703,
          0.232829730943407,
          -0.8574261372665845,
          -0.6448024783666553,
          0.04393697665503743,
          -0.9570215870458508,
          0.014303354983442854,
          -1.2418935875107275,
          0.35919198953731796,
          -0.8741166986646901,
          1.029193048664084,
          0.6521119689469097,
          -0.9868637243393551,
          0.01573171501393248,
          0.4984004502783877,
          -0.6326102152728523,
          -1.126999452904778,
          1.5111832744616316,
          -0.5362773785464199,
          -0.9171718630254313,
          -1.7903024971797645,
          0.33929301647279025,
          0.456425947566487,
          0.42651392121564213,
          0.3026441119122942,
          -0.3979126650758561,
          -1.3931863975895338,
          -0.7551173004643796,
          1.432726180997327,
          1.0706620899027854,
          2.054268754109293,
          0.20114830502964962,
          0.4683070160993021,
          0.6937735075316896,
          -0.7714541780919164,
          -2.2640923269889983,
          1.1699990427947233,
          -0.688947311971546,
          -0.10920382633628391,
          0.4329725303136423,
          0.16414135807661928
         ]
        },
        {
         "connectgaps": false,
         "fill": "tozeroy",
         "line": {
          "color": "green",
          "dash": "solid",
          "shape": "linear",
          "width": 0.5
         },
         "mode": "lines",
         "name": "Spread",
         "showlegend": false,
         "type": "scatter",
         "x": [
          0,
          1,
          2,
          3,
          4,
          5,
          6,
          7,
          8,
          9,
          10,
          11,
          12,
          13,
          14,
          15,
          16,
          17,
          18,
          19,
          20,
          21,
          22,
          23,
          24,
          25,
          26,
          27,
          28,
          29,
          30,
          31,
          32,
          33,
          34,
          35,
          36,
          37,
          38,
          39,
          40,
          41,
          42,
          43,
          44,
          45,
          46,
          47,
          48,
          49,
          50,
          51,
          52,
          53,
          54,
          55,
          56,
          57,
          58,
          59,
          60,
          61,
          62,
          63,
          64,
          65,
          66,
          67,
          68,
          69,
          70,
          71,
          72,
          73,
          74,
          75,
          76,
          77,
          78,
          79,
          80,
          81,
          82,
          83,
          84,
          85,
          86,
          87,
          88,
          89,
          90,
          91,
          92,
          93,
          94,
          95,
          96,
          97,
          98,
          99
         ],
         "xaxis": "x2",
         "y": [
          "",
          "",
          0.07347336303603946,
          "",
          0.07435865697617883,
          "",
          1.3305168486139503,
          0.2760367609355602,
          0.47591663229692005,
          "",
          0.05519097027323383,
          3.5268906768495354,
          1.52561514154418,
          "",
          "",
          "",
          "",
          0.7534463169870944,
          "",
          0.4838591300617556,
          "",
          0.5068680281308644,
          "",
          "",
          0.9405817630936357,
          "",
          "",
          0.20949983696034546,
          0.06540552170525948,
          "",
          0.2771833359137231,
          3.296148940292191,
          0.1254688747774984,
          1.6759661081056025,
          1.0085841522477796,
          "",
          "",
          "",
          0.44467908230897724,
          0.9880712782439728,
          "",
          0.22551114757531038,
          3.023903774851706,
          1.2194492336626128,
          1.1610916286044002,
          2.5949019004622826,
          0.19743614563646006,
          1.9220680485699568,
          0.2902528979876636,
          0.8354399284998609,
          "",
          1.4979647925589208,
          0.42336528047040584,
          "",
          "",
          0.5615525256159563,
          0.46583894658503033,
          1.221936582708734,
          1.5278083914939737,
          "",
          0.596322633074107,
          0.5028032875654549,
          1.2009097913456883,
          "",
          0.09783083495800637,
          "",
          1.4049247777226443,
          1.1828577790209756,
          "",
          0.2857581301996712,
          "",
          1.3783995388890251,
          0.39344940642763443,
          "",
          0.3552637037644672,
          1.8138837557377512,
          "",
          1.5588132332963782,
          1.9983200342296736,
          2.0763455946153186,
          "",
          "",
          "",
          0.0663152307756042,
          1.2953567429662418,
          1.0974579934311297,
          "",
          "",
          0.29012882524993033,
          "",
          "",
          0.8823933575673728,
          "",
          0.6305226832097576,
          2.0386143856799905,
          0.20081908887244482,
          "",
          "",
          "",
          ""
         ],
         "yaxis": "y2"
        },
        {
         "connectgaps": false,
         "fill": "tozeroy",
         "line": {
          "color": "red",
          "dash": "solid",
          "shape": "linear",
          "width": 0.5
         },
         "mode": "lines",
         "name": "Spread",
         "showlegend": false,
         "type": "scatter",
         "x": [
          0,
          1,
          2,
          3,
          4,
          5,
          6,
          7,
          8,
          9,
          10,
          11,
          12,
          13,
          14,
          15,
          16,
          17,
          18,
          19,
          20,
          21,
          22,
          23,
          24,
          25,
          26,
          27,
          28,
          29,
          30,
          31,
          32,
          33,
          34,
          35,
          36,
          37,
          38,
          39,
          40,
          41,
          42,
          43,
          44,
          45,
          46,
          47,
          48,
          49,
          50,
          51,
          52,
          53,
          54,
          55,
          56,
          57,
          58,
          59,
          60,
          61,
          62,
          63,
          64,
          65,
          66,
          67,
          68,
          69,
          70,
          71,
          72,
          73,
          74,
          75,
          76,
          77,
          78,
          79,
          80,
          81,
          82,
          83,
          84,
          85,
          86,
          87,
          88,
          89,
          90,
          91,
          92,
          93,
          94,
          95,
          96,
          97,
          98,
          99
         ],
         "xaxis": "x2",
         "y": [
          -0.7459030322170829,
          -0.2950446405407192,
          "",
          -2.448362597555671,
          "",
          -1.8894840859872084,
          "",
          "",
          "",
          -0.8720686995685079,
          "",
          "",
          "",
          -0.30303417391067833,
          -0.6336566920975601,
          -0.24832796012826627,
          -2.4178216416046676,
          "",
          -0.8377326603424418,
          "",
          -0.36022048488988,
          "",
          -1.418243517119275,
          -1.3535232882878057,
          "",
          -1.0807498223117273,
          -0.9859679153550306,
          "",
          "",
          -0.5986001329727304,
          "",
          "",
          "",
          "",
          "",
          -1.4236746065963382,
          -0.21281919593905385,
          -1.0008762025894438,
          "",
          "",
          -0.44101523326150216,
          "",
          "",
          "",
          "",
          "",
          "",
          "",
          "",
          "",
          -0.478218666514722,
          "",
          "",
          -1.5283114267066709,
          -0.9532962254162696,
          "",
          "",
          "",
          "",
          -0.03926797442487895,
          "",
          "",
          "",
          -0.17346459943269768,
          "",
          -0.13311016342386742,
          "",
          "",
          -0.07817830585529695,
          "",
          -0.4727954483107229,
          "",
          "",
          -0.6730870948982128,
          "",
          "",
          -2.0412694190141765,
          "",
          "",
          "",
          -0.8628311911243178,
          -0.9595051950391452,
          -0.24822078693791277,
          "",
          "",
          "",
          -0.2477250298262741,
          -1.870866016232306,
          "",
          -2.705101122783773,
          -0.21311247076426687,
          "",
          -2.011122414741104,
          "",
          "",
          "",
          -1.1401322138936498,
          -1.600401250664185,
          -2.5244810234947046,
          -1.2561258805991216
         ],
         "yaxis": "y2"
        }
       ],
       "layout": {
        "hovermode": "x",
        "legend": {
         "bgcolor": "#F5F6F9",
         "font": {
          "color": "#4D5663"
         }
        },
        "paper_bgcolor": "#F5F6F9",
        "plot_bgcolor": "#F5F6F9",
        "template": {
         "data": {
          "bar": [
           {
            "error_x": {
             "color": "#2a3f5f"
            },
            "error_y": {
             "color": "#2a3f5f"
            },
            "marker": {
             "line": {
              "color": "#E5ECF6",
              "width": 0.5
             }
            },
            "type": "bar"
           }
          ],
          "barpolar": [
           {
            "marker": {
             "line": {
              "color": "#E5ECF6",
              "width": 0.5
             }
            },
            "type": "barpolar"
           }
          ],
          "carpet": [
           {
            "aaxis": {
             "endlinecolor": "#2a3f5f",
             "gridcolor": "white",
             "linecolor": "white",
             "minorgridcolor": "white",
             "startlinecolor": "#2a3f5f"
            },
            "baxis": {
             "endlinecolor": "#2a3f5f",
             "gridcolor": "white",
             "linecolor": "white",
             "minorgridcolor": "white",
             "startlinecolor": "#2a3f5f"
            },
            "type": "carpet"
           }
          ],
          "choropleth": [
           {
            "colorbar": {
             "outlinewidth": 0,
             "ticks": ""
            },
            "type": "choropleth"
           }
          ],
          "contour": [
           {
            "colorbar": {
             "outlinewidth": 0,
             "ticks": ""
            },
            "colorscale": [
             [
              0,
              "#0d0887"
             ],
             [
              0.1111111111111111,
              "#46039f"
             ],
             [
              0.2222222222222222,
              "#7201a8"
             ],
             [
              0.3333333333333333,
              "#9c179e"
             ],
             [
              0.4444444444444444,
              "#bd3786"
             ],
             [
              0.5555555555555556,
              "#d8576b"
             ],
             [
              0.6666666666666666,
              "#ed7953"
             ],
             [
              0.7777777777777778,
              "#fb9f3a"
             ],
             [
              0.8888888888888888,
              "#fdca26"
             ],
             [
              1,
              "#f0f921"
             ]
            ],
            "type": "contour"
           }
          ],
          "contourcarpet": [
           {
            "colorbar": {
             "outlinewidth": 0,
             "ticks": ""
            },
            "type": "contourcarpet"
           }
          ],
          "heatmap": [
           {
            "colorbar": {
             "outlinewidth": 0,
             "ticks": ""
            },
            "colorscale": [
             [
              0,
              "#0d0887"
             ],
             [
              0.1111111111111111,
              "#46039f"
             ],
             [
              0.2222222222222222,
              "#7201a8"
             ],
             [
              0.3333333333333333,
              "#9c179e"
             ],
             [
              0.4444444444444444,
              "#bd3786"
             ],
             [
              0.5555555555555556,
              "#d8576b"
             ],
             [
              0.6666666666666666,
              "#ed7953"
             ],
             [
              0.7777777777777778,
              "#fb9f3a"
             ],
             [
              0.8888888888888888,
              "#fdca26"
             ],
             [
              1,
              "#f0f921"
             ]
            ],
            "type": "heatmap"
           }
          ],
          "heatmapgl": [
           {
            "colorbar": {
             "outlinewidth": 0,
             "ticks": ""
            },
            "colorscale": [
             [
              0,
              "#0d0887"
             ],
             [
              0.1111111111111111,
              "#46039f"
             ],
             [
              0.2222222222222222,
              "#7201a8"
             ],
             [
              0.3333333333333333,
              "#9c179e"
             ],
             [
              0.4444444444444444,
              "#bd3786"
             ],
             [
              0.5555555555555556,
              "#d8576b"
             ],
             [
              0.6666666666666666,
              "#ed7953"
             ],
             [
              0.7777777777777778,
              "#fb9f3a"
             ],
             [
              0.8888888888888888,
              "#fdca26"
             ],
             [
              1,
              "#f0f921"
             ]
            ],
            "type": "heatmapgl"
           }
          ],
          "histogram": [
           {
            "marker": {
             "colorbar": {
              "outlinewidth": 0,
              "ticks": ""
             }
            },
            "type": "histogram"
           }
          ],
          "histogram2d": [
           {
            "colorbar": {
             "outlinewidth": 0,
             "ticks": ""
            },
            "colorscale": [
             [
              0,
              "#0d0887"
             ],
             [
              0.1111111111111111,
              "#46039f"
             ],
             [
              0.2222222222222222,
              "#7201a8"
             ],
             [
              0.3333333333333333,
              "#9c179e"
             ],
             [
              0.4444444444444444,
              "#bd3786"
             ],
             [
              0.5555555555555556,
              "#d8576b"
             ],
             [
              0.6666666666666666,
              "#ed7953"
             ],
             [
              0.7777777777777778,
              "#fb9f3a"
             ],
             [
              0.8888888888888888,
              "#fdca26"
             ],
             [
              1,
              "#f0f921"
             ]
            ],
            "type": "histogram2d"
           }
          ],
          "histogram2dcontour": [
           {
            "colorbar": {
             "outlinewidth": 0,
             "ticks": ""
            },
            "colorscale": [
             [
              0,
              "#0d0887"
             ],
             [
              0.1111111111111111,
              "#46039f"
             ],
             [
              0.2222222222222222,
              "#7201a8"
             ],
             [
              0.3333333333333333,
              "#9c179e"
             ],
             [
              0.4444444444444444,
              "#bd3786"
             ],
             [
              0.5555555555555556,
              "#d8576b"
             ],
             [
              0.6666666666666666,
              "#ed7953"
             ],
             [
              0.7777777777777778,
              "#fb9f3a"
             ],
             [
              0.8888888888888888,
              "#fdca26"
             ],
             [
              1,
              "#f0f921"
             ]
            ],
            "type": "histogram2dcontour"
           }
          ],
          "mesh3d": [
           {
            "colorbar": {
             "outlinewidth": 0,
             "ticks": ""
            },
            "type": "mesh3d"
           }
          ],
          "parcoords": [
           {
            "line": {
             "colorbar": {
              "outlinewidth": 0,
              "ticks": ""
             }
            },
            "type": "parcoords"
           }
          ],
          "pie": [
           {
            "automargin": true,
            "type": "pie"
           }
          ],
          "scatter": [
           {
            "marker": {
             "colorbar": {
              "outlinewidth": 0,
              "ticks": ""
             }
            },
            "type": "scatter"
           }
          ],
          "scatter3d": [
           {
            "line": {
             "colorbar": {
              "outlinewidth": 0,
              "ticks": ""
             }
            },
            "marker": {
             "colorbar": {
              "outlinewidth": 0,
              "ticks": ""
             }
            },
            "type": "scatter3d"
           }
          ],
          "scattercarpet": [
           {
            "marker": {
             "colorbar": {
              "outlinewidth": 0,
              "ticks": ""
             }
            },
            "type": "scattercarpet"
           }
          ],
          "scattergeo": [
           {
            "marker": {
             "colorbar": {
              "outlinewidth": 0,
              "ticks": ""
             }
            },
            "type": "scattergeo"
           }
          ],
          "scattergl": [
           {
            "marker": {
             "colorbar": {
              "outlinewidth": 0,
              "ticks": ""
             }
            },
            "type": "scattergl"
           }
          ],
          "scattermapbox": [
           {
            "marker": {
             "colorbar": {
              "outlinewidth": 0,
              "ticks": ""
             }
            },
            "type": "scattermapbox"
           }
          ],
          "scatterpolar": [
           {
            "marker": {
             "colorbar": {
              "outlinewidth": 0,
              "ticks": ""
             }
            },
            "type": "scatterpolar"
           }
          ],
          "scatterpolargl": [
           {
            "marker": {
             "colorbar": {
              "outlinewidth": 0,
              "ticks": ""
             }
            },
            "type": "scatterpolargl"
           }
          ],
          "scatterternary": [
           {
            "marker": {
             "colorbar": {
              "outlinewidth": 0,
              "ticks": ""
             }
            },
            "type": "scatterternary"
           }
          ],
          "surface": [
           {
            "colorbar": {
             "outlinewidth": 0,
             "ticks": ""
            },
            "colorscale": [
             [
              0,
              "#0d0887"
             ],
             [
              0.1111111111111111,
              "#46039f"
             ],
             [
              0.2222222222222222,
              "#7201a8"
             ],
             [
              0.3333333333333333,
              "#9c179e"
             ],
             [
              0.4444444444444444,
              "#bd3786"
             ],
             [
              0.5555555555555556,
              "#d8576b"
             ],
             [
              0.6666666666666666,
              "#ed7953"
             ],
             [
              0.7777777777777778,
              "#fb9f3a"
             ],
             [
              0.8888888888888888,
              "#fdca26"
             ],
             [
              1,
              "#f0f921"
             ]
            ],
            "type": "surface"
           }
          ],
          "table": [
           {
            "cells": {
             "fill": {
              "color": "#EBF0F8"
             },
             "line": {
              "color": "white"
             }
            },
            "header": {
             "fill": {
              "color": "#C8D4E3"
             },
             "line": {
              "color": "white"
             }
            },
            "type": "table"
           }
          ]
         },
         "layout": {
          "annotationdefaults": {
           "arrowcolor": "#2a3f5f",
           "arrowhead": 0,
           "arrowwidth": 1
          },
          "coloraxis": {
           "colorbar": {
            "outlinewidth": 0,
            "ticks": ""
           }
          },
          "colorscale": {
           "diverging": [
            [
             0,
             "#8e0152"
            ],
            [
             0.1,
             "#c51b7d"
            ],
            [
             0.2,
             "#de77ae"
            ],
            [
             0.3,
             "#f1b6da"
            ],
            [
             0.4,
             "#fde0ef"
            ],
            [
             0.5,
             "#f7f7f7"
            ],
            [
             0.6,
             "#e6f5d0"
            ],
            [
             0.7,
             "#b8e186"
            ],
            [
             0.8,
             "#7fbc41"
            ],
            [
             0.9,
             "#4d9221"
            ],
            [
             1,
             "#276419"
            ]
           ],
           "sequential": [
            [
             0,
             "#0d0887"
            ],
            [
             0.1111111111111111,
             "#46039f"
            ],
            [
             0.2222222222222222,
             "#7201a8"
            ],
            [
             0.3333333333333333,
             "#9c179e"
            ],
            [
             0.4444444444444444,
             "#bd3786"
            ],
            [
             0.5555555555555556,
             "#d8576b"
            ],
            [
             0.6666666666666666,
             "#ed7953"
            ],
            [
             0.7777777777777778,
             "#fb9f3a"
            ],
            [
             0.8888888888888888,
             "#fdca26"
            ],
            [
             1,
             "#f0f921"
            ]
           ],
           "sequentialminus": [
            [
             0,
             "#0d0887"
            ],
            [
             0.1111111111111111,
             "#46039f"
            ],
            [
             0.2222222222222222,
             "#7201a8"
            ],
            [
             0.3333333333333333,
             "#9c179e"
            ],
            [
             0.4444444444444444,
             "#bd3786"
            ],
            [
             0.5555555555555556,
             "#d8576b"
            ],
            [
             0.6666666666666666,
             "#ed7953"
            ],
            [
             0.7777777777777778,
             "#fb9f3a"
            ],
            [
             0.8888888888888888,
             "#fdca26"
            ],
            [
             1,
             "#f0f921"
            ]
           ]
          },
          "colorway": [
           "#636efa",
           "#EF553B",
           "#00cc96",
           "#ab63fa",
           "#FFA15A",
           "#19d3f3",
           "#FF6692",
           "#B6E880",
           "#FF97FF",
           "#FECB52"
          ],
          "font": {
           "color": "#2a3f5f"
          },
          "geo": {
           "bgcolor": "white",
           "lakecolor": "white",
           "landcolor": "#E5ECF6",
           "showlakes": true,
           "showland": true,
           "subunitcolor": "white"
          },
          "hoverlabel": {
           "align": "left"
          },
          "hovermode": "closest",
          "mapbox": {
           "style": "light"
          },
          "paper_bgcolor": "white",
          "plot_bgcolor": "#E5ECF6",
          "polar": {
           "angularaxis": {
            "gridcolor": "white",
            "linecolor": "white",
            "ticks": ""
           },
           "bgcolor": "#E5ECF6",
           "radialaxis": {
            "gridcolor": "white",
            "linecolor": "white",
            "ticks": ""
           }
          },
          "scene": {
           "xaxis": {
            "backgroundcolor": "#E5ECF6",
            "gridcolor": "white",
            "gridwidth": 2,
            "linecolor": "white",
            "showbackground": true,
            "ticks": "",
            "zerolinecolor": "white"
           },
           "yaxis": {
            "backgroundcolor": "#E5ECF6",
            "gridcolor": "white",
            "gridwidth": 2,
            "linecolor": "white",
            "showbackground": true,
            "ticks": "",
            "zerolinecolor": "white"
           },
           "zaxis": {
            "backgroundcolor": "#E5ECF6",
            "gridcolor": "white",
            "gridwidth": 2,
            "linecolor": "white",
            "showbackground": true,
            "ticks": "",
            "zerolinecolor": "white"
           }
          },
          "shapedefaults": {
           "line": {
            "color": "#2a3f5f"
           }
          },
          "ternary": {
           "aaxis": {
            "gridcolor": "white",
            "linecolor": "white",
            "ticks": ""
           },
           "baxis": {
            "gridcolor": "white",
            "linecolor": "white",
            "ticks": ""
           },
           "bgcolor": "#E5ECF6",
           "caxis": {
            "gridcolor": "white",
            "linecolor": "white",
            "ticks": ""
           }
          },
          "title": {
           "x": 0.05
          },
          "xaxis": {
           "automargin": true,
           "gridcolor": "white",
           "linecolor": "white",
           "ticks": "",
           "title": {
            "standoff": 15
           },
           "zerolinecolor": "white",
           "zerolinewidth": 2
          },
          "yaxis": {
           "automargin": true,
           "gridcolor": "white",
           "linecolor": "white",
           "ticks": "",
           "title": {
            "standoff": 15
           },
           "zerolinecolor": "white",
           "zerolinewidth": 2
          }
         }
        },
        "title": {
         "font": {
          "color": "#4D5663"
         }
        },
        "xaxis": {
         "gridcolor": "#E1E5ED",
         "showgrid": true,
         "tickfont": {
          "color": "#4D5663"
         },
         "title": {
          "font": {
           "color": "#4D5663"
          },
          "text": ""
         },
         "zerolinecolor": "#E1E5ED"
        },
        "xaxis2": {
         "anchor": "y2",
         "gridcolor": "#E1E5ED",
         "showgrid": true,
         "showticklabels": false,
         "tickfont": {
          "color": "#4D5663"
         },
         "title": {
          "font": {
           "color": "#4D5663"
          },
          "text": ""
         },
         "zerolinecolor": "#E1E5ED"
        },
        "yaxis": {
         "domain": [
          0.3,
          1
         ],
         "gridcolor": "#E1E5ED",
         "showgrid": true,
         "tickfont": {
          "color": "#4D5663"
         },
         "title": {
          "font": {
           "color": "#4D5663"
          },
          "text": ""
         },
         "zerolinecolor": "#E1E5ED"
        },
        "yaxis2": {
         "domain": [
          0,
          0.25
         ],
         "gridcolor": "#E1E5ED",
         "showgrid": true,
         "tickfont": {
          "color": "#4D5663"
         },
         "title": {
          "font": {
           "color": "#4D5663"
          },
          "text": "Spread"
         },
         "zerolinecolor": "#E1E5ED"
        }
       }
      },
      "text/html": [
       "<div>\n",
       "        \n",
       "        \n",
       "            <div id=\"885acf29-6c59-4289-88e0-8ed30bee907c\" class=\"plotly-graph-div\" style=\"height:525px; width:100%;\"></div>\n",
       "            <script type=\"text/javascript\">\n",
       "                require([\"plotly\"], function(Plotly) {\n",
       "                    window.PLOTLYENV=window.PLOTLYENV || {};\n",
       "                    window.PLOTLYENV.BASE_URL='https://plot.ly';\n",
       "                    \n",
       "                if (document.getElementById(\"885acf29-6c59-4289-88e0-8ed30bee907c\")) {\n",
       "                    Plotly.newPlot(\n",
       "                        '885acf29-6c59-4289-88e0-8ed30bee907c',\n",
       "                        [{\"line\": {\"color\": \"rgba(255, 153, 51, 1.0)\", \"dash\": \"solid\", \"shape\": \"linear\", \"width\": 1.3}, \"mode\": \"lines\", \"name\": \"A\", \"text\": \"\", \"type\": \"scatter\", \"x\": [0, 1, 2, 3, 4, 5, 6, 7, 8, 9, 10, 11, 12, 13, 14, 15, 16, 17, 18, 19, 20, 21, 22, 23, 24, 25, 26, 27, 28, 29, 30, 31, 32, 33, 34, 35, 36, 37, 38, 39, 40, 41, 42, 43, 44, 45, 46, 47, 48, 49, 50, 51, 52, 53, 54, 55, 56, 57, 58, 59, 60, 61, 62, 63, 64, 65, 66, 67, 68, 69, 70, 71, 72, 73, 74, 75, 76, 77, 78, 79, 80, 81, 82, 83, 84, 85, 86, 87, 88, 89, 90, 91, 92, 93, 94, 95, 96, 97, 98, 99], \"y\": [-0.24200640252741798, -0.9352878538108119, 0.027388841991728325, -0.1819147191636028, 1.0220939910254634, -2.5043642881046715, -0.31178537143269014, -0.27461685256679524, 1.0543329194274218, 0.3914427901382899, -1.441136423378452, 1.915385670890251, 1.0612013772594604, -1.3257408567553322, 0.30134531166233225, 0.13394694504780527, 0.012414377790086016, -0.562666842819727, -2.1360295145840436, 0.35120093080140075, -1.064081139900174, 0.28589172652849776, -0.4836939196007413, -0.34394615357419, -0.00290307679785654, -1.14598078661371, 0.3534869579588663, -0.8319610105553975, -0.589016049936948, -1.2072376829173481, 0.2899195261165965, 2.4927642854600336, -0.026883405147536468, 1.0847247380259522, -0.4185054870473495, -1.7001290191162755, -0.6631138255023695, -1.3977215756251955, 0.4455411861792529, 0.30197911688308654, -0.2261709832051633, -0.1710396088940495, 1.4433380795926118, 0.530847712833768, 0.961866271646887, 1.2941998843821159, 1.0216519281617251, 1.6208258662004693, 0.5421996729638662, 0.13349040574255092, 0.011698411413139344, 0.3243929093413252, 0.326055891967591, -1.857943472441847, -0.30463758552150405, -0.8808632160511382, 0.5239216903007925, 0.9834386074104604, 1.4396406440418086, -0.257708302017176, 0.829152364017514, -0.3546228497011296, 0.5561073129790329, -0.12952762277766025, -0.8591907520878445, -0.11880680844042457, 0.16303119021191692, 1.5420497685582935, -0.952295004519987, 1.3149511788637551, 0.1793165206361868, 0.39153581454967, 0.40918112144156693, -0.1746866446198252, -0.27734651150838513, 0.6868843028329731, -0.530086144552545, 1.0225358547499583, 1.0811481712042423, 0.2860430974355543, -0.5235381746515275, -0.5030792474726582, 0.17829313427772936, 0.3689593426878984, 0.8974440778903857, -0.2957284041584042, -1.0028423302906537, -0.4381398352349791, 1.3607909151527158, -0.6508323686744798, -0.011964165734617253, 1.350700373666675, -1.3173489072094142, -0.1409314948821588, -0.22547794130900795, 1.3708181316671681, -1.829079525865196, -1.709605077000469, -2.0915084931810624, -1.0919845225225022]}, {\"line\": {\"color\": \"rgba(55, 128, 191, 1.0)\", \"dash\": \"solid\", \"shape\": \"linear\", \"width\": 1.3}, \"mode\": \"lines\", \"name\": \"B\", \"text\": \"\", \"type\": \"scatter\", \"x\": [0, 1, 2, 3, 4, 5, 6, 7, 8, 9, 10, 11, 12, 13, 14, 15, 16, 17, 18, 19, 20, 21, 22, 23, 24, 25, 26, 27, 28, 29, 30, 31, 32, 33, 34, 35, 36, 37, 38, 39, 40, 41, 42, 43, 44, 45, 46, 47, 48, 49, 50, 51, 52, 53, 54, 55, 56, 57, 58, 59, 60, 61, 62, 63, 64, 65, 66, 67, 68, 69, 70, 71, 72, 73, 74, 75, 76, 77, 78, 79, 80, 81, 82, 83, 84, 85, 86, 87, 88, 89, 90, 91, 92, 93, 94, 95, 96, 97, 98, 99], \"y\": [0.5038966296896649, -0.6402432132700927, -0.046084521044311134, 2.2664478783920683, 0.9477353340492846, -0.614880202117463, -1.6423022200466404, -0.5506536135023554, 0.5784162871305017, 1.2635114897067978, -1.4963273936516859, -1.6115050059592841, -0.46441376428471964, -1.0227066828446538, 0.9350020037598924, 0.38227490517607154, 2.4302360193947536, -1.3161131598068214, -1.2982968542416018, -0.13265819926035488, -0.7038606550102939, -0.2209763016023666, 0.9345495975185338, 1.0095771347136155, -0.9434848398914922, -0.0652309643019826, 1.339454873313897, -1.041460847515743, -0.6544215716422075, -0.6086375499446177, 0.012736190202873435, -0.8033846548321574, -0.1523522799250349, -0.5912413700796505, -1.427089639295129, -0.2764544125199372, -0.4502946295633157, -0.3968453730357518, 0.0008621038702756964, -0.6860921613608862, 0.2148442500563389, -0.3965507564693599, -1.580565695259094, -0.6886015208288447, -0.19922535695751326, -1.300702016080167, 0.8242157825252651, -0.3012421823694876, 0.25194677497620255, -0.70194952275731, 0.4899170779278613, -1.1735718832175956, -0.09730938850281483, -0.3296320457351763, 0.6486586398947655, -1.4424157416670944, 0.05808274371576219, -0.23849797529827363, -0.08816774745216509, -0.21844032759229703, 0.232829730943407, -0.8574261372665845, -0.6448024783666553, 0.04393697665503743, -0.9570215870458508, 0.014303354983442854, -1.2418935875107275, 0.35919198953731796, -0.8741166986646901, 1.029193048664084, 0.6521119689469097, -0.9868637243393551, 0.01573171501393248, 0.4984004502783877, -0.6326102152728523, -1.126999452904778, 1.5111832744616316, -0.5362773785464199, -0.9171718630254313, -1.7903024971797645, 0.33929301647279025, 0.456425947566487, 0.42651392121564213, 0.3026441119122942, -0.3979126650758561, -1.3931863975895338, -0.7551173004643796, 1.432726180997327, 1.0706620899027854, 2.054268754109293, 0.20114830502964962, 0.4683070160993021, 0.6937735075316896, -0.7714541780919164, -2.2640923269889983, 1.1699990427947233, -0.688947311971546, -0.10920382633628391, 0.4329725303136423, 0.16414135807661928]}, {\"connectgaps\": false, \"fill\": \"tozeroy\", \"line\": {\"color\": \"green\", \"dash\": \"solid\", \"shape\": \"linear\", \"width\": 0.5}, \"mode\": \"lines\", \"name\": \"Spread\", \"showlegend\": false, \"type\": \"scatter\", \"x\": [0, 1, 2, 3, 4, 5, 6, 7, 8, 9, 10, 11, 12, 13, 14, 15, 16, 17, 18, 19, 20, 21, 22, 23, 24, 25, 26, 27, 28, 29, 30, 31, 32, 33, 34, 35, 36, 37, 38, 39, 40, 41, 42, 43, 44, 45, 46, 47, 48, 49, 50, 51, 52, 53, 54, 55, 56, 57, 58, 59, 60, 61, 62, 63, 64, 65, 66, 67, 68, 69, 70, 71, 72, 73, 74, 75, 76, 77, 78, 79, 80, 81, 82, 83, 84, 85, 86, 87, 88, 89, 90, 91, 92, 93, 94, 95, 96, 97, 98, 99], \"xaxis\": \"x2\", \"y\": [\"\", \"\", 0.07347336303603946, \"\", 0.07435865697617883, \"\", 1.3305168486139503, 0.2760367609355602, 0.47591663229692005, \"\", 0.05519097027323383, 3.5268906768495354, 1.52561514154418, \"\", \"\", \"\", \"\", 0.7534463169870944, \"\", 0.4838591300617556, \"\", 0.5068680281308644, \"\", \"\", 0.9405817630936357, \"\", \"\", 0.20949983696034546, 0.06540552170525948, \"\", 0.2771833359137231, 3.296148940292191, 0.1254688747774984, 1.6759661081056025, 1.0085841522477796, \"\", \"\", \"\", 0.44467908230897724, 0.9880712782439728, \"\", 0.22551114757531038, 3.023903774851706, 1.2194492336626128, 1.1610916286044002, 2.5949019004622826, 0.19743614563646006, 1.9220680485699568, 0.2902528979876636, 0.8354399284998609, \"\", 1.4979647925589208, 0.42336528047040584, \"\", \"\", 0.5615525256159563, 0.46583894658503033, 1.221936582708734, 1.5278083914939737, \"\", 0.596322633074107, 0.5028032875654549, 1.2009097913456883, \"\", 0.09783083495800637, \"\", 1.4049247777226443, 1.1828577790209756, \"\", 0.2857581301996712, \"\", 1.3783995388890251, 0.39344940642763443, \"\", 0.3552637037644672, 1.8138837557377512, \"\", 1.5588132332963782, 1.9983200342296736, 2.0763455946153186, \"\", \"\", \"\", 0.0663152307756042, 1.2953567429662418, 1.0974579934311297, \"\", \"\", 0.29012882524993033, \"\", \"\", 0.8823933575673728, \"\", 0.6305226832097576, 2.0386143856799905, 0.20081908887244482, \"\", \"\", \"\", \"\"], \"yaxis\": \"y2\"}, {\"connectgaps\": false, \"fill\": \"tozeroy\", \"line\": {\"color\": \"red\", \"dash\": \"solid\", \"shape\": \"linear\", \"width\": 0.5}, \"mode\": \"lines\", \"name\": \"Spread\", \"showlegend\": false, \"type\": \"scatter\", \"x\": [0, 1, 2, 3, 4, 5, 6, 7, 8, 9, 10, 11, 12, 13, 14, 15, 16, 17, 18, 19, 20, 21, 22, 23, 24, 25, 26, 27, 28, 29, 30, 31, 32, 33, 34, 35, 36, 37, 38, 39, 40, 41, 42, 43, 44, 45, 46, 47, 48, 49, 50, 51, 52, 53, 54, 55, 56, 57, 58, 59, 60, 61, 62, 63, 64, 65, 66, 67, 68, 69, 70, 71, 72, 73, 74, 75, 76, 77, 78, 79, 80, 81, 82, 83, 84, 85, 86, 87, 88, 89, 90, 91, 92, 93, 94, 95, 96, 97, 98, 99], \"xaxis\": \"x2\", \"y\": [-0.7459030322170829, -0.2950446405407192, \"\", -2.448362597555671, \"\", -1.8894840859872084, \"\", \"\", \"\", -0.8720686995685079, \"\", \"\", \"\", -0.30303417391067833, -0.6336566920975601, -0.24832796012826627, -2.4178216416046676, \"\", -0.8377326603424418, \"\", -0.36022048488988, \"\", -1.418243517119275, -1.3535232882878057, \"\", -1.0807498223117273, -0.9859679153550306, \"\", \"\", -0.5986001329727304, \"\", \"\", \"\", \"\", \"\", -1.4236746065963382, -0.21281919593905385, -1.0008762025894438, \"\", \"\", -0.44101523326150216, \"\", \"\", \"\", \"\", \"\", \"\", \"\", \"\", \"\", -0.478218666514722, \"\", \"\", -1.5283114267066709, -0.9532962254162696, \"\", \"\", \"\", \"\", -0.03926797442487895, \"\", \"\", \"\", -0.17346459943269768, \"\", -0.13311016342386742, \"\", \"\", -0.07817830585529695, \"\", -0.4727954483107229, \"\", \"\", -0.6730870948982128, \"\", \"\", -2.0412694190141765, \"\", \"\", \"\", -0.8628311911243178, -0.9595051950391452, -0.24822078693791277, \"\", \"\", \"\", -0.2477250298262741, -1.870866016232306, \"\", -2.705101122783773, -0.21311247076426687, \"\", -2.011122414741104, \"\", \"\", \"\", -1.1401322138936498, -1.600401250664185, -2.5244810234947046, -1.2561258805991216], \"yaxis\": \"y2\"}],\n",
       "                        {\"hovermode\": \"x\", \"legend\": {\"bgcolor\": \"#F5F6F9\", \"font\": {\"color\": \"#4D5663\"}}, \"paper_bgcolor\": \"#F5F6F9\", \"plot_bgcolor\": \"#F5F6F9\", \"template\": {\"data\": {\"bar\": [{\"error_x\": {\"color\": \"#2a3f5f\"}, \"error_y\": {\"color\": \"#2a3f5f\"}, \"marker\": {\"line\": {\"color\": \"#E5ECF6\", \"width\": 0.5}}, \"type\": \"bar\"}], \"barpolar\": [{\"marker\": {\"line\": {\"color\": \"#E5ECF6\", \"width\": 0.5}}, \"type\": \"barpolar\"}], \"carpet\": [{\"aaxis\": {\"endlinecolor\": \"#2a3f5f\", \"gridcolor\": \"white\", \"linecolor\": \"white\", \"minorgridcolor\": \"white\", \"startlinecolor\": \"#2a3f5f\"}, \"baxis\": {\"endlinecolor\": \"#2a3f5f\", \"gridcolor\": \"white\", \"linecolor\": \"white\", \"minorgridcolor\": \"white\", \"startlinecolor\": \"#2a3f5f\"}, \"type\": \"carpet\"}], \"choropleth\": [{\"colorbar\": {\"outlinewidth\": 0, \"ticks\": \"\"}, \"type\": \"choropleth\"}], \"contour\": [{\"colorbar\": {\"outlinewidth\": 0, \"ticks\": \"\"}, \"colorscale\": [[0.0, \"#0d0887\"], [0.1111111111111111, \"#46039f\"], [0.2222222222222222, \"#7201a8\"], [0.3333333333333333, \"#9c179e\"], [0.4444444444444444, \"#bd3786\"], [0.5555555555555556, \"#d8576b\"], [0.6666666666666666, \"#ed7953\"], [0.7777777777777778, \"#fb9f3a\"], [0.8888888888888888, \"#fdca26\"], [1.0, \"#f0f921\"]], \"type\": \"contour\"}], \"contourcarpet\": [{\"colorbar\": {\"outlinewidth\": 0, \"ticks\": \"\"}, \"type\": \"contourcarpet\"}], \"heatmap\": [{\"colorbar\": {\"outlinewidth\": 0, \"ticks\": \"\"}, \"colorscale\": [[0.0, \"#0d0887\"], [0.1111111111111111, \"#46039f\"], [0.2222222222222222, \"#7201a8\"], [0.3333333333333333, \"#9c179e\"], [0.4444444444444444, \"#bd3786\"], [0.5555555555555556, \"#d8576b\"], [0.6666666666666666, \"#ed7953\"], [0.7777777777777778, \"#fb9f3a\"], [0.8888888888888888, \"#fdca26\"], [1.0, \"#f0f921\"]], \"type\": \"heatmap\"}], \"heatmapgl\": [{\"colorbar\": {\"outlinewidth\": 0, \"ticks\": \"\"}, \"colorscale\": [[0.0, \"#0d0887\"], [0.1111111111111111, \"#46039f\"], [0.2222222222222222, \"#7201a8\"], [0.3333333333333333, \"#9c179e\"], [0.4444444444444444, \"#bd3786\"], [0.5555555555555556, \"#d8576b\"], [0.6666666666666666, \"#ed7953\"], [0.7777777777777778, \"#fb9f3a\"], [0.8888888888888888, \"#fdca26\"], [1.0, \"#f0f921\"]], \"type\": \"heatmapgl\"}], \"histogram\": [{\"marker\": {\"colorbar\": {\"outlinewidth\": 0, \"ticks\": \"\"}}, \"type\": \"histogram\"}], \"histogram2d\": [{\"colorbar\": {\"outlinewidth\": 0, \"ticks\": \"\"}, \"colorscale\": [[0.0, \"#0d0887\"], [0.1111111111111111, \"#46039f\"], [0.2222222222222222, \"#7201a8\"], [0.3333333333333333, \"#9c179e\"], [0.4444444444444444, \"#bd3786\"], [0.5555555555555556, \"#d8576b\"], [0.6666666666666666, \"#ed7953\"], [0.7777777777777778, \"#fb9f3a\"], [0.8888888888888888, \"#fdca26\"], [1.0, \"#f0f921\"]], \"type\": \"histogram2d\"}], \"histogram2dcontour\": [{\"colorbar\": {\"outlinewidth\": 0, \"ticks\": \"\"}, \"colorscale\": [[0.0, \"#0d0887\"], [0.1111111111111111, \"#46039f\"], [0.2222222222222222, \"#7201a8\"], [0.3333333333333333, \"#9c179e\"], [0.4444444444444444, \"#bd3786\"], [0.5555555555555556, \"#d8576b\"], [0.6666666666666666, \"#ed7953\"], [0.7777777777777778, \"#fb9f3a\"], [0.8888888888888888, \"#fdca26\"], [1.0, \"#f0f921\"]], \"type\": \"histogram2dcontour\"}], \"mesh3d\": [{\"colorbar\": {\"outlinewidth\": 0, \"ticks\": \"\"}, \"type\": \"mesh3d\"}], \"parcoords\": [{\"line\": {\"colorbar\": {\"outlinewidth\": 0, \"ticks\": \"\"}}, \"type\": \"parcoords\"}], \"pie\": [{\"automargin\": true, \"type\": \"pie\"}], \"scatter\": [{\"marker\": {\"colorbar\": {\"outlinewidth\": 0, \"ticks\": \"\"}}, \"type\": \"scatter\"}], \"scatter3d\": [{\"line\": {\"colorbar\": {\"outlinewidth\": 0, \"ticks\": \"\"}}, \"marker\": {\"colorbar\": {\"outlinewidth\": 0, \"ticks\": \"\"}}, \"type\": \"scatter3d\"}], \"scattercarpet\": [{\"marker\": {\"colorbar\": {\"outlinewidth\": 0, \"ticks\": \"\"}}, \"type\": \"scattercarpet\"}], \"scattergeo\": [{\"marker\": {\"colorbar\": {\"outlinewidth\": 0, \"ticks\": \"\"}}, \"type\": \"scattergeo\"}], \"scattergl\": [{\"marker\": {\"colorbar\": {\"outlinewidth\": 0, \"ticks\": \"\"}}, \"type\": \"scattergl\"}], \"scattermapbox\": [{\"marker\": {\"colorbar\": {\"outlinewidth\": 0, \"ticks\": \"\"}}, \"type\": \"scattermapbox\"}], \"scatterpolar\": [{\"marker\": {\"colorbar\": {\"outlinewidth\": 0, \"ticks\": \"\"}}, \"type\": \"scatterpolar\"}], \"scatterpolargl\": [{\"marker\": {\"colorbar\": {\"outlinewidth\": 0, \"ticks\": \"\"}}, \"type\": \"scatterpolargl\"}], \"scatterternary\": [{\"marker\": {\"colorbar\": {\"outlinewidth\": 0, \"ticks\": \"\"}}, \"type\": \"scatterternary\"}], \"surface\": [{\"colorbar\": {\"outlinewidth\": 0, \"ticks\": \"\"}, \"colorscale\": [[0.0, \"#0d0887\"], [0.1111111111111111, \"#46039f\"], [0.2222222222222222, \"#7201a8\"], [0.3333333333333333, \"#9c179e\"], [0.4444444444444444, \"#bd3786\"], [0.5555555555555556, \"#d8576b\"], [0.6666666666666666, \"#ed7953\"], [0.7777777777777778, \"#fb9f3a\"], [0.8888888888888888, \"#fdca26\"], [1.0, \"#f0f921\"]], \"type\": \"surface\"}], \"table\": [{\"cells\": {\"fill\": {\"color\": \"#EBF0F8\"}, \"line\": {\"color\": \"white\"}}, \"header\": {\"fill\": {\"color\": \"#C8D4E3\"}, \"line\": {\"color\": \"white\"}}, \"type\": \"table\"}]}, \"layout\": {\"annotationdefaults\": {\"arrowcolor\": \"#2a3f5f\", \"arrowhead\": 0, \"arrowwidth\": 1}, \"coloraxis\": {\"colorbar\": {\"outlinewidth\": 0, \"ticks\": \"\"}}, \"colorscale\": {\"diverging\": [[0, \"#8e0152\"], [0.1, \"#c51b7d\"], [0.2, \"#de77ae\"], [0.3, \"#f1b6da\"], [0.4, \"#fde0ef\"], [0.5, \"#f7f7f7\"], [0.6, \"#e6f5d0\"], [0.7, \"#b8e186\"], [0.8, \"#7fbc41\"], [0.9, \"#4d9221\"], [1, \"#276419\"]], \"sequential\": [[0.0, \"#0d0887\"], [0.1111111111111111, \"#46039f\"], [0.2222222222222222, \"#7201a8\"], [0.3333333333333333, \"#9c179e\"], [0.4444444444444444, \"#bd3786\"], [0.5555555555555556, \"#d8576b\"], [0.6666666666666666, \"#ed7953\"], [0.7777777777777778, \"#fb9f3a\"], [0.8888888888888888, \"#fdca26\"], [1.0, \"#f0f921\"]], \"sequentialminus\": [[0.0, \"#0d0887\"], [0.1111111111111111, \"#46039f\"], [0.2222222222222222, \"#7201a8\"], [0.3333333333333333, \"#9c179e\"], [0.4444444444444444, \"#bd3786\"], [0.5555555555555556, \"#d8576b\"], [0.6666666666666666, \"#ed7953\"], [0.7777777777777778, \"#fb9f3a\"], [0.8888888888888888, \"#fdca26\"], [1.0, \"#f0f921\"]]}, \"colorway\": [\"#636efa\", \"#EF553B\", \"#00cc96\", \"#ab63fa\", \"#FFA15A\", \"#19d3f3\", \"#FF6692\", \"#B6E880\", \"#FF97FF\", \"#FECB52\"], \"font\": {\"color\": \"#2a3f5f\"}, \"geo\": {\"bgcolor\": \"white\", \"lakecolor\": \"white\", \"landcolor\": \"#E5ECF6\", \"showlakes\": true, \"showland\": true, \"subunitcolor\": \"white\"}, \"hoverlabel\": {\"align\": \"left\"}, \"hovermode\": \"closest\", \"mapbox\": {\"style\": \"light\"}, \"paper_bgcolor\": \"white\", \"plot_bgcolor\": \"#E5ECF6\", \"polar\": {\"angularaxis\": {\"gridcolor\": \"white\", \"linecolor\": \"white\", \"ticks\": \"\"}, \"bgcolor\": \"#E5ECF6\", \"radialaxis\": {\"gridcolor\": \"white\", \"linecolor\": \"white\", \"ticks\": \"\"}}, \"scene\": {\"xaxis\": {\"backgroundcolor\": \"#E5ECF6\", \"gridcolor\": \"white\", \"gridwidth\": 2, \"linecolor\": \"white\", \"showbackground\": true, \"ticks\": \"\", \"zerolinecolor\": \"white\"}, \"yaxis\": {\"backgroundcolor\": \"#E5ECF6\", \"gridcolor\": \"white\", \"gridwidth\": 2, \"linecolor\": \"white\", \"showbackground\": true, \"ticks\": \"\", \"zerolinecolor\": \"white\"}, \"zaxis\": {\"backgroundcolor\": \"#E5ECF6\", \"gridcolor\": \"white\", \"gridwidth\": 2, \"linecolor\": \"white\", \"showbackground\": true, \"ticks\": \"\", \"zerolinecolor\": \"white\"}}, \"shapedefaults\": {\"line\": {\"color\": \"#2a3f5f\"}}, \"ternary\": {\"aaxis\": {\"gridcolor\": \"white\", \"linecolor\": \"white\", \"ticks\": \"\"}, \"baxis\": {\"gridcolor\": \"white\", \"linecolor\": \"white\", \"ticks\": \"\"}, \"bgcolor\": \"#E5ECF6\", \"caxis\": {\"gridcolor\": \"white\", \"linecolor\": \"white\", \"ticks\": \"\"}}, \"title\": {\"x\": 0.05}, \"xaxis\": {\"automargin\": true, \"gridcolor\": \"white\", \"linecolor\": \"white\", \"ticks\": \"\", \"title\": {\"standoff\": 15}, \"zerolinecolor\": \"white\", \"zerolinewidth\": 2}, \"yaxis\": {\"automargin\": true, \"gridcolor\": \"white\", \"linecolor\": \"white\", \"ticks\": \"\", \"title\": {\"standoff\": 15}, \"zerolinecolor\": \"white\", \"zerolinewidth\": 2}}}, \"title\": {\"font\": {\"color\": \"#4D5663\"}}, \"xaxis\": {\"gridcolor\": \"#E1E5ED\", \"showgrid\": true, \"tickfont\": {\"color\": \"#4D5663\"}, \"title\": {\"font\": {\"color\": \"#4D5663\"}, \"text\": \"\"}, \"zerolinecolor\": \"#E1E5ED\"}, \"xaxis2\": {\"anchor\": \"y2\", \"gridcolor\": \"#E1E5ED\", \"showgrid\": true, \"showticklabels\": false, \"tickfont\": {\"color\": \"#4D5663\"}, \"title\": {\"font\": {\"color\": \"#4D5663\"}, \"text\": \"\"}, \"zerolinecolor\": \"#E1E5ED\"}, \"yaxis\": {\"domain\": [0.3, 1], \"gridcolor\": \"#E1E5ED\", \"showgrid\": true, \"tickfont\": {\"color\": \"#4D5663\"}, \"title\": {\"font\": {\"color\": \"#4D5663\"}, \"text\": \"\"}, \"zerolinecolor\": \"#E1E5ED\"}, \"yaxis2\": {\"domain\": [0, 0.25], \"gridcolor\": \"#E1E5ED\", \"showgrid\": true, \"tickfont\": {\"color\": \"#4D5663\"}, \"title\": {\"font\": {\"color\": \"#4D5663\"}, \"text\": \"Spread\"}, \"zerolinecolor\": \"#E1E5ED\"}},\n",
       "                        {\"showLink\": true, \"linkText\": \"Export to plot.ly\", \"plotlyServerURL\": \"https://plot.ly\", \"responsive\": true}\n",
       "                    ).then(function(){\n",
       "                            \n",
       "var gd = document.getElementById('885acf29-6c59-4289-88e0-8ed30bee907c');\n",
       "var x = new MutationObserver(function (mutations, observer) {{\n",
       "        var display = window.getComputedStyle(gd).display;\n",
       "        if (!display || display === 'none') {{\n",
       "            console.log([gd, 'removed!']);\n",
       "            Plotly.purge(gd);\n",
       "            observer.disconnect();\n",
       "        }}\n",
       "}});\n",
       "\n",
       "// Listen for the removal of the full notebook cells\n",
       "var notebookContainer = gd.closest('#notebook-container');\n",
       "if (notebookContainer) {{\n",
       "    x.observe(notebookContainer, {childList: true});\n",
       "}}\n",
       "\n",
       "// Listen for the clearing of the current output cell\n",
       "var outputEl = gd.closest('.output');\n",
       "if (outputEl) {{\n",
       "    x.observe(outputEl, {childList: true});\n",
       "}}\n",
       "\n",
       "                        })\n",
       "                };\n",
       "                });\n",
       "            </script>\n",
       "        </div>"
      ]
     },
     "metadata": {},
     "output_type": "display_data"
    }
   ],
   "source": [
    "#Interactive Spread plot --> Useful for financial analysis and analysis of the stock data\n",
    "df[['A','B']].iplot(kind = 'spread')"
   ]
  },
  {
   "cell_type": "code",
   "execution_count": 42,
   "metadata": {},
   "outputs": [
    {
     "data": {
      "application/vnd.plotly.v1+json": {
       "config": {
        "linkText": "Export to plot.ly",
        "plotlyServerURL": "https://plot.ly",
        "showLink": true
       },
       "data": [
        {
         "marker": {
          "color": [
           "rgb(255, 153, 51)",
           "rgb(55, 128, 191)",
           "rgb(50, 171, 96)",
           "rgb(128, 0, 128)",
           "rgb(219, 64, 82)",
           "rgb(0, 128, 128)",
           "rgb(255, 255, 51)",
           "rgb(128, 128, 0)",
           "rgb(251, 128, 114)",
           "rgb(128, 177, 211)"
          ],
          "line": {
           "width": 1.3
          },
          "size": [
           70,
           60,
           70,
           76,
           80,
           62,
           97,
           81,
           68,
           76,
           49,
           74,
           56,
           37,
           87,
           112,
           67,
           88,
           103,
           36,
           60,
           61,
           53,
           85,
           66,
           106,
           66,
           57,
           77,
           91,
           69,
           33,
           95,
           92,
           78,
           33,
           65,
           72,
           58,
           64,
           70,
           111,
           90,
           74,
           84,
           81,
           49,
           60,
           78,
           50,
           93,
           75,
           53,
           61,
           106,
           61,
           82,
           66,
           97,
           61,
           72,
           105,
           53,
           67,
           62,
           64,
           41,
           94,
           57,
           12,
           108,
           66,
           91,
           68,
           89,
           31,
           93,
           78,
           107,
           75,
           86,
           63,
           28,
           94,
           83,
           71,
           70,
           87,
           28,
           96,
           67,
           56,
           67,
           92,
           70,
           67,
           39,
           61,
           61,
           55
          ],
          "symbol": "circle"
         },
         "mode": "markers",
         "text": "",
         "type": "scatter",
         "x": [
          -0.24200640252741798,
          -0.9352878538108119,
          0.027388841991728325,
          -0.1819147191636028,
          1.0220939910254634,
          -2.5043642881046715,
          -0.31178537143269014,
          -0.27461685256679524,
          1.0543329194274218,
          0.3914427901382899,
          -1.441136423378452,
          1.915385670890251,
          1.0612013772594604,
          -1.3257408567553322,
          0.30134531166233225,
          0.13394694504780527,
          0.012414377790086016,
          -0.562666842819727,
          -2.1360295145840436,
          0.35120093080140075,
          -1.064081139900174,
          0.28589172652849776,
          -0.4836939196007413,
          -0.34394615357419,
          -0.00290307679785654,
          -1.14598078661371,
          0.3534869579588663,
          -0.8319610105553975,
          -0.589016049936948,
          -1.2072376829173481,
          0.2899195261165965,
          2.4927642854600336,
          -0.026883405147536468,
          1.0847247380259522,
          -0.4185054870473495,
          -1.7001290191162755,
          -0.6631138255023695,
          -1.3977215756251955,
          0.4455411861792529,
          0.30197911688308654,
          -0.2261709832051633,
          -0.1710396088940495,
          1.4433380795926118,
          0.530847712833768,
          0.961866271646887,
          1.2941998843821159,
          1.0216519281617251,
          1.6208258662004693,
          0.5421996729638662,
          0.13349040574255092,
          0.011698411413139344,
          0.3243929093413252,
          0.326055891967591,
          -1.857943472441847,
          -0.30463758552150405,
          -0.8808632160511382,
          0.5239216903007925,
          0.9834386074104604,
          1.4396406440418086,
          -0.257708302017176,
          0.829152364017514,
          -0.3546228497011296,
          0.5561073129790329,
          -0.12952762277766025,
          -0.8591907520878445,
          -0.11880680844042457,
          0.16303119021191692,
          1.5420497685582935,
          -0.952295004519987,
          1.3149511788637551,
          0.1793165206361868,
          0.39153581454967,
          0.40918112144156693,
          -0.1746866446198252,
          -0.27734651150838513,
          0.6868843028329731,
          -0.530086144552545,
          1.0225358547499583,
          1.0811481712042423,
          0.2860430974355543,
          -0.5235381746515275,
          -0.5030792474726582,
          0.17829313427772936,
          0.3689593426878984,
          0.8974440778903857,
          -0.2957284041584042,
          -1.0028423302906537,
          -0.4381398352349791,
          1.3607909151527158,
          -0.6508323686744798,
          -0.011964165734617253,
          1.350700373666675,
          -1.3173489072094142,
          -0.1409314948821588,
          -0.22547794130900795,
          1.3708181316671681,
          -1.829079525865196,
          -1.709605077000469,
          -2.0915084931810624,
          -1.0919845225225022
         ],
         "y": [
          0.5038966296896649,
          -0.6402432132700927,
          -0.046084521044311134,
          2.2664478783920683,
          0.9477353340492846,
          -0.614880202117463,
          -1.6423022200466404,
          -0.5506536135023554,
          0.5784162871305017,
          1.2635114897067978,
          -1.4963273936516859,
          -1.6115050059592841,
          -0.46441376428471964,
          -1.0227066828446538,
          0.9350020037598924,
          0.38227490517607154,
          2.4302360193947536,
          -1.3161131598068214,
          -1.2982968542416018,
          -0.13265819926035488,
          -0.7038606550102939,
          -0.2209763016023666,
          0.9345495975185338,
          1.0095771347136155,
          -0.9434848398914922,
          -0.0652309643019826,
          1.339454873313897,
          -1.041460847515743,
          -0.6544215716422075,
          -0.6086375499446177,
          0.012736190202873435,
          -0.8033846548321574,
          -0.1523522799250349,
          -0.5912413700796505,
          -1.427089639295129,
          -0.2764544125199372,
          -0.4502946295633157,
          -0.3968453730357518,
          0.0008621038702756964,
          -0.6860921613608862,
          0.2148442500563389,
          -0.3965507564693599,
          -1.580565695259094,
          -0.6886015208288447,
          -0.19922535695751326,
          -1.300702016080167,
          0.8242157825252651,
          -0.3012421823694876,
          0.25194677497620255,
          -0.70194952275731,
          0.4899170779278613,
          -1.1735718832175956,
          -0.09730938850281483,
          -0.3296320457351763,
          0.6486586398947655,
          -1.4424157416670944,
          0.05808274371576219,
          -0.23849797529827363,
          -0.08816774745216509,
          -0.21844032759229703,
          0.232829730943407,
          -0.8574261372665845,
          -0.6448024783666553,
          0.04393697665503743,
          -0.9570215870458508,
          0.014303354983442854,
          -1.2418935875107275,
          0.35919198953731796,
          -0.8741166986646901,
          1.029193048664084,
          0.6521119689469097,
          -0.9868637243393551,
          0.01573171501393248,
          0.4984004502783877,
          -0.6326102152728523,
          -1.126999452904778,
          1.5111832744616316,
          -0.5362773785464199,
          -0.9171718630254313,
          -1.7903024971797645,
          0.33929301647279025,
          0.456425947566487,
          0.42651392121564213,
          0.3026441119122942,
          -0.3979126650758561,
          -1.3931863975895338,
          -0.7551173004643796,
          1.432726180997327,
          1.0706620899027854,
          2.054268754109293,
          0.20114830502964962,
          0.4683070160993021,
          0.6937735075316896,
          -0.7714541780919164,
          -2.2640923269889983,
          1.1699990427947233,
          -0.688947311971546,
          -0.10920382633628391,
          0.4329725303136423,
          0.16414135807661928
         ]
        }
       ],
       "layout": {
        "legend": {
         "bgcolor": "#F5F6F9",
         "font": {
          "color": "#4D5663"
         }
        },
        "paper_bgcolor": "#F5F6F9",
        "plot_bgcolor": "#F5F6F9",
        "template": {
         "data": {
          "bar": [
           {
            "error_x": {
             "color": "#2a3f5f"
            },
            "error_y": {
             "color": "#2a3f5f"
            },
            "marker": {
             "line": {
              "color": "#E5ECF6",
              "width": 0.5
             }
            },
            "type": "bar"
           }
          ],
          "barpolar": [
           {
            "marker": {
             "line": {
              "color": "#E5ECF6",
              "width": 0.5
             }
            },
            "type": "barpolar"
           }
          ],
          "carpet": [
           {
            "aaxis": {
             "endlinecolor": "#2a3f5f",
             "gridcolor": "white",
             "linecolor": "white",
             "minorgridcolor": "white",
             "startlinecolor": "#2a3f5f"
            },
            "baxis": {
             "endlinecolor": "#2a3f5f",
             "gridcolor": "white",
             "linecolor": "white",
             "minorgridcolor": "white",
             "startlinecolor": "#2a3f5f"
            },
            "type": "carpet"
           }
          ],
          "choropleth": [
           {
            "colorbar": {
             "outlinewidth": 0,
             "ticks": ""
            },
            "type": "choropleth"
           }
          ],
          "contour": [
           {
            "colorbar": {
             "outlinewidth": 0,
             "ticks": ""
            },
            "colorscale": [
             [
              0,
              "#0d0887"
             ],
             [
              0.1111111111111111,
              "#46039f"
             ],
             [
              0.2222222222222222,
              "#7201a8"
             ],
             [
              0.3333333333333333,
              "#9c179e"
             ],
             [
              0.4444444444444444,
              "#bd3786"
             ],
             [
              0.5555555555555556,
              "#d8576b"
             ],
             [
              0.6666666666666666,
              "#ed7953"
             ],
             [
              0.7777777777777778,
              "#fb9f3a"
             ],
             [
              0.8888888888888888,
              "#fdca26"
             ],
             [
              1,
              "#f0f921"
             ]
            ],
            "type": "contour"
           }
          ],
          "contourcarpet": [
           {
            "colorbar": {
             "outlinewidth": 0,
             "ticks": ""
            },
            "type": "contourcarpet"
           }
          ],
          "heatmap": [
           {
            "colorbar": {
             "outlinewidth": 0,
             "ticks": ""
            },
            "colorscale": [
             [
              0,
              "#0d0887"
             ],
             [
              0.1111111111111111,
              "#46039f"
             ],
             [
              0.2222222222222222,
              "#7201a8"
             ],
             [
              0.3333333333333333,
              "#9c179e"
             ],
             [
              0.4444444444444444,
              "#bd3786"
             ],
             [
              0.5555555555555556,
              "#d8576b"
             ],
             [
              0.6666666666666666,
              "#ed7953"
             ],
             [
              0.7777777777777778,
              "#fb9f3a"
             ],
             [
              0.8888888888888888,
              "#fdca26"
             ],
             [
              1,
              "#f0f921"
             ]
            ],
            "type": "heatmap"
           }
          ],
          "heatmapgl": [
           {
            "colorbar": {
             "outlinewidth": 0,
             "ticks": ""
            },
            "colorscale": [
             [
              0,
              "#0d0887"
             ],
             [
              0.1111111111111111,
              "#46039f"
             ],
             [
              0.2222222222222222,
              "#7201a8"
             ],
             [
              0.3333333333333333,
              "#9c179e"
             ],
             [
              0.4444444444444444,
              "#bd3786"
             ],
             [
              0.5555555555555556,
              "#d8576b"
             ],
             [
              0.6666666666666666,
              "#ed7953"
             ],
             [
              0.7777777777777778,
              "#fb9f3a"
             ],
             [
              0.8888888888888888,
              "#fdca26"
             ],
             [
              1,
              "#f0f921"
             ]
            ],
            "type": "heatmapgl"
           }
          ],
          "histogram": [
           {
            "marker": {
             "colorbar": {
              "outlinewidth": 0,
              "ticks": ""
             }
            },
            "type": "histogram"
           }
          ],
          "histogram2d": [
           {
            "colorbar": {
             "outlinewidth": 0,
             "ticks": ""
            },
            "colorscale": [
             [
              0,
              "#0d0887"
             ],
             [
              0.1111111111111111,
              "#46039f"
             ],
             [
              0.2222222222222222,
              "#7201a8"
             ],
             [
              0.3333333333333333,
              "#9c179e"
             ],
             [
              0.4444444444444444,
              "#bd3786"
             ],
             [
              0.5555555555555556,
              "#d8576b"
             ],
             [
              0.6666666666666666,
              "#ed7953"
             ],
             [
              0.7777777777777778,
              "#fb9f3a"
             ],
             [
              0.8888888888888888,
              "#fdca26"
             ],
             [
              1,
              "#f0f921"
             ]
            ],
            "type": "histogram2d"
           }
          ],
          "histogram2dcontour": [
           {
            "colorbar": {
             "outlinewidth": 0,
             "ticks": ""
            },
            "colorscale": [
             [
              0,
              "#0d0887"
             ],
             [
              0.1111111111111111,
              "#46039f"
             ],
             [
              0.2222222222222222,
              "#7201a8"
             ],
             [
              0.3333333333333333,
              "#9c179e"
             ],
             [
              0.4444444444444444,
              "#bd3786"
             ],
             [
              0.5555555555555556,
              "#d8576b"
             ],
             [
              0.6666666666666666,
              "#ed7953"
             ],
             [
              0.7777777777777778,
              "#fb9f3a"
             ],
             [
              0.8888888888888888,
              "#fdca26"
             ],
             [
              1,
              "#f0f921"
             ]
            ],
            "type": "histogram2dcontour"
           }
          ],
          "mesh3d": [
           {
            "colorbar": {
             "outlinewidth": 0,
             "ticks": ""
            },
            "type": "mesh3d"
           }
          ],
          "parcoords": [
           {
            "line": {
             "colorbar": {
              "outlinewidth": 0,
              "ticks": ""
             }
            },
            "type": "parcoords"
           }
          ],
          "pie": [
           {
            "automargin": true,
            "type": "pie"
           }
          ],
          "scatter": [
           {
            "marker": {
             "colorbar": {
              "outlinewidth": 0,
              "ticks": ""
             }
            },
            "type": "scatter"
           }
          ],
          "scatter3d": [
           {
            "line": {
             "colorbar": {
              "outlinewidth": 0,
              "ticks": ""
             }
            },
            "marker": {
             "colorbar": {
              "outlinewidth": 0,
              "ticks": ""
             }
            },
            "type": "scatter3d"
           }
          ],
          "scattercarpet": [
           {
            "marker": {
             "colorbar": {
              "outlinewidth": 0,
              "ticks": ""
             }
            },
            "type": "scattercarpet"
           }
          ],
          "scattergeo": [
           {
            "marker": {
             "colorbar": {
              "outlinewidth": 0,
              "ticks": ""
             }
            },
            "type": "scattergeo"
           }
          ],
          "scattergl": [
           {
            "marker": {
             "colorbar": {
              "outlinewidth": 0,
              "ticks": ""
             }
            },
            "type": "scattergl"
           }
          ],
          "scattermapbox": [
           {
            "marker": {
             "colorbar": {
              "outlinewidth": 0,
              "ticks": ""
             }
            },
            "type": "scattermapbox"
           }
          ],
          "scatterpolar": [
           {
            "marker": {
             "colorbar": {
              "outlinewidth": 0,
              "ticks": ""
             }
            },
            "type": "scatterpolar"
           }
          ],
          "scatterpolargl": [
           {
            "marker": {
             "colorbar": {
              "outlinewidth": 0,
              "ticks": ""
             }
            },
            "type": "scatterpolargl"
           }
          ],
          "scatterternary": [
           {
            "marker": {
             "colorbar": {
              "outlinewidth": 0,
              "ticks": ""
             }
            },
            "type": "scatterternary"
           }
          ],
          "surface": [
           {
            "colorbar": {
             "outlinewidth": 0,
             "ticks": ""
            },
            "colorscale": [
             [
              0,
              "#0d0887"
             ],
             [
              0.1111111111111111,
              "#46039f"
             ],
             [
              0.2222222222222222,
              "#7201a8"
             ],
             [
              0.3333333333333333,
              "#9c179e"
             ],
             [
              0.4444444444444444,
              "#bd3786"
             ],
             [
              0.5555555555555556,
              "#d8576b"
             ],
             [
              0.6666666666666666,
              "#ed7953"
             ],
             [
              0.7777777777777778,
              "#fb9f3a"
             ],
             [
              0.8888888888888888,
              "#fdca26"
             ],
             [
              1,
              "#f0f921"
             ]
            ],
            "type": "surface"
           }
          ],
          "table": [
           {
            "cells": {
             "fill": {
              "color": "#EBF0F8"
             },
             "line": {
              "color": "white"
             }
            },
            "header": {
             "fill": {
              "color": "#C8D4E3"
             },
             "line": {
              "color": "white"
             }
            },
            "type": "table"
           }
          ]
         },
         "layout": {
          "annotationdefaults": {
           "arrowcolor": "#2a3f5f",
           "arrowhead": 0,
           "arrowwidth": 1
          },
          "coloraxis": {
           "colorbar": {
            "outlinewidth": 0,
            "ticks": ""
           }
          },
          "colorscale": {
           "diverging": [
            [
             0,
             "#8e0152"
            ],
            [
             0.1,
             "#c51b7d"
            ],
            [
             0.2,
             "#de77ae"
            ],
            [
             0.3,
             "#f1b6da"
            ],
            [
             0.4,
             "#fde0ef"
            ],
            [
             0.5,
             "#f7f7f7"
            ],
            [
             0.6,
             "#e6f5d0"
            ],
            [
             0.7,
             "#b8e186"
            ],
            [
             0.8,
             "#7fbc41"
            ],
            [
             0.9,
             "#4d9221"
            ],
            [
             1,
             "#276419"
            ]
           ],
           "sequential": [
            [
             0,
             "#0d0887"
            ],
            [
             0.1111111111111111,
             "#46039f"
            ],
            [
             0.2222222222222222,
             "#7201a8"
            ],
            [
             0.3333333333333333,
             "#9c179e"
            ],
            [
             0.4444444444444444,
             "#bd3786"
            ],
            [
             0.5555555555555556,
             "#d8576b"
            ],
            [
             0.6666666666666666,
             "#ed7953"
            ],
            [
             0.7777777777777778,
             "#fb9f3a"
            ],
            [
             0.8888888888888888,
             "#fdca26"
            ],
            [
             1,
             "#f0f921"
            ]
           ],
           "sequentialminus": [
            [
             0,
             "#0d0887"
            ],
            [
             0.1111111111111111,
             "#46039f"
            ],
            [
             0.2222222222222222,
             "#7201a8"
            ],
            [
             0.3333333333333333,
             "#9c179e"
            ],
            [
             0.4444444444444444,
             "#bd3786"
            ],
            [
             0.5555555555555556,
             "#d8576b"
            ],
            [
             0.6666666666666666,
             "#ed7953"
            ],
            [
             0.7777777777777778,
             "#fb9f3a"
            ],
            [
             0.8888888888888888,
             "#fdca26"
            ],
            [
             1,
             "#f0f921"
            ]
           ]
          },
          "colorway": [
           "#636efa",
           "#EF553B",
           "#00cc96",
           "#ab63fa",
           "#FFA15A",
           "#19d3f3",
           "#FF6692",
           "#B6E880",
           "#FF97FF",
           "#FECB52"
          ],
          "font": {
           "color": "#2a3f5f"
          },
          "geo": {
           "bgcolor": "white",
           "lakecolor": "white",
           "landcolor": "#E5ECF6",
           "showlakes": true,
           "showland": true,
           "subunitcolor": "white"
          },
          "hoverlabel": {
           "align": "left"
          },
          "hovermode": "closest",
          "mapbox": {
           "style": "light"
          },
          "paper_bgcolor": "white",
          "plot_bgcolor": "#E5ECF6",
          "polar": {
           "angularaxis": {
            "gridcolor": "white",
            "linecolor": "white",
            "ticks": ""
           },
           "bgcolor": "#E5ECF6",
           "radialaxis": {
            "gridcolor": "white",
            "linecolor": "white",
            "ticks": ""
           }
          },
          "scene": {
           "xaxis": {
            "backgroundcolor": "#E5ECF6",
            "gridcolor": "white",
            "gridwidth": 2,
            "linecolor": "white",
            "showbackground": true,
            "ticks": "",
            "zerolinecolor": "white"
           },
           "yaxis": {
            "backgroundcolor": "#E5ECF6",
            "gridcolor": "white",
            "gridwidth": 2,
            "linecolor": "white",
            "showbackground": true,
            "ticks": "",
            "zerolinecolor": "white"
           },
           "zaxis": {
            "backgroundcolor": "#E5ECF6",
            "gridcolor": "white",
            "gridwidth": 2,
            "linecolor": "white",
            "showbackground": true,
            "ticks": "",
            "zerolinecolor": "white"
           }
          },
          "shapedefaults": {
           "line": {
            "color": "#2a3f5f"
           }
          },
          "ternary": {
           "aaxis": {
            "gridcolor": "white",
            "linecolor": "white",
            "ticks": ""
           },
           "baxis": {
            "gridcolor": "white",
            "linecolor": "white",
            "ticks": ""
           },
           "bgcolor": "#E5ECF6",
           "caxis": {
            "gridcolor": "white",
            "linecolor": "white",
            "ticks": ""
           }
          },
          "title": {
           "x": 0.05
          },
          "xaxis": {
           "automargin": true,
           "gridcolor": "white",
           "linecolor": "white",
           "ticks": "",
           "title": {
            "standoff": 15
           },
           "zerolinecolor": "white",
           "zerolinewidth": 2
          },
          "yaxis": {
           "automargin": true,
           "gridcolor": "white",
           "linecolor": "white",
           "ticks": "",
           "title": {
            "standoff": 15
           },
           "zerolinecolor": "white",
           "zerolinewidth": 2
          }
         }
        },
        "title": {
         "font": {
          "color": "#4D5663"
         }
        },
        "xaxis": {
         "gridcolor": "#E1E5ED",
         "showgrid": true,
         "tickfont": {
          "color": "#4D5663"
         },
         "title": {
          "font": {
           "color": "#4D5663"
          },
          "text": ""
         },
         "zerolinecolor": "#E1E5ED"
        },
        "yaxis": {
         "gridcolor": "#E1E5ED",
         "showgrid": true,
         "tickfont": {
          "color": "#4D5663"
         },
         "title": {
          "font": {
           "color": "#4D5663"
          },
          "text": ""
         },
         "zerolinecolor": "#E1E5ED"
        }
       }
      },
      "text/html": [
       "<div>\n",
       "        \n",
       "        \n",
       "            <div id=\"57169cad-d37a-484d-afad-073877d5ec7e\" class=\"plotly-graph-div\" style=\"height:525px; width:100%;\"></div>\n",
       "            <script type=\"text/javascript\">\n",
       "                require([\"plotly\"], function(Plotly) {\n",
       "                    window.PLOTLYENV=window.PLOTLYENV || {};\n",
       "                    window.PLOTLYENV.BASE_URL='https://plot.ly';\n",
       "                    \n",
       "                if (document.getElementById(\"57169cad-d37a-484d-afad-073877d5ec7e\")) {\n",
       "                    Plotly.newPlot(\n",
       "                        '57169cad-d37a-484d-afad-073877d5ec7e',\n",
       "                        [{\"marker\": {\"color\": [\"rgb(255, 153, 51)\", \"rgb(55, 128, 191)\", \"rgb(50, 171, 96)\", \"rgb(128, 0, 128)\", \"rgb(219, 64, 82)\", \"rgb(0, 128, 128)\", \"rgb(255, 255, 51)\", \"rgb(128, 128, 0)\", \"rgb(251, 128, 114)\", \"rgb(128, 177, 211)\"], \"line\": {\"width\": 1.3}, \"size\": [70, 60, 70, 76, 80, 62, 97, 81, 68, 76, 49, 74, 56, 37, 87, 112, 67, 88, 103, 36, 60, 61, 53, 85, 66, 106, 66, 57, 77, 91, 69, 33, 95, 92, 78, 33, 65, 72, 58, 64, 70, 111, 90, 74, 84, 81, 49, 60, 78, 50, 93, 75, 53, 61, 106, 61, 82, 66, 97, 61, 72, 105, 53, 67, 62, 64, 41, 94, 57, 12, 108, 66, 91, 68, 89, 31, 93, 78, 107, 75, 86, 63, 28, 94, 83, 71, 70, 87, 28, 96, 67, 56, 67, 92, 70, 67, 39, 61, 61, 55], \"symbol\": \"circle\"}, \"mode\": \"markers\", \"text\": \"\", \"type\": \"scatter\", \"x\": [-0.24200640252741798, -0.9352878538108119, 0.027388841991728325, -0.1819147191636028, 1.0220939910254634, -2.5043642881046715, -0.31178537143269014, -0.27461685256679524, 1.0543329194274218, 0.3914427901382899, -1.441136423378452, 1.915385670890251, 1.0612013772594604, -1.3257408567553322, 0.30134531166233225, 0.13394694504780527, 0.012414377790086016, -0.562666842819727, -2.1360295145840436, 0.35120093080140075, -1.064081139900174, 0.28589172652849776, -0.4836939196007413, -0.34394615357419, -0.00290307679785654, -1.14598078661371, 0.3534869579588663, -0.8319610105553975, -0.589016049936948, -1.2072376829173481, 0.2899195261165965, 2.4927642854600336, -0.026883405147536468, 1.0847247380259522, -0.4185054870473495, -1.7001290191162755, -0.6631138255023695, -1.3977215756251955, 0.4455411861792529, 0.30197911688308654, -0.2261709832051633, -0.1710396088940495, 1.4433380795926118, 0.530847712833768, 0.961866271646887, 1.2941998843821159, 1.0216519281617251, 1.6208258662004693, 0.5421996729638662, 0.13349040574255092, 0.011698411413139344, 0.3243929093413252, 0.326055891967591, -1.857943472441847, -0.30463758552150405, -0.8808632160511382, 0.5239216903007925, 0.9834386074104604, 1.4396406440418086, -0.257708302017176, 0.829152364017514, -0.3546228497011296, 0.5561073129790329, -0.12952762277766025, -0.8591907520878445, -0.11880680844042457, 0.16303119021191692, 1.5420497685582935, -0.952295004519987, 1.3149511788637551, 0.1793165206361868, 0.39153581454967, 0.40918112144156693, -0.1746866446198252, -0.27734651150838513, 0.6868843028329731, -0.530086144552545, 1.0225358547499583, 1.0811481712042423, 0.2860430974355543, -0.5235381746515275, -0.5030792474726582, 0.17829313427772936, 0.3689593426878984, 0.8974440778903857, -0.2957284041584042, -1.0028423302906537, -0.4381398352349791, 1.3607909151527158, -0.6508323686744798, -0.011964165734617253, 1.350700373666675, -1.3173489072094142, -0.1409314948821588, -0.22547794130900795, 1.3708181316671681, -1.829079525865196, -1.709605077000469, -2.0915084931810624, -1.0919845225225022], \"y\": [0.5038966296896649, -0.6402432132700927, -0.046084521044311134, 2.2664478783920683, 0.9477353340492846, -0.614880202117463, -1.6423022200466404, -0.5506536135023554, 0.5784162871305017, 1.2635114897067978, -1.4963273936516859, -1.6115050059592841, -0.46441376428471964, -1.0227066828446538, 0.9350020037598924, 0.38227490517607154, 2.4302360193947536, -1.3161131598068214, -1.2982968542416018, -0.13265819926035488, -0.7038606550102939, -0.2209763016023666, 0.9345495975185338, 1.0095771347136155, -0.9434848398914922, -0.0652309643019826, 1.339454873313897, -1.041460847515743, -0.6544215716422075, -0.6086375499446177, 0.012736190202873435, -0.8033846548321574, -0.1523522799250349, -0.5912413700796505, -1.427089639295129, -0.2764544125199372, -0.4502946295633157, -0.3968453730357518, 0.0008621038702756964, -0.6860921613608862, 0.2148442500563389, -0.3965507564693599, -1.580565695259094, -0.6886015208288447, -0.19922535695751326, -1.300702016080167, 0.8242157825252651, -0.3012421823694876, 0.25194677497620255, -0.70194952275731, 0.4899170779278613, -1.1735718832175956, -0.09730938850281483, -0.3296320457351763, 0.6486586398947655, -1.4424157416670944, 0.05808274371576219, -0.23849797529827363, -0.08816774745216509, -0.21844032759229703, 0.232829730943407, -0.8574261372665845, -0.6448024783666553, 0.04393697665503743, -0.9570215870458508, 0.014303354983442854, -1.2418935875107275, 0.35919198953731796, -0.8741166986646901, 1.029193048664084, 0.6521119689469097, -0.9868637243393551, 0.01573171501393248, 0.4984004502783877, -0.6326102152728523, -1.126999452904778, 1.5111832744616316, -0.5362773785464199, -0.9171718630254313, -1.7903024971797645, 0.33929301647279025, 0.456425947566487, 0.42651392121564213, 0.3026441119122942, -0.3979126650758561, -1.3931863975895338, -0.7551173004643796, 1.432726180997327, 1.0706620899027854, 2.054268754109293, 0.20114830502964962, 0.4683070160993021, 0.6937735075316896, -0.7714541780919164, -2.2640923269889983, 1.1699990427947233, -0.688947311971546, -0.10920382633628391, 0.4329725303136423, 0.16414135807661928]}],\n",
       "                        {\"legend\": {\"bgcolor\": \"#F5F6F9\", \"font\": {\"color\": \"#4D5663\"}}, \"paper_bgcolor\": \"#F5F6F9\", \"plot_bgcolor\": \"#F5F6F9\", \"template\": {\"data\": {\"bar\": [{\"error_x\": {\"color\": \"#2a3f5f\"}, \"error_y\": {\"color\": \"#2a3f5f\"}, \"marker\": {\"line\": {\"color\": \"#E5ECF6\", \"width\": 0.5}}, \"type\": \"bar\"}], \"barpolar\": [{\"marker\": {\"line\": {\"color\": \"#E5ECF6\", \"width\": 0.5}}, \"type\": \"barpolar\"}], \"carpet\": [{\"aaxis\": {\"endlinecolor\": \"#2a3f5f\", \"gridcolor\": \"white\", \"linecolor\": \"white\", \"minorgridcolor\": \"white\", \"startlinecolor\": \"#2a3f5f\"}, \"baxis\": {\"endlinecolor\": \"#2a3f5f\", \"gridcolor\": \"white\", \"linecolor\": \"white\", \"minorgridcolor\": \"white\", \"startlinecolor\": \"#2a3f5f\"}, \"type\": \"carpet\"}], \"choropleth\": [{\"colorbar\": {\"outlinewidth\": 0, \"ticks\": \"\"}, \"type\": \"choropleth\"}], \"contour\": [{\"colorbar\": {\"outlinewidth\": 0, \"ticks\": \"\"}, \"colorscale\": [[0.0, \"#0d0887\"], [0.1111111111111111, \"#46039f\"], [0.2222222222222222, \"#7201a8\"], [0.3333333333333333, \"#9c179e\"], [0.4444444444444444, \"#bd3786\"], [0.5555555555555556, \"#d8576b\"], [0.6666666666666666, \"#ed7953\"], [0.7777777777777778, \"#fb9f3a\"], [0.8888888888888888, \"#fdca26\"], [1.0, \"#f0f921\"]], \"type\": \"contour\"}], \"contourcarpet\": [{\"colorbar\": {\"outlinewidth\": 0, \"ticks\": \"\"}, \"type\": \"contourcarpet\"}], \"heatmap\": [{\"colorbar\": {\"outlinewidth\": 0, \"ticks\": \"\"}, \"colorscale\": [[0.0, \"#0d0887\"], [0.1111111111111111, \"#46039f\"], [0.2222222222222222, \"#7201a8\"], [0.3333333333333333, \"#9c179e\"], [0.4444444444444444, \"#bd3786\"], [0.5555555555555556, \"#d8576b\"], [0.6666666666666666, \"#ed7953\"], [0.7777777777777778, \"#fb9f3a\"], [0.8888888888888888, \"#fdca26\"], [1.0, \"#f0f921\"]], \"type\": \"heatmap\"}], \"heatmapgl\": [{\"colorbar\": {\"outlinewidth\": 0, \"ticks\": \"\"}, \"colorscale\": [[0.0, \"#0d0887\"], [0.1111111111111111, \"#46039f\"], [0.2222222222222222, \"#7201a8\"], [0.3333333333333333, \"#9c179e\"], [0.4444444444444444, \"#bd3786\"], [0.5555555555555556, \"#d8576b\"], [0.6666666666666666, \"#ed7953\"], [0.7777777777777778, \"#fb9f3a\"], [0.8888888888888888, \"#fdca26\"], [1.0, \"#f0f921\"]], \"type\": \"heatmapgl\"}], \"histogram\": [{\"marker\": {\"colorbar\": {\"outlinewidth\": 0, \"ticks\": \"\"}}, \"type\": \"histogram\"}], \"histogram2d\": [{\"colorbar\": {\"outlinewidth\": 0, \"ticks\": \"\"}, \"colorscale\": [[0.0, \"#0d0887\"], [0.1111111111111111, \"#46039f\"], [0.2222222222222222, \"#7201a8\"], [0.3333333333333333, \"#9c179e\"], [0.4444444444444444, \"#bd3786\"], [0.5555555555555556, \"#d8576b\"], [0.6666666666666666, \"#ed7953\"], [0.7777777777777778, \"#fb9f3a\"], [0.8888888888888888, \"#fdca26\"], [1.0, \"#f0f921\"]], \"type\": \"histogram2d\"}], \"histogram2dcontour\": [{\"colorbar\": {\"outlinewidth\": 0, \"ticks\": \"\"}, \"colorscale\": [[0.0, \"#0d0887\"], [0.1111111111111111, \"#46039f\"], [0.2222222222222222, \"#7201a8\"], [0.3333333333333333, \"#9c179e\"], [0.4444444444444444, \"#bd3786\"], [0.5555555555555556, \"#d8576b\"], [0.6666666666666666, \"#ed7953\"], [0.7777777777777778, \"#fb9f3a\"], [0.8888888888888888, \"#fdca26\"], [1.0, \"#f0f921\"]], \"type\": \"histogram2dcontour\"}], \"mesh3d\": [{\"colorbar\": {\"outlinewidth\": 0, \"ticks\": \"\"}, \"type\": \"mesh3d\"}], \"parcoords\": [{\"line\": {\"colorbar\": {\"outlinewidth\": 0, \"ticks\": \"\"}}, \"type\": \"parcoords\"}], \"pie\": [{\"automargin\": true, \"type\": \"pie\"}], \"scatter\": [{\"marker\": {\"colorbar\": {\"outlinewidth\": 0, \"ticks\": \"\"}}, \"type\": \"scatter\"}], \"scatter3d\": [{\"line\": {\"colorbar\": {\"outlinewidth\": 0, \"ticks\": \"\"}}, \"marker\": {\"colorbar\": {\"outlinewidth\": 0, \"ticks\": \"\"}}, \"type\": \"scatter3d\"}], \"scattercarpet\": [{\"marker\": {\"colorbar\": {\"outlinewidth\": 0, \"ticks\": \"\"}}, \"type\": \"scattercarpet\"}], \"scattergeo\": [{\"marker\": {\"colorbar\": {\"outlinewidth\": 0, \"ticks\": \"\"}}, \"type\": \"scattergeo\"}], \"scattergl\": [{\"marker\": {\"colorbar\": {\"outlinewidth\": 0, \"ticks\": \"\"}}, \"type\": \"scattergl\"}], \"scattermapbox\": [{\"marker\": {\"colorbar\": {\"outlinewidth\": 0, \"ticks\": \"\"}}, \"type\": \"scattermapbox\"}], \"scatterpolar\": [{\"marker\": {\"colorbar\": {\"outlinewidth\": 0, \"ticks\": \"\"}}, \"type\": \"scatterpolar\"}], \"scatterpolargl\": [{\"marker\": {\"colorbar\": {\"outlinewidth\": 0, \"ticks\": \"\"}}, \"type\": \"scatterpolargl\"}], \"scatterternary\": [{\"marker\": {\"colorbar\": {\"outlinewidth\": 0, \"ticks\": \"\"}}, \"type\": \"scatterternary\"}], \"surface\": [{\"colorbar\": {\"outlinewidth\": 0, \"ticks\": \"\"}, \"colorscale\": [[0.0, \"#0d0887\"], [0.1111111111111111, \"#46039f\"], [0.2222222222222222, \"#7201a8\"], [0.3333333333333333, \"#9c179e\"], [0.4444444444444444, \"#bd3786\"], [0.5555555555555556, \"#d8576b\"], [0.6666666666666666, \"#ed7953\"], [0.7777777777777778, \"#fb9f3a\"], [0.8888888888888888, \"#fdca26\"], [1.0, \"#f0f921\"]], \"type\": \"surface\"}], \"table\": [{\"cells\": {\"fill\": {\"color\": \"#EBF0F8\"}, \"line\": {\"color\": \"white\"}}, \"header\": {\"fill\": {\"color\": \"#C8D4E3\"}, \"line\": {\"color\": \"white\"}}, \"type\": \"table\"}]}, \"layout\": {\"annotationdefaults\": {\"arrowcolor\": \"#2a3f5f\", \"arrowhead\": 0, \"arrowwidth\": 1}, \"coloraxis\": {\"colorbar\": {\"outlinewidth\": 0, \"ticks\": \"\"}}, \"colorscale\": {\"diverging\": [[0, \"#8e0152\"], [0.1, \"#c51b7d\"], [0.2, \"#de77ae\"], [0.3, \"#f1b6da\"], [0.4, \"#fde0ef\"], [0.5, \"#f7f7f7\"], [0.6, \"#e6f5d0\"], [0.7, \"#b8e186\"], [0.8, \"#7fbc41\"], [0.9, \"#4d9221\"], [1, \"#276419\"]], \"sequential\": [[0.0, \"#0d0887\"], [0.1111111111111111, \"#46039f\"], [0.2222222222222222, \"#7201a8\"], [0.3333333333333333, \"#9c179e\"], [0.4444444444444444, \"#bd3786\"], [0.5555555555555556, \"#d8576b\"], [0.6666666666666666, \"#ed7953\"], [0.7777777777777778, \"#fb9f3a\"], [0.8888888888888888, \"#fdca26\"], [1.0, \"#f0f921\"]], \"sequentialminus\": [[0.0, \"#0d0887\"], [0.1111111111111111, \"#46039f\"], [0.2222222222222222, \"#7201a8\"], [0.3333333333333333, \"#9c179e\"], [0.4444444444444444, \"#bd3786\"], [0.5555555555555556, \"#d8576b\"], [0.6666666666666666, \"#ed7953\"], [0.7777777777777778, \"#fb9f3a\"], [0.8888888888888888, \"#fdca26\"], [1.0, \"#f0f921\"]]}, \"colorway\": [\"#636efa\", \"#EF553B\", \"#00cc96\", \"#ab63fa\", \"#FFA15A\", \"#19d3f3\", \"#FF6692\", \"#B6E880\", \"#FF97FF\", \"#FECB52\"], \"font\": {\"color\": \"#2a3f5f\"}, \"geo\": {\"bgcolor\": \"white\", \"lakecolor\": \"white\", \"landcolor\": \"#E5ECF6\", \"showlakes\": true, \"showland\": true, \"subunitcolor\": \"white\"}, \"hoverlabel\": {\"align\": \"left\"}, \"hovermode\": \"closest\", \"mapbox\": {\"style\": \"light\"}, \"paper_bgcolor\": \"white\", \"plot_bgcolor\": \"#E5ECF6\", \"polar\": {\"angularaxis\": {\"gridcolor\": \"white\", \"linecolor\": \"white\", \"ticks\": \"\"}, \"bgcolor\": \"#E5ECF6\", \"radialaxis\": {\"gridcolor\": \"white\", \"linecolor\": \"white\", \"ticks\": \"\"}}, \"scene\": {\"xaxis\": {\"backgroundcolor\": \"#E5ECF6\", \"gridcolor\": \"white\", \"gridwidth\": 2, \"linecolor\": \"white\", \"showbackground\": true, \"ticks\": \"\", \"zerolinecolor\": \"white\"}, \"yaxis\": {\"backgroundcolor\": \"#E5ECF6\", \"gridcolor\": \"white\", \"gridwidth\": 2, \"linecolor\": \"white\", \"showbackground\": true, \"ticks\": \"\", \"zerolinecolor\": \"white\"}, \"zaxis\": {\"backgroundcolor\": \"#E5ECF6\", \"gridcolor\": \"white\", \"gridwidth\": 2, \"linecolor\": \"white\", \"showbackground\": true, \"ticks\": \"\", \"zerolinecolor\": \"white\"}}, \"shapedefaults\": {\"line\": {\"color\": \"#2a3f5f\"}}, \"ternary\": {\"aaxis\": {\"gridcolor\": \"white\", \"linecolor\": \"white\", \"ticks\": \"\"}, \"baxis\": {\"gridcolor\": \"white\", \"linecolor\": \"white\", \"ticks\": \"\"}, \"bgcolor\": \"#E5ECF6\", \"caxis\": {\"gridcolor\": \"white\", \"linecolor\": \"white\", \"ticks\": \"\"}}, \"title\": {\"x\": 0.05}, \"xaxis\": {\"automargin\": true, \"gridcolor\": \"white\", \"linecolor\": \"white\", \"ticks\": \"\", \"title\": {\"standoff\": 15}, \"zerolinecolor\": \"white\", \"zerolinewidth\": 2}, \"yaxis\": {\"automargin\": true, \"gridcolor\": \"white\", \"linecolor\": \"white\", \"ticks\": \"\", \"title\": {\"standoff\": 15}, \"zerolinecolor\": \"white\", \"zerolinewidth\": 2}}}, \"title\": {\"font\": {\"color\": \"#4D5663\"}}, \"xaxis\": {\"gridcolor\": \"#E1E5ED\", \"showgrid\": true, \"tickfont\": {\"color\": \"#4D5663\"}, \"title\": {\"font\": {\"color\": \"#4D5663\"}, \"text\": \"\"}, \"zerolinecolor\": \"#E1E5ED\"}, \"yaxis\": {\"gridcolor\": \"#E1E5ED\", \"showgrid\": true, \"tickfont\": {\"color\": \"#4D5663\"}, \"title\": {\"font\": {\"color\": \"#4D5663\"}, \"text\": \"\"}, \"zerolinecolor\": \"#E1E5ED\"}},\n",
       "                        {\"showLink\": true, \"linkText\": \"Export to plot.ly\", \"plotlyServerURL\": \"https://plot.ly\", \"responsive\": true}\n",
       "                    ).then(function(){\n",
       "                            \n",
       "var gd = document.getElementById('57169cad-d37a-484d-afad-073877d5ec7e');\n",
       "var x = new MutationObserver(function (mutations, observer) {{\n",
       "        var display = window.getComputedStyle(gd).display;\n",
       "        if (!display || display === 'none') {{\n",
       "            console.log([gd, 'removed!']);\n",
       "            Plotly.purge(gd);\n",
       "            observer.disconnect();\n",
       "        }}\n",
       "}});\n",
       "\n",
       "// Listen for the removal of the full notebook cells\n",
       "var notebookContainer = gd.closest('#notebook-container');\n",
       "if (notebookContainer) {{\n",
       "    x.observe(notebookContainer, {childList: true});\n",
       "}}\n",
       "\n",
       "// Listen for the clearing of the current output cell\n",
       "var outputEl = gd.closest('.output');\n",
       "if (outputEl) {{\n",
       "    x.observe(outputEl, {childList: true});\n",
       "}}\n",
       "\n",
       "                        })\n",
       "                };\n",
       "                });\n",
       "            </script>\n",
       "        </div>"
      ]
     },
     "metadata": {},
     "output_type": "display_data"
    }
   ],
   "source": [
    "#Interactive bubble plot\n",
    "\n",
    "df.iplot(kind = 'bubble', x = 'A', y = 'B', size = 'C') # size is as per the C column"
   ]
  },
  {
   "cell_type": "code",
   "execution_count": 43,
   "metadata": {},
   "outputs": [
    {
     "data": {
      "application/vnd.plotly.v1+json": {
       "config": {
        "linkText": "Export to plot.ly",
        "plotlyServerURL": "https://plot.ly",
        "showLink": true
       },
       "data": [
        {
         "histfunc": "count",
         "histnorm": "",
         "marker": {
          "color": "rgba(255, 153, 51, 1.0)",
          "line": {
           "color": "#4D5663",
           "width": 1.3
          }
         },
         "name": "A",
         "nbinsx": 10,
         "opacity": 0.8,
         "orientation": "v",
         "type": "histogram",
         "x": [
          -0.24200640252741798,
          -0.9352878538108119,
          0.027388841991728325,
          -0.1819147191636028,
          1.0220939910254634,
          -2.5043642881046715,
          -0.31178537143269014,
          -0.27461685256679524,
          1.0543329194274218,
          0.3914427901382899,
          -1.441136423378452,
          1.915385670890251,
          1.0612013772594604,
          -1.3257408567553322,
          0.30134531166233225,
          0.13394694504780527,
          0.012414377790086016,
          -0.562666842819727,
          -2.1360295145840436,
          0.35120093080140075,
          -1.064081139900174,
          0.28589172652849776,
          -0.4836939196007413,
          -0.34394615357419,
          -0.00290307679785654,
          -1.14598078661371,
          0.3534869579588663,
          -0.8319610105553975,
          -0.589016049936948,
          -1.2072376829173481,
          0.2899195261165965,
          2.4927642854600336,
          -0.026883405147536468,
          1.0847247380259522,
          -0.4185054870473495,
          -1.7001290191162755,
          -0.6631138255023695,
          -1.3977215756251955,
          0.4455411861792529,
          0.30197911688308654,
          -0.2261709832051633,
          -0.1710396088940495,
          1.4433380795926118,
          0.530847712833768,
          0.961866271646887,
          1.2941998843821159,
          1.0216519281617251,
          1.6208258662004693,
          0.5421996729638662,
          0.13349040574255092,
          0.011698411413139344,
          0.3243929093413252,
          0.326055891967591,
          -1.857943472441847,
          -0.30463758552150405,
          -0.8808632160511382,
          0.5239216903007925,
          0.9834386074104604,
          1.4396406440418086,
          -0.257708302017176,
          0.829152364017514,
          -0.3546228497011296,
          0.5561073129790329,
          -0.12952762277766025,
          -0.8591907520878445,
          -0.11880680844042457,
          0.16303119021191692,
          1.5420497685582935,
          -0.952295004519987,
          1.3149511788637551,
          0.1793165206361868,
          0.39153581454967,
          0.40918112144156693,
          -0.1746866446198252,
          -0.27734651150838513,
          0.6868843028329731,
          -0.530086144552545,
          1.0225358547499583,
          1.0811481712042423,
          0.2860430974355543,
          -0.5235381746515275,
          -0.5030792474726582,
          0.17829313427772936,
          0.3689593426878984,
          0.8974440778903857,
          -0.2957284041584042,
          -1.0028423302906537,
          -0.4381398352349791,
          1.3607909151527158,
          -0.6508323686744798,
          -0.011964165734617253,
          1.350700373666675,
          -1.3173489072094142,
          -0.1409314948821588,
          -0.22547794130900795,
          1.3708181316671681,
          -1.829079525865196,
          -1.709605077000469,
          -2.0915084931810624,
          -1.0919845225225022
         ],
         "xaxis": "x",
         "yaxis": "y"
        },
        {
         "line": {
          "color": "rgba(128, 128, 128, 1.0)",
          "dash": "solid",
          "shape": "linear",
          "width": 1.3
         },
         "marker": {
          "size": 2,
          "symbol": "circle"
         },
         "mode": "markers",
         "name": "A",
         "text": "",
         "type": "scatter",
         "x": [
          0.5038966296896649,
          -0.6402432132700927,
          -0.046084521044311134,
          2.2664478783920683,
          0.9477353340492846,
          -0.614880202117463,
          -1.6423022200466404,
          -0.5506536135023554,
          0.5784162871305017,
          1.2635114897067978,
          -1.4963273936516859,
          -1.6115050059592841,
          -0.46441376428471964,
          -1.0227066828446538,
          0.9350020037598924,
          0.38227490517607154,
          2.4302360193947536,
          -1.3161131598068214,
          -1.2982968542416018,
          -0.13265819926035488,
          -0.7038606550102939,
          -0.2209763016023666,
          0.9345495975185338,
          1.0095771347136155,
          -0.9434848398914922,
          -0.0652309643019826,
          1.339454873313897,
          -1.041460847515743,
          -0.6544215716422075,
          -0.6086375499446177,
          0.012736190202873435,
          -0.8033846548321574,
          -0.1523522799250349,
          -0.5912413700796505,
          -1.427089639295129,
          -0.2764544125199372,
          -0.4502946295633157,
          -0.3968453730357518,
          0.0008621038702756964,
          -0.6860921613608862,
          0.2148442500563389,
          -0.3965507564693599,
          -1.580565695259094,
          -0.6886015208288447,
          -0.19922535695751326,
          -1.300702016080167,
          0.8242157825252651,
          -0.3012421823694876,
          0.25194677497620255,
          -0.70194952275731,
          0.4899170779278613,
          -1.1735718832175956,
          -0.09730938850281483,
          -0.3296320457351763,
          0.6486586398947655,
          -1.4424157416670944,
          0.05808274371576219,
          -0.23849797529827363,
          -0.08816774745216509,
          -0.21844032759229703,
          0.232829730943407,
          -0.8574261372665845,
          -0.6448024783666553,
          0.04393697665503743,
          -0.9570215870458508,
          0.014303354983442854,
          -1.2418935875107275,
          0.35919198953731796,
          -0.8741166986646901,
          1.029193048664084,
          0.6521119689469097,
          -0.9868637243393551,
          0.01573171501393248,
          0.4984004502783877,
          -0.6326102152728523,
          -1.126999452904778,
          1.5111832744616316,
          -0.5362773785464199,
          -0.9171718630254313,
          -1.7903024971797645,
          0.33929301647279025,
          0.456425947566487,
          0.42651392121564213,
          0.3026441119122942,
          -0.3979126650758561,
          -1.3931863975895338,
          -0.7551173004643796,
          1.432726180997327,
          1.0706620899027854,
          2.054268754109293,
          0.20114830502964962,
          0.4683070160993021,
          0.6937735075316896,
          -0.7714541780919164,
          -2.2640923269889983,
          1.1699990427947233,
          -0.688947311971546,
          -0.10920382633628391,
          0.4329725303136423,
          0.16414135807661928
         ],
         "xaxis": "x2",
         "y": [
          -0.24200640252741798,
          -0.9352878538108119,
          0.027388841991728325,
          -0.1819147191636028,
          1.0220939910254634,
          -2.5043642881046715,
          -0.31178537143269014,
          -0.27461685256679524,
          1.0543329194274218,
          0.3914427901382899,
          -1.441136423378452,
          1.915385670890251,
          1.0612013772594604,
          -1.3257408567553322,
          0.30134531166233225,
          0.13394694504780527,
          0.012414377790086016,
          -0.562666842819727,
          -2.1360295145840436,
          0.35120093080140075,
          -1.064081139900174,
          0.28589172652849776,
          -0.4836939196007413,
          -0.34394615357419,
          -0.00290307679785654,
          -1.14598078661371,
          0.3534869579588663,
          -0.8319610105553975,
          -0.589016049936948,
          -1.2072376829173481,
          0.2899195261165965,
          2.4927642854600336,
          -0.026883405147536468,
          1.0847247380259522,
          -0.4185054870473495,
          -1.7001290191162755,
          -0.6631138255023695,
          -1.3977215756251955,
          0.4455411861792529,
          0.30197911688308654,
          -0.2261709832051633,
          -0.1710396088940495,
          1.4433380795926118,
          0.530847712833768,
          0.961866271646887,
          1.2941998843821159,
          1.0216519281617251,
          1.6208258662004693,
          0.5421996729638662,
          0.13349040574255092,
          0.011698411413139344,
          0.3243929093413252,
          0.326055891967591,
          -1.857943472441847,
          -0.30463758552150405,
          -0.8808632160511382,
          0.5239216903007925,
          0.9834386074104604,
          1.4396406440418086,
          -0.257708302017176,
          0.829152364017514,
          -0.3546228497011296,
          0.5561073129790329,
          -0.12952762277766025,
          -0.8591907520878445,
          -0.11880680844042457,
          0.16303119021191692,
          1.5420497685582935,
          -0.952295004519987,
          1.3149511788637551,
          0.1793165206361868,
          0.39153581454967,
          0.40918112144156693,
          -0.1746866446198252,
          -0.27734651150838513,
          0.6868843028329731,
          -0.530086144552545,
          1.0225358547499583,
          1.0811481712042423,
          0.2860430974355543,
          -0.5235381746515275,
          -0.5030792474726582,
          0.17829313427772936,
          0.3689593426878984,
          0.8974440778903857,
          -0.2957284041584042,
          -1.0028423302906537,
          -0.4381398352349791,
          1.3607909151527158,
          -0.6508323686744798,
          -0.011964165734617253,
          1.350700373666675,
          -1.3173489072094142,
          -0.1409314948821588,
          -0.22547794130900795,
          1.3708181316671681,
          -1.829079525865196,
          -1.709605077000469,
          -2.0915084931810624,
          -1.0919845225225022
         ],
         "yaxis": "y2"
        },
        {
         "line": {
          "color": "rgba(128, 128, 128, 1.0)",
          "dash": "solid",
          "shape": "linear",
          "width": 1.3
         },
         "marker": {
          "size": 2,
          "symbol": "circle"
         },
         "mode": "markers",
         "name": "A",
         "text": "",
         "type": "scatter",
         "x": [
          -0.0815347408742451,
          -0.5077649874988244,
          -0.06783904671905902,
          0.21062879208003074,
          0.38573975804107985,
          -0.42360398570600855,
          1.126717880451138,
          0.4353040461859579,
          -0.16601683108397614,
          0.20112069662041537,
          -0.9833596189946507,
          0.08798596302378772,
          -0.7032347433409032,
          -1.5193404907008845,
          0.6898031931166413,
          1.7689481636828148,
          -0.2205547686471449,
          0.706231048131834,
          1.4043000547925377,
          -1.5902270637207583,
          -0.5143664446343622,
          -0.4626087338865982,
          -0.8067031776035528,
          0.5723749949077205,
          -0.26923891560132895,
          1.527390451046774,
          -0.23770574624676455,
          -0.6313622148516641,
          0.24272218133055415,
          0.8594737224447366,
          -0.10153987154467391,
          -1.717481040343149,
          1.0147921385615757,
          0.910054309875966,
          0.28008821090081704,
          -1.73032732075467,
          -0.28032059857314184,
          0.020122614351310953,
          -0.62375902583589,
          -0.3362728984526408,
          -0.08747833013708962,
          1.7631604063434605,
          0.8301295635882725,
          0.08343587737131603,
          0.5477498426940517,
          0.40120705901539583,
          -1.014745792105112,
          -0.5004521513616882,
          0.29818789930043105,
          -0.9809039936952862,
          0.9612354079406753,
          0.14841866854001332,
          -0.8464508896410459,
          -0.49167492702023696,
          1.5381095565937783,
          -0.49089723014232334,
          0.44786229405164624,
          -0.2549100305603017,
          1.1309559744299842,
          -0.47578146796949433,
          0.03741717705911311,
          1.4675174286300103,
          -0.8045759523130023,
          -0.20080564559621938,
          -0.41159970632305587,
          -0.3213075604811162,
          -1.3809187836891244,
          0.9843946553936557,
          -0.6641791667254091,
          -2.668145682918329,
          1.5993922170193002,
          -0.2413458924577472,
          0.8553292191891982,
          -0.14892263793418098,
          0.7810111214371379,
          -1.7989069561723146,
          0.9602172066003379,
          0.2887724586354856,
          1.578662781392761,
          0.14463727492632686,
          0.6570661994938628,
          -0.401899493996044,
          -1.9309247477980442,
          0.9770918792089008,
          0.4898447052731042,
          -0.03318207920985528,
          -0.07467510973904955,
          0.6979736845657323,
          -1.9455591832381112,
          1.0860275040330245,
          -0.1918506689970517,
          -0.6886176684385715,
          -0.20238791595904101,
          0.8843775776516403,
          -0.08382639543647263,
          -0.20340165761830264,
          -1.4445858442180954,
          -0.4892485704502599,
          -0.4716963532959964,
          -0.7187058641996431
         ],
         "xaxis": "x3",
         "y": [
          -0.24200640252741798,
          -0.9352878538108119,
          0.027388841991728325,
          -0.1819147191636028,
          1.0220939910254634,
          -2.5043642881046715,
          -0.31178537143269014,
          -0.27461685256679524,
          1.0543329194274218,
          0.3914427901382899,
          -1.441136423378452,
          1.915385670890251,
          1.0612013772594604,
          -1.3257408567553322,
          0.30134531166233225,
          0.13394694504780527,
          0.012414377790086016,
          -0.562666842819727,
          -2.1360295145840436,
          0.35120093080140075,
          -1.064081139900174,
          0.28589172652849776,
          -0.4836939196007413,
          -0.34394615357419,
          -0.00290307679785654,
          -1.14598078661371,
          0.3534869579588663,
          -0.8319610105553975,
          -0.589016049936948,
          -1.2072376829173481,
          0.2899195261165965,
          2.4927642854600336,
          -0.026883405147536468,
          1.0847247380259522,
          -0.4185054870473495,
          -1.7001290191162755,
          -0.6631138255023695,
          -1.3977215756251955,
          0.4455411861792529,
          0.30197911688308654,
          -0.2261709832051633,
          -0.1710396088940495,
          1.4433380795926118,
          0.530847712833768,
          0.961866271646887,
          1.2941998843821159,
          1.0216519281617251,
          1.6208258662004693,
          0.5421996729638662,
          0.13349040574255092,
          0.011698411413139344,
          0.3243929093413252,
          0.326055891967591,
          -1.857943472441847,
          -0.30463758552150405,
          -0.8808632160511382,
          0.5239216903007925,
          0.9834386074104604,
          1.4396406440418086,
          -0.257708302017176,
          0.829152364017514,
          -0.3546228497011296,
          0.5561073129790329,
          -0.12952762277766025,
          -0.8591907520878445,
          -0.11880680844042457,
          0.16303119021191692,
          1.5420497685582935,
          -0.952295004519987,
          1.3149511788637551,
          0.1793165206361868,
          0.39153581454967,
          0.40918112144156693,
          -0.1746866446198252,
          -0.27734651150838513,
          0.6868843028329731,
          -0.530086144552545,
          1.0225358547499583,
          1.0811481712042423,
          0.2860430974355543,
          -0.5235381746515275,
          -0.5030792474726582,
          0.17829313427772936,
          0.3689593426878984,
          0.8974440778903857,
          -0.2957284041584042,
          -1.0028423302906537,
          -0.4381398352349791,
          1.3607909151527158,
          -0.6508323686744798,
          -0.011964165734617253,
          1.350700373666675,
          -1.3173489072094142,
          -0.1409314948821588,
          -0.22547794130900795,
          1.3708181316671681,
          -1.829079525865196,
          -1.709605077000469,
          -2.0915084931810624,
          -1.0919845225225022
         ],
         "yaxis": "y3"
        },
        {
         "line": {
          "color": "rgba(128, 128, 128, 1.0)",
          "dash": "solid",
          "shape": "linear",
          "width": 1.3
         },
         "marker": {
          "size": 2,
          "symbol": "circle"
         },
         "mode": "markers",
         "name": "A",
         "text": "",
         "type": "scatter",
         "x": [
          0.35011902790803934,
          -1.130866996845766,
          1.405284017456432,
          -1.8383419387844024,
          0.4765900950509363,
          -0.6713898667241399,
          -1.3185899430154078,
          0.3378607451901761,
          0.6812660236448889,
          -1.0583839844937002,
          0.21565699200799157,
          -0.39395362864556077,
          0.7864893063104716,
          -0.5109287460002682,
          1.3849823826501693,
          0.2656412310236148,
          -0.10532516018872078,
          0.34287931269975025,
          -1.375585888315486,
          -0.21499363349708459,
          1.3334888664607976,
          -0.4369653145103137,
          -1.1586555422237812,
          1.4302164537345452,
          -0.36780045273821715,
          -0.3692686528252982,
          -1.197000247649865,
          1.274993547734382,
          0.035822369915254726,
          -2.134053502281586,
          -1.3980532184794499,
          1.1928982293240424,
          -0.6633007278151068,
          0.7918241967649958,
          0.49424181834881475,
          -0.031805503187669164,
          -0.32943044867987525,
          0.03790470052222459,
          -0.22342106187880453,
          1.5366750148475983,
          -0.9496741075144404,
          0.03228590529755793,
          2.038895422480149,
          0.8886414845324146,
          -0.41147293507101385,
          -0.9311556393251326,
          0.5626543846304182,
          -0.19711756086049487,
          0.4851560219361143,
          -0.6597978611602378,
          -1.4232224256695793,
          -0.2262457980031783,
          0.9872238659614562,
          -1.1923726907339864,
          -1.500148492942461,
          -0.18599308207191292,
          -0.1654533592379869,
          -0.014656178952166133,
          2.6095406717691456,
          -1.2786216710356257,
          1.234638254186483,
          -0.4405921922176544,
          0.5116843289964375,
          -0.31744975288468247,
          0.3537073991650773,
          0.7593184727176464,
          0.9786571994511789,
          0.42243434646639316,
          -0.3280179290024408,
          -1.0859001215259885,
          -1.0155426234437614,
          0.18841236666978298,
          2.206442621586147,
          0.4722429074452371,
          1.3410013389700695,
          0.6197716938493748,
          -1.5845241954413414,
          -0.40970971262400313,
          0.7823349966285804,
          -0.7379069442536994,
          0.8806573278666577,
          -0.5127245160554915,
          -0.3179367685431994,
          3.0908379636496686,
          -0.9543873202451807,
          0.6764550592398433,
          -1.0324233628058,
          -1.1235452650742854,
          0.8836913358267898,
          1.22175671949375,
          1.3468180419008624,
          1.0956173241965554,
          -2.569890199980508,
          -0.5931116880279594,
          -1.096365880122233,
          0.4415956326673109,
          0.18730582073897895,
          -1.0319362002233652,
          1.643651569409393,
          1.4892770280017191
         ],
         "xaxis": "x4",
         "y": [
          -0.24200640252741798,
          -0.9352878538108119,
          0.027388841991728325,
          -0.1819147191636028,
          1.0220939910254634,
          -2.5043642881046715,
          -0.31178537143269014,
          -0.27461685256679524,
          1.0543329194274218,
          0.3914427901382899,
          -1.441136423378452,
          1.915385670890251,
          1.0612013772594604,
          -1.3257408567553322,
          0.30134531166233225,
          0.13394694504780527,
          0.012414377790086016,
          -0.562666842819727,
          -2.1360295145840436,
          0.35120093080140075,
          -1.064081139900174,
          0.28589172652849776,
          -0.4836939196007413,
          -0.34394615357419,
          -0.00290307679785654,
          -1.14598078661371,
          0.3534869579588663,
          -0.8319610105553975,
          -0.589016049936948,
          -1.2072376829173481,
          0.2899195261165965,
          2.4927642854600336,
          -0.026883405147536468,
          1.0847247380259522,
          -0.4185054870473495,
          -1.7001290191162755,
          -0.6631138255023695,
          -1.3977215756251955,
          0.4455411861792529,
          0.30197911688308654,
          -0.2261709832051633,
          -0.1710396088940495,
          1.4433380795926118,
          0.530847712833768,
          0.961866271646887,
          1.2941998843821159,
          1.0216519281617251,
          1.6208258662004693,
          0.5421996729638662,
          0.13349040574255092,
          0.011698411413139344,
          0.3243929093413252,
          0.326055891967591,
          -1.857943472441847,
          -0.30463758552150405,
          -0.8808632160511382,
          0.5239216903007925,
          0.9834386074104604,
          1.4396406440418086,
          -0.257708302017176,
          0.829152364017514,
          -0.3546228497011296,
          0.5561073129790329,
          -0.12952762277766025,
          -0.8591907520878445,
          -0.11880680844042457,
          0.16303119021191692,
          1.5420497685582935,
          -0.952295004519987,
          1.3149511788637551,
          0.1793165206361868,
          0.39153581454967,
          0.40918112144156693,
          -0.1746866446198252,
          -0.27734651150838513,
          0.6868843028329731,
          -0.530086144552545,
          1.0225358547499583,
          1.0811481712042423,
          0.2860430974355543,
          -0.5235381746515275,
          -0.5030792474726582,
          0.17829313427772936,
          0.3689593426878984,
          0.8974440778903857,
          -0.2957284041584042,
          -1.0028423302906537,
          -0.4381398352349791,
          1.3607909151527158,
          -0.6508323686744798,
          -0.011964165734617253,
          1.350700373666675,
          -1.3173489072094142,
          -0.1409314948821588,
          -0.22547794130900795,
          1.3708181316671681,
          -1.829079525865196,
          -1.709605077000469,
          -2.0915084931810624,
          -1.0919845225225022
         ],
         "yaxis": "y4"
        },
        {
         "line": {
          "color": "rgba(128, 128, 128, 1.0)",
          "dash": "solid",
          "shape": "linear",
          "width": 1.3
         },
         "marker": {
          "size": 2,
          "symbol": "circle"
         },
         "mode": "markers",
         "name": "B",
         "text": "",
         "type": "scatter",
         "x": [
          -0.24200640252741798,
          -0.9352878538108119,
          0.027388841991728325,
          -0.1819147191636028,
          1.0220939910254634,
          -2.5043642881046715,
          -0.31178537143269014,
          -0.27461685256679524,
          1.0543329194274218,
          0.3914427901382899,
          -1.441136423378452,
          1.915385670890251,
          1.0612013772594604,
          -1.3257408567553322,
          0.30134531166233225,
          0.13394694504780527,
          0.012414377790086016,
          -0.562666842819727,
          -2.1360295145840436,
          0.35120093080140075,
          -1.064081139900174,
          0.28589172652849776,
          -0.4836939196007413,
          -0.34394615357419,
          -0.00290307679785654,
          -1.14598078661371,
          0.3534869579588663,
          -0.8319610105553975,
          -0.589016049936948,
          -1.2072376829173481,
          0.2899195261165965,
          2.4927642854600336,
          -0.026883405147536468,
          1.0847247380259522,
          -0.4185054870473495,
          -1.7001290191162755,
          -0.6631138255023695,
          -1.3977215756251955,
          0.4455411861792529,
          0.30197911688308654,
          -0.2261709832051633,
          -0.1710396088940495,
          1.4433380795926118,
          0.530847712833768,
          0.961866271646887,
          1.2941998843821159,
          1.0216519281617251,
          1.6208258662004693,
          0.5421996729638662,
          0.13349040574255092,
          0.011698411413139344,
          0.3243929093413252,
          0.326055891967591,
          -1.857943472441847,
          -0.30463758552150405,
          -0.8808632160511382,
          0.5239216903007925,
          0.9834386074104604,
          1.4396406440418086,
          -0.257708302017176,
          0.829152364017514,
          -0.3546228497011296,
          0.5561073129790329,
          -0.12952762277766025,
          -0.8591907520878445,
          -0.11880680844042457,
          0.16303119021191692,
          1.5420497685582935,
          -0.952295004519987,
          1.3149511788637551,
          0.1793165206361868,
          0.39153581454967,
          0.40918112144156693,
          -0.1746866446198252,
          -0.27734651150838513,
          0.6868843028329731,
          -0.530086144552545,
          1.0225358547499583,
          1.0811481712042423,
          0.2860430974355543,
          -0.5235381746515275,
          -0.5030792474726582,
          0.17829313427772936,
          0.3689593426878984,
          0.8974440778903857,
          -0.2957284041584042,
          -1.0028423302906537,
          -0.4381398352349791,
          1.3607909151527158,
          -0.6508323686744798,
          -0.011964165734617253,
          1.350700373666675,
          -1.3173489072094142,
          -0.1409314948821588,
          -0.22547794130900795,
          1.3708181316671681,
          -1.829079525865196,
          -1.709605077000469,
          -2.0915084931810624,
          -1.0919845225225022
         ],
         "xaxis": "x5",
         "y": [
          0.5038966296896649,
          -0.6402432132700927,
          -0.046084521044311134,
          2.2664478783920683,
          0.9477353340492846,
          -0.614880202117463,
          -1.6423022200466404,
          -0.5506536135023554,
          0.5784162871305017,
          1.2635114897067978,
          -1.4963273936516859,
          -1.6115050059592841,
          -0.46441376428471964,
          -1.0227066828446538,
          0.9350020037598924,
          0.38227490517607154,
          2.4302360193947536,
          -1.3161131598068214,
          -1.2982968542416018,
          -0.13265819926035488,
          -0.7038606550102939,
          -0.2209763016023666,
          0.9345495975185338,
          1.0095771347136155,
          -0.9434848398914922,
          -0.0652309643019826,
          1.339454873313897,
          -1.041460847515743,
          -0.6544215716422075,
          -0.6086375499446177,
          0.012736190202873435,
          -0.8033846548321574,
          -0.1523522799250349,
          -0.5912413700796505,
          -1.427089639295129,
          -0.2764544125199372,
          -0.4502946295633157,
          -0.3968453730357518,
          0.0008621038702756964,
          -0.6860921613608862,
          0.2148442500563389,
          -0.3965507564693599,
          -1.580565695259094,
          -0.6886015208288447,
          -0.19922535695751326,
          -1.300702016080167,
          0.8242157825252651,
          -0.3012421823694876,
          0.25194677497620255,
          -0.70194952275731,
          0.4899170779278613,
          -1.1735718832175956,
          -0.09730938850281483,
          -0.3296320457351763,
          0.6486586398947655,
          -1.4424157416670944,
          0.05808274371576219,
          -0.23849797529827363,
          -0.08816774745216509,
          -0.21844032759229703,
          0.232829730943407,
          -0.8574261372665845,
          -0.6448024783666553,
          0.04393697665503743,
          -0.9570215870458508,
          0.014303354983442854,
          -1.2418935875107275,
          0.35919198953731796,
          -0.8741166986646901,
          1.029193048664084,
          0.6521119689469097,
          -0.9868637243393551,
          0.01573171501393248,
          0.4984004502783877,
          -0.6326102152728523,
          -1.126999452904778,
          1.5111832744616316,
          -0.5362773785464199,
          -0.9171718630254313,
          -1.7903024971797645,
          0.33929301647279025,
          0.456425947566487,
          0.42651392121564213,
          0.3026441119122942,
          -0.3979126650758561,
          -1.3931863975895338,
          -0.7551173004643796,
          1.432726180997327,
          1.0706620899027854,
          2.054268754109293,
          0.20114830502964962,
          0.4683070160993021,
          0.6937735075316896,
          -0.7714541780919164,
          -2.2640923269889983,
          1.1699990427947233,
          -0.688947311971546,
          -0.10920382633628391,
          0.4329725303136423,
          0.16414135807661928
         ],
         "yaxis": "y5"
        },
        {
         "histfunc": "count",
         "histnorm": "",
         "marker": {
          "color": "rgba(55, 128, 191, 1.0)",
          "line": {
           "color": "#4D5663",
           "width": 1.3
          }
         },
         "name": "B",
         "nbinsx": 10,
         "opacity": 0.8,
         "orientation": "v",
         "type": "histogram",
         "x": [
          0.5038966296896649,
          -0.6402432132700927,
          -0.046084521044311134,
          2.2664478783920683,
          0.9477353340492846,
          -0.614880202117463,
          -1.6423022200466404,
          -0.5506536135023554,
          0.5784162871305017,
          1.2635114897067978,
          -1.4963273936516859,
          -1.6115050059592841,
          -0.46441376428471964,
          -1.0227066828446538,
          0.9350020037598924,
          0.38227490517607154,
          2.4302360193947536,
          -1.3161131598068214,
          -1.2982968542416018,
          -0.13265819926035488,
          -0.7038606550102939,
          -0.2209763016023666,
          0.9345495975185338,
          1.0095771347136155,
          -0.9434848398914922,
          -0.0652309643019826,
          1.339454873313897,
          -1.041460847515743,
          -0.6544215716422075,
          -0.6086375499446177,
          0.012736190202873435,
          -0.8033846548321574,
          -0.1523522799250349,
          -0.5912413700796505,
          -1.427089639295129,
          -0.2764544125199372,
          -0.4502946295633157,
          -0.3968453730357518,
          0.0008621038702756964,
          -0.6860921613608862,
          0.2148442500563389,
          -0.3965507564693599,
          -1.580565695259094,
          -0.6886015208288447,
          -0.19922535695751326,
          -1.300702016080167,
          0.8242157825252651,
          -0.3012421823694876,
          0.25194677497620255,
          -0.70194952275731,
          0.4899170779278613,
          -1.1735718832175956,
          -0.09730938850281483,
          -0.3296320457351763,
          0.6486586398947655,
          -1.4424157416670944,
          0.05808274371576219,
          -0.23849797529827363,
          -0.08816774745216509,
          -0.21844032759229703,
          0.232829730943407,
          -0.8574261372665845,
          -0.6448024783666553,
          0.04393697665503743,
          -0.9570215870458508,
          0.014303354983442854,
          -1.2418935875107275,
          0.35919198953731796,
          -0.8741166986646901,
          1.029193048664084,
          0.6521119689469097,
          -0.9868637243393551,
          0.01573171501393248,
          0.4984004502783877,
          -0.6326102152728523,
          -1.126999452904778,
          1.5111832744616316,
          -0.5362773785464199,
          -0.9171718630254313,
          -1.7903024971797645,
          0.33929301647279025,
          0.456425947566487,
          0.42651392121564213,
          0.3026441119122942,
          -0.3979126650758561,
          -1.3931863975895338,
          -0.7551173004643796,
          1.432726180997327,
          1.0706620899027854,
          2.054268754109293,
          0.20114830502964962,
          0.4683070160993021,
          0.6937735075316896,
          -0.7714541780919164,
          -2.2640923269889983,
          1.1699990427947233,
          -0.688947311971546,
          -0.10920382633628391,
          0.4329725303136423,
          0.16414135807661928
         ],
         "xaxis": "x6",
         "yaxis": "y6"
        },
        {
         "line": {
          "color": "rgba(128, 128, 128, 1.0)",
          "dash": "solid",
          "shape": "linear",
          "width": 1.3
         },
         "marker": {
          "size": 2,
          "symbol": "circle"
         },
         "mode": "markers",
         "name": "B",
         "text": "",
         "type": "scatter",
         "x": [
          -0.0815347408742451,
          -0.5077649874988244,
          -0.06783904671905902,
          0.21062879208003074,
          0.38573975804107985,
          -0.42360398570600855,
          1.126717880451138,
          0.4353040461859579,
          -0.16601683108397614,
          0.20112069662041537,
          -0.9833596189946507,
          0.08798596302378772,
          -0.7032347433409032,
          -1.5193404907008845,
          0.6898031931166413,
          1.7689481636828148,
          -0.2205547686471449,
          0.706231048131834,
          1.4043000547925377,
          -1.5902270637207583,
          -0.5143664446343622,
          -0.4626087338865982,
          -0.8067031776035528,
          0.5723749949077205,
          -0.26923891560132895,
          1.527390451046774,
          -0.23770574624676455,
          -0.6313622148516641,
          0.24272218133055415,
          0.8594737224447366,
          -0.10153987154467391,
          -1.717481040343149,
          1.0147921385615757,
          0.910054309875966,
          0.28008821090081704,
          -1.73032732075467,
          -0.28032059857314184,
          0.020122614351310953,
          -0.62375902583589,
          -0.3362728984526408,
          -0.08747833013708962,
          1.7631604063434605,
          0.8301295635882725,
          0.08343587737131603,
          0.5477498426940517,
          0.40120705901539583,
          -1.014745792105112,
          -0.5004521513616882,
          0.29818789930043105,
          -0.9809039936952862,
          0.9612354079406753,
          0.14841866854001332,
          -0.8464508896410459,
          -0.49167492702023696,
          1.5381095565937783,
          -0.49089723014232334,
          0.44786229405164624,
          -0.2549100305603017,
          1.1309559744299842,
          -0.47578146796949433,
          0.03741717705911311,
          1.4675174286300103,
          -0.8045759523130023,
          -0.20080564559621938,
          -0.41159970632305587,
          -0.3213075604811162,
          -1.3809187836891244,
          0.9843946553936557,
          -0.6641791667254091,
          -2.668145682918329,
          1.5993922170193002,
          -0.2413458924577472,
          0.8553292191891982,
          -0.14892263793418098,
          0.7810111214371379,
          -1.7989069561723146,
          0.9602172066003379,
          0.2887724586354856,
          1.578662781392761,
          0.14463727492632686,
          0.6570661994938628,
          -0.401899493996044,
          -1.9309247477980442,
          0.9770918792089008,
          0.4898447052731042,
          -0.03318207920985528,
          -0.07467510973904955,
          0.6979736845657323,
          -1.9455591832381112,
          1.0860275040330245,
          -0.1918506689970517,
          -0.6886176684385715,
          -0.20238791595904101,
          0.8843775776516403,
          -0.08382639543647263,
          -0.20340165761830264,
          -1.4445858442180954,
          -0.4892485704502599,
          -0.4716963532959964,
          -0.7187058641996431
         ],
         "xaxis": "x7",
         "y": [
          0.5038966296896649,
          -0.6402432132700927,
          -0.046084521044311134,
          2.2664478783920683,
          0.9477353340492846,
          -0.614880202117463,
          -1.6423022200466404,
          -0.5506536135023554,
          0.5784162871305017,
          1.2635114897067978,
          -1.4963273936516859,
          -1.6115050059592841,
          -0.46441376428471964,
          -1.0227066828446538,
          0.9350020037598924,
          0.38227490517607154,
          2.4302360193947536,
          -1.3161131598068214,
          -1.2982968542416018,
          -0.13265819926035488,
          -0.7038606550102939,
          -0.2209763016023666,
          0.9345495975185338,
          1.0095771347136155,
          -0.9434848398914922,
          -0.0652309643019826,
          1.339454873313897,
          -1.041460847515743,
          -0.6544215716422075,
          -0.6086375499446177,
          0.012736190202873435,
          -0.8033846548321574,
          -0.1523522799250349,
          -0.5912413700796505,
          -1.427089639295129,
          -0.2764544125199372,
          -0.4502946295633157,
          -0.3968453730357518,
          0.0008621038702756964,
          -0.6860921613608862,
          0.2148442500563389,
          -0.3965507564693599,
          -1.580565695259094,
          -0.6886015208288447,
          -0.19922535695751326,
          -1.300702016080167,
          0.8242157825252651,
          -0.3012421823694876,
          0.25194677497620255,
          -0.70194952275731,
          0.4899170779278613,
          -1.1735718832175956,
          -0.09730938850281483,
          -0.3296320457351763,
          0.6486586398947655,
          -1.4424157416670944,
          0.05808274371576219,
          -0.23849797529827363,
          -0.08816774745216509,
          -0.21844032759229703,
          0.232829730943407,
          -0.8574261372665845,
          -0.6448024783666553,
          0.04393697665503743,
          -0.9570215870458508,
          0.014303354983442854,
          -1.2418935875107275,
          0.35919198953731796,
          -0.8741166986646901,
          1.029193048664084,
          0.6521119689469097,
          -0.9868637243393551,
          0.01573171501393248,
          0.4984004502783877,
          -0.6326102152728523,
          -1.126999452904778,
          1.5111832744616316,
          -0.5362773785464199,
          -0.9171718630254313,
          -1.7903024971797645,
          0.33929301647279025,
          0.456425947566487,
          0.42651392121564213,
          0.3026441119122942,
          -0.3979126650758561,
          -1.3931863975895338,
          -0.7551173004643796,
          1.432726180997327,
          1.0706620899027854,
          2.054268754109293,
          0.20114830502964962,
          0.4683070160993021,
          0.6937735075316896,
          -0.7714541780919164,
          -2.2640923269889983,
          1.1699990427947233,
          -0.688947311971546,
          -0.10920382633628391,
          0.4329725303136423,
          0.16414135807661928
         ],
         "yaxis": "y7"
        },
        {
         "line": {
          "color": "rgba(128, 128, 128, 1.0)",
          "dash": "solid",
          "shape": "linear",
          "width": 1.3
         },
         "marker": {
          "size": 2,
          "symbol": "circle"
         },
         "mode": "markers",
         "name": "B",
         "text": "",
         "type": "scatter",
         "x": [
          0.35011902790803934,
          -1.130866996845766,
          1.405284017456432,
          -1.8383419387844024,
          0.4765900950509363,
          -0.6713898667241399,
          -1.3185899430154078,
          0.3378607451901761,
          0.6812660236448889,
          -1.0583839844937002,
          0.21565699200799157,
          -0.39395362864556077,
          0.7864893063104716,
          -0.5109287460002682,
          1.3849823826501693,
          0.2656412310236148,
          -0.10532516018872078,
          0.34287931269975025,
          -1.375585888315486,
          -0.21499363349708459,
          1.3334888664607976,
          -0.4369653145103137,
          -1.1586555422237812,
          1.4302164537345452,
          -0.36780045273821715,
          -0.3692686528252982,
          -1.197000247649865,
          1.274993547734382,
          0.035822369915254726,
          -2.134053502281586,
          -1.3980532184794499,
          1.1928982293240424,
          -0.6633007278151068,
          0.7918241967649958,
          0.49424181834881475,
          -0.031805503187669164,
          -0.32943044867987525,
          0.03790470052222459,
          -0.22342106187880453,
          1.5366750148475983,
          -0.9496741075144404,
          0.03228590529755793,
          2.038895422480149,
          0.8886414845324146,
          -0.41147293507101385,
          -0.9311556393251326,
          0.5626543846304182,
          -0.19711756086049487,
          0.4851560219361143,
          -0.6597978611602378,
          -1.4232224256695793,
          -0.2262457980031783,
          0.9872238659614562,
          -1.1923726907339864,
          -1.500148492942461,
          -0.18599308207191292,
          -0.1654533592379869,
          -0.014656178952166133,
          2.6095406717691456,
          -1.2786216710356257,
          1.234638254186483,
          -0.4405921922176544,
          0.5116843289964375,
          -0.31744975288468247,
          0.3537073991650773,
          0.7593184727176464,
          0.9786571994511789,
          0.42243434646639316,
          -0.3280179290024408,
          -1.0859001215259885,
          -1.0155426234437614,
          0.18841236666978298,
          2.206442621586147,
          0.4722429074452371,
          1.3410013389700695,
          0.6197716938493748,
          -1.5845241954413414,
          -0.40970971262400313,
          0.7823349966285804,
          -0.7379069442536994,
          0.8806573278666577,
          -0.5127245160554915,
          -0.3179367685431994,
          3.0908379636496686,
          -0.9543873202451807,
          0.6764550592398433,
          -1.0324233628058,
          -1.1235452650742854,
          0.8836913358267898,
          1.22175671949375,
          1.3468180419008624,
          1.0956173241965554,
          -2.569890199980508,
          -0.5931116880279594,
          -1.096365880122233,
          0.4415956326673109,
          0.18730582073897895,
          -1.0319362002233652,
          1.643651569409393,
          1.4892770280017191
         ],
         "xaxis": "x8",
         "y": [
          0.5038966296896649,
          -0.6402432132700927,
          -0.046084521044311134,
          2.2664478783920683,
          0.9477353340492846,
          -0.614880202117463,
          -1.6423022200466404,
          -0.5506536135023554,
          0.5784162871305017,
          1.2635114897067978,
          -1.4963273936516859,
          -1.6115050059592841,
          -0.46441376428471964,
          -1.0227066828446538,
          0.9350020037598924,
          0.38227490517607154,
          2.4302360193947536,
          -1.3161131598068214,
          -1.2982968542416018,
          -0.13265819926035488,
          -0.7038606550102939,
          -0.2209763016023666,
          0.9345495975185338,
          1.0095771347136155,
          -0.9434848398914922,
          -0.0652309643019826,
          1.339454873313897,
          -1.041460847515743,
          -0.6544215716422075,
          -0.6086375499446177,
          0.012736190202873435,
          -0.8033846548321574,
          -0.1523522799250349,
          -0.5912413700796505,
          -1.427089639295129,
          -0.2764544125199372,
          -0.4502946295633157,
          -0.3968453730357518,
          0.0008621038702756964,
          -0.6860921613608862,
          0.2148442500563389,
          -0.3965507564693599,
          -1.580565695259094,
          -0.6886015208288447,
          -0.19922535695751326,
          -1.300702016080167,
          0.8242157825252651,
          -0.3012421823694876,
          0.25194677497620255,
          -0.70194952275731,
          0.4899170779278613,
          -1.1735718832175956,
          -0.09730938850281483,
          -0.3296320457351763,
          0.6486586398947655,
          -1.4424157416670944,
          0.05808274371576219,
          -0.23849797529827363,
          -0.08816774745216509,
          -0.21844032759229703,
          0.232829730943407,
          -0.8574261372665845,
          -0.6448024783666553,
          0.04393697665503743,
          -0.9570215870458508,
          0.014303354983442854,
          -1.2418935875107275,
          0.35919198953731796,
          -0.8741166986646901,
          1.029193048664084,
          0.6521119689469097,
          -0.9868637243393551,
          0.01573171501393248,
          0.4984004502783877,
          -0.6326102152728523,
          -1.126999452904778,
          1.5111832744616316,
          -0.5362773785464199,
          -0.9171718630254313,
          -1.7903024971797645,
          0.33929301647279025,
          0.456425947566487,
          0.42651392121564213,
          0.3026441119122942,
          -0.3979126650758561,
          -1.3931863975895338,
          -0.7551173004643796,
          1.432726180997327,
          1.0706620899027854,
          2.054268754109293,
          0.20114830502964962,
          0.4683070160993021,
          0.6937735075316896,
          -0.7714541780919164,
          -2.2640923269889983,
          1.1699990427947233,
          -0.688947311971546,
          -0.10920382633628391,
          0.4329725303136423,
          0.16414135807661928
         ],
         "yaxis": "y8"
        },
        {
         "line": {
          "color": "rgba(128, 128, 128, 1.0)",
          "dash": "solid",
          "shape": "linear",
          "width": 1.3
         },
         "marker": {
          "size": 2,
          "symbol": "circle"
         },
         "mode": "markers",
         "name": "C",
         "text": "",
         "type": "scatter",
         "x": [
          -0.24200640252741798,
          -0.9352878538108119,
          0.027388841991728325,
          -0.1819147191636028,
          1.0220939910254634,
          -2.5043642881046715,
          -0.31178537143269014,
          -0.27461685256679524,
          1.0543329194274218,
          0.3914427901382899,
          -1.441136423378452,
          1.915385670890251,
          1.0612013772594604,
          -1.3257408567553322,
          0.30134531166233225,
          0.13394694504780527,
          0.012414377790086016,
          -0.562666842819727,
          -2.1360295145840436,
          0.35120093080140075,
          -1.064081139900174,
          0.28589172652849776,
          -0.4836939196007413,
          -0.34394615357419,
          -0.00290307679785654,
          -1.14598078661371,
          0.3534869579588663,
          -0.8319610105553975,
          -0.589016049936948,
          -1.2072376829173481,
          0.2899195261165965,
          2.4927642854600336,
          -0.026883405147536468,
          1.0847247380259522,
          -0.4185054870473495,
          -1.7001290191162755,
          -0.6631138255023695,
          -1.3977215756251955,
          0.4455411861792529,
          0.30197911688308654,
          -0.2261709832051633,
          -0.1710396088940495,
          1.4433380795926118,
          0.530847712833768,
          0.961866271646887,
          1.2941998843821159,
          1.0216519281617251,
          1.6208258662004693,
          0.5421996729638662,
          0.13349040574255092,
          0.011698411413139344,
          0.3243929093413252,
          0.326055891967591,
          -1.857943472441847,
          -0.30463758552150405,
          -0.8808632160511382,
          0.5239216903007925,
          0.9834386074104604,
          1.4396406440418086,
          -0.257708302017176,
          0.829152364017514,
          -0.3546228497011296,
          0.5561073129790329,
          -0.12952762277766025,
          -0.8591907520878445,
          -0.11880680844042457,
          0.16303119021191692,
          1.5420497685582935,
          -0.952295004519987,
          1.3149511788637551,
          0.1793165206361868,
          0.39153581454967,
          0.40918112144156693,
          -0.1746866446198252,
          -0.27734651150838513,
          0.6868843028329731,
          -0.530086144552545,
          1.0225358547499583,
          1.0811481712042423,
          0.2860430974355543,
          -0.5235381746515275,
          -0.5030792474726582,
          0.17829313427772936,
          0.3689593426878984,
          0.8974440778903857,
          -0.2957284041584042,
          -1.0028423302906537,
          -0.4381398352349791,
          1.3607909151527158,
          -0.6508323686744798,
          -0.011964165734617253,
          1.350700373666675,
          -1.3173489072094142,
          -0.1409314948821588,
          -0.22547794130900795,
          1.3708181316671681,
          -1.829079525865196,
          -1.709605077000469,
          -2.0915084931810624,
          -1.0919845225225022
         ],
         "xaxis": "x9",
         "y": [
          -0.0815347408742451,
          -0.5077649874988244,
          -0.06783904671905902,
          0.21062879208003074,
          0.38573975804107985,
          -0.42360398570600855,
          1.126717880451138,
          0.4353040461859579,
          -0.16601683108397614,
          0.20112069662041537,
          -0.9833596189946507,
          0.08798596302378772,
          -0.7032347433409032,
          -1.5193404907008845,
          0.6898031931166413,
          1.7689481636828148,
          -0.2205547686471449,
          0.706231048131834,
          1.4043000547925377,
          -1.5902270637207583,
          -0.5143664446343622,
          -0.4626087338865982,
          -0.8067031776035528,
          0.5723749949077205,
          -0.26923891560132895,
          1.527390451046774,
          -0.23770574624676455,
          -0.6313622148516641,
          0.24272218133055415,
          0.8594737224447366,
          -0.10153987154467391,
          -1.717481040343149,
          1.0147921385615757,
          0.910054309875966,
          0.28008821090081704,
          -1.73032732075467,
          -0.28032059857314184,
          0.020122614351310953,
          -0.62375902583589,
          -0.3362728984526408,
          -0.08747833013708962,
          1.7631604063434605,
          0.8301295635882725,
          0.08343587737131603,
          0.5477498426940517,
          0.40120705901539583,
          -1.014745792105112,
          -0.5004521513616882,
          0.29818789930043105,
          -0.9809039936952862,
          0.9612354079406753,
          0.14841866854001332,
          -0.8464508896410459,
          -0.49167492702023696,
          1.5381095565937783,
          -0.49089723014232334,
          0.44786229405164624,
          -0.2549100305603017,
          1.1309559744299842,
          -0.47578146796949433,
          0.03741717705911311,
          1.4675174286300103,
          -0.8045759523130023,
          -0.20080564559621938,
          -0.41159970632305587,
          -0.3213075604811162,
          -1.3809187836891244,
          0.9843946553936557,
          -0.6641791667254091,
          -2.668145682918329,
          1.5993922170193002,
          -0.2413458924577472,
          0.8553292191891982,
          -0.14892263793418098,
          0.7810111214371379,
          -1.7989069561723146,
          0.9602172066003379,
          0.2887724586354856,
          1.578662781392761,
          0.14463727492632686,
          0.6570661994938628,
          -0.401899493996044,
          -1.9309247477980442,
          0.9770918792089008,
          0.4898447052731042,
          -0.03318207920985528,
          -0.07467510973904955,
          0.6979736845657323,
          -1.9455591832381112,
          1.0860275040330245,
          -0.1918506689970517,
          -0.6886176684385715,
          -0.20238791595904101,
          0.8843775776516403,
          -0.08382639543647263,
          -0.20340165761830264,
          -1.4445858442180954,
          -0.4892485704502599,
          -0.4716963532959964,
          -0.7187058641996431
         ],
         "yaxis": "y9"
        },
        {
         "line": {
          "color": "rgba(128, 128, 128, 1.0)",
          "dash": "solid",
          "shape": "linear",
          "width": 1.3
         },
         "marker": {
          "size": 2,
          "symbol": "circle"
         },
         "mode": "markers",
         "name": "C",
         "text": "",
         "type": "scatter",
         "x": [
          0.5038966296896649,
          -0.6402432132700927,
          -0.046084521044311134,
          2.2664478783920683,
          0.9477353340492846,
          -0.614880202117463,
          -1.6423022200466404,
          -0.5506536135023554,
          0.5784162871305017,
          1.2635114897067978,
          -1.4963273936516859,
          -1.6115050059592841,
          -0.46441376428471964,
          -1.0227066828446538,
          0.9350020037598924,
          0.38227490517607154,
          2.4302360193947536,
          -1.3161131598068214,
          -1.2982968542416018,
          -0.13265819926035488,
          -0.7038606550102939,
          -0.2209763016023666,
          0.9345495975185338,
          1.0095771347136155,
          -0.9434848398914922,
          -0.0652309643019826,
          1.339454873313897,
          -1.041460847515743,
          -0.6544215716422075,
          -0.6086375499446177,
          0.012736190202873435,
          -0.8033846548321574,
          -0.1523522799250349,
          -0.5912413700796505,
          -1.427089639295129,
          -0.2764544125199372,
          -0.4502946295633157,
          -0.3968453730357518,
          0.0008621038702756964,
          -0.6860921613608862,
          0.2148442500563389,
          -0.3965507564693599,
          -1.580565695259094,
          -0.6886015208288447,
          -0.19922535695751326,
          -1.300702016080167,
          0.8242157825252651,
          -0.3012421823694876,
          0.25194677497620255,
          -0.70194952275731,
          0.4899170779278613,
          -1.1735718832175956,
          -0.09730938850281483,
          -0.3296320457351763,
          0.6486586398947655,
          -1.4424157416670944,
          0.05808274371576219,
          -0.23849797529827363,
          -0.08816774745216509,
          -0.21844032759229703,
          0.232829730943407,
          -0.8574261372665845,
          -0.6448024783666553,
          0.04393697665503743,
          -0.9570215870458508,
          0.014303354983442854,
          -1.2418935875107275,
          0.35919198953731796,
          -0.8741166986646901,
          1.029193048664084,
          0.6521119689469097,
          -0.9868637243393551,
          0.01573171501393248,
          0.4984004502783877,
          -0.6326102152728523,
          -1.126999452904778,
          1.5111832744616316,
          -0.5362773785464199,
          -0.9171718630254313,
          -1.7903024971797645,
          0.33929301647279025,
          0.456425947566487,
          0.42651392121564213,
          0.3026441119122942,
          -0.3979126650758561,
          -1.3931863975895338,
          -0.7551173004643796,
          1.432726180997327,
          1.0706620899027854,
          2.054268754109293,
          0.20114830502964962,
          0.4683070160993021,
          0.6937735075316896,
          -0.7714541780919164,
          -2.2640923269889983,
          1.1699990427947233,
          -0.688947311971546,
          -0.10920382633628391,
          0.4329725303136423,
          0.16414135807661928
         ],
         "xaxis": "x10",
         "y": [
          -0.0815347408742451,
          -0.5077649874988244,
          -0.06783904671905902,
          0.21062879208003074,
          0.38573975804107985,
          -0.42360398570600855,
          1.126717880451138,
          0.4353040461859579,
          -0.16601683108397614,
          0.20112069662041537,
          -0.9833596189946507,
          0.08798596302378772,
          -0.7032347433409032,
          -1.5193404907008845,
          0.6898031931166413,
          1.7689481636828148,
          -0.2205547686471449,
          0.706231048131834,
          1.4043000547925377,
          -1.5902270637207583,
          -0.5143664446343622,
          -0.4626087338865982,
          -0.8067031776035528,
          0.5723749949077205,
          -0.26923891560132895,
          1.527390451046774,
          -0.23770574624676455,
          -0.6313622148516641,
          0.24272218133055415,
          0.8594737224447366,
          -0.10153987154467391,
          -1.717481040343149,
          1.0147921385615757,
          0.910054309875966,
          0.28008821090081704,
          -1.73032732075467,
          -0.28032059857314184,
          0.020122614351310953,
          -0.62375902583589,
          -0.3362728984526408,
          -0.08747833013708962,
          1.7631604063434605,
          0.8301295635882725,
          0.08343587737131603,
          0.5477498426940517,
          0.40120705901539583,
          -1.014745792105112,
          -0.5004521513616882,
          0.29818789930043105,
          -0.9809039936952862,
          0.9612354079406753,
          0.14841866854001332,
          -0.8464508896410459,
          -0.49167492702023696,
          1.5381095565937783,
          -0.49089723014232334,
          0.44786229405164624,
          -0.2549100305603017,
          1.1309559744299842,
          -0.47578146796949433,
          0.03741717705911311,
          1.4675174286300103,
          -0.8045759523130023,
          -0.20080564559621938,
          -0.41159970632305587,
          -0.3213075604811162,
          -1.3809187836891244,
          0.9843946553936557,
          -0.6641791667254091,
          -2.668145682918329,
          1.5993922170193002,
          -0.2413458924577472,
          0.8553292191891982,
          -0.14892263793418098,
          0.7810111214371379,
          -1.7989069561723146,
          0.9602172066003379,
          0.2887724586354856,
          1.578662781392761,
          0.14463727492632686,
          0.6570661994938628,
          -0.401899493996044,
          -1.9309247477980442,
          0.9770918792089008,
          0.4898447052731042,
          -0.03318207920985528,
          -0.07467510973904955,
          0.6979736845657323,
          -1.9455591832381112,
          1.0860275040330245,
          -0.1918506689970517,
          -0.6886176684385715,
          -0.20238791595904101,
          0.8843775776516403,
          -0.08382639543647263,
          -0.20340165761830264,
          -1.4445858442180954,
          -0.4892485704502599,
          -0.4716963532959964,
          -0.7187058641996431
         ],
         "yaxis": "y10"
        },
        {
         "histfunc": "count",
         "histnorm": "",
         "marker": {
          "color": "rgba(50, 171, 96, 1.0)",
          "line": {
           "color": "#4D5663",
           "width": 1.3
          }
         },
         "name": "C",
         "nbinsx": 10,
         "opacity": 0.8,
         "orientation": "v",
         "type": "histogram",
         "x": [
          -0.0815347408742451,
          -0.5077649874988244,
          -0.06783904671905902,
          0.21062879208003074,
          0.38573975804107985,
          -0.42360398570600855,
          1.126717880451138,
          0.4353040461859579,
          -0.16601683108397614,
          0.20112069662041537,
          -0.9833596189946507,
          0.08798596302378772,
          -0.7032347433409032,
          -1.5193404907008845,
          0.6898031931166413,
          1.7689481636828148,
          -0.2205547686471449,
          0.706231048131834,
          1.4043000547925377,
          -1.5902270637207583,
          -0.5143664446343622,
          -0.4626087338865982,
          -0.8067031776035528,
          0.5723749949077205,
          -0.26923891560132895,
          1.527390451046774,
          -0.23770574624676455,
          -0.6313622148516641,
          0.24272218133055415,
          0.8594737224447366,
          -0.10153987154467391,
          -1.717481040343149,
          1.0147921385615757,
          0.910054309875966,
          0.28008821090081704,
          -1.73032732075467,
          -0.28032059857314184,
          0.020122614351310953,
          -0.62375902583589,
          -0.3362728984526408,
          -0.08747833013708962,
          1.7631604063434605,
          0.8301295635882725,
          0.08343587737131603,
          0.5477498426940517,
          0.40120705901539583,
          -1.014745792105112,
          -0.5004521513616882,
          0.29818789930043105,
          -0.9809039936952862,
          0.9612354079406753,
          0.14841866854001332,
          -0.8464508896410459,
          -0.49167492702023696,
          1.5381095565937783,
          -0.49089723014232334,
          0.44786229405164624,
          -0.2549100305603017,
          1.1309559744299842,
          -0.47578146796949433,
          0.03741717705911311,
          1.4675174286300103,
          -0.8045759523130023,
          -0.20080564559621938,
          -0.41159970632305587,
          -0.3213075604811162,
          -1.3809187836891244,
          0.9843946553936557,
          -0.6641791667254091,
          -2.668145682918329,
          1.5993922170193002,
          -0.2413458924577472,
          0.8553292191891982,
          -0.14892263793418098,
          0.7810111214371379,
          -1.7989069561723146,
          0.9602172066003379,
          0.2887724586354856,
          1.578662781392761,
          0.14463727492632686,
          0.6570661994938628,
          -0.401899493996044,
          -1.9309247477980442,
          0.9770918792089008,
          0.4898447052731042,
          -0.03318207920985528,
          -0.07467510973904955,
          0.6979736845657323,
          -1.9455591832381112,
          1.0860275040330245,
          -0.1918506689970517,
          -0.6886176684385715,
          -0.20238791595904101,
          0.8843775776516403,
          -0.08382639543647263,
          -0.20340165761830264,
          -1.4445858442180954,
          -0.4892485704502599,
          -0.4716963532959964,
          -0.7187058641996431
         ],
         "xaxis": "x11",
         "yaxis": "y11"
        },
        {
         "line": {
          "color": "rgba(128, 128, 128, 1.0)",
          "dash": "solid",
          "shape": "linear",
          "width": 1.3
         },
         "marker": {
          "size": 2,
          "symbol": "circle"
         },
         "mode": "markers",
         "name": "C",
         "text": "",
         "type": "scatter",
         "x": [
          0.35011902790803934,
          -1.130866996845766,
          1.405284017456432,
          -1.8383419387844024,
          0.4765900950509363,
          -0.6713898667241399,
          -1.3185899430154078,
          0.3378607451901761,
          0.6812660236448889,
          -1.0583839844937002,
          0.21565699200799157,
          -0.39395362864556077,
          0.7864893063104716,
          -0.5109287460002682,
          1.3849823826501693,
          0.2656412310236148,
          -0.10532516018872078,
          0.34287931269975025,
          -1.375585888315486,
          -0.21499363349708459,
          1.3334888664607976,
          -0.4369653145103137,
          -1.1586555422237812,
          1.4302164537345452,
          -0.36780045273821715,
          -0.3692686528252982,
          -1.197000247649865,
          1.274993547734382,
          0.035822369915254726,
          -2.134053502281586,
          -1.3980532184794499,
          1.1928982293240424,
          -0.6633007278151068,
          0.7918241967649958,
          0.49424181834881475,
          -0.031805503187669164,
          -0.32943044867987525,
          0.03790470052222459,
          -0.22342106187880453,
          1.5366750148475983,
          -0.9496741075144404,
          0.03228590529755793,
          2.038895422480149,
          0.8886414845324146,
          -0.41147293507101385,
          -0.9311556393251326,
          0.5626543846304182,
          -0.19711756086049487,
          0.4851560219361143,
          -0.6597978611602378,
          -1.4232224256695793,
          -0.2262457980031783,
          0.9872238659614562,
          -1.1923726907339864,
          -1.500148492942461,
          -0.18599308207191292,
          -0.1654533592379869,
          -0.014656178952166133,
          2.6095406717691456,
          -1.2786216710356257,
          1.234638254186483,
          -0.4405921922176544,
          0.5116843289964375,
          -0.31744975288468247,
          0.3537073991650773,
          0.7593184727176464,
          0.9786571994511789,
          0.42243434646639316,
          -0.3280179290024408,
          -1.0859001215259885,
          -1.0155426234437614,
          0.18841236666978298,
          2.206442621586147,
          0.4722429074452371,
          1.3410013389700695,
          0.6197716938493748,
          -1.5845241954413414,
          -0.40970971262400313,
          0.7823349966285804,
          -0.7379069442536994,
          0.8806573278666577,
          -0.5127245160554915,
          -0.3179367685431994,
          3.0908379636496686,
          -0.9543873202451807,
          0.6764550592398433,
          -1.0324233628058,
          -1.1235452650742854,
          0.8836913358267898,
          1.22175671949375,
          1.3468180419008624,
          1.0956173241965554,
          -2.569890199980508,
          -0.5931116880279594,
          -1.096365880122233,
          0.4415956326673109,
          0.18730582073897895,
          -1.0319362002233652,
          1.643651569409393,
          1.4892770280017191
         ],
         "xaxis": "x12",
         "y": [
          -0.0815347408742451,
          -0.5077649874988244,
          -0.06783904671905902,
          0.21062879208003074,
          0.38573975804107985,
          -0.42360398570600855,
          1.126717880451138,
          0.4353040461859579,
          -0.16601683108397614,
          0.20112069662041537,
          -0.9833596189946507,
          0.08798596302378772,
          -0.7032347433409032,
          -1.5193404907008845,
          0.6898031931166413,
          1.7689481636828148,
          -0.2205547686471449,
          0.706231048131834,
          1.4043000547925377,
          -1.5902270637207583,
          -0.5143664446343622,
          -0.4626087338865982,
          -0.8067031776035528,
          0.5723749949077205,
          -0.26923891560132895,
          1.527390451046774,
          -0.23770574624676455,
          -0.6313622148516641,
          0.24272218133055415,
          0.8594737224447366,
          -0.10153987154467391,
          -1.717481040343149,
          1.0147921385615757,
          0.910054309875966,
          0.28008821090081704,
          -1.73032732075467,
          -0.28032059857314184,
          0.020122614351310953,
          -0.62375902583589,
          -0.3362728984526408,
          -0.08747833013708962,
          1.7631604063434605,
          0.8301295635882725,
          0.08343587737131603,
          0.5477498426940517,
          0.40120705901539583,
          -1.014745792105112,
          -0.5004521513616882,
          0.29818789930043105,
          -0.9809039936952862,
          0.9612354079406753,
          0.14841866854001332,
          -0.8464508896410459,
          -0.49167492702023696,
          1.5381095565937783,
          -0.49089723014232334,
          0.44786229405164624,
          -0.2549100305603017,
          1.1309559744299842,
          -0.47578146796949433,
          0.03741717705911311,
          1.4675174286300103,
          -0.8045759523130023,
          -0.20080564559621938,
          -0.41159970632305587,
          -0.3213075604811162,
          -1.3809187836891244,
          0.9843946553936557,
          -0.6641791667254091,
          -2.668145682918329,
          1.5993922170193002,
          -0.2413458924577472,
          0.8553292191891982,
          -0.14892263793418098,
          0.7810111214371379,
          -1.7989069561723146,
          0.9602172066003379,
          0.2887724586354856,
          1.578662781392761,
          0.14463727492632686,
          0.6570661994938628,
          -0.401899493996044,
          -1.9309247477980442,
          0.9770918792089008,
          0.4898447052731042,
          -0.03318207920985528,
          -0.07467510973904955,
          0.6979736845657323,
          -1.9455591832381112,
          1.0860275040330245,
          -0.1918506689970517,
          -0.6886176684385715,
          -0.20238791595904101,
          0.8843775776516403,
          -0.08382639543647263,
          -0.20340165761830264,
          -1.4445858442180954,
          -0.4892485704502599,
          -0.4716963532959964,
          -0.7187058641996431
         ],
         "yaxis": "y12"
        },
        {
         "line": {
          "color": "rgba(128, 128, 128, 1.0)",
          "dash": "solid",
          "shape": "linear",
          "width": 1.3
         },
         "marker": {
          "size": 2,
          "symbol": "circle"
         },
         "mode": "markers",
         "name": "D",
         "text": "",
         "type": "scatter",
         "x": [
          -0.24200640252741798,
          -0.9352878538108119,
          0.027388841991728325,
          -0.1819147191636028,
          1.0220939910254634,
          -2.5043642881046715,
          -0.31178537143269014,
          -0.27461685256679524,
          1.0543329194274218,
          0.3914427901382899,
          -1.441136423378452,
          1.915385670890251,
          1.0612013772594604,
          -1.3257408567553322,
          0.30134531166233225,
          0.13394694504780527,
          0.012414377790086016,
          -0.562666842819727,
          -2.1360295145840436,
          0.35120093080140075,
          -1.064081139900174,
          0.28589172652849776,
          -0.4836939196007413,
          -0.34394615357419,
          -0.00290307679785654,
          -1.14598078661371,
          0.3534869579588663,
          -0.8319610105553975,
          -0.589016049936948,
          -1.2072376829173481,
          0.2899195261165965,
          2.4927642854600336,
          -0.026883405147536468,
          1.0847247380259522,
          -0.4185054870473495,
          -1.7001290191162755,
          -0.6631138255023695,
          -1.3977215756251955,
          0.4455411861792529,
          0.30197911688308654,
          -0.2261709832051633,
          -0.1710396088940495,
          1.4433380795926118,
          0.530847712833768,
          0.961866271646887,
          1.2941998843821159,
          1.0216519281617251,
          1.6208258662004693,
          0.5421996729638662,
          0.13349040574255092,
          0.011698411413139344,
          0.3243929093413252,
          0.326055891967591,
          -1.857943472441847,
          -0.30463758552150405,
          -0.8808632160511382,
          0.5239216903007925,
          0.9834386074104604,
          1.4396406440418086,
          -0.257708302017176,
          0.829152364017514,
          -0.3546228497011296,
          0.5561073129790329,
          -0.12952762277766025,
          -0.8591907520878445,
          -0.11880680844042457,
          0.16303119021191692,
          1.5420497685582935,
          -0.952295004519987,
          1.3149511788637551,
          0.1793165206361868,
          0.39153581454967,
          0.40918112144156693,
          -0.1746866446198252,
          -0.27734651150838513,
          0.6868843028329731,
          -0.530086144552545,
          1.0225358547499583,
          1.0811481712042423,
          0.2860430974355543,
          -0.5235381746515275,
          -0.5030792474726582,
          0.17829313427772936,
          0.3689593426878984,
          0.8974440778903857,
          -0.2957284041584042,
          -1.0028423302906537,
          -0.4381398352349791,
          1.3607909151527158,
          -0.6508323686744798,
          -0.011964165734617253,
          1.350700373666675,
          -1.3173489072094142,
          -0.1409314948821588,
          -0.22547794130900795,
          1.3708181316671681,
          -1.829079525865196,
          -1.709605077000469,
          -2.0915084931810624,
          -1.0919845225225022
         ],
         "xaxis": "x13",
         "y": [
          0.35011902790803934,
          -1.130866996845766,
          1.405284017456432,
          -1.8383419387844024,
          0.4765900950509363,
          -0.6713898667241399,
          -1.3185899430154078,
          0.3378607451901761,
          0.6812660236448889,
          -1.0583839844937002,
          0.21565699200799157,
          -0.39395362864556077,
          0.7864893063104716,
          -0.5109287460002682,
          1.3849823826501693,
          0.2656412310236148,
          -0.10532516018872078,
          0.34287931269975025,
          -1.375585888315486,
          -0.21499363349708459,
          1.3334888664607976,
          -0.4369653145103137,
          -1.1586555422237812,
          1.4302164537345452,
          -0.36780045273821715,
          -0.3692686528252982,
          -1.197000247649865,
          1.274993547734382,
          0.035822369915254726,
          -2.134053502281586,
          -1.3980532184794499,
          1.1928982293240424,
          -0.6633007278151068,
          0.7918241967649958,
          0.49424181834881475,
          -0.031805503187669164,
          -0.32943044867987525,
          0.03790470052222459,
          -0.22342106187880453,
          1.5366750148475983,
          -0.9496741075144404,
          0.03228590529755793,
          2.038895422480149,
          0.8886414845324146,
          -0.41147293507101385,
          -0.9311556393251326,
          0.5626543846304182,
          -0.19711756086049487,
          0.4851560219361143,
          -0.6597978611602378,
          -1.4232224256695793,
          -0.2262457980031783,
          0.9872238659614562,
          -1.1923726907339864,
          -1.500148492942461,
          -0.18599308207191292,
          -0.1654533592379869,
          -0.014656178952166133,
          2.6095406717691456,
          -1.2786216710356257,
          1.234638254186483,
          -0.4405921922176544,
          0.5116843289964375,
          -0.31744975288468247,
          0.3537073991650773,
          0.7593184727176464,
          0.9786571994511789,
          0.42243434646639316,
          -0.3280179290024408,
          -1.0859001215259885,
          -1.0155426234437614,
          0.18841236666978298,
          2.206442621586147,
          0.4722429074452371,
          1.3410013389700695,
          0.6197716938493748,
          -1.5845241954413414,
          -0.40970971262400313,
          0.7823349966285804,
          -0.7379069442536994,
          0.8806573278666577,
          -0.5127245160554915,
          -0.3179367685431994,
          3.0908379636496686,
          -0.9543873202451807,
          0.6764550592398433,
          -1.0324233628058,
          -1.1235452650742854,
          0.8836913358267898,
          1.22175671949375,
          1.3468180419008624,
          1.0956173241965554,
          -2.569890199980508,
          -0.5931116880279594,
          -1.096365880122233,
          0.4415956326673109,
          0.18730582073897895,
          -1.0319362002233652,
          1.643651569409393,
          1.4892770280017191
         ],
         "yaxis": "y13"
        },
        {
         "line": {
          "color": "rgba(128, 128, 128, 1.0)",
          "dash": "solid",
          "shape": "linear",
          "width": 1.3
         },
         "marker": {
          "size": 2,
          "symbol": "circle"
         },
         "mode": "markers",
         "name": "D",
         "text": "",
         "type": "scatter",
         "x": [
          0.5038966296896649,
          -0.6402432132700927,
          -0.046084521044311134,
          2.2664478783920683,
          0.9477353340492846,
          -0.614880202117463,
          -1.6423022200466404,
          -0.5506536135023554,
          0.5784162871305017,
          1.2635114897067978,
          -1.4963273936516859,
          -1.6115050059592841,
          -0.46441376428471964,
          -1.0227066828446538,
          0.9350020037598924,
          0.38227490517607154,
          2.4302360193947536,
          -1.3161131598068214,
          -1.2982968542416018,
          -0.13265819926035488,
          -0.7038606550102939,
          -0.2209763016023666,
          0.9345495975185338,
          1.0095771347136155,
          -0.9434848398914922,
          -0.0652309643019826,
          1.339454873313897,
          -1.041460847515743,
          -0.6544215716422075,
          -0.6086375499446177,
          0.012736190202873435,
          -0.8033846548321574,
          -0.1523522799250349,
          -0.5912413700796505,
          -1.427089639295129,
          -0.2764544125199372,
          -0.4502946295633157,
          -0.3968453730357518,
          0.0008621038702756964,
          -0.6860921613608862,
          0.2148442500563389,
          -0.3965507564693599,
          -1.580565695259094,
          -0.6886015208288447,
          -0.19922535695751326,
          -1.300702016080167,
          0.8242157825252651,
          -0.3012421823694876,
          0.25194677497620255,
          -0.70194952275731,
          0.4899170779278613,
          -1.1735718832175956,
          -0.09730938850281483,
          -0.3296320457351763,
          0.6486586398947655,
          -1.4424157416670944,
          0.05808274371576219,
          -0.23849797529827363,
          -0.08816774745216509,
          -0.21844032759229703,
          0.232829730943407,
          -0.8574261372665845,
          -0.6448024783666553,
          0.04393697665503743,
          -0.9570215870458508,
          0.014303354983442854,
          -1.2418935875107275,
          0.35919198953731796,
          -0.8741166986646901,
          1.029193048664084,
          0.6521119689469097,
          -0.9868637243393551,
          0.01573171501393248,
          0.4984004502783877,
          -0.6326102152728523,
          -1.126999452904778,
          1.5111832744616316,
          -0.5362773785464199,
          -0.9171718630254313,
          -1.7903024971797645,
          0.33929301647279025,
          0.456425947566487,
          0.42651392121564213,
          0.3026441119122942,
          -0.3979126650758561,
          -1.3931863975895338,
          -0.7551173004643796,
          1.432726180997327,
          1.0706620899027854,
          2.054268754109293,
          0.20114830502964962,
          0.4683070160993021,
          0.6937735075316896,
          -0.7714541780919164,
          -2.2640923269889983,
          1.1699990427947233,
          -0.688947311971546,
          -0.10920382633628391,
          0.4329725303136423,
          0.16414135807661928
         ],
         "xaxis": "x14",
         "y": [
          0.35011902790803934,
          -1.130866996845766,
          1.405284017456432,
          -1.8383419387844024,
          0.4765900950509363,
          -0.6713898667241399,
          -1.3185899430154078,
          0.3378607451901761,
          0.6812660236448889,
          -1.0583839844937002,
          0.21565699200799157,
          -0.39395362864556077,
          0.7864893063104716,
          -0.5109287460002682,
          1.3849823826501693,
          0.2656412310236148,
          -0.10532516018872078,
          0.34287931269975025,
          -1.375585888315486,
          -0.21499363349708459,
          1.3334888664607976,
          -0.4369653145103137,
          -1.1586555422237812,
          1.4302164537345452,
          -0.36780045273821715,
          -0.3692686528252982,
          -1.197000247649865,
          1.274993547734382,
          0.035822369915254726,
          -2.134053502281586,
          -1.3980532184794499,
          1.1928982293240424,
          -0.6633007278151068,
          0.7918241967649958,
          0.49424181834881475,
          -0.031805503187669164,
          -0.32943044867987525,
          0.03790470052222459,
          -0.22342106187880453,
          1.5366750148475983,
          -0.9496741075144404,
          0.03228590529755793,
          2.038895422480149,
          0.8886414845324146,
          -0.41147293507101385,
          -0.9311556393251326,
          0.5626543846304182,
          -0.19711756086049487,
          0.4851560219361143,
          -0.6597978611602378,
          -1.4232224256695793,
          -0.2262457980031783,
          0.9872238659614562,
          -1.1923726907339864,
          -1.500148492942461,
          -0.18599308207191292,
          -0.1654533592379869,
          -0.014656178952166133,
          2.6095406717691456,
          -1.2786216710356257,
          1.234638254186483,
          -0.4405921922176544,
          0.5116843289964375,
          -0.31744975288468247,
          0.3537073991650773,
          0.7593184727176464,
          0.9786571994511789,
          0.42243434646639316,
          -0.3280179290024408,
          -1.0859001215259885,
          -1.0155426234437614,
          0.18841236666978298,
          2.206442621586147,
          0.4722429074452371,
          1.3410013389700695,
          0.6197716938493748,
          -1.5845241954413414,
          -0.40970971262400313,
          0.7823349966285804,
          -0.7379069442536994,
          0.8806573278666577,
          -0.5127245160554915,
          -0.3179367685431994,
          3.0908379636496686,
          -0.9543873202451807,
          0.6764550592398433,
          -1.0324233628058,
          -1.1235452650742854,
          0.8836913358267898,
          1.22175671949375,
          1.3468180419008624,
          1.0956173241965554,
          -2.569890199980508,
          -0.5931116880279594,
          -1.096365880122233,
          0.4415956326673109,
          0.18730582073897895,
          -1.0319362002233652,
          1.643651569409393,
          1.4892770280017191
         ],
         "yaxis": "y14"
        },
        {
         "line": {
          "color": "rgba(128, 128, 128, 1.0)",
          "dash": "solid",
          "shape": "linear",
          "width": 1.3
         },
         "marker": {
          "size": 2,
          "symbol": "circle"
         },
         "mode": "markers",
         "name": "D",
         "text": "",
         "type": "scatter",
         "x": [
          -0.0815347408742451,
          -0.5077649874988244,
          -0.06783904671905902,
          0.21062879208003074,
          0.38573975804107985,
          -0.42360398570600855,
          1.126717880451138,
          0.4353040461859579,
          -0.16601683108397614,
          0.20112069662041537,
          -0.9833596189946507,
          0.08798596302378772,
          -0.7032347433409032,
          -1.5193404907008845,
          0.6898031931166413,
          1.7689481636828148,
          -0.2205547686471449,
          0.706231048131834,
          1.4043000547925377,
          -1.5902270637207583,
          -0.5143664446343622,
          -0.4626087338865982,
          -0.8067031776035528,
          0.5723749949077205,
          -0.26923891560132895,
          1.527390451046774,
          -0.23770574624676455,
          -0.6313622148516641,
          0.24272218133055415,
          0.8594737224447366,
          -0.10153987154467391,
          -1.717481040343149,
          1.0147921385615757,
          0.910054309875966,
          0.28008821090081704,
          -1.73032732075467,
          -0.28032059857314184,
          0.020122614351310953,
          -0.62375902583589,
          -0.3362728984526408,
          -0.08747833013708962,
          1.7631604063434605,
          0.8301295635882725,
          0.08343587737131603,
          0.5477498426940517,
          0.40120705901539583,
          -1.014745792105112,
          -0.5004521513616882,
          0.29818789930043105,
          -0.9809039936952862,
          0.9612354079406753,
          0.14841866854001332,
          -0.8464508896410459,
          -0.49167492702023696,
          1.5381095565937783,
          -0.49089723014232334,
          0.44786229405164624,
          -0.2549100305603017,
          1.1309559744299842,
          -0.47578146796949433,
          0.03741717705911311,
          1.4675174286300103,
          -0.8045759523130023,
          -0.20080564559621938,
          -0.41159970632305587,
          -0.3213075604811162,
          -1.3809187836891244,
          0.9843946553936557,
          -0.6641791667254091,
          -2.668145682918329,
          1.5993922170193002,
          -0.2413458924577472,
          0.8553292191891982,
          -0.14892263793418098,
          0.7810111214371379,
          -1.7989069561723146,
          0.9602172066003379,
          0.2887724586354856,
          1.578662781392761,
          0.14463727492632686,
          0.6570661994938628,
          -0.401899493996044,
          -1.9309247477980442,
          0.9770918792089008,
          0.4898447052731042,
          -0.03318207920985528,
          -0.07467510973904955,
          0.6979736845657323,
          -1.9455591832381112,
          1.0860275040330245,
          -0.1918506689970517,
          -0.6886176684385715,
          -0.20238791595904101,
          0.8843775776516403,
          -0.08382639543647263,
          -0.20340165761830264,
          -1.4445858442180954,
          -0.4892485704502599,
          -0.4716963532959964,
          -0.7187058641996431
         ],
         "xaxis": "x15",
         "y": [
          0.35011902790803934,
          -1.130866996845766,
          1.405284017456432,
          -1.8383419387844024,
          0.4765900950509363,
          -0.6713898667241399,
          -1.3185899430154078,
          0.3378607451901761,
          0.6812660236448889,
          -1.0583839844937002,
          0.21565699200799157,
          -0.39395362864556077,
          0.7864893063104716,
          -0.5109287460002682,
          1.3849823826501693,
          0.2656412310236148,
          -0.10532516018872078,
          0.34287931269975025,
          -1.375585888315486,
          -0.21499363349708459,
          1.3334888664607976,
          -0.4369653145103137,
          -1.1586555422237812,
          1.4302164537345452,
          -0.36780045273821715,
          -0.3692686528252982,
          -1.197000247649865,
          1.274993547734382,
          0.035822369915254726,
          -2.134053502281586,
          -1.3980532184794499,
          1.1928982293240424,
          -0.6633007278151068,
          0.7918241967649958,
          0.49424181834881475,
          -0.031805503187669164,
          -0.32943044867987525,
          0.03790470052222459,
          -0.22342106187880453,
          1.5366750148475983,
          -0.9496741075144404,
          0.03228590529755793,
          2.038895422480149,
          0.8886414845324146,
          -0.41147293507101385,
          -0.9311556393251326,
          0.5626543846304182,
          -0.19711756086049487,
          0.4851560219361143,
          -0.6597978611602378,
          -1.4232224256695793,
          -0.2262457980031783,
          0.9872238659614562,
          -1.1923726907339864,
          -1.500148492942461,
          -0.18599308207191292,
          -0.1654533592379869,
          -0.014656178952166133,
          2.6095406717691456,
          -1.2786216710356257,
          1.234638254186483,
          -0.4405921922176544,
          0.5116843289964375,
          -0.31744975288468247,
          0.3537073991650773,
          0.7593184727176464,
          0.9786571994511789,
          0.42243434646639316,
          -0.3280179290024408,
          -1.0859001215259885,
          -1.0155426234437614,
          0.18841236666978298,
          2.206442621586147,
          0.4722429074452371,
          1.3410013389700695,
          0.6197716938493748,
          -1.5845241954413414,
          -0.40970971262400313,
          0.7823349966285804,
          -0.7379069442536994,
          0.8806573278666577,
          -0.5127245160554915,
          -0.3179367685431994,
          3.0908379636496686,
          -0.9543873202451807,
          0.6764550592398433,
          -1.0324233628058,
          -1.1235452650742854,
          0.8836913358267898,
          1.22175671949375,
          1.3468180419008624,
          1.0956173241965554,
          -2.569890199980508,
          -0.5931116880279594,
          -1.096365880122233,
          0.4415956326673109,
          0.18730582073897895,
          -1.0319362002233652,
          1.643651569409393,
          1.4892770280017191
         ],
         "yaxis": "y15"
        },
        {
         "histfunc": "count",
         "histnorm": "",
         "marker": {
          "color": "rgba(128, 0, 128, 1.0)",
          "line": {
           "color": "#4D5663",
           "width": 1.3
          }
         },
         "name": "D",
         "nbinsx": 10,
         "opacity": 0.8,
         "orientation": "v",
         "type": "histogram",
         "x": [
          0.35011902790803934,
          -1.130866996845766,
          1.405284017456432,
          -1.8383419387844024,
          0.4765900950509363,
          -0.6713898667241399,
          -1.3185899430154078,
          0.3378607451901761,
          0.6812660236448889,
          -1.0583839844937002,
          0.21565699200799157,
          -0.39395362864556077,
          0.7864893063104716,
          -0.5109287460002682,
          1.3849823826501693,
          0.2656412310236148,
          -0.10532516018872078,
          0.34287931269975025,
          -1.375585888315486,
          -0.21499363349708459,
          1.3334888664607976,
          -0.4369653145103137,
          -1.1586555422237812,
          1.4302164537345452,
          -0.36780045273821715,
          -0.3692686528252982,
          -1.197000247649865,
          1.274993547734382,
          0.035822369915254726,
          -2.134053502281586,
          -1.3980532184794499,
          1.1928982293240424,
          -0.6633007278151068,
          0.7918241967649958,
          0.49424181834881475,
          -0.031805503187669164,
          -0.32943044867987525,
          0.03790470052222459,
          -0.22342106187880453,
          1.5366750148475983,
          -0.9496741075144404,
          0.03228590529755793,
          2.038895422480149,
          0.8886414845324146,
          -0.41147293507101385,
          -0.9311556393251326,
          0.5626543846304182,
          -0.19711756086049487,
          0.4851560219361143,
          -0.6597978611602378,
          -1.4232224256695793,
          -0.2262457980031783,
          0.9872238659614562,
          -1.1923726907339864,
          -1.500148492942461,
          -0.18599308207191292,
          -0.1654533592379869,
          -0.014656178952166133,
          2.6095406717691456,
          -1.2786216710356257,
          1.234638254186483,
          -0.4405921922176544,
          0.5116843289964375,
          -0.31744975288468247,
          0.3537073991650773,
          0.7593184727176464,
          0.9786571994511789,
          0.42243434646639316,
          -0.3280179290024408,
          -1.0859001215259885,
          -1.0155426234437614,
          0.18841236666978298,
          2.206442621586147,
          0.4722429074452371,
          1.3410013389700695,
          0.6197716938493748,
          -1.5845241954413414,
          -0.40970971262400313,
          0.7823349966285804,
          -0.7379069442536994,
          0.8806573278666577,
          -0.5127245160554915,
          -0.3179367685431994,
          3.0908379636496686,
          -0.9543873202451807,
          0.6764550592398433,
          -1.0324233628058,
          -1.1235452650742854,
          0.8836913358267898,
          1.22175671949375,
          1.3468180419008624,
          1.0956173241965554,
          -2.569890199980508,
          -0.5931116880279594,
          -1.096365880122233,
          0.4415956326673109,
          0.18730582073897895,
          -1.0319362002233652,
          1.643651569409393,
          1.4892770280017191
         ],
         "xaxis": "x16",
         "yaxis": "y16"
        }
       ],
       "layout": {
        "bargap": 0.02,
        "legend": {
         "bgcolor": "#F5F6F9",
         "font": {
          "color": "#4D5663"
         }
        },
        "paper_bgcolor": "#F5F6F9",
        "plot_bgcolor": "#F5F6F9",
        "showlegend": false,
        "template": {
         "data": {
          "bar": [
           {
            "error_x": {
             "color": "#2a3f5f"
            },
            "error_y": {
             "color": "#2a3f5f"
            },
            "marker": {
             "line": {
              "color": "#E5ECF6",
              "width": 0.5
             }
            },
            "type": "bar"
           }
          ],
          "barpolar": [
           {
            "marker": {
             "line": {
              "color": "#E5ECF6",
              "width": 0.5
             }
            },
            "type": "barpolar"
           }
          ],
          "carpet": [
           {
            "aaxis": {
             "endlinecolor": "#2a3f5f",
             "gridcolor": "white",
             "linecolor": "white",
             "minorgridcolor": "white",
             "startlinecolor": "#2a3f5f"
            },
            "baxis": {
             "endlinecolor": "#2a3f5f",
             "gridcolor": "white",
             "linecolor": "white",
             "minorgridcolor": "white",
             "startlinecolor": "#2a3f5f"
            },
            "type": "carpet"
           }
          ],
          "choropleth": [
           {
            "colorbar": {
             "outlinewidth": 0,
             "ticks": ""
            },
            "type": "choropleth"
           }
          ],
          "contour": [
           {
            "colorbar": {
             "outlinewidth": 0,
             "ticks": ""
            },
            "colorscale": [
             [
              0,
              "#0d0887"
             ],
             [
              0.1111111111111111,
              "#46039f"
             ],
             [
              0.2222222222222222,
              "#7201a8"
             ],
             [
              0.3333333333333333,
              "#9c179e"
             ],
             [
              0.4444444444444444,
              "#bd3786"
             ],
             [
              0.5555555555555556,
              "#d8576b"
             ],
             [
              0.6666666666666666,
              "#ed7953"
             ],
             [
              0.7777777777777778,
              "#fb9f3a"
             ],
             [
              0.8888888888888888,
              "#fdca26"
             ],
             [
              1,
              "#f0f921"
             ]
            ],
            "type": "contour"
           }
          ],
          "contourcarpet": [
           {
            "colorbar": {
             "outlinewidth": 0,
             "ticks": ""
            },
            "type": "contourcarpet"
           }
          ],
          "heatmap": [
           {
            "colorbar": {
             "outlinewidth": 0,
             "ticks": ""
            },
            "colorscale": [
             [
              0,
              "#0d0887"
             ],
             [
              0.1111111111111111,
              "#46039f"
             ],
             [
              0.2222222222222222,
              "#7201a8"
             ],
             [
              0.3333333333333333,
              "#9c179e"
             ],
             [
              0.4444444444444444,
              "#bd3786"
             ],
             [
              0.5555555555555556,
              "#d8576b"
             ],
             [
              0.6666666666666666,
              "#ed7953"
             ],
             [
              0.7777777777777778,
              "#fb9f3a"
             ],
             [
              0.8888888888888888,
              "#fdca26"
             ],
             [
              1,
              "#f0f921"
             ]
            ],
            "type": "heatmap"
           }
          ],
          "heatmapgl": [
           {
            "colorbar": {
             "outlinewidth": 0,
             "ticks": ""
            },
            "colorscale": [
             [
              0,
              "#0d0887"
             ],
             [
              0.1111111111111111,
              "#46039f"
             ],
             [
              0.2222222222222222,
              "#7201a8"
             ],
             [
              0.3333333333333333,
              "#9c179e"
             ],
             [
              0.4444444444444444,
              "#bd3786"
             ],
             [
              0.5555555555555556,
              "#d8576b"
             ],
             [
              0.6666666666666666,
              "#ed7953"
             ],
             [
              0.7777777777777778,
              "#fb9f3a"
             ],
             [
              0.8888888888888888,
              "#fdca26"
             ],
             [
              1,
              "#f0f921"
             ]
            ],
            "type": "heatmapgl"
           }
          ],
          "histogram": [
           {
            "marker": {
             "colorbar": {
              "outlinewidth": 0,
              "ticks": ""
             }
            },
            "type": "histogram"
           }
          ],
          "histogram2d": [
           {
            "colorbar": {
             "outlinewidth": 0,
             "ticks": ""
            },
            "colorscale": [
             [
              0,
              "#0d0887"
             ],
             [
              0.1111111111111111,
              "#46039f"
             ],
             [
              0.2222222222222222,
              "#7201a8"
             ],
             [
              0.3333333333333333,
              "#9c179e"
             ],
             [
              0.4444444444444444,
              "#bd3786"
             ],
             [
              0.5555555555555556,
              "#d8576b"
             ],
             [
              0.6666666666666666,
              "#ed7953"
             ],
             [
              0.7777777777777778,
              "#fb9f3a"
             ],
             [
              0.8888888888888888,
              "#fdca26"
             ],
             [
              1,
              "#f0f921"
             ]
            ],
            "type": "histogram2d"
           }
          ],
          "histogram2dcontour": [
           {
            "colorbar": {
             "outlinewidth": 0,
             "ticks": ""
            },
            "colorscale": [
             [
              0,
              "#0d0887"
             ],
             [
              0.1111111111111111,
              "#46039f"
             ],
             [
              0.2222222222222222,
              "#7201a8"
             ],
             [
              0.3333333333333333,
              "#9c179e"
             ],
             [
              0.4444444444444444,
              "#bd3786"
             ],
             [
              0.5555555555555556,
              "#d8576b"
             ],
             [
              0.6666666666666666,
              "#ed7953"
             ],
             [
              0.7777777777777778,
              "#fb9f3a"
             ],
             [
              0.8888888888888888,
              "#fdca26"
             ],
             [
              1,
              "#f0f921"
             ]
            ],
            "type": "histogram2dcontour"
           }
          ],
          "mesh3d": [
           {
            "colorbar": {
             "outlinewidth": 0,
             "ticks": ""
            },
            "type": "mesh3d"
           }
          ],
          "parcoords": [
           {
            "line": {
             "colorbar": {
              "outlinewidth": 0,
              "ticks": ""
             }
            },
            "type": "parcoords"
           }
          ],
          "pie": [
           {
            "automargin": true,
            "type": "pie"
           }
          ],
          "scatter": [
           {
            "marker": {
             "colorbar": {
              "outlinewidth": 0,
              "ticks": ""
             }
            },
            "type": "scatter"
           }
          ],
          "scatter3d": [
           {
            "line": {
             "colorbar": {
              "outlinewidth": 0,
              "ticks": ""
             }
            },
            "marker": {
             "colorbar": {
              "outlinewidth": 0,
              "ticks": ""
             }
            },
            "type": "scatter3d"
           }
          ],
          "scattercarpet": [
           {
            "marker": {
             "colorbar": {
              "outlinewidth": 0,
              "ticks": ""
             }
            },
            "type": "scattercarpet"
           }
          ],
          "scattergeo": [
           {
            "marker": {
             "colorbar": {
              "outlinewidth": 0,
              "ticks": ""
             }
            },
            "type": "scattergeo"
           }
          ],
          "scattergl": [
           {
            "marker": {
             "colorbar": {
              "outlinewidth": 0,
              "ticks": ""
             }
            },
            "type": "scattergl"
           }
          ],
          "scattermapbox": [
           {
            "marker": {
             "colorbar": {
              "outlinewidth": 0,
              "ticks": ""
             }
            },
            "type": "scattermapbox"
           }
          ],
          "scatterpolar": [
           {
            "marker": {
             "colorbar": {
              "outlinewidth": 0,
              "ticks": ""
             }
            },
            "type": "scatterpolar"
           }
          ],
          "scatterpolargl": [
           {
            "marker": {
             "colorbar": {
              "outlinewidth": 0,
              "ticks": ""
             }
            },
            "type": "scatterpolargl"
           }
          ],
          "scatterternary": [
           {
            "marker": {
             "colorbar": {
              "outlinewidth": 0,
              "ticks": ""
             }
            },
            "type": "scatterternary"
           }
          ],
          "surface": [
           {
            "colorbar": {
             "outlinewidth": 0,
             "ticks": ""
            },
            "colorscale": [
             [
              0,
              "#0d0887"
             ],
             [
              0.1111111111111111,
              "#46039f"
             ],
             [
              0.2222222222222222,
              "#7201a8"
             ],
             [
              0.3333333333333333,
              "#9c179e"
             ],
             [
              0.4444444444444444,
              "#bd3786"
             ],
             [
              0.5555555555555556,
              "#d8576b"
             ],
             [
              0.6666666666666666,
              "#ed7953"
             ],
             [
              0.7777777777777778,
              "#fb9f3a"
             ],
             [
              0.8888888888888888,
              "#fdca26"
             ],
             [
              1,
              "#f0f921"
             ]
            ],
            "type": "surface"
           }
          ],
          "table": [
           {
            "cells": {
             "fill": {
              "color": "#EBF0F8"
             },
             "line": {
              "color": "white"
             }
            },
            "header": {
             "fill": {
              "color": "#C8D4E3"
             },
             "line": {
              "color": "white"
             }
            },
            "type": "table"
           }
          ]
         },
         "layout": {
          "annotationdefaults": {
           "arrowcolor": "#2a3f5f",
           "arrowhead": 0,
           "arrowwidth": 1
          },
          "coloraxis": {
           "colorbar": {
            "outlinewidth": 0,
            "ticks": ""
           }
          },
          "colorscale": {
           "diverging": [
            [
             0,
             "#8e0152"
            ],
            [
             0.1,
             "#c51b7d"
            ],
            [
             0.2,
             "#de77ae"
            ],
            [
             0.3,
             "#f1b6da"
            ],
            [
             0.4,
             "#fde0ef"
            ],
            [
             0.5,
             "#f7f7f7"
            ],
            [
             0.6,
             "#e6f5d0"
            ],
            [
             0.7,
             "#b8e186"
            ],
            [
             0.8,
             "#7fbc41"
            ],
            [
             0.9,
             "#4d9221"
            ],
            [
             1,
             "#276419"
            ]
           ],
           "sequential": [
            [
             0,
             "#0d0887"
            ],
            [
             0.1111111111111111,
             "#46039f"
            ],
            [
             0.2222222222222222,
             "#7201a8"
            ],
            [
             0.3333333333333333,
             "#9c179e"
            ],
            [
             0.4444444444444444,
             "#bd3786"
            ],
            [
             0.5555555555555556,
             "#d8576b"
            ],
            [
             0.6666666666666666,
             "#ed7953"
            ],
            [
             0.7777777777777778,
             "#fb9f3a"
            ],
            [
             0.8888888888888888,
             "#fdca26"
            ],
            [
             1,
             "#f0f921"
            ]
           ],
           "sequentialminus": [
            [
             0,
             "#0d0887"
            ],
            [
             0.1111111111111111,
             "#46039f"
            ],
            [
             0.2222222222222222,
             "#7201a8"
            ],
            [
             0.3333333333333333,
             "#9c179e"
            ],
            [
             0.4444444444444444,
             "#bd3786"
            ],
            [
             0.5555555555555556,
             "#d8576b"
            ],
            [
             0.6666666666666666,
             "#ed7953"
            ],
            [
             0.7777777777777778,
             "#fb9f3a"
            ],
            [
             0.8888888888888888,
             "#fdca26"
            ],
            [
             1,
             "#f0f921"
            ]
           ]
          },
          "colorway": [
           "#636efa",
           "#EF553B",
           "#00cc96",
           "#ab63fa",
           "#FFA15A",
           "#19d3f3",
           "#FF6692",
           "#B6E880",
           "#FF97FF",
           "#FECB52"
          ],
          "font": {
           "color": "#2a3f5f"
          },
          "geo": {
           "bgcolor": "white",
           "lakecolor": "white",
           "landcolor": "#E5ECF6",
           "showlakes": true,
           "showland": true,
           "subunitcolor": "white"
          },
          "hoverlabel": {
           "align": "left"
          },
          "hovermode": "closest",
          "mapbox": {
           "style": "light"
          },
          "paper_bgcolor": "white",
          "plot_bgcolor": "#E5ECF6",
          "polar": {
           "angularaxis": {
            "gridcolor": "white",
            "linecolor": "white",
            "ticks": ""
           },
           "bgcolor": "#E5ECF6",
           "radialaxis": {
            "gridcolor": "white",
            "linecolor": "white",
            "ticks": ""
           }
          },
          "scene": {
           "xaxis": {
            "backgroundcolor": "#E5ECF6",
            "gridcolor": "white",
            "gridwidth": 2,
            "linecolor": "white",
            "showbackground": true,
            "ticks": "",
            "zerolinecolor": "white"
           },
           "yaxis": {
            "backgroundcolor": "#E5ECF6",
            "gridcolor": "white",
            "gridwidth": 2,
            "linecolor": "white",
            "showbackground": true,
            "ticks": "",
            "zerolinecolor": "white"
           },
           "zaxis": {
            "backgroundcolor": "#E5ECF6",
            "gridcolor": "white",
            "gridwidth": 2,
            "linecolor": "white",
            "showbackground": true,
            "ticks": "",
            "zerolinecolor": "white"
           }
          },
          "shapedefaults": {
           "line": {
            "color": "#2a3f5f"
           }
          },
          "ternary": {
           "aaxis": {
            "gridcolor": "white",
            "linecolor": "white",
            "ticks": ""
           },
           "baxis": {
            "gridcolor": "white",
            "linecolor": "white",
            "ticks": ""
           },
           "bgcolor": "#E5ECF6",
           "caxis": {
            "gridcolor": "white",
            "linecolor": "white",
            "ticks": ""
           }
          },
          "title": {
           "x": 0.05
          },
          "xaxis": {
           "automargin": true,
           "gridcolor": "white",
           "linecolor": "white",
           "ticks": "",
           "title": {
            "standoff": 15
           },
           "zerolinecolor": "white",
           "zerolinewidth": 2
          },
          "yaxis": {
           "automargin": true,
           "gridcolor": "white",
           "linecolor": "white",
           "ticks": "",
           "title": {
            "standoff": 15
           },
           "zerolinecolor": "white",
           "zerolinewidth": 2
          }
         }
        },
        "title": {
         "font": {
          "color": "#4D5663"
         }
        },
        "xaxis": {
         "anchor": "y",
         "domain": [
          0,
          0.2125
         ],
         "gridcolor": "#E1E5ED",
         "showgrid": false,
         "tickfont": {
          "color": "#4D5663"
         },
         "title": {
          "font": {
           "color": "#4D5663"
          },
          "text": ""
         },
         "zerolinecolor": "#E1E5ED"
        },
        "xaxis10": {
         "anchor": "y10",
         "domain": [
          0.2625,
          0.475
         ],
         "gridcolor": "#E1E5ED",
         "showgrid": false,
         "tickfont": {
          "color": "#4D5663"
         },
         "title": {
          "font": {
           "color": "#4D5663"
          },
          "text": ""
         },
         "zerolinecolor": "#E1E5ED"
        },
        "xaxis11": {
         "anchor": "y11",
         "domain": [
          0.525,
          0.7375
         ],
         "gridcolor": "#E1E5ED",
         "showgrid": false,
         "tickfont": {
          "color": "#4D5663"
         },
         "title": {
          "font": {
           "color": "#4D5663"
          },
          "text": ""
         },
         "zerolinecolor": "#E1E5ED"
        },
        "xaxis12": {
         "anchor": "y12",
         "domain": [
          0.7875,
          1
         ],
         "gridcolor": "#E1E5ED",
         "showgrid": false,
         "tickfont": {
          "color": "#4D5663"
         },
         "title": {
          "font": {
           "color": "#4D5663"
          },
          "text": ""
         },
         "zerolinecolor": "#E1E5ED"
        },
        "xaxis13": {
         "anchor": "y13",
         "domain": [
          0,
          0.2125
         ],
         "gridcolor": "#E1E5ED",
         "showgrid": false,
         "tickfont": {
          "color": "#4D5663"
         },
         "title": {
          "font": {
           "color": "#4D5663"
          },
          "text": ""
         },
         "zerolinecolor": "#E1E5ED"
        },
        "xaxis14": {
         "anchor": "y14",
         "domain": [
          0.2625,
          0.475
         ],
         "gridcolor": "#E1E5ED",
         "showgrid": false,
         "tickfont": {
          "color": "#4D5663"
         },
         "title": {
          "font": {
           "color": "#4D5663"
          },
          "text": ""
         },
         "zerolinecolor": "#E1E5ED"
        },
        "xaxis15": {
         "anchor": "y15",
         "domain": [
          0.525,
          0.7375
         ],
         "gridcolor": "#E1E5ED",
         "showgrid": false,
         "tickfont": {
          "color": "#4D5663"
         },
         "title": {
          "font": {
           "color": "#4D5663"
          },
          "text": ""
         },
         "zerolinecolor": "#E1E5ED"
        },
        "xaxis16": {
         "anchor": "y16",
         "domain": [
          0.7875,
          1
         ],
         "gridcolor": "#E1E5ED",
         "showgrid": false,
         "tickfont": {
          "color": "#4D5663"
         },
         "title": {
          "font": {
           "color": "#4D5663"
          },
          "text": ""
         },
         "zerolinecolor": "#E1E5ED"
        },
        "xaxis2": {
         "anchor": "y2",
         "domain": [
          0.2625,
          0.475
         ],
         "gridcolor": "#E1E5ED",
         "showgrid": false,
         "tickfont": {
          "color": "#4D5663"
         },
         "title": {
          "font": {
           "color": "#4D5663"
          },
          "text": ""
         },
         "zerolinecolor": "#E1E5ED"
        },
        "xaxis3": {
         "anchor": "y3",
         "domain": [
          0.525,
          0.7375
         ],
         "gridcolor": "#E1E5ED",
         "showgrid": false,
         "tickfont": {
          "color": "#4D5663"
         },
         "title": {
          "font": {
           "color": "#4D5663"
          },
          "text": ""
         },
         "zerolinecolor": "#E1E5ED"
        },
        "xaxis4": {
         "anchor": "y4",
         "domain": [
          0.7875,
          1
         ],
         "gridcolor": "#E1E5ED",
         "showgrid": false,
         "tickfont": {
          "color": "#4D5663"
         },
         "title": {
          "font": {
           "color": "#4D5663"
          },
          "text": ""
         },
         "zerolinecolor": "#E1E5ED"
        },
        "xaxis5": {
         "anchor": "y5",
         "domain": [
          0,
          0.2125
         ],
         "gridcolor": "#E1E5ED",
         "showgrid": false,
         "tickfont": {
          "color": "#4D5663"
         },
         "title": {
          "font": {
           "color": "#4D5663"
          },
          "text": ""
         },
         "zerolinecolor": "#E1E5ED"
        },
        "xaxis6": {
         "anchor": "y6",
         "domain": [
          0.2625,
          0.475
         ],
         "gridcolor": "#E1E5ED",
         "showgrid": false,
         "tickfont": {
          "color": "#4D5663"
         },
         "title": {
          "font": {
           "color": "#4D5663"
          },
          "text": ""
         },
         "zerolinecolor": "#E1E5ED"
        },
        "xaxis7": {
         "anchor": "y7",
         "domain": [
          0.525,
          0.7375
         ],
         "gridcolor": "#E1E5ED",
         "showgrid": false,
         "tickfont": {
          "color": "#4D5663"
         },
         "title": {
          "font": {
           "color": "#4D5663"
          },
          "text": ""
         },
         "zerolinecolor": "#E1E5ED"
        },
        "xaxis8": {
         "anchor": "y8",
         "domain": [
          0.7875,
          1
         ],
         "gridcolor": "#E1E5ED",
         "showgrid": false,
         "tickfont": {
          "color": "#4D5663"
         },
         "title": {
          "font": {
           "color": "#4D5663"
          },
          "text": ""
         },
         "zerolinecolor": "#E1E5ED"
        },
        "xaxis9": {
         "anchor": "y9",
         "domain": [
          0,
          0.2125
         ],
         "gridcolor": "#E1E5ED",
         "showgrid": false,
         "tickfont": {
          "color": "#4D5663"
         },
         "title": {
          "font": {
           "color": "#4D5663"
          },
          "text": ""
         },
         "zerolinecolor": "#E1E5ED"
        },
        "yaxis": {
         "anchor": "x",
         "domain": [
          0.8025,
          1
         ],
         "gridcolor": "#E1E5ED",
         "showgrid": false,
         "tickfont": {
          "color": "#4D5663"
         },
         "title": {
          "font": {
           "color": "#4D5663"
          },
          "text": ""
         },
         "zerolinecolor": "#E1E5ED"
        },
        "yaxis10": {
         "anchor": "x10",
         "domain": [
          0.2675,
          0.465
         ],
         "gridcolor": "#E1E5ED",
         "showgrid": false,
         "tickfont": {
          "color": "#4D5663"
         },
         "title": {
          "font": {
           "color": "#4D5663"
          },
          "text": ""
         },
         "zerolinecolor": "#E1E5ED"
        },
        "yaxis11": {
         "anchor": "x11",
         "domain": [
          0.2675,
          0.465
         ],
         "gridcolor": "#E1E5ED",
         "showgrid": false,
         "tickfont": {
          "color": "#4D5663"
         },
         "title": {
          "font": {
           "color": "#4D5663"
          },
          "text": ""
         },
         "zerolinecolor": "#E1E5ED"
        },
        "yaxis12": {
         "anchor": "x12",
         "domain": [
          0.2675,
          0.465
         ],
         "gridcolor": "#E1E5ED",
         "showgrid": false,
         "tickfont": {
          "color": "#4D5663"
         },
         "title": {
          "font": {
           "color": "#4D5663"
          },
          "text": ""
         },
         "zerolinecolor": "#E1E5ED"
        },
        "yaxis13": {
         "anchor": "x13",
         "domain": [
          0,
          0.1975
         ],
         "gridcolor": "#E1E5ED",
         "showgrid": false,
         "tickfont": {
          "color": "#4D5663"
         },
         "title": {
          "font": {
           "color": "#4D5663"
          },
          "text": ""
         },
         "zerolinecolor": "#E1E5ED"
        },
        "yaxis14": {
         "anchor": "x14",
         "domain": [
          0,
          0.1975
         ],
         "gridcolor": "#E1E5ED",
         "showgrid": false,
         "tickfont": {
          "color": "#4D5663"
         },
         "title": {
          "font": {
           "color": "#4D5663"
          },
          "text": ""
         },
         "zerolinecolor": "#E1E5ED"
        },
        "yaxis15": {
         "anchor": "x15",
         "domain": [
          0,
          0.1975
         ],
         "gridcolor": "#E1E5ED",
         "showgrid": false,
         "tickfont": {
          "color": "#4D5663"
         },
         "title": {
          "font": {
           "color": "#4D5663"
          },
          "text": ""
         },
         "zerolinecolor": "#E1E5ED"
        },
        "yaxis16": {
         "anchor": "x16",
         "domain": [
          0,
          0.1975
         ],
         "gridcolor": "#E1E5ED",
         "showgrid": false,
         "tickfont": {
          "color": "#4D5663"
         },
         "title": {
          "font": {
           "color": "#4D5663"
          },
          "text": ""
         },
         "zerolinecolor": "#E1E5ED"
        },
        "yaxis2": {
         "anchor": "x2",
         "domain": [
          0.8025,
          1
         ],
         "gridcolor": "#E1E5ED",
         "showgrid": false,
         "tickfont": {
          "color": "#4D5663"
         },
         "title": {
          "font": {
           "color": "#4D5663"
          },
          "text": ""
         },
         "zerolinecolor": "#E1E5ED"
        },
        "yaxis3": {
         "anchor": "x3",
         "domain": [
          0.8025,
          1
         ],
         "gridcolor": "#E1E5ED",
         "showgrid": false,
         "tickfont": {
          "color": "#4D5663"
         },
         "title": {
          "font": {
           "color": "#4D5663"
          },
          "text": ""
         },
         "zerolinecolor": "#E1E5ED"
        },
        "yaxis4": {
         "anchor": "x4",
         "domain": [
          0.8025,
          1
         ],
         "gridcolor": "#E1E5ED",
         "showgrid": false,
         "tickfont": {
          "color": "#4D5663"
         },
         "title": {
          "font": {
           "color": "#4D5663"
          },
          "text": ""
         },
         "zerolinecolor": "#E1E5ED"
        },
        "yaxis5": {
         "anchor": "x5",
         "domain": [
          0.535,
          0.7325
         ],
         "gridcolor": "#E1E5ED",
         "showgrid": false,
         "tickfont": {
          "color": "#4D5663"
         },
         "title": {
          "font": {
           "color": "#4D5663"
          },
          "text": ""
         },
         "zerolinecolor": "#E1E5ED"
        },
        "yaxis6": {
         "anchor": "x6",
         "domain": [
          0.535,
          0.7325
         ],
         "gridcolor": "#E1E5ED",
         "showgrid": false,
         "tickfont": {
          "color": "#4D5663"
         },
         "title": {
          "font": {
           "color": "#4D5663"
          },
          "text": ""
         },
         "zerolinecolor": "#E1E5ED"
        },
        "yaxis7": {
         "anchor": "x7",
         "domain": [
          0.535,
          0.7325
         ],
         "gridcolor": "#E1E5ED",
         "showgrid": false,
         "tickfont": {
          "color": "#4D5663"
         },
         "title": {
          "font": {
           "color": "#4D5663"
          },
          "text": ""
         },
         "zerolinecolor": "#E1E5ED"
        },
        "yaxis8": {
         "anchor": "x8",
         "domain": [
          0.535,
          0.7325
         ],
         "gridcolor": "#E1E5ED",
         "showgrid": false,
         "tickfont": {
          "color": "#4D5663"
         },
         "title": {
          "font": {
           "color": "#4D5663"
          },
          "text": ""
         },
         "zerolinecolor": "#E1E5ED"
        },
        "yaxis9": {
         "anchor": "x9",
         "domain": [
          0.2675,
          0.465
         ],
         "gridcolor": "#E1E5ED",
         "showgrid": false,
         "tickfont": {
          "color": "#4D5663"
         },
         "title": {
          "font": {
           "color": "#4D5663"
          },
          "text": ""
         },
         "zerolinecolor": "#E1E5ED"
        }
       }
      },
      "text/html": [
       "<div>\n",
       "        \n",
       "        \n",
       "            <div id=\"4ce3e708-9185-4ea6-9961-4508d6f5290b\" class=\"plotly-graph-div\" style=\"height:525px; width:100%;\"></div>\n",
       "            <script type=\"text/javascript\">\n",
       "                require([\"plotly\"], function(Plotly) {\n",
       "                    window.PLOTLYENV=window.PLOTLYENV || {};\n",
       "                    window.PLOTLYENV.BASE_URL='https://plot.ly';\n",
       "                    \n",
       "                if (document.getElementById(\"4ce3e708-9185-4ea6-9961-4508d6f5290b\")) {\n",
       "                    Plotly.newPlot(\n",
       "                        '4ce3e708-9185-4ea6-9961-4508d6f5290b',\n",
       "                        [{\"histfunc\": \"count\", \"histnorm\": \"\", \"marker\": {\"color\": \"rgba(255, 153, 51, 1.0)\", \"line\": {\"color\": \"#4D5663\", \"width\": 1.3}}, \"name\": \"A\", \"nbinsx\": 10, \"opacity\": 0.8, \"orientation\": \"v\", \"type\": \"histogram\", \"x\": [-0.24200640252741798, -0.9352878538108119, 0.027388841991728325, -0.1819147191636028, 1.0220939910254634, -2.5043642881046715, -0.31178537143269014, -0.27461685256679524, 1.0543329194274218, 0.3914427901382899, -1.441136423378452, 1.915385670890251, 1.0612013772594604, -1.3257408567553322, 0.30134531166233225, 0.13394694504780527, 0.012414377790086016, -0.562666842819727, -2.1360295145840436, 0.35120093080140075, -1.064081139900174, 0.28589172652849776, -0.4836939196007413, -0.34394615357419, -0.00290307679785654, -1.14598078661371, 0.3534869579588663, -0.8319610105553975, -0.589016049936948, -1.2072376829173481, 0.2899195261165965, 2.4927642854600336, -0.026883405147536468, 1.0847247380259522, -0.4185054870473495, -1.7001290191162755, -0.6631138255023695, -1.3977215756251955, 0.4455411861792529, 0.30197911688308654, -0.2261709832051633, -0.1710396088940495, 1.4433380795926118, 0.530847712833768, 0.961866271646887, 1.2941998843821159, 1.0216519281617251, 1.6208258662004693, 0.5421996729638662, 0.13349040574255092, 0.011698411413139344, 0.3243929093413252, 0.326055891967591, -1.857943472441847, -0.30463758552150405, -0.8808632160511382, 0.5239216903007925, 0.9834386074104604, 1.4396406440418086, -0.257708302017176, 0.829152364017514, -0.3546228497011296, 0.5561073129790329, -0.12952762277766025, -0.8591907520878445, -0.11880680844042457, 0.16303119021191692, 1.5420497685582935, -0.952295004519987, 1.3149511788637551, 0.1793165206361868, 0.39153581454967, 0.40918112144156693, -0.1746866446198252, -0.27734651150838513, 0.6868843028329731, -0.530086144552545, 1.0225358547499583, 1.0811481712042423, 0.2860430974355543, -0.5235381746515275, -0.5030792474726582, 0.17829313427772936, 0.3689593426878984, 0.8974440778903857, -0.2957284041584042, -1.0028423302906537, -0.4381398352349791, 1.3607909151527158, -0.6508323686744798, -0.011964165734617253, 1.350700373666675, -1.3173489072094142, -0.1409314948821588, -0.22547794130900795, 1.3708181316671681, -1.829079525865196, -1.709605077000469, -2.0915084931810624, -1.0919845225225022], \"xaxis\": \"x\", \"yaxis\": \"y\"}, {\"line\": {\"color\": \"rgba(128, 128, 128, 1.0)\", \"dash\": \"solid\", \"shape\": \"linear\", \"width\": 1.3}, \"marker\": {\"size\": 2, \"symbol\": \"circle\"}, \"mode\": \"markers\", \"name\": \"A\", \"text\": \"\", \"type\": \"scatter\", \"x\": [0.5038966296896649, -0.6402432132700927, -0.046084521044311134, 2.2664478783920683, 0.9477353340492846, -0.614880202117463, -1.6423022200466404, -0.5506536135023554, 0.5784162871305017, 1.2635114897067978, -1.4963273936516859, -1.6115050059592841, -0.46441376428471964, -1.0227066828446538, 0.9350020037598924, 0.38227490517607154, 2.4302360193947536, -1.3161131598068214, -1.2982968542416018, -0.13265819926035488, -0.7038606550102939, -0.2209763016023666, 0.9345495975185338, 1.0095771347136155, -0.9434848398914922, -0.0652309643019826, 1.339454873313897, -1.041460847515743, -0.6544215716422075, -0.6086375499446177, 0.012736190202873435, -0.8033846548321574, -0.1523522799250349, -0.5912413700796505, -1.427089639295129, -0.2764544125199372, -0.4502946295633157, -0.3968453730357518, 0.0008621038702756964, -0.6860921613608862, 0.2148442500563389, -0.3965507564693599, -1.580565695259094, -0.6886015208288447, -0.19922535695751326, -1.300702016080167, 0.8242157825252651, -0.3012421823694876, 0.25194677497620255, -0.70194952275731, 0.4899170779278613, -1.1735718832175956, -0.09730938850281483, -0.3296320457351763, 0.6486586398947655, -1.4424157416670944, 0.05808274371576219, -0.23849797529827363, -0.08816774745216509, -0.21844032759229703, 0.232829730943407, -0.8574261372665845, -0.6448024783666553, 0.04393697665503743, -0.9570215870458508, 0.014303354983442854, -1.2418935875107275, 0.35919198953731796, -0.8741166986646901, 1.029193048664084, 0.6521119689469097, -0.9868637243393551, 0.01573171501393248, 0.4984004502783877, -0.6326102152728523, -1.126999452904778, 1.5111832744616316, -0.5362773785464199, -0.9171718630254313, -1.7903024971797645, 0.33929301647279025, 0.456425947566487, 0.42651392121564213, 0.3026441119122942, -0.3979126650758561, -1.3931863975895338, -0.7551173004643796, 1.432726180997327, 1.0706620899027854, 2.054268754109293, 0.20114830502964962, 0.4683070160993021, 0.6937735075316896, -0.7714541780919164, -2.2640923269889983, 1.1699990427947233, -0.688947311971546, -0.10920382633628391, 0.4329725303136423, 0.16414135807661928], \"xaxis\": \"x2\", \"y\": [-0.24200640252741798, -0.9352878538108119, 0.027388841991728325, -0.1819147191636028, 1.0220939910254634, -2.5043642881046715, -0.31178537143269014, -0.27461685256679524, 1.0543329194274218, 0.3914427901382899, -1.441136423378452, 1.915385670890251, 1.0612013772594604, -1.3257408567553322, 0.30134531166233225, 0.13394694504780527, 0.012414377790086016, -0.562666842819727, -2.1360295145840436, 0.35120093080140075, -1.064081139900174, 0.28589172652849776, -0.4836939196007413, -0.34394615357419, -0.00290307679785654, -1.14598078661371, 0.3534869579588663, -0.8319610105553975, -0.589016049936948, -1.2072376829173481, 0.2899195261165965, 2.4927642854600336, -0.026883405147536468, 1.0847247380259522, -0.4185054870473495, -1.7001290191162755, -0.6631138255023695, -1.3977215756251955, 0.4455411861792529, 0.30197911688308654, -0.2261709832051633, -0.1710396088940495, 1.4433380795926118, 0.530847712833768, 0.961866271646887, 1.2941998843821159, 1.0216519281617251, 1.6208258662004693, 0.5421996729638662, 0.13349040574255092, 0.011698411413139344, 0.3243929093413252, 0.326055891967591, -1.857943472441847, -0.30463758552150405, -0.8808632160511382, 0.5239216903007925, 0.9834386074104604, 1.4396406440418086, -0.257708302017176, 0.829152364017514, -0.3546228497011296, 0.5561073129790329, -0.12952762277766025, -0.8591907520878445, -0.11880680844042457, 0.16303119021191692, 1.5420497685582935, -0.952295004519987, 1.3149511788637551, 0.1793165206361868, 0.39153581454967, 0.40918112144156693, -0.1746866446198252, -0.27734651150838513, 0.6868843028329731, -0.530086144552545, 1.0225358547499583, 1.0811481712042423, 0.2860430974355543, -0.5235381746515275, -0.5030792474726582, 0.17829313427772936, 0.3689593426878984, 0.8974440778903857, -0.2957284041584042, -1.0028423302906537, -0.4381398352349791, 1.3607909151527158, -0.6508323686744798, -0.011964165734617253, 1.350700373666675, -1.3173489072094142, -0.1409314948821588, -0.22547794130900795, 1.3708181316671681, -1.829079525865196, -1.709605077000469, -2.0915084931810624, -1.0919845225225022], \"yaxis\": \"y2\"}, {\"line\": {\"color\": \"rgba(128, 128, 128, 1.0)\", \"dash\": \"solid\", \"shape\": \"linear\", \"width\": 1.3}, \"marker\": {\"size\": 2, \"symbol\": \"circle\"}, \"mode\": \"markers\", \"name\": \"A\", \"text\": \"\", \"type\": \"scatter\", \"x\": [-0.0815347408742451, -0.5077649874988244, -0.06783904671905902, 0.21062879208003074, 0.38573975804107985, -0.42360398570600855, 1.126717880451138, 0.4353040461859579, -0.16601683108397614, 0.20112069662041537, -0.9833596189946507, 0.08798596302378772, -0.7032347433409032, -1.5193404907008845, 0.6898031931166413, 1.7689481636828148, -0.2205547686471449, 0.706231048131834, 1.4043000547925377, -1.5902270637207583, -0.5143664446343622, -0.4626087338865982, -0.8067031776035528, 0.5723749949077205, -0.26923891560132895, 1.527390451046774, -0.23770574624676455, -0.6313622148516641, 0.24272218133055415, 0.8594737224447366, -0.10153987154467391, -1.717481040343149, 1.0147921385615757, 0.910054309875966, 0.28008821090081704, -1.73032732075467, -0.28032059857314184, 0.020122614351310953, -0.62375902583589, -0.3362728984526408, -0.08747833013708962, 1.7631604063434605, 0.8301295635882725, 0.08343587737131603, 0.5477498426940517, 0.40120705901539583, -1.014745792105112, -0.5004521513616882, 0.29818789930043105, -0.9809039936952862, 0.9612354079406753, 0.14841866854001332, -0.8464508896410459, -0.49167492702023696, 1.5381095565937783, -0.49089723014232334, 0.44786229405164624, -0.2549100305603017, 1.1309559744299842, -0.47578146796949433, 0.03741717705911311, 1.4675174286300103, -0.8045759523130023, -0.20080564559621938, -0.41159970632305587, -0.3213075604811162, -1.3809187836891244, 0.9843946553936557, -0.6641791667254091, -2.668145682918329, 1.5993922170193002, -0.2413458924577472, 0.8553292191891982, -0.14892263793418098, 0.7810111214371379, -1.7989069561723146, 0.9602172066003379, 0.2887724586354856, 1.578662781392761, 0.14463727492632686, 0.6570661994938628, -0.401899493996044, -1.9309247477980442, 0.9770918792089008, 0.4898447052731042, -0.03318207920985528, -0.07467510973904955, 0.6979736845657323, -1.9455591832381112, 1.0860275040330245, -0.1918506689970517, -0.6886176684385715, -0.20238791595904101, 0.8843775776516403, -0.08382639543647263, -0.20340165761830264, -1.4445858442180954, -0.4892485704502599, -0.4716963532959964, -0.7187058641996431], \"xaxis\": \"x3\", \"y\": [-0.24200640252741798, -0.9352878538108119, 0.027388841991728325, -0.1819147191636028, 1.0220939910254634, -2.5043642881046715, -0.31178537143269014, -0.27461685256679524, 1.0543329194274218, 0.3914427901382899, -1.441136423378452, 1.915385670890251, 1.0612013772594604, -1.3257408567553322, 0.30134531166233225, 0.13394694504780527, 0.012414377790086016, -0.562666842819727, -2.1360295145840436, 0.35120093080140075, -1.064081139900174, 0.28589172652849776, -0.4836939196007413, -0.34394615357419, -0.00290307679785654, -1.14598078661371, 0.3534869579588663, -0.8319610105553975, -0.589016049936948, -1.2072376829173481, 0.2899195261165965, 2.4927642854600336, -0.026883405147536468, 1.0847247380259522, -0.4185054870473495, -1.7001290191162755, -0.6631138255023695, -1.3977215756251955, 0.4455411861792529, 0.30197911688308654, -0.2261709832051633, -0.1710396088940495, 1.4433380795926118, 0.530847712833768, 0.961866271646887, 1.2941998843821159, 1.0216519281617251, 1.6208258662004693, 0.5421996729638662, 0.13349040574255092, 0.011698411413139344, 0.3243929093413252, 0.326055891967591, -1.857943472441847, -0.30463758552150405, -0.8808632160511382, 0.5239216903007925, 0.9834386074104604, 1.4396406440418086, -0.257708302017176, 0.829152364017514, -0.3546228497011296, 0.5561073129790329, -0.12952762277766025, -0.8591907520878445, -0.11880680844042457, 0.16303119021191692, 1.5420497685582935, -0.952295004519987, 1.3149511788637551, 0.1793165206361868, 0.39153581454967, 0.40918112144156693, -0.1746866446198252, -0.27734651150838513, 0.6868843028329731, -0.530086144552545, 1.0225358547499583, 1.0811481712042423, 0.2860430974355543, -0.5235381746515275, -0.5030792474726582, 0.17829313427772936, 0.3689593426878984, 0.8974440778903857, -0.2957284041584042, -1.0028423302906537, -0.4381398352349791, 1.3607909151527158, -0.6508323686744798, -0.011964165734617253, 1.350700373666675, -1.3173489072094142, -0.1409314948821588, -0.22547794130900795, 1.3708181316671681, -1.829079525865196, -1.709605077000469, -2.0915084931810624, -1.0919845225225022], \"yaxis\": \"y3\"}, {\"line\": {\"color\": \"rgba(128, 128, 128, 1.0)\", \"dash\": \"solid\", \"shape\": \"linear\", \"width\": 1.3}, \"marker\": {\"size\": 2, \"symbol\": \"circle\"}, \"mode\": \"markers\", \"name\": \"A\", \"text\": \"\", \"type\": \"scatter\", \"x\": [0.35011902790803934, -1.130866996845766, 1.405284017456432, -1.8383419387844024, 0.4765900950509363, -0.6713898667241399, -1.3185899430154078, 0.3378607451901761, 0.6812660236448889, -1.0583839844937002, 0.21565699200799157, -0.39395362864556077, 0.7864893063104716, -0.5109287460002682, 1.3849823826501693, 0.2656412310236148, -0.10532516018872078, 0.34287931269975025, -1.375585888315486, -0.21499363349708459, 1.3334888664607976, -0.4369653145103137, -1.1586555422237812, 1.4302164537345452, -0.36780045273821715, -0.3692686528252982, -1.197000247649865, 1.274993547734382, 0.035822369915254726, -2.134053502281586, -1.3980532184794499, 1.1928982293240424, -0.6633007278151068, 0.7918241967649958, 0.49424181834881475, -0.031805503187669164, -0.32943044867987525, 0.03790470052222459, -0.22342106187880453, 1.5366750148475983, -0.9496741075144404, 0.03228590529755793, 2.038895422480149, 0.8886414845324146, -0.41147293507101385, -0.9311556393251326, 0.5626543846304182, -0.19711756086049487, 0.4851560219361143, -0.6597978611602378, -1.4232224256695793, -0.2262457980031783, 0.9872238659614562, -1.1923726907339864, -1.500148492942461, -0.18599308207191292, -0.1654533592379869, -0.014656178952166133, 2.6095406717691456, -1.2786216710356257, 1.234638254186483, -0.4405921922176544, 0.5116843289964375, -0.31744975288468247, 0.3537073991650773, 0.7593184727176464, 0.9786571994511789, 0.42243434646639316, -0.3280179290024408, -1.0859001215259885, -1.0155426234437614, 0.18841236666978298, 2.206442621586147, 0.4722429074452371, 1.3410013389700695, 0.6197716938493748, -1.5845241954413414, -0.40970971262400313, 0.7823349966285804, -0.7379069442536994, 0.8806573278666577, -0.5127245160554915, -0.3179367685431994, 3.0908379636496686, -0.9543873202451807, 0.6764550592398433, -1.0324233628058, -1.1235452650742854, 0.8836913358267898, 1.22175671949375, 1.3468180419008624, 1.0956173241965554, -2.569890199980508, -0.5931116880279594, -1.096365880122233, 0.4415956326673109, 0.18730582073897895, -1.0319362002233652, 1.643651569409393, 1.4892770280017191], \"xaxis\": \"x4\", \"y\": [-0.24200640252741798, -0.9352878538108119, 0.027388841991728325, -0.1819147191636028, 1.0220939910254634, -2.5043642881046715, -0.31178537143269014, -0.27461685256679524, 1.0543329194274218, 0.3914427901382899, -1.441136423378452, 1.915385670890251, 1.0612013772594604, -1.3257408567553322, 0.30134531166233225, 0.13394694504780527, 0.012414377790086016, -0.562666842819727, -2.1360295145840436, 0.35120093080140075, -1.064081139900174, 0.28589172652849776, -0.4836939196007413, -0.34394615357419, -0.00290307679785654, -1.14598078661371, 0.3534869579588663, -0.8319610105553975, -0.589016049936948, -1.2072376829173481, 0.2899195261165965, 2.4927642854600336, -0.026883405147536468, 1.0847247380259522, -0.4185054870473495, -1.7001290191162755, -0.6631138255023695, -1.3977215756251955, 0.4455411861792529, 0.30197911688308654, -0.2261709832051633, -0.1710396088940495, 1.4433380795926118, 0.530847712833768, 0.961866271646887, 1.2941998843821159, 1.0216519281617251, 1.6208258662004693, 0.5421996729638662, 0.13349040574255092, 0.011698411413139344, 0.3243929093413252, 0.326055891967591, -1.857943472441847, -0.30463758552150405, -0.8808632160511382, 0.5239216903007925, 0.9834386074104604, 1.4396406440418086, -0.257708302017176, 0.829152364017514, -0.3546228497011296, 0.5561073129790329, -0.12952762277766025, -0.8591907520878445, -0.11880680844042457, 0.16303119021191692, 1.5420497685582935, -0.952295004519987, 1.3149511788637551, 0.1793165206361868, 0.39153581454967, 0.40918112144156693, -0.1746866446198252, -0.27734651150838513, 0.6868843028329731, -0.530086144552545, 1.0225358547499583, 1.0811481712042423, 0.2860430974355543, -0.5235381746515275, -0.5030792474726582, 0.17829313427772936, 0.3689593426878984, 0.8974440778903857, -0.2957284041584042, -1.0028423302906537, -0.4381398352349791, 1.3607909151527158, -0.6508323686744798, -0.011964165734617253, 1.350700373666675, -1.3173489072094142, -0.1409314948821588, -0.22547794130900795, 1.3708181316671681, -1.829079525865196, -1.709605077000469, -2.0915084931810624, -1.0919845225225022], \"yaxis\": \"y4\"}, {\"line\": {\"color\": \"rgba(128, 128, 128, 1.0)\", \"dash\": \"solid\", \"shape\": \"linear\", \"width\": 1.3}, \"marker\": {\"size\": 2, \"symbol\": \"circle\"}, \"mode\": \"markers\", \"name\": \"B\", \"text\": \"\", \"type\": \"scatter\", \"x\": [-0.24200640252741798, -0.9352878538108119, 0.027388841991728325, -0.1819147191636028, 1.0220939910254634, -2.5043642881046715, -0.31178537143269014, -0.27461685256679524, 1.0543329194274218, 0.3914427901382899, -1.441136423378452, 1.915385670890251, 1.0612013772594604, -1.3257408567553322, 0.30134531166233225, 0.13394694504780527, 0.012414377790086016, -0.562666842819727, -2.1360295145840436, 0.35120093080140075, -1.064081139900174, 0.28589172652849776, -0.4836939196007413, -0.34394615357419, -0.00290307679785654, -1.14598078661371, 0.3534869579588663, -0.8319610105553975, -0.589016049936948, -1.2072376829173481, 0.2899195261165965, 2.4927642854600336, -0.026883405147536468, 1.0847247380259522, -0.4185054870473495, -1.7001290191162755, -0.6631138255023695, -1.3977215756251955, 0.4455411861792529, 0.30197911688308654, -0.2261709832051633, -0.1710396088940495, 1.4433380795926118, 0.530847712833768, 0.961866271646887, 1.2941998843821159, 1.0216519281617251, 1.6208258662004693, 0.5421996729638662, 0.13349040574255092, 0.011698411413139344, 0.3243929093413252, 0.326055891967591, -1.857943472441847, -0.30463758552150405, -0.8808632160511382, 0.5239216903007925, 0.9834386074104604, 1.4396406440418086, -0.257708302017176, 0.829152364017514, -0.3546228497011296, 0.5561073129790329, -0.12952762277766025, -0.8591907520878445, -0.11880680844042457, 0.16303119021191692, 1.5420497685582935, -0.952295004519987, 1.3149511788637551, 0.1793165206361868, 0.39153581454967, 0.40918112144156693, -0.1746866446198252, -0.27734651150838513, 0.6868843028329731, -0.530086144552545, 1.0225358547499583, 1.0811481712042423, 0.2860430974355543, -0.5235381746515275, -0.5030792474726582, 0.17829313427772936, 0.3689593426878984, 0.8974440778903857, -0.2957284041584042, -1.0028423302906537, -0.4381398352349791, 1.3607909151527158, -0.6508323686744798, -0.011964165734617253, 1.350700373666675, -1.3173489072094142, -0.1409314948821588, -0.22547794130900795, 1.3708181316671681, -1.829079525865196, -1.709605077000469, -2.0915084931810624, -1.0919845225225022], \"xaxis\": \"x5\", \"y\": [0.5038966296896649, -0.6402432132700927, -0.046084521044311134, 2.2664478783920683, 0.9477353340492846, -0.614880202117463, -1.6423022200466404, -0.5506536135023554, 0.5784162871305017, 1.2635114897067978, -1.4963273936516859, -1.6115050059592841, -0.46441376428471964, -1.0227066828446538, 0.9350020037598924, 0.38227490517607154, 2.4302360193947536, -1.3161131598068214, -1.2982968542416018, -0.13265819926035488, -0.7038606550102939, -0.2209763016023666, 0.9345495975185338, 1.0095771347136155, -0.9434848398914922, -0.0652309643019826, 1.339454873313897, -1.041460847515743, -0.6544215716422075, -0.6086375499446177, 0.012736190202873435, -0.8033846548321574, -0.1523522799250349, -0.5912413700796505, -1.427089639295129, -0.2764544125199372, -0.4502946295633157, -0.3968453730357518, 0.0008621038702756964, -0.6860921613608862, 0.2148442500563389, -0.3965507564693599, -1.580565695259094, -0.6886015208288447, -0.19922535695751326, -1.300702016080167, 0.8242157825252651, -0.3012421823694876, 0.25194677497620255, -0.70194952275731, 0.4899170779278613, -1.1735718832175956, -0.09730938850281483, -0.3296320457351763, 0.6486586398947655, -1.4424157416670944, 0.05808274371576219, -0.23849797529827363, -0.08816774745216509, -0.21844032759229703, 0.232829730943407, -0.8574261372665845, -0.6448024783666553, 0.04393697665503743, -0.9570215870458508, 0.014303354983442854, -1.2418935875107275, 0.35919198953731796, -0.8741166986646901, 1.029193048664084, 0.6521119689469097, -0.9868637243393551, 0.01573171501393248, 0.4984004502783877, -0.6326102152728523, -1.126999452904778, 1.5111832744616316, -0.5362773785464199, -0.9171718630254313, -1.7903024971797645, 0.33929301647279025, 0.456425947566487, 0.42651392121564213, 0.3026441119122942, -0.3979126650758561, -1.3931863975895338, -0.7551173004643796, 1.432726180997327, 1.0706620899027854, 2.054268754109293, 0.20114830502964962, 0.4683070160993021, 0.6937735075316896, -0.7714541780919164, -2.2640923269889983, 1.1699990427947233, -0.688947311971546, -0.10920382633628391, 0.4329725303136423, 0.16414135807661928], \"yaxis\": \"y5\"}, {\"histfunc\": \"count\", \"histnorm\": \"\", \"marker\": {\"color\": \"rgba(55, 128, 191, 1.0)\", \"line\": {\"color\": \"#4D5663\", \"width\": 1.3}}, \"name\": \"B\", \"nbinsx\": 10, \"opacity\": 0.8, \"orientation\": \"v\", \"type\": \"histogram\", \"x\": [0.5038966296896649, -0.6402432132700927, -0.046084521044311134, 2.2664478783920683, 0.9477353340492846, -0.614880202117463, -1.6423022200466404, -0.5506536135023554, 0.5784162871305017, 1.2635114897067978, -1.4963273936516859, -1.6115050059592841, -0.46441376428471964, -1.0227066828446538, 0.9350020037598924, 0.38227490517607154, 2.4302360193947536, -1.3161131598068214, -1.2982968542416018, -0.13265819926035488, -0.7038606550102939, -0.2209763016023666, 0.9345495975185338, 1.0095771347136155, -0.9434848398914922, -0.0652309643019826, 1.339454873313897, -1.041460847515743, -0.6544215716422075, -0.6086375499446177, 0.012736190202873435, -0.8033846548321574, -0.1523522799250349, -0.5912413700796505, -1.427089639295129, -0.2764544125199372, -0.4502946295633157, -0.3968453730357518, 0.0008621038702756964, -0.6860921613608862, 0.2148442500563389, -0.3965507564693599, -1.580565695259094, -0.6886015208288447, -0.19922535695751326, -1.300702016080167, 0.8242157825252651, -0.3012421823694876, 0.25194677497620255, -0.70194952275731, 0.4899170779278613, -1.1735718832175956, -0.09730938850281483, -0.3296320457351763, 0.6486586398947655, -1.4424157416670944, 0.05808274371576219, -0.23849797529827363, -0.08816774745216509, -0.21844032759229703, 0.232829730943407, -0.8574261372665845, -0.6448024783666553, 0.04393697665503743, -0.9570215870458508, 0.014303354983442854, -1.2418935875107275, 0.35919198953731796, -0.8741166986646901, 1.029193048664084, 0.6521119689469097, -0.9868637243393551, 0.01573171501393248, 0.4984004502783877, -0.6326102152728523, -1.126999452904778, 1.5111832744616316, -0.5362773785464199, -0.9171718630254313, -1.7903024971797645, 0.33929301647279025, 0.456425947566487, 0.42651392121564213, 0.3026441119122942, -0.3979126650758561, -1.3931863975895338, -0.7551173004643796, 1.432726180997327, 1.0706620899027854, 2.054268754109293, 0.20114830502964962, 0.4683070160993021, 0.6937735075316896, -0.7714541780919164, -2.2640923269889983, 1.1699990427947233, -0.688947311971546, -0.10920382633628391, 0.4329725303136423, 0.16414135807661928], \"xaxis\": \"x6\", \"yaxis\": \"y6\"}, {\"line\": {\"color\": \"rgba(128, 128, 128, 1.0)\", \"dash\": \"solid\", \"shape\": \"linear\", \"width\": 1.3}, \"marker\": {\"size\": 2, \"symbol\": \"circle\"}, \"mode\": \"markers\", \"name\": \"B\", \"text\": \"\", \"type\": \"scatter\", \"x\": [-0.0815347408742451, -0.5077649874988244, -0.06783904671905902, 0.21062879208003074, 0.38573975804107985, -0.42360398570600855, 1.126717880451138, 0.4353040461859579, -0.16601683108397614, 0.20112069662041537, -0.9833596189946507, 0.08798596302378772, -0.7032347433409032, -1.5193404907008845, 0.6898031931166413, 1.7689481636828148, -0.2205547686471449, 0.706231048131834, 1.4043000547925377, -1.5902270637207583, -0.5143664446343622, -0.4626087338865982, -0.8067031776035528, 0.5723749949077205, -0.26923891560132895, 1.527390451046774, -0.23770574624676455, -0.6313622148516641, 0.24272218133055415, 0.8594737224447366, -0.10153987154467391, -1.717481040343149, 1.0147921385615757, 0.910054309875966, 0.28008821090081704, -1.73032732075467, -0.28032059857314184, 0.020122614351310953, -0.62375902583589, -0.3362728984526408, -0.08747833013708962, 1.7631604063434605, 0.8301295635882725, 0.08343587737131603, 0.5477498426940517, 0.40120705901539583, -1.014745792105112, -0.5004521513616882, 0.29818789930043105, -0.9809039936952862, 0.9612354079406753, 0.14841866854001332, -0.8464508896410459, -0.49167492702023696, 1.5381095565937783, -0.49089723014232334, 0.44786229405164624, -0.2549100305603017, 1.1309559744299842, -0.47578146796949433, 0.03741717705911311, 1.4675174286300103, -0.8045759523130023, -0.20080564559621938, -0.41159970632305587, -0.3213075604811162, -1.3809187836891244, 0.9843946553936557, -0.6641791667254091, -2.668145682918329, 1.5993922170193002, -0.2413458924577472, 0.8553292191891982, -0.14892263793418098, 0.7810111214371379, -1.7989069561723146, 0.9602172066003379, 0.2887724586354856, 1.578662781392761, 0.14463727492632686, 0.6570661994938628, -0.401899493996044, -1.9309247477980442, 0.9770918792089008, 0.4898447052731042, -0.03318207920985528, -0.07467510973904955, 0.6979736845657323, -1.9455591832381112, 1.0860275040330245, -0.1918506689970517, -0.6886176684385715, -0.20238791595904101, 0.8843775776516403, -0.08382639543647263, -0.20340165761830264, -1.4445858442180954, -0.4892485704502599, -0.4716963532959964, -0.7187058641996431], \"xaxis\": \"x7\", \"y\": [0.5038966296896649, -0.6402432132700927, -0.046084521044311134, 2.2664478783920683, 0.9477353340492846, -0.614880202117463, -1.6423022200466404, -0.5506536135023554, 0.5784162871305017, 1.2635114897067978, -1.4963273936516859, -1.6115050059592841, -0.46441376428471964, -1.0227066828446538, 0.9350020037598924, 0.38227490517607154, 2.4302360193947536, -1.3161131598068214, -1.2982968542416018, -0.13265819926035488, -0.7038606550102939, -0.2209763016023666, 0.9345495975185338, 1.0095771347136155, -0.9434848398914922, -0.0652309643019826, 1.339454873313897, -1.041460847515743, -0.6544215716422075, -0.6086375499446177, 0.012736190202873435, -0.8033846548321574, -0.1523522799250349, -0.5912413700796505, -1.427089639295129, -0.2764544125199372, -0.4502946295633157, -0.3968453730357518, 0.0008621038702756964, -0.6860921613608862, 0.2148442500563389, -0.3965507564693599, -1.580565695259094, -0.6886015208288447, -0.19922535695751326, -1.300702016080167, 0.8242157825252651, -0.3012421823694876, 0.25194677497620255, -0.70194952275731, 0.4899170779278613, -1.1735718832175956, -0.09730938850281483, -0.3296320457351763, 0.6486586398947655, -1.4424157416670944, 0.05808274371576219, -0.23849797529827363, -0.08816774745216509, -0.21844032759229703, 0.232829730943407, -0.8574261372665845, -0.6448024783666553, 0.04393697665503743, -0.9570215870458508, 0.014303354983442854, -1.2418935875107275, 0.35919198953731796, -0.8741166986646901, 1.029193048664084, 0.6521119689469097, -0.9868637243393551, 0.01573171501393248, 0.4984004502783877, -0.6326102152728523, -1.126999452904778, 1.5111832744616316, -0.5362773785464199, -0.9171718630254313, -1.7903024971797645, 0.33929301647279025, 0.456425947566487, 0.42651392121564213, 0.3026441119122942, -0.3979126650758561, -1.3931863975895338, -0.7551173004643796, 1.432726180997327, 1.0706620899027854, 2.054268754109293, 0.20114830502964962, 0.4683070160993021, 0.6937735075316896, -0.7714541780919164, -2.2640923269889983, 1.1699990427947233, -0.688947311971546, -0.10920382633628391, 0.4329725303136423, 0.16414135807661928], \"yaxis\": \"y7\"}, {\"line\": {\"color\": \"rgba(128, 128, 128, 1.0)\", \"dash\": \"solid\", \"shape\": \"linear\", \"width\": 1.3}, \"marker\": {\"size\": 2, \"symbol\": \"circle\"}, \"mode\": \"markers\", \"name\": \"B\", \"text\": \"\", \"type\": \"scatter\", \"x\": [0.35011902790803934, -1.130866996845766, 1.405284017456432, -1.8383419387844024, 0.4765900950509363, -0.6713898667241399, -1.3185899430154078, 0.3378607451901761, 0.6812660236448889, -1.0583839844937002, 0.21565699200799157, -0.39395362864556077, 0.7864893063104716, -0.5109287460002682, 1.3849823826501693, 0.2656412310236148, -0.10532516018872078, 0.34287931269975025, -1.375585888315486, -0.21499363349708459, 1.3334888664607976, -0.4369653145103137, -1.1586555422237812, 1.4302164537345452, -0.36780045273821715, -0.3692686528252982, -1.197000247649865, 1.274993547734382, 0.035822369915254726, -2.134053502281586, -1.3980532184794499, 1.1928982293240424, -0.6633007278151068, 0.7918241967649958, 0.49424181834881475, -0.031805503187669164, -0.32943044867987525, 0.03790470052222459, -0.22342106187880453, 1.5366750148475983, -0.9496741075144404, 0.03228590529755793, 2.038895422480149, 0.8886414845324146, -0.41147293507101385, -0.9311556393251326, 0.5626543846304182, -0.19711756086049487, 0.4851560219361143, -0.6597978611602378, -1.4232224256695793, -0.2262457980031783, 0.9872238659614562, -1.1923726907339864, -1.500148492942461, -0.18599308207191292, -0.1654533592379869, -0.014656178952166133, 2.6095406717691456, -1.2786216710356257, 1.234638254186483, -0.4405921922176544, 0.5116843289964375, -0.31744975288468247, 0.3537073991650773, 0.7593184727176464, 0.9786571994511789, 0.42243434646639316, -0.3280179290024408, -1.0859001215259885, -1.0155426234437614, 0.18841236666978298, 2.206442621586147, 0.4722429074452371, 1.3410013389700695, 0.6197716938493748, -1.5845241954413414, -0.40970971262400313, 0.7823349966285804, -0.7379069442536994, 0.8806573278666577, -0.5127245160554915, -0.3179367685431994, 3.0908379636496686, -0.9543873202451807, 0.6764550592398433, -1.0324233628058, -1.1235452650742854, 0.8836913358267898, 1.22175671949375, 1.3468180419008624, 1.0956173241965554, -2.569890199980508, -0.5931116880279594, -1.096365880122233, 0.4415956326673109, 0.18730582073897895, -1.0319362002233652, 1.643651569409393, 1.4892770280017191], \"xaxis\": \"x8\", \"y\": [0.5038966296896649, -0.6402432132700927, -0.046084521044311134, 2.2664478783920683, 0.9477353340492846, -0.614880202117463, -1.6423022200466404, -0.5506536135023554, 0.5784162871305017, 1.2635114897067978, -1.4963273936516859, -1.6115050059592841, -0.46441376428471964, -1.0227066828446538, 0.9350020037598924, 0.38227490517607154, 2.4302360193947536, -1.3161131598068214, -1.2982968542416018, -0.13265819926035488, -0.7038606550102939, -0.2209763016023666, 0.9345495975185338, 1.0095771347136155, -0.9434848398914922, -0.0652309643019826, 1.339454873313897, -1.041460847515743, -0.6544215716422075, -0.6086375499446177, 0.012736190202873435, -0.8033846548321574, -0.1523522799250349, -0.5912413700796505, -1.427089639295129, -0.2764544125199372, -0.4502946295633157, -0.3968453730357518, 0.0008621038702756964, -0.6860921613608862, 0.2148442500563389, -0.3965507564693599, -1.580565695259094, -0.6886015208288447, -0.19922535695751326, -1.300702016080167, 0.8242157825252651, -0.3012421823694876, 0.25194677497620255, -0.70194952275731, 0.4899170779278613, -1.1735718832175956, -0.09730938850281483, -0.3296320457351763, 0.6486586398947655, -1.4424157416670944, 0.05808274371576219, -0.23849797529827363, -0.08816774745216509, -0.21844032759229703, 0.232829730943407, -0.8574261372665845, -0.6448024783666553, 0.04393697665503743, -0.9570215870458508, 0.014303354983442854, -1.2418935875107275, 0.35919198953731796, -0.8741166986646901, 1.029193048664084, 0.6521119689469097, -0.9868637243393551, 0.01573171501393248, 0.4984004502783877, -0.6326102152728523, -1.126999452904778, 1.5111832744616316, -0.5362773785464199, -0.9171718630254313, -1.7903024971797645, 0.33929301647279025, 0.456425947566487, 0.42651392121564213, 0.3026441119122942, -0.3979126650758561, -1.3931863975895338, -0.7551173004643796, 1.432726180997327, 1.0706620899027854, 2.054268754109293, 0.20114830502964962, 0.4683070160993021, 0.6937735075316896, -0.7714541780919164, -2.2640923269889983, 1.1699990427947233, -0.688947311971546, -0.10920382633628391, 0.4329725303136423, 0.16414135807661928], \"yaxis\": \"y8\"}, {\"line\": {\"color\": \"rgba(128, 128, 128, 1.0)\", \"dash\": \"solid\", \"shape\": \"linear\", \"width\": 1.3}, \"marker\": {\"size\": 2, \"symbol\": \"circle\"}, \"mode\": \"markers\", \"name\": \"C\", \"text\": \"\", \"type\": \"scatter\", \"x\": [-0.24200640252741798, -0.9352878538108119, 0.027388841991728325, -0.1819147191636028, 1.0220939910254634, -2.5043642881046715, -0.31178537143269014, -0.27461685256679524, 1.0543329194274218, 0.3914427901382899, -1.441136423378452, 1.915385670890251, 1.0612013772594604, -1.3257408567553322, 0.30134531166233225, 0.13394694504780527, 0.012414377790086016, -0.562666842819727, -2.1360295145840436, 0.35120093080140075, -1.064081139900174, 0.28589172652849776, -0.4836939196007413, -0.34394615357419, -0.00290307679785654, -1.14598078661371, 0.3534869579588663, -0.8319610105553975, -0.589016049936948, -1.2072376829173481, 0.2899195261165965, 2.4927642854600336, -0.026883405147536468, 1.0847247380259522, -0.4185054870473495, -1.7001290191162755, -0.6631138255023695, -1.3977215756251955, 0.4455411861792529, 0.30197911688308654, -0.2261709832051633, -0.1710396088940495, 1.4433380795926118, 0.530847712833768, 0.961866271646887, 1.2941998843821159, 1.0216519281617251, 1.6208258662004693, 0.5421996729638662, 0.13349040574255092, 0.011698411413139344, 0.3243929093413252, 0.326055891967591, -1.857943472441847, -0.30463758552150405, -0.8808632160511382, 0.5239216903007925, 0.9834386074104604, 1.4396406440418086, -0.257708302017176, 0.829152364017514, -0.3546228497011296, 0.5561073129790329, -0.12952762277766025, -0.8591907520878445, -0.11880680844042457, 0.16303119021191692, 1.5420497685582935, -0.952295004519987, 1.3149511788637551, 0.1793165206361868, 0.39153581454967, 0.40918112144156693, -0.1746866446198252, -0.27734651150838513, 0.6868843028329731, -0.530086144552545, 1.0225358547499583, 1.0811481712042423, 0.2860430974355543, -0.5235381746515275, -0.5030792474726582, 0.17829313427772936, 0.3689593426878984, 0.8974440778903857, -0.2957284041584042, -1.0028423302906537, -0.4381398352349791, 1.3607909151527158, -0.6508323686744798, -0.011964165734617253, 1.350700373666675, -1.3173489072094142, -0.1409314948821588, -0.22547794130900795, 1.3708181316671681, -1.829079525865196, -1.709605077000469, -2.0915084931810624, -1.0919845225225022], \"xaxis\": \"x9\", \"y\": [-0.0815347408742451, -0.5077649874988244, -0.06783904671905902, 0.21062879208003074, 0.38573975804107985, -0.42360398570600855, 1.126717880451138, 0.4353040461859579, -0.16601683108397614, 0.20112069662041537, -0.9833596189946507, 0.08798596302378772, -0.7032347433409032, -1.5193404907008845, 0.6898031931166413, 1.7689481636828148, -0.2205547686471449, 0.706231048131834, 1.4043000547925377, -1.5902270637207583, -0.5143664446343622, -0.4626087338865982, -0.8067031776035528, 0.5723749949077205, -0.26923891560132895, 1.527390451046774, -0.23770574624676455, -0.6313622148516641, 0.24272218133055415, 0.8594737224447366, -0.10153987154467391, -1.717481040343149, 1.0147921385615757, 0.910054309875966, 0.28008821090081704, -1.73032732075467, -0.28032059857314184, 0.020122614351310953, -0.62375902583589, -0.3362728984526408, -0.08747833013708962, 1.7631604063434605, 0.8301295635882725, 0.08343587737131603, 0.5477498426940517, 0.40120705901539583, -1.014745792105112, -0.5004521513616882, 0.29818789930043105, -0.9809039936952862, 0.9612354079406753, 0.14841866854001332, -0.8464508896410459, -0.49167492702023696, 1.5381095565937783, -0.49089723014232334, 0.44786229405164624, -0.2549100305603017, 1.1309559744299842, -0.47578146796949433, 0.03741717705911311, 1.4675174286300103, -0.8045759523130023, -0.20080564559621938, -0.41159970632305587, -0.3213075604811162, -1.3809187836891244, 0.9843946553936557, -0.6641791667254091, -2.668145682918329, 1.5993922170193002, -0.2413458924577472, 0.8553292191891982, -0.14892263793418098, 0.7810111214371379, -1.7989069561723146, 0.9602172066003379, 0.2887724586354856, 1.578662781392761, 0.14463727492632686, 0.6570661994938628, -0.401899493996044, -1.9309247477980442, 0.9770918792089008, 0.4898447052731042, -0.03318207920985528, -0.07467510973904955, 0.6979736845657323, -1.9455591832381112, 1.0860275040330245, -0.1918506689970517, -0.6886176684385715, -0.20238791595904101, 0.8843775776516403, -0.08382639543647263, -0.20340165761830264, -1.4445858442180954, -0.4892485704502599, -0.4716963532959964, -0.7187058641996431], \"yaxis\": \"y9\"}, {\"line\": {\"color\": \"rgba(128, 128, 128, 1.0)\", \"dash\": \"solid\", \"shape\": \"linear\", \"width\": 1.3}, \"marker\": {\"size\": 2, \"symbol\": \"circle\"}, \"mode\": \"markers\", \"name\": \"C\", \"text\": \"\", \"type\": \"scatter\", \"x\": [0.5038966296896649, -0.6402432132700927, -0.046084521044311134, 2.2664478783920683, 0.9477353340492846, -0.614880202117463, -1.6423022200466404, -0.5506536135023554, 0.5784162871305017, 1.2635114897067978, -1.4963273936516859, -1.6115050059592841, -0.46441376428471964, -1.0227066828446538, 0.9350020037598924, 0.38227490517607154, 2.4302360193947536, -1.3161131598068214, -1.2982968542416018, -0.13265819926035488, -0.7038606550102939, -0.2209763016023666, 0.9345495975185338, 1.0095771347136155, -0.9434848398914922, -0.0652309643019826, 1.339454873313897, -1.041460847515743, -0.6544215716422075, -0.6086375499446177, 0.012736190202873435, -0.8033846548321574, -0.1523522799250349, -0.5912413700796505, -1.427089639295129, -0.2764544125199372, -0.4502946295633157, -0.3968453730357518, 0.0008621038702756964, -0.6860921613608862, 0.2148442500563389, -0.3965507564693599, -1.580565695259094, -0.6886015208288447, -0.19922535695751326, -1.300702016080167, 0.8242157825252651, -0.3012421823694876, 0.25194677497620255, -0.70194952275731, 0.4899170779278613, -1.1735718832175956, -0.09730938850281483, -0.3296320457351763, 0.6486586398947655, -1.4424157416670944, 0.05808274371576219, -0.23849797529827363, -0.08816774745216509, -0.21844032759229703, 0.232829730943407, -0.8574261372665845, -0.6448024783666553, 0.04393697665503743, -0.9570215870458508, 0.014303354983442854, -1.2418935875107275, 0.35919198953731796, -0.8741166986646901, 1.029193048664084, 0.6521119689469097, -0.9868637243393551, 0.01573171501393248, 0.4984004502783877, -0.6326102152728523, -1.126999452904778, 1.5111832744616316, -0.5362773785464199, -0.9171718630254313, -1.7903024971797645, 0.33929301647279025, 0.456425947566487, 0.42651392121564213, 0.3026441119122942, -0.3979126650758561, -1.3931863975895338, -0.7551173004643796, 1.432726180997327, 1.0706620899027854, 2.054268754109293, 0.20114830502964962, 0.4683070160993021, 0.6937735075316896, -0.7714541780919164, -2.2640923269889983, 1.1699990427947233, -0.688947311971546, -0.10920382633628391, 0.4329725303136423, 0.16414135807661928], \"xaxis\": \"x10\", \"y\": [-0.0815347408742451, -0.5077649874988244, -0.06783904671905902, 0.21062879208003074, 0.38573975804107985, -0.42360398570600855, 1.126717880451138, 0.4353040461859579, -0.16601683108397614, 0.20112069662041537, -0.9833596189946507, 0.08798596302378772, -0.7032347433409032, -1.5193404907008845, 0.6898031931166413, 1.7689481636828148, -0.2205547686471449, 0.706231048131834, 1.4043000547925377, -1.5902270637207583, -0.5143664446343622, -0.4626087338865982, -0.8067031776035528, 0.5723749949077205, -0.26923891560132895, 1.527390451046774, -0.23770574624676455, -0.6313622148516641, 0.24272218133055415, 0.8594737224447366, -0.10153987154467391, -1.717481040343149, 1.0147921385615757, 0.910054309875966, 0.28008821090081704, -1.73032732075467, -0.28032059857314184, 0.020122614351310953, -0.62375902583589, -0.3362728984526408, -0.08747833013708962, 1.7631604063434605, 0.8301295635882725, 0.08343587737131603, 0.5477498426940517, 0.40120705901539583, -1.014745792105112, -0.5004521513616882, 0.29818789930043105, -0.9809039936952862, 0.9612354079406753, 0.14841866854001332, -0.8464508896410459, -0.49167492702023696, 1.5381095565937783, -0.49089723014232334, 0.44786229405164624, -0.2549100305603017, 1.1309559744299842, -0.47578146796949433, 0.03741717705911311, 1.4675174286300103, -0.8045759523130023, -0.20080564559621938, -0.41159970632305587, -0.3213075604811162, -1.3809187836891244, 0.9843946553936557, -0.6641791667254091, -2.668145682918329, 1.5993922170193002, -0.2413458924577472, 0.8553292191891982, -0.14892263793418098, 0.7810111214371379, -1.7989069561723146, 0.9602172066003379, 0.2887724586354856, 1.578662781392761, 0.14463727492632686, 0.6570661994938628, -0.401899493996044, -1.9309247477980442, 0.9770918792089008, 0.4898447052731042, -0.03318207920985528, -0.07467510973904955, 0.6979736845657323, -1.9455591832381112, 1.0860275040330245, -0.1918506689970517, -0.6886176684385715, -0.20238791595904101, 0.8843775776516403, -0.08382639543647263, -0.20340165761830264, -1.4445858442180954, -0.4892485704502599, -0.4716963532959964, -0.7187058641996431], \"yaxis\": \"y10\"}, {\"histfunc\": \"count\", \"histnorm\": \"\", \"marker\": {\"color\": \"rgba(50, 171, 96, 1.0)\", \"line\": {\"color\": \"#4D5663\", \"width\": 1.3}}, \"name\": \"C\", \"nbinsx\": 10, \"opacity\": 0.8, \"orientation\": \"v\", \"type\": \"histogram\", \"x\": [-0.0815347408742451, -0.5077649874988244, -0.06783904671905902, 0.21062879208003074, 0.38573975804107985, -0.42360398570600855, 1.126717880451138, 0.4353040461859579, -0.16601683108397614, 0.20112069662041537, -0.9833596189946507, 0.08798596302378772, -0.7032347433409032, -1.5193404907008845, 0.6898031931166413, 1.7689481636828148, -0.2205547686471449, 0.706231048131834, 1.4043000547925377, -1.5902270637207583, -0.5143664446343622, -0.4626087338865982, -0.8067031776035528, 0.5723749949077205, -0.26923891560132895, 1.527390451046774, -0.23770574624676455, -0.6313622148516641, 0.24272218133055415, 0.8594737224447366, -0.10153987154467391, -1.717481040343149, 1.0147921385615757, 0.910054309875966, 0.28008821090081704, -1.73032732075467, -0.28032059857314184, 0.020122614351310953, -0.62375902583589, -0.3362728984526408, -0.08747833013708962, 1.7631604063434605, 0.8301295635882725, 0.08343587737131603, 0.5477498426940517, 0.40120705901539583, -1.014745792105112, -0.5004521513616882, 0.29818789930043105, -0.9809039936952862, 0.9612354079406753, 0.14841866854001332, -0.8464508896410459, -0.49167492702023696, 1.5381095565937783, -0.49089723014232334, 0.44786229405164624, -0.2549100305603017, 1.1309559744299842, -0.47578146796949433, 0.03741717705911311, 1.4675174286300103, -0.8045759523130023, -0.20080564559621938, -0.41159970632305587, -0.3213075604811162, -1.3809187836891244, 0.9843946553936557, -0.6641791667254091, -2.668145682918329, 1.5993922170193002, -0.2413458924577472, 0.8553292191891982, -0.14892263793418098, 0.7810111214371379, -1.7989069561723146, 0.9602172066003379, 0.2887724586354856, 1.578662781392761, 0.14463727492632686, 0.6570661994938628, -0.401899493996044, -1.9309247477980442, 0.9770918792089008, 0.4898447052731042, -0.03318207920985528, -0.07467510973904955, 0.6979736845657323, -1.9455591832381112, 1.0860275040330245, -0.1918506689970517, -0.6886176684385715, -0.20238791595904101, 0.8843775776516403, -0.08382639543647263, -0.20340165761830264, -1.4445858442180954, -0.4892485704502599, -0.4716963532959964, -0.7187058641996431], \"xaxis\": \"x11\", \"yaxis\": \"y11\"}, {\"line\": {\"color\": \"rgba(128, 128, 128, 1.0)\", \"dash\": \"solid\", \"shape\": \"linear\", \"width\": 1.3}, \"marker\": {\"size\": 2, \"symbol\": \"circle\"}, \"mode\": \"markers\", \"name\": \"C\", \"text\": \"\", \"type\": \"scatter\", \"x\": [0.35011902790803934, -1.130866996845766, 1.405284017456432, -1.8383419387844024, 0.4765900950509363, -0.6713898667241399, -1.3185899430154078, 0.3378607451901761, 0.6812660236448889, -1.0583839844937002, 0.21565699200799157, -0.39395362864556077, 0.7864893063104716, -0.5109287460002682, 1.3849823826501693, 0.2656412310236148, -0.10532516018872078, 0.34287931269975025, -1.375585888315486, -0.21499363349708459, 1.3334888664607976, -0.4369653145103137, -1.1586555422237812, 1.4302164537345452, -0.36780045273821715, -0.3692686528252982, -1.197000247649865, 1.274993547734382, 0.035822369915254726, -2.134053502281586, -1.3980532184794499, 1.1928982293240424, -0.6633007278151068, 0.7918241967649958, 0.49424181834881475, -0.031805503187669164, -0.32943044867987525, 0.03790470052222459, -0.22342106187880453, 1.5366750148475983, -0.9496741075144404, 0.03228590529755793, 2.038895422480149, 0.8886414845324146, -0.41147293507101385, -0.9311556393251326, 0.5626543846304182, -0.19711756086049487, 0.4851560219361143, -0.6597978611602378, -1.4232224256695793, -0.2262457980031783, 0.9872238659614562, -1.1923726907339864, -1.500148492942461, -0.18599308207191292, -0.1654533592379869, -0.014656178952166133, 2.6095406717691456, -1.2786216710356257, 1.234638254186483, -0.4405921922176544, 0.5116843289964375, -0.31744975288468247, 0.3537073991650773, 0.7593184727176464, 0.9786571994511789, 0.42243434646639316, -0.3280179290024408, -1.0859001215259885, -1.0155426234437614, 0.18841236666978298, 2.206442621586147, 0.4722429074452371, 1.3410013389700695, 0.6197716938493748, -1.5845241954413414, -0.40970971262400313, 0.7823349966285804, -0.7379069442536994, 0.8806573278666577, -0.5127245160554915, -0.3179367685431994, 3.0908379636496686, -0.9543873202451807, 0.6764550592398433, -1.0324233628058, -1.1235452650742854, 0.8836913358267898, 1.22175671949375, 1.3468180419008624, 1.0956173241965554, -2.569890199980508, -0.5931116880279594, -1.096365880122233, 0.4415956326673109, 0.18730582073897895, -1.0319362002233652, 1.643651569409393, 1.4892770280017191], \"xaxis\": \"x12\", \"y\": [-0.0815347408742451, -0.5077649874988244, -0.06783904671905902, 0.21062879208003074, 0.38573975804107985, -0.42360398570600855, 1.126717880451138, 0.4353040461859579, -0.16601683108397614, 0.20112069662041537, -0.9833596189946507, 0.08798596302378772, -0.7032347433409032, -1.5193404907008845, 0.6898031931166413, 1.7689481636828148, -0.2205547686471449, 0.706231048131834, 1.4043000547925377, -1.5902270637207583, -0.5143664446343622, -0.4626087338865982, -0.8067031776035528, 0.5723749949077205, -0.26923891560132895, 1.527390451046774, -0.23770574624676455, -0.6313622148516641, 0.24272218133055415, 0.8594737224447366, -0.10153987154467391, -1.717481040343149, 1.0147921385615757, 0.910054309875966, 0.28008821090081704, -1.73032732075467, -0.28032059857314184, 0.020122614351310953, -0.62375902583589, -0.3362728984526408, -0.08747833013708962, 1.7631604063434605, 0.8301295635882725, 0.08343587737131603, 0.5477498426940517, 0.40120705901539583, -1.014745792105112, -0.5004521513616882, 0.29818789930043105, -0.9809039936952862, 0.9612354079406753, 0.14841866854001332, -0.8464508896410459, -0.49167492702023696, 1.5381095565937783, -0.49089723014232334, 0.44786229405164624, -0.2549100305603017, 1.1309559744299842, -0.47578146796949433, 0.03741717705911311, 1.4675174286300103, -0.8045759523130023, -0.20080564559621938, -0.41159970632305587, -0.3213075604811162, -1.3809187836891244, 0.9843946553936557, -0.6641791667254091, -2.668145682918329, 1.5993922170193002, -0.2413458924577472, 0.8553292191891982, -0.14892263793418098, 0.7810111214371379, -1.7989069561723146, 0.9602172066003379, 0.2887724586354856, 1.578662781392761, 0.14463727492632686, 0.6570661994938628, -0.401899493996044, -1.9309247477980442, 0.9770918792089008, 0.4898447052731042, -0.03318207920985528, -0.07467510973904955, 0.6979736845657323, -1.9455591832381112, 1.0860275040330245, -0.1918506689970517, -0.6886176684385715, -0.20238791595904101, 0.8843775776516403, -0.08382639543647263, -0.20340165761830264, -1.4445858442180954, -0.4892485704502599, -0.4716963532959964, -0.7187058641996431], \"yaxis\": \"y12\"}, {\"line\": {\"color\": \"rgba(128, 128, 128, 1.0)\", \"dash\": \"solid\", \"shape\": \"linear\", \"width\": 1.3}, \"marker\": {\"size\": 2, \"symbol\": \"circle\"}, \"mode\": \"markers\", \"name\": \"D\", \"text\": \"\", \"type\": \"scatter\", \"x\": [-0.24200640252741798, -0.9352878538108119, 0.027388841991728325, -0.1819147191636028, 1.0220939910254634, -2.5043642881046715, -0.31178537143269014, -0.27461685256679524, 1.0543329194274218, 0.3914427901382899, -1.441136423378452, 1.915385670890251, 1.0612013772594604, -1.3257408567553322, 0.30134531166233225, 0.13394694504780527, 0.012414377790086016, -0.562666842819727, -2.1360295145840436, 0.35120093080140075, -1.064081139900174, 0.28589172652849776, -0.4836939196007413, -0.34394615357419, -0.00290307679785654, -1.14598078661371, 0.3534869579588663, -0.8319610105553975, -0.589016049936948, -1.2072376829173481, 0.2899195261165965, 2.4927642854600336, -0.026883405147536468, 1.0847247380259522, -0.4185054870473495, -1.7001290191162755, -0.6631138255023695, -1.3977215756251955, 0.4455411861792529, 0.30197911688308654, -0.2261709832051633, -0.1710396088940495, 1.4433380795926118, 0.530847712833768, 0.961866271646887, 1.2941998843821159, 1.0216519281617251, 1.6208258662004693, 0.5421996729638662, 0.13349040574255092, 0.011698411413139344, 0.3243929093413252, 0.326055891967591, -1.857943472441847, -0.30463758552150405, -0.8808632160511382, 0.5239216903007925, 0.9834386074104604, 1.4396406440418086, -0.257708302017176, 0.829152364017514, -0.3546228497011296, 0.5561073129790329, -0.12952762277766025, -0.8591907520878445, -0.11880680844042457, 0.16303119021191692, 1.5420497685582935, -0.952295004519987, 1.3149511788637551, 0.1793165206361868, 0.39153581454967, 0.40918112144156693, -0.1746866446198252, -0.27734651150838513, 0.6868843028329731, -0.530086144552545, 1.0225358547499583, 1.0811481712042423, 0.2860430974355543, -0.5235381746515275, -0.5030792474726582, 0.17829313427772936, 0.3689593426878984, 0.8974440778903857, -0.2957284041584042, -1.0028423302906537, -0.4381398352349791, 1.3607909151527158, -0.6508323686744798, -0.011964165734617253, 1.350700373666675, -1.3173489072094142, -0.1409314948821588, -0.22547794130900795, 1.3708181316671681, -1.829079525865196, -1.709605077000469, -2.0915084931810624, -1.0919845225225022], \"xaxis\": \"x13\", \"y\": [0.35011902790803934, -1.130866996845766, 1.405284017456432, -1.8383419387844024, 0.4765900950509363, -0.6713898667241399, -1.3185899430154078, 0.3378607451901761, 0.6812660236448889, -1.0583839844937002, 0.21565699200799157, -0.39395362864556077, 0.7864893063104716, -0.5109287460002682, 1.3849823826501693, 0.2656412310236148, -0.10532516018872078, 0.34287931269975025, -1.375585888315486, -0.21499363349708459, 1.3334888664607976, -0.4369653145103137, -1.1586555422237812, 1.4302164537345452, -0.36780045273821715, -0.3692686528252982, -1.197000247649865, 1.274993547734382, 0.035822369915254726, -2.134053502281586, -1.3980532184794499, 1.1928982293240424, -0.6633007278151068, 0.7918241967649958, 0.49424181834881475, -0.031805503187669164, -0.32943044867987525, 0.03790470052222459, -0.22342106187880453, 1.5366750148475983, -0.9496741075144404, 0.03228590529755793, 2.038895422480149, 0.8886414845324146, -0.41147293507101385, -0.9311556393251326, 0.5626543846304182, -0.19711756086049487, 0.4851560219361143, -0.6597978611602378, -1.4232224256695793, -0.2262457980031783, 0.9872238659614562, -1.1923726907339864, -1.500148492942461, -0.18599308207191292, -0.1654533592379869, -0.014656178952166133, 2.6095406717691456, -1.2786216710356257, 1.234638254186483, -0.4405921922176544, 0.5116843289964375, -0.31744975288468247, 0.3537073991650773, 0.7593184727176464, 0.9786571994511789, 0.42243434646639316, -0.3280179290024408, -1.0859001215259885, -1.0155426234437614, 0.18841236666978298, 2.206442621586147, 0.4722429074452371, 1.3410013389700695, 0.6197716938493748, -1.5845241954413414, -0.40970971262400313, 0.7823349966285804, -0.7379069442536994, 0.8806573278666577, -0.5127245160554915, -0.3179367685431994, 3.0908379636496686, -0.9543873202451807, 0.6764550592398433, -1.0324233628058, -1.1235452650742854, 0.8836913358267898, 1.22175671949375, 1.3468180419008624, 1.0956173241965554, -2.569890199980508, -0.5931116880279594, -1.096365880122233, 0.4415956326673109, 0.18730582073897895, -1.0319362002233652, 1.643651569409393, 1.4892770280017191], \"yaxis\": \"y13\"}, {\"line\": {\"color\": \"rgba(128, 128, 128, 1.0)\", \"dash\": \"solid\", \"shape\": \"linear\", \"width\": 1.3}, \"marker\": {\"size\": 2, \"symbol\": \"circle\"}, \"mode\": \"markers\", \"name\": \"D\", \"text\": \"\", \"type\": \"scatter\", \"x\": [0.5038966296896649, -0.6402432132700927, -0.046084521044311134, 2.2664478783920683, 0.9477353340492846, -0.614880202117463, -1.6423022200466404, -0.5506536135023554, 0.5784162871305017, 1.2635114897067978, -1.4963273936516859, -1.6115050059592841, -0.46441376428471964, -1.0227066828446538, 0.9350020037598924, 0.38227490517607154, 2.4302360193947536, -1.3161131598068214, -1.2982968542416018, -0.13265819926035488, -0.7038606550102939, -0.2209763016023666, 0.9345495975185338, 1.0095771347136155, -0.9434848398914922, -0.0652309643019826, 1.339454873313897, -1.041460847515743, -0.6544215716422075, -0.6086375499446177, 0.012736190202873435, -0.8033846548321574, -0.1523522799250349, -0.5912413700796505, -1.427089639295129, -0.2764544125199372, -0.4502946295633157, -0.3968453730357518, 0.0008621038702756964, -0.6860921613608862, 0.2148442500563389, -0.3965507564693599, -1.580565695259094, -0.6886015208288447, -0.19922535695751326, -1.300702016080167, 0.8242157825252651, -0.3012421823694876, 0.25194677497620255, -0.70194952275731, 0.4899170779278613, -1.1735718832175956, -0.09730938850281483, -0.3296320457351763, 0.6486586398947655, -1.4424157416670944, 0.05808274371576219, -0.23849797529827363, -0.08816774745216509, -0.21844032759229703, 0.232829730943407, -0.8574261372665845, -0.6448024783666553, 0.04393697665503743, -0.9570215870458508, 0.014303354983442854, -1.2418935875107275, 0.35919198953731796, -0.8741166986646901, 1.029193048664084, 0.6521119689469097, -0.9868637243393551, 0.01573171501393248, 0.4984004502783877, -0.6326102152728523, -1.126999452904778, 1.5111832744616316, -0.5362773785464199, -0.9171718630254313, -1.7903024971797645, 0.33929301647279025, 0.456425947566487, 0.42651392121564213, 0.3026441119122942, -0.3979126650758561, -1.3931863975895338, -0.7551173004643796, 1.432726180997327, 1.0706620899027854, 2.054268754109293, 0.20114830502964962, 0.4683070160993021, 0.6937735075316896, -0.7714541780919164, -2.2640923269889983, 1.1699990427947233, -0.688947311971546, -0.10920382633628391, 0.4329725303136423, 0.16414135807661928], \"xaxis\": \"x14\", \"y\": [0.35011902790803934, -1.130866996845766, 1.405284017456432, -1.8383419387844024, 0.4765900950509363, -0.6713898667241399, -1.3185899430154078, 0.3378607451901761, 0.6812660236448889, -1.0583839844937002, 0.21565699200799157, -0.39395362864556077, 0.7864893063104716, -0.5109287460002682, 1.3849823826501693, 0.2656412310236148, -0.10532516018872078, 0.34287931269975025, -1.375585888315486, -0.21499363349708459, 1.3334888664607976, -0.4369653145103137, -1.1586555422237812, 1.4302164537345452, -0.36780045273821715, -0.3692686528252982, -1.197000247649865, 1.274993547734382, 0.035822369915254726, -2.134053502281586, -1.3980532184794499, 1.1928982293240424, -0.6633007278151068, 0.7918241967649958, 0.49424181834881475, -0.031805503187669164, -0.32943044867987525, 0.03790470052222459, -0.22342106187880453, 1.5366750148475983, -0.9496741075144404, 0.03228590529755793, 2.038895422480149, 0.8886414845324146, -0.41147293507101385, -0.9311556393251326, 0.5626543846304182, -0.19711756086049487, 0.4851560219361143, -0.6597978611602378, -1.4232224256695793, -0.2262457980031783, 0.9872238659614562, -1.1923726907339864, -1.500148492942461, -0.18599308207191292, -0.1654533592379869, -0.014656178952166133, 2.6095406717691456, -1.2786216710356257, 1.234638254186483, -0.4405921922176544, 0.5116843289964375, -0.31744975288468247, 0.3537073991650773, 0.7593184727176464, 0.9786571994511789, 0.42243434646639316, -0.3280179290024408, -1.0859001215259885, -1.0155426234437614, 0.18841236666978298, 2.206442621586147, 0.4722429074452371, 1.3410013389700695, 0.6197716938493748, -1.5845241954413414, -0.40970971262400313, 0.7823349966285804, -0.7379069442536994, 0.8806573278666577, -0.5127245160554915, -0.3179367685431994, 3.0908379636496686, -0.9543873202451807, 0.6764550592398433, -1.0324233628058, -1.1235452650742854, 0.8836913358267898, 1.22175671949375, 1.3468180419008624, 1.0956173241965554, -2.569890199980508, -0.5931116880279594, -1.096365880122233, 0.4415956326673109, 0.18730582073897895, -1.0319362002233652, 1.643651569409393, 1.4892770280017191], \"yaxis\": \"y14\"}, {\"line\": {\"color\": \"rgba(128, 128, 128, 1.0)\", \"dash\": \"solid\", \"shape\": \"linear\", \"width\": 1.3}, \"marker\": {\"size\": 2, \"symbol\": \"circle\"}, \"mode\": \"markers\", \"name\": \"D\", \"text\": \"\", \"type\": \"scatter\", \"x\": [-0.0815347408742451, -0.5077649874988244, -0.06783904671905902, 0.21062879208003074, 0.38573975804107985, -0.42360398570600855, 1.126717880451138, 0.4353040461859579, -0.16601683108397614, 0.20112069662041537, -0.9833596189946507, 0.08798596302378772, -0.7032347433409032, -1.5193404907008845, 0.6898031931166413, 1.7689481636828148, -0.2205547686471449, 0.706231048131834, 1.4043000547925377, -1.5902270637207583, -0.5143664446343622, -0.4626087338865982, -0.8067031776035528, 0.5723749949077205, -0.26923891560132895, 1.527390451046774, -0.23770574624676455, -0.6313622148516641, 0.24272218133055415, 0.8594737224447366, -0.10153987154467391, -1.717481040343149, 1.0147921385615757, 0.910054309875966, 0.28008821090081704, -1.73032732075467, -0.28032059857314184, 0.020122614351310953, -0.62375902583589, -0.3362728984526408, -0.08747833013708962, 1.7631604063434605, 0.8301295635882725, 0.08343587737131603, 0.5477498426940517, 0.40120705901539583, -1.014745792105112, -0.5004521513616882, 0.29818789930043105, -0.9809039936952862, 0.9612354079406753, 0.14841866854001332, -0.8464508896410459, -0.49167492702023696, 1.5381095565937783, -0.49089723014232334, 0.44786229405164624, -0.2549100305603017, 1.1309559744299842, -0.47578146796949433, 0.03741717705911311, 1.4675174286300103, -0.8045759523130023, -0.20080564559621938, -0.41159970632305587, -0.3213075604811162, -1.3809187836891244, 0.9843946553936557, -0.6641791667254091, -2.668145682918329, 1.5993922170193002, -0.2413458924577472, 0.8553292191891982, -0.14892263793418098, 0.7810111214371379, -1.7989069561723146, 0.9602172066003379, 0.2887724586354856, 1.578662781392761, 0.14463727492632686, 0.6570661994938628, -0.401899493996044, -1.9309247477980442, 0.9770918792089008, 0.4898447052731042, -0.03318207920985528, -0.07467510973904955, 0.6979736845657323, -1.9455591832381112, 1.0860275040330245, -0.1918506689970517, -0.6886176684385715, -0.20238791595904101, 0.8843775776516403, -0.08382639543647263, -0.20340165761830264, -1.4445858442180954, -0.4892485704502599, -0.4716963532959964, -0.7187058641996431], \"xaxis\": \"x15\", \"y\": [0.35011902790803934, -1.130866996845766, 1.405284017456432, -1.8383419387844024, 0.4765900950509363, -0.6713898667241399, -1.3185899430154078, 0.3378607451901761, 0.6812660236448889, -1.0583839844937002, 0.21565699200799157, -0.39395362864556077, 0.7864893063104716, -0.5109287460002682, 1.3849823826501693, 0.2656412310236148, -0.10532516018872078, 0.34287931269975025, -1.375585888315486, -0.21499363349708459, 1.3334888664607976, -0.4369653145103137, -1.1586555422237812, 1.4302164537345452, -0.36780045273821715, -0.3692686528252982, -1.197000247649865, 1.274993547734382, 0.035822369915254726, -2.134053502281586, -1.3980532184794499, 1.1928982293240424, -0.6633007278151068, 0.7918241967649958, 0.49424181834881475, -0.031805503187669164, -0.32943044867987525, 0.03790470052222459, -0.22342106187880453, 1.5366750148475983, -0.9496741075144404, 0.03228590529755793, 2.038895422480149, 0.8886414845324146, -0.41147293507101385, -0.9311556393251326, 0.5626543846304182, -0.19711756086049487, 0.4851560219361143, -0.6597978611602378, -1.4232224256695793, -0.2262457980031783, 0.9872238659614562, -1.1923726907339864, -1.500148492942461, -0.18599308207191292, -0.1654533592379869, -0.014656178952166133, 2.6095406717691456, -1.2786216710356257, 1.234638254186483, -0.4405921922176544, 0.5116843289964375, -0.31744975288468247, 0.3537073991650773, 0.7593184727176464, 0.9786571994511789, 0.42243434646639316, -0.3280179290024408, -1.0859001215259885, -1.0155426234437614, 0.18841236666978298, 2.206442621586147, 0.4722429074452371, 1.3410013389700695, 0.6197716938493748, -1.5845241954413414, -0.40970971262400313, 0.7823349966285804, -0.7379069442536994, 0.8806573278666577, -0.5127245160554915, -0.3179367685431994, 3.0908379636496686, -0.9543873202451807, 0.6764550592398433, -1.0324233628058, -1.1235452650742854, 0.8836913358267898, 1.22175671949375, 1.3468180419008624, 1.0956173241965554, -2.569890199980508, -0.5931116880279594, -1.096365880122233, 0.4415956326673109, 0.18730582073897895, -1.0319362002233652, 1.643651569409393, 1.4892770280017191], \"yaxis\": \"y15\"}, {\"histfunc\": \"count\", \"histnorm\": \"\", \"marker\": {\"color\": \"rgba(128, 0, 128, 1.0)\", \"line\": {\"color\": \"#4D5663\", \"width\": 1.3}}, \"name\": \"D\", \"nbinsx\": 10, \"opacity\": 0.8, \"orientation\": \"v\", \"type\": \"histogram\", \"x\": [0.35011902790803934, -1.130866996845766, 1.405284017456432, -1.8383419387844024, 0.4765900950509363, -0.6713898667241399, -1.3185899430154078, 0.3378607451901761, 0.6812660236448889, -1.0583839844937002, 0.21565699200799157, -0.39395362864556077, 0.7864893063104716, -0.5109287460002682, 1.3849823826501693, 0.2656412310236148, -0.10532516018872078, 0.34287931269975025, -1.375585888315486, -0.21499363349708459, 1.3334888664607976, -0.4369653145103137, -1.1586555422237812, 1.4302164537345452, -0.36780045273821715, -0.3692686528252982, -1.197000247649865, 1.274993547734382, 0.035822369915254726, -2.134053502281586, -1.3980532184794499, 1.1928982293240424, -0.6633007278151068, 0.7918241967649958, 0.49424181834881475, -0.031805503187669164, -0.32943044867987525, 0.03790470052222459, -0.22342106187880453, 1.5366750148475983, -0.9496741075144404, 0.03228590529755793, 2.038895422480149, 0.8886414845324146, -0.41147293507101385, -0.9311556393251326, 0.5626543846304182, -0.19711756086049487, 0.4851560219361143, -0.6597978611602378, -1.4232224256695793, -0.2262457980031783, 0.9872238659614562, -1.1923726907339864, -1.500148492942461, -0.18599308207191292, -0.1654533592379869, -0.014656178952166133, 2.6095406717691456, -1.2786216710356257, 1.234638254186483, -0.4405921922176544, 0.5116843289964375, -0.31744975288468247, 0.3537073991650773, 0.7593184727176464, 0.9786571994511789, 0.42243434646639316, -0.3280179290024408, -1.0859001215259885, -1.0155426234437614, 0.18841236666978298, 2.206442621586147, 0.4722429074452371, 1.3410013389700695, 0.6197716938493748, -1.5845241954413414, -0.40970971262400313, 0.7823349966285804, -0.7379069442536994, 0.8806573278666577, -0.5127245160554915, -0.3179367685431994, 3.0908379636496686, -0.9543873202451807, 0.6764550592398433, -1.0324233628058, -1.1235452650742854, 0.8836913358267898, 1.22175671949375, 1.3468180419008624, 1.0956173241965554, -2.569890199980508, -0.5931116880279594, -1.096365880122233, 0.4415956326673109, 0.18730582073897895, -1.0319362002233652, 1.643651569409393, 1.4892770280017191], \"xaxis\": \"x16\", \"yaxis\": \"y16\"}],\n",
       "                        {\"bargap\": 0.02, \"legend\": {\"bgcolor\": \"#F5F6F9\", \"font\": {\"color\": \"#4D5663\"}}, \"paper_bgcolor\": \"#F5F6F9\", \"plot_bgcolor\": \"#F5F6F9\", \"showlegend\": false, \"template\": {\"data\": {\"bar\": [{\"error_x\": {\"color\": \"#2a3f5f\"}, \"error_y\": {\"color\": \"#2a3f5f\"}, \"marker\": {\"line\": {\"color\": \"#E5ECF6\", \"width\": 0.5}}, \"type\": \"bar\"}], \"barpolar\": [{\"marker\": {\"line\": {\"color\": \"#E5ECF6\", \"width\": 0.5}}, \"type\": \"barpolar\"}], \"carpet\": [{\"aaxis\": {\"endlinecolor\": \"#2a3f5f\", \"gridcolor\": \"white\", \"linecolor\": \"white\", \"minorgridcolor\": \"white\", \"startlinecolor\": \"#2a3f5f\"}, \"baxis\": {\"endlinecolor\": \"#2a3f5f\", \"gridcolor\": \"white\", \"linecolor\": \"white\", \"minorgridcolor\": \"white\", \"startlinecolor\": \"#2a3f5f\"}, \"type\": \"carpet\"}], \"choropleth\": [{\"colorbar\": {\"outlinewidth\": 0, \"ticks\": \"\"}, \"type\": \"choropleth\"}], \"contour\": [{\"colorbar\": {\"outlinewidth\": 0, \"ticks\": \"\"}, \"colorscale\": [[0.0, \"#0d0887\"], [0.1111111111111111, \"#46039f\"], [0.2222222222222222, \"#7201a8\"], [0.3333333333333333, \"#9c179e\"], [0.4444444444444444, \"#bd3786\"], [0.5555555555555556, \"#d8576b\"], [0.6666666666666666, \"#ed7953\"], [0.7777777777777778, \"#fb9f3a\"], [0.8888888888888888, \"#fdca26\"], [1.0, \"#f0f921\"]], \"type\": \"contour\"}], \"contourcarpet\": [{\"colorbar\": {\"outlinewidth\": 0, \"ticks\": \"\"}, \"type\": \"contourcarpet\"}], \"heatmap\": [{\"colorbar\": {\"outlinewidth\": 0, \"ticks\": \"\"}, \"colorscale\": [[0.0, \"#0d0887\"], [0.1111111111111111, \"#46039f\"], [0.2222222222222222, \"#7201a8\"], [0.3333333333333333, \"#9c179e\"], [0.4444444444444444, \"#bd3786\"], [0.5555555555555556, \"#d8576b\"], [0.6666666666666666, \"#ed7953\"], [0.7777777777777778, \"#fb9f3a\"], [0.8888888888888888, \"#fdca26\"], [1.0, \"#f0f921\"]], \"type\": \"heatmap\"}], \"heatmapgl\": [{\"colorbar\": {\"outlinewidth\": 0, \"ticks\": \"\"}, \"colorscale\": [[0.0, \"#0d0887\"], [0.1111111111111111, \"#46039f\"], [0.2222222222222222, \"#7201a8\"], [0.3333333333333333, \"#9c179e\"], [0.4444444444444444, \"#bd3786\"], [0.5555555555555556, \"#d8576b\"], [0.6666666666666666, \"#ed7953\"], [0.7777777777777778, \"#fb9f3a\"], [0.8888888888888888, \"#fdca26\"], [1.0, \"#f0f921\"]], \"type\": \"heatmapgl\"}], \"histogram\": [{\"marker\": {\"colorbar\": {\"outlinewidth\": 0, \"ticks\": \"\"}}, \"type\": \"histogram\"}], \"histogram2d\": [{\"colorbar\": {\"outlinewidth\": 0, \"ticks\": \"\"}, \"colorscale\": [[0.0, \"#0d0887\"], [0.1111111111111111, \"#46039f\"], [0.2222222222222222, \"#7201a8\"], [0.3333333333333333, \"#9c179e\"], [0.4444444444444444, \"#bd3786\"], [0.5555555555555556, \"#d8576b\"], [0.6666666666666666, \"#ed7953\"], [0.7777777777777778, \"#fb9f3a\"], [0.8888888888888888, \"#fdca26\"], [1.0, \"#f0f921\"]], \"type\": \"histogram2d\"}], \"histogram2dcontour\": [{\"colorbar\": {\"outlinewidth\": 0, \"ticks\": \"\"}, \"colorscale\": [[0.0, \"#0d0887\"], [0.1111111111111111, \"#46039f\"], [0.2222222222222222, \"#7201a8\"], [0.3333333333333333, \"#9c179e\"], [0.4444444444444444, \"#bd3786\"], [0.5555555555555556, \"#d8576b\"], [0.6666666666666666, \"#ed7953\"], [0.7777777777777778, \"#fb9f3a\"], [0.8888888888888888, \"#fdca26\"], [1.0, \"#f0f921\"]], \"type\": \"histogram2dcontour\"}], \"mesh3d\": [{\"colorbar\": {\"outlinewidth\": 0, \"ticks\": \"\"}, \"type\": \"mesh3d\"}], \"parcoords\": [{\"line\": {\"colorbar\": {\"outlinewidth\": 0, \"ticks\": \"\"}}, \"type\": \"parcoords\"}], \"pie\": [{\"automargin\": true, \"type\": \"pie\"}], \"scatter\": [{\"marker\": {\"colorbar\": {\"outlinewidth\": 0, \"ticks\": \"\"}}, \"type\": \"scatter\"}], \"scatter3d\": [{\"line\": {\"colorbar\": {\"outlinewidth\": 0, \"ticks\": \"\"}}, \"marker\": {\"colorbar\": {\"outlinewidth\": 0, \"ticks\": \"\"}}, \"type\": \"scatter3d\"}], \"scattercarpet\": [{\"marker\": {\"colorbar\": {\"outlinewidth\": 0, \"ticks\": \"\"}}, \"type\": \"scattercarpet\"}], \"scattergeo\": [{\"marker\": {\"colorbar\": {\"outlinewidth\": 0, \"ticks\": \"\"}}, \"type\": \"scattergeo\"}], \"scattergl\": [{\"marker\": {\"colorbar\": {\"outlinewidth\": 0, \"ticks\": \"\"}}, \"type\": \"scattergl\"}], \"scattermapbox\": [{\"marker\": {\"colorbar\": {\"outlinewidth\": 0, \"ticks\": \"\"}}, \"type\": \"scattermapbox\"}], \"scatterpolar\": [{\"marker\": {\"colorbar\": {\"outlinewidth\": 0, \"ticks\": \"\"}}, \"type\": \"scatterpolar\"}], \"scatterpolargl\": [{\"marker\": {\"colorbar\": {\"outlinewidth\": 0, \"ticks\": \"\"}}, \"type\": \"scatterpolargl\"}], \"scatterternary\": [{\"marker\": {\"colorbar\": {\"outlinewidth\": 0, \"ticks\": \"\"}}, \"type\": \"scatterternary\"}], \"surface\": [{\"colorbar\": {\"outlinewidth\": 0, \"ticks\": \"\"}, \"colorscale\": [[0.0, \"#0d0887\"], [0.1111111111111111, \"#46039f\"], [0.2222222222222222, \"#7201a8\"], [0.3333333333333333, \"#9c179e\"], [0.4444444444444444, \"#bd3786\"], [0.5555555555555556, \"#d8576b\"], [0.6666666666666666, \"#ed7953\"], [0.7777777777777778, \"#fb9f3a\"], [0.8888888888888888, \"#fdca26\"], [1.0, \"#f0f921\"]], \"type\": \"surface\"}], \"table\": [{\"cells\": {\"fill\": {\"color\": \"#EBF0F8\"}, \"line\": {\"color\": \"white\"}}, \"header\": {\"fill\": {\"color\": \"#C8D4E3\"}, \"line\": {\"color\": \"white\"}}, \"type\": \"table\"}]}, \"layout\": {\"annotationdefaults\": {\"arrowcolor\": \"#2a3f5f\", \"arrowhead\": 0, \"arrowwidth\": 1}, \"coloraxis\": {\"colorbar\": {\"outlinewidth\": 0, \"ticks\": \"\"}}, \"colorscale\": {\"diverging\": [[0, \"#8e0152\"], [0.1, \"#c51b7d\"], [0.2, \"#de77ae\"], [0.3, \"#f1b6da\"], [0.4, \"#fde0ef\"], [0.5, \"#f7f7f7\"], [0.6, \"#e6f5d0\"], [0.7, \"#b8e186\"], [0.8, \"#7fbc41\"], [0.9, \"#4d9221\"], [1, \"#276419\"]], \"sequential\": [[0.0, \"#0d0887\"], [0.1111111111111111, \"#46039f\"], [0.2222222222222222, \"#7201a8\"], [0.3333333333333333, \"#9c179e\"], [0.4444444444444444, \"#bd3786\"], [0.5555555555555556, \"#d8576b\"], [0.6666666666666666, \"#ed7953\"], [0.7777777777777778, \"#fb9f3a\"], [0.8888888888888888, \"#fdca26\"], [1.0, \"#f0f921\"]], \"sequentialminus\": [[0.0, \"#0d0887\"], [0.1111111111111111, \"#46039f\"], [0.2222222222222222, \"#7201a8\"], [0.3333333333333333, \"#9c179e\"], [0.4444444444444444, \"#bd3786\"], [0.5555555555555556, \"#d8576b\"], [0.6666666666666666, \"#ed7953\"], [0.7777777777777778, \"#fb9f3a\"], [0.8888888888888888, \"#fdca26\"], [1.0, \"#f0f921\"]]}, \"colorway\": [\"#636efa\", \"#EF553B\", \"#00cc96\", \"#ab63fa\", \"#FFA15A\", \"#19d3f3\", \"#FF6692\", \"#B6E880\", \"#FF97FF\", \"#FECB52\"], \"font\": {\"color\": \"#2a3f5f\"}, \"geo\": {\"bgcolor\": \"white\", \"lakecolor\": \"white\", \"landcolor\": \"#E5ECF6\", \"showlakes\": true, \"showland\": true, \"subunitcolor\": \"white\"}, \"hoverlabel\": {\"align\": \"left\"}, \"hovermode\": \"closest\", \"mapbox\": {\"style\": \"light\"}, \"paper_bgcolor\": \"white\", \"plot_bgcolor\": \"#E5ECF6\", \"polar\": {\"angularaxis\": {\"gridcolor\": \"white\", \"linecolor\": \"white\", \"ticks\": \"\"}, \"bgcolor\": \"#E5ECF6\", \"radialaxis\": {\"gridcolor\": \"white\", \"linecolor\": \"white\", \"ticks\": \"\"}}, \"scene\": {\"xaxis\": {\"backgroundcolor\": \"#E5ECF6\", \"gridcolor\": \"white\", \"gridwidth\": 2, \"linecolor\": \"white\", \"showbackground\": true, \"ticks\": \"\", \"zerolinecolor\": \"white\"}, \"yaxis\": {\"backgroundcolor\": \"#E5ECF6\", \"gridcolor\": \"white\", \"gridwidth\": 2, \"linecolor\": \"white\", \"showbackground\": true, \"ticks\": \"\", \"zerolinecolor\": \"white\"}, \"zaxis\": {\"backgroundcolor\": \"#E5ECF6\", \"gridcolor\": \"white\", \"gridwidth\": 2, \"linecolor\": \"white\", \"showbackground\": true, \"ticks\": \"\", \"zerolinecolor\": \"white\"}}, \"shapedefaults\": {\"line\": {\"color\": \"#2a3f5f\"}}, \"ternary\": {\"aaxis\": {\"gridcolor\": \"white\", \"linecolor\": \"white\", \"ticks\": \"\"}, \"baxis\": {\"gridcolor\": \"white\", \"linecolor\": \"white\", \"ticks\": \"\"}, \"bgcolor\": \"#E5ECF6\", \"caxis\": {\"gridcolor\": \"white\", \"linecolor\": \"white\", \"ticks\": \"\"}}, \"title\": {\"x\": 0.05}, \"xaxis\": {\"automargin\": true, \"gridcolor\": \"white\", \"linecolor\": \"white\", \"ticks\": \"\", \"title\": {\"standoff\": 15}, \"zerolinecolor\": \"white\", \"zerolinewidth\": 2}, \"yaxis\": {\"automargin\": true, \"gridcolor\": \"white\", \"linecolor\": \"white\", \"ticks\": \"\", \"title\": {\"standoff\": 15}, \"zerolinecolor\": \"white\", \"zerolinewidth\": 2}}}, \"title\": {\"font\": {\"color\": \"#4D5663\"}}, \"xaxis\": {\"anchor\": \"y\", \"domain\": [0.0, 0.2125], \"gridcolor\": \"#E1E5ED\", \"showgrid\": false, \"tickfont\": {\"color\": \"#4D5663\"}, \"title\": {\"font\": {\"color\": \"#4D5663\"}, \"text\": \"\"}, \"zerolinecolor\": \"#E1E5ED\"}, \"xaxis10\": {\"anchor\": \"y10\", \"domain\": [0.2625, 0.475], \"gridcolor\": \"#E1E5ED\", \"showgrid\": false, \"tickfont\": {\"color\": \"#4D5663\"}, \"title\": {\"font\": {\"color\": \"#4D5663\"}, \"text\": \"\"}, \"zerolinecolor\": \"#E1E5ED\"}, \"xaxis11\": {\"anchor\": \"y11\", \"domain\": [0.525, 0.7375], \"gridcolor\": \"#E1E5ED\", \"showgrid\": false, \"tickfont\": {\"color\": \"#4D5663\"}, \"title\": {\"font\": {\"color\": \"#4D5663\"}, \"text\": \"\"}, \"zerolinecolor\": \"#E1E5ED\"}, \"xaxis12\": {\"anchor\": \"y12\", \"domain\": [0.7875, 1.0], \"gridcolor\": \"#E1E5ED\", \"showgrid\": false, \"tickfont\": {\"color\": \"#4D5663\"}, \"title\": {\"font\": {\"color\": \"#4D5663\"}, \"text\": \"\"}, \"zerolinecolor\": \"#E1E5ED\"}, \"xaxis13\": {\"anchor\": \"y13\", \"domain\": [0.0, 0.2125], \"gridcolor\": \"#E1E5ED\", \"showgrid\": false, \"tickfont\": {\"color\": \"#4D5663\"}, \"title\": {\"font\": {\"color\": \"#4D5663\"}, \"text\": \"\"}, \"zerolinecolor\": \"#E1E5ED\"}, \"xaxis14\": {\"anchor\": \"y14\", \"domain\": [0.2625, 0.475], \"gridcolor\": \"#E1E5ED\", \"showgrid\": false, \"tickfont\": {\"color\": \"#4D5663\"}, \"title\": {\"font\": {\"color\": \"#4D5663\"}, \"text\": \"\"}, \"zerolinecolor\": \"#E1E5ED\"}, \"xaxis15\": {\"anchor\": \"y15\", \"domain\": [0.525, 0.7375], \"gridcolor\": \"#E1E5ED\", \"showgrid\": false, \"tickfont\": {\"color\": \"#4D5663\"}, \"title\": {\"font\": {\"color\": \"#4D5663\"}, \"text\": \"\"}, \"zerolinecolor\": \"#E1E5ED\"}, \"xaxis16\": {\"anchor\": \"y16\", \"domain\": [0.7875, 1.0], \"gridcolor\": \"#E1E5ED\", \"showgrid\": false, \"tickfont\": {\"color\": \"#4D5663\"}, \"title\": {\"font\": {\"color\": \"#4D5663\"}, \"text\": \"\"}, \"zerolinecolor\": \"#E1E5ED\"}, \"xaxis2\": {\"anchor\": \"y2\", \"domain\": [0.2625, 0.475], \"gridcolor\": \"#E1E5ED\", \"showgrid\": false, \"tickfont\": {\"color\": \"#4D5663\"}, \"title\": {\"font\": {\"color\": \"#4D5663\"}, \"text\": \"\"}, \"zerolinecolor\": \"#E1E5ED\"}, \"xaxis3\": {\"anchor\": \"y3\", \"domain\": [0.525, 0.7375], \"gridcolor\": \"#E1E5ED\", \"showgrid\": false, \"tickfont\": {\"color\": \"#4D5663\"}, \"title\": {\"font\": {\"color\": \"#4D5663\"}, \"text\": \"\"}, \"zerolinecolor\": \"#E1E5ED\"}, \"xaxis4\": {\"anchor\": \"y4\", \"domain\": [0.7875, 1.0], \"gridcolor\": \"#E1E5ED\", \"showgrid\": false, \"tickfont\": {\"color\": \"#4D5663\"}, \"title\": {\"font\": {\"color\": \"#4D5663\"}, \"text\": \"\"}, \"zerolinecolor\": \"#E1E5ED\"}, \"xaxis5\": {\"anchor\": \"y5\", \"domain\": [0.0, 0.2125], \"gridcolor\": \"#E1E5ED\", \"showgrid\": false, \"tickfont\": {\"color\": \"#4D5663\"}, \"title\": {\"font\": {\"color\": \"#4D5663\"}, \"text\": \"\"}, \"zerolinecolor\": \"#E1E5ED\"}, \"xaxis6\": {\"anchor\": \"y6\", \"domain\": [0.2625, 0.475], \"gridcolor\": \"#E1E5ED\", \"showgrid\": false, \"tickfont\": {\"color\": \"#4D5663\"}, \"title\": {\"font\": {\"color\": \"#4D5663\"}, \"text\": \"\"}, \"zerolinecolor\": \"#E1E5ED\"}, \"xaxis7\": {\"anchor\": \"y7\", \"domain\": [0.525, 0.7375], \"gridcolor\": \"#E1E5ED\", \"showgrid\": false, \"tickfont\": {\"color\": \"#4D5663\"}, \"title\": {\"font\": {\"color\": \"#4D5663\"}, \"text\": \"\"}, \"zerolinecolor\": \"#E1E5ED\"}, \"xaxis8\": {\"anchor\": \"y8\", \"domain\": [0.7875, 1.0], \"gridcolor\": \"#E1E5ED\", \"showgrid\": false, \"tickfont\": {\"color\": \"#4D5663\"}, \"title\": {\"font\": {\"color\": \"#4D5663\"}, \"text\": \"\"}, \"zerolinecolor\": \"#E1E5ED\"}, \"xaxis9\": {\"anchor\": \"y9\", \"domain\": [0.0, 0.2125], \"gridcolor\": \"#E1E5ED\", \"showgrid\": false, \"tickfont\": {\"color\": \"#4D5663\"}, \"title\": {\"font\": {\"color\": \"#4D5663\"}, \"text\": \"\"}, \"zerolinecolor\": \"#E1E5ED\"}, \"yaxis\": {\"anchor\": \"x\", \"domain\": [0.8025, 1.0], \"gridcolor\": \"#E1E5ED\", \"showgrid\": false, \"tickfont\": {\"color\": \"#4D5663\"}, \"title\": {\"font\": {\"color\": \"#4D5663\"}, \"text\": \"\"}, \"zerolinecolor\": \"#E1E5ED\"}, \"yaxis10\": {\"anchor\": \"x10\", \"domain\": [0.2675, 0.465], \"gridcolor\": \"#E1E5ED\", \"showgrid\": false, \"tickfont\": {\"color\": \"#4D5663\"}, \"title\": {\"font\": {\"color\": \"#4D5663\"}, \"text\": \"\"}, \"zerolinecolor\": \"#E1E5ED\"}, \"yaxis11\": {\"anchor\": \"x11\", \"domain\": [0.2675, 0.465], \"gridcolor\": \"#E1E5ED\", \"showgrid\": false, \"tickfont\": {\"color\": \"#4D5663\"}, \"title\": {\"font\": {\"color\": \"#4D5663\"}, \"text\": \"\"}, \"zerolinecolor\": \"#E1E5ED\"}, \"yaxis12\": {\"anchor\": \"x12\", \"domain\": [0.2675, 0.465], \"gridcolor\": \"#E1E5ED\", \"showgrid\": false, \"tickfont\": {\"color\": \"#4D5663\"}, \"title\": {\"font\": {\"color\": \"#4D5663\"}, \"text\": \"\"}, \"zerolinecolor\": \"#E1E5ED\"}, \"yaxis13\": {\"anchor\": \"x13\", \"domain\": [0.0, 0.1975], \"gridcolor\": \"#E1E5ED\", \"showgrid\": false, \"tickfont\": {\"color\": \"#4D5663\"}, \"title\": {\"font\": {\"color\": \"#4D5663\"}, \"text\": \"\"}, \"zerolinecolor\": \"#E1E5ED\"}, \"yaxis14\": {\"anchor\": \"x14\", \"domain\": [0.0, 0.1975], \"gridcolor\": \"#E1E5ED\", \"showgrid\": false, \"tickfont\": {\"color\": \"#4D5663\"}, \"title\": {\"font\": {\"color\": \"#4D5663\"}, \"text\": \"\"}, \"zerolinecolor\": \"#E1E5ED\"}, \"yaxis15\": {\"anchor\": \"x15\", \"domain\": [0.0, 0.1975], \"gridcolor\": \"#E1E5ED\", \"showgrid\": false, \"tickfont\": {\"color\": \"#4D5663\"}, \"title\": {\"font\": {\"color\": \"#4D5663\"}, \"text\": \"\"}, \"zerolinecolor\": \"#E1E5ED\"}, \"yaxis16\": {\"anchor\": \"x16\", \"domain\": [0.0, 0.1975], \"gridcolor\": \"#E1E5ED\", \"showgrid\": false, \"tickfont\": {\"color\": \"#4D5663\"}, \"title\": {\"font\": {\"color\": \"#4D5663\"}, \"text\": \"\"}, \"zerolinecolor\": \"#E1E5ED\"}, \"yaxis2\": {\"anchor\": \"x2\", \"domain\": [0.8025, 1.0], \"gridcolor\": \"#E1E5ED\", \"showgrid\": false, \"tickfont\": {\"color\": \"#4D5663\"}, \"title\": {\"font\": {\"color\": \"#4D5663\"}, \"text\": \"\"}, \"zerolinecolor\": \"#E1E5ED\"}, \"yaxis3\": {\"anchor\": \"x3\", \"domain\": [0.8025, 1.0], \"gridcolor\": \"#E1E5ED\", \"showgrid\": false, \"tickfont\": {\"color\": \"#4D5663\"}, \"title\": {\"font\": {\"color\": \"#4D5663\"}, \"text\": \"\"}, \"zerolinecolor\": \"#E1E5ED\"}, \"yaxis4\": {\"anchor\": \"x4\", \"domain\": [0.8025, 1.0], \"gridcolor\": \"#E1E5ED\", \"showgrid\": false, \"tickfont\": {\"color\": \"#4D5663\"}, \"title\": {\"font\": {\"color\": \"#4D5663\"}, \"text\": \"\"}, \"zerolinecolor\": \"#E1E5ED\"}, \"yaxis5\": {\"anchor\": \"x5\", \"domain\": [0.535, 0.7325], \"gridcolor\": \"#E1E5ED\", \"showgrid\": false, \"tickfont\": {\"color\": \"#4D5663\"}, \"title\": {\"font\": {\"color\": \"#4D5663\"}, \"text\": \"\"}, \"zerolinecolor\": \"#E1E5ED\"}, \"yaxis6\": {\"anchor\": \"x6\", \"domain\": [0.535, 0.7325], \"gridcolor\": \"#E1E5ED\", \"showgrid\": false, \"tickfont\": {\"color\": \"#4D5663\"}, \"title\": {\"font\": {\"color\": \"#4D5663\"}, \"text\": \"\"}, \"zerolinecolor\": \"#E1E5ED\"}, \"yaxis7\": {\"anchor\": \"x7\", \"domain\": [0.535, 0.7325], \"gridcolor\": \"#E1E5ED\", \"showgrid\": false, \"tickfont\": {\"color\": \"#4D5663\"}, \"title\": {\"font\": {\"color\": \"#4D5663\"}, \"text\": \"\"}, \"zerolinecolor\": \"#E1E5ED\"}, \"yaxis8\": {\"anchor\": \"x8\", \"domain\": [0.535, 0.7325], \"gridcolor\": \"#E1E5ED\", \"showgrid\": false, \"tickfont\": {\"color\": \"#4D5663\"}, \"title\": {\"font\": {\"color\": \"#4D5663\"}, \"text\": \"\"}, \"zerolinecolor\": \"#E1E5ED\"}, \"yaxis9\": {\"anchor\": \"x9\", \"domain\": [0.2675, 0.465], \"gridcolor\": \"#E1E5ED\", \"showgrid\": false, \"tickfont\": {\"color\": \"#4D5663\"}, \"title\": {\"font\": {\"color\": \"#4D5663\"}, \"text\": \"\"}, \"zerolinecolor\": \"#E1E5ED\"}},\n",
       "                        {\"showLink\": true, \"linkText\": \"Export to plot.ly\", \"plotlyServerURL\": \"https://plot.ly\", \"responsive\": true}\n",
       "                    ).then(function(){\n",
       "                            \n",
       "var gd = document.getElementById('4ce3e708-9185-4ea6-9961-4508d6f5290b');\n",
       "var x = new MutationObserver(function (mutations, observer) {{\n",
       "        var display = window.getComputedStyle(gd).display;\n",
       "        if (!display || display === 'none') {{\n",
       "            console.log([gd, 'removed!']);\n",
       "            Plotly.purge(gd);\n",
       "            observer.disconnect();\n",
       "        }}\n",
       "}});\n",
       "\n",
       "// Listen for the removal of the full notebook cells\n",
       "var notebookContainer = gd.closest('#notebook-container');\n",
       "if (notebookContainer) {{\n",
       "    x.observe(notebookContainer, {childList: true});\n",
       "}}\n",
       "\n",
       "// Listen for the clearing of the current output cell\n",
       "var outputEl = gd.closest('.output');\n",
       "if (outputEl) {{\n",
       "    x.observe(outputEl, {childList: true});\n",
       "}}\n",
       "\n",
       "                        })\n",
       "                };\n",
       "                });\n",
       "            </script>\n",
       "        </div>"
      ]
     },
     "metadata": {},
     "output_type": "display_data"
    }
   ],
   "source": [
    "#Scatter Matrix using Plotly\n",
    "\n",
    "#All the columns needs to be numerical\n",
    "\n",
    "df.scatter_matrix()\n"
   ]
  },
  {
   "cell_type": "code",
   "execution_count": null,
   "metadata": {},
   "outputs": [],
   "source": []
  }
 ],
 "metadata": {
  "kernelspec": {
   "display_name": "Python 3",
   "language": "python",
   "name": "python3"
  },
  "language_info": {
   "codemirror_mode": {
    "name": "ipython",
    "version": 3
   },
   "file_extension": ".py",
   "mimetype": "text/x-python",
   "name": "python",
   "nbconvert_exporter": "python",
   "pygments_lexer": "ipython3",
   "version": "3.7.3"
  }
 },
 "nbformat": 4,
 "nbformat_minor": 2
}
